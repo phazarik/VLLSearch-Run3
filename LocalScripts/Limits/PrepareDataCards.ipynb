{
 "cells": [
  {
   "cell_type": "code",
   "execution_count": 1,
   "id": "b8ca063f-62f0-4156-acb1-9ae665646d29",
   "metadata": {},
   "outputs": [
    {
     "name": "stdout",
     "output_type": "stream",
     "text": [
      "Welcome to JupyROOT 6.26/10\n",
      "modules loaded.\n"
     ]
    }
   ],
   "source": [
    "import os, sys\n",
    "import ROOT\n",
    "import numpy as np\n",
    "\n",
    "print('modules loaded.')"
   ]
  },
  {
   "cell_type": "code",
   "execution_count": 2,
   "id": "15b98270-f6be-4712-8e40-3a13fef0ae78",
   "metadata": {},
   "outputs": [
    {
     "name": "stdout",
     "output_type": "stream",
     "text": [
      "Input dictionary loaded.\n"
     ]
    }
   ],
   "source": [
    "os.makedirs('data_cards', exist_ok=True)\n",
    "\n",
    "modeldict = {\n",
    "    'M100' :{'mass':100,  'accp':0.10},\n",
    "    'M200' :{'mass':200,  'accp':0.15},\n",
    "    'M300' :{'mass':300,  'accp':0.20},\n",
    "    'M400' :{'mass':400,  'accp':0.25},\n",
    "    'M500' :{'mass':500,  'accp':0.30},\n",
    "    'M600' :{'mass':600,  'accp':0.35},\n",
    "    'M700' :{'mass':700,  'accp':0.40},\n",
    "    'M800' :{'mass':800,  'accp':0.45},\n",
    "    'M1000':{'mass':1000, 'accp':0.50},\n",
    "}\n",
    "\n",
    "print('Input dictionary loaded.')"
   ]
  },
  {
   "cell_type": "code",
   "execution_count": 3,
   "id": "3d0176e0-23c2-4a8b-915b-b280d1294dbd",
   "metadata": {},
   "outputs": [
    {
     "name": "stdout",
     "output_type": "stream",
     "text": [
      "Processing: root -q -b -l 'CombineLimMaker.C(\"dummy_data/sig_M100.txt\", \"dummy_data/obs_exp.txt\", \"data_cards/datacard_sig_M100.txt\", 20)' .... done.\n",
      "Processing: root -q -b -l 'CombineLimMaker.C(\"dummy_data/sig_M200.txt\", \"dummy_data/obs_exp.txt\", \"data_cards/datacard_sig_M200.txt\", 20)' .... done.\n",
      "Processing: root -q -b -l 'CombineLimMaker.C(\"dummy_data/sig_M300.txt\", \"dummy_data/obs_exp.txt\", \"data_cards/datacard_sig_M300.txt\", 20)' .... done.\n",
      "Processing: root -q -b -l 'CombineLimMaker.C(\"dummy_data/sig_M400.txt\", \"dummy_data/obs_exp.txt\", \"data_cards/datacard_sig_M400.txt\", 20)' .... done.\n",
      "Processing: root -q -b -l 'CombineLimMaker.C(\"dummy_data/sig_M500.txt\", \"dummy_data/obs_exp.txt\", \"data_cards/datacard_sig_M500.txt\", 20)' .... done.\n",
      "Processing: root -q -b -l 'CombineLimMaker.C(\"dummy_data/sig_M600.txt\", \"dummy_data/obs_exp.txt\", \"data_cards/datacard_sig_M600.txt\", 20)' .... done.\n",
      "Processing: root -q -b -l 'CombineLimMaker.C(\"dummy_data/sig_M700.txt\", \"dummy_data/obs_exp.txt\", \"data_cards/datacard_sig_M700.txt\", 20)' .... done.\n",
      "Processing: root -q -b -l 'CombineLimMaker.C(\"dummy_data/sig_M800.txt\", \"dummy_data/obs_exp.txt\", \"data_cards/datacard_sig_M800.txt\", 20)' .... done.\n",
      "Processing: root -q -b -l 'CombineLimMaker.C(\"dummy_data/sig_M1000.txt\", \"dummy_data/obs_exp.txt\", \"data_cards/datacard_sig_M1000.txt\", 20)' .... done.\n",
      "Datacards generated.\n",
      "\n",
      "Processing CombineLimMaker.C(\"dummy_data/sig_M100.txt\", \"dummy_data/obs_exp.txt\", \"data_cards/datacard_sig_M100.txt\", 20)...\n",
      "\n",
      "Processing CombineLimMaker.C(\"dummy_data/sig_M200.txt\", \"dummy_data/obs_exp.txt\", \"data_cards/datacard_sig_M200.txt\", 20)...\n",
      "\n",
      "Processing CombineLimMaker.C(\"dummy_data/sig_M300.txt\", \"dummy_data/obs_exp.txt\", \"data_cards/datacard_sig_M300.txt\", 20)...\n",
      "\n",
      "Processing CombineLimMaker.C(\"dummy_data/sig_M400.txt\", \"dummy_data/obs_exp.txt\", \"data_cards/datacard_sig_M400.txt\", 20)...\n",
      "\n",
      "Processing CombineLimMaker.C(\"dummy_data/sig_M500.txt\", \"dummy_data/obs_exp.txt\", \"data_cards/datacard_sig_M500.txt\", 20)...\n",
      "\n",
      "Processing CombineLimMaker.C(\"dummy_data/sig_M600.txt\", \"dummy_data/obs_exp.txt\", \"data_cards/datacard_sig_M600.txt\", 20)...\n",
      "\n",
      "Processing CombineLimMaker.C(\"dummy_data/sig_M700.txt\", \"dummy_data/obs_exp.txt\", \"data_cards/datacard_sig_M700.txt\", 20)...\n",
      "\n",
      "Processing CombineLimMaker.C(\"dummy_data/sig_M800.txt\", \"dummy_data/obs_exp.txt\", \"data_cards/datacard_sig_M800.txt\", 20)...\n",
      "\n",
      "Processing CombineLimMaker.C(\"dummy_data/sig_M1000.txt\", \"dummy_data/obs_exp.txt\", \"data_cards/datacard_sig_M1000.txt\", 20)...\n"
     ]
    }
   ],
   "source": [
    "for name, val in modeldict.items():\n",
    "\n",
    "    bkgname = f'dummy_data/obs_exp.txt'\n",
    "    signame = f'dummy_data/sig_{name}.txt'\n",
    "    outname = f'data_cards/datacard_sig_{name}.txt'\n",
    "\n",
    "    data = np.loadtxt(bkgname, delimiter='\\t', skiprows=1)\n",
    "    nbins = len(data)\n",
    "\n",
    "    arguments = f'\"{signame}\", \"{bkgname}\", \"{outname}\", {nbins}'\n",
    "    processline = f\"root -q -b -l 'CombineLimMaker.C({arguments})'\"\n",
    "\n",
    "    print('Processing: '+processline, end=' ')\n",
    "    os.system(processline)\n",
    "    print('.... done.')\n",
    "\n",
    "print('Datacards generated.')"
   ]
  },
  {
   "cell_type": "code",
   "execution_count": null,
   "id": "70d564dd-1363-40ec-92b5-a877f42f8b4f",
   "metadata": {},
   "outputs": [],
   "source": []
  }
 ],
 "metadata": {
  "kernelspec": {
   "display_name": "Python 3 (ipykernel)",
   "language": "python",
   "name": "python3"
  },
  "language_info": {
   "codemirror_mode": {
    "name": "ipython",
    "version": 3
   },
   "file_extension": ".py",
   "mimetype": "text/x-python",
   "name": "python",
   "nbconvert_exporter": "python",
   "pygments_lexer": "ipython3",
   "version": "3.10.9"
  }
 },
 "nbformat": 4,
 "nbformat_minor": 5
}
