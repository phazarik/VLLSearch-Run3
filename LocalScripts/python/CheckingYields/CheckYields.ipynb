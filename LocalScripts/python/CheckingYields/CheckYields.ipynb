{
 "cells": [
  {
   "cell_type": "code",
   "execution_count": 1,
   "id": "5eae8cb5-a980-4718-b152-d7de988a9ad5",
   "metadata": {},
   "outputs": [
    {
     "name": "stdout",
     "output_type": "stream",
     "text": [
      "Welcome to JupyROOT 6.26/10\n"
     ]
    }
   ],
   "source": [
    "import ROOT\n",
    "import os, sys\n",
    "import json"
   ]
  },
  {
   "cell_type": "code",
   "execution_count": 2,
   "id": "11cf1c8f-a055-43d9-8e35-e5efe998b4f3",
   "metadata": {},
   "outputs": [],
   "source": [
    "input_folder = '../../input_files'\n",
    "jsonfile = 'lumidata_2018.json'\n",
    "with open(jsonfile,'r') as infile:\n",
    "    samplelist = json.load(infile)"
   ]
  },
  {
   "cell_type": "code",
   "execution_count": 3,
   "id": "27d08ded-a450-437b-b553-fb1b3ceada86",
   "metadata": {},
   "outputs": [],
   "source": [
    "def print_yields(jobname, scale):\n",
    "    \n",
    "    indir = input_folder+'/'+jobname\n",
    "    print(f'Yields for {jobname}\\n')\n",
    "    header = '\\033[1m{:<30s} {:<10s} {:<10s} {:<10s} {:<15s}\\033[0m'\n",
    "    print(header.format(\"SampleName\", \"nRaw\", \"nEvt\", \"nScaled\", \"ScaleFactor\"))\n",
    "    \n",
    "    for sample, subs in samplelist.items():\n",
    "        for subsample, lumi in subs.items():\n",
    "            filename = indir+'/hst_'+sample+'_'+subsample+'.root'\n",
    "            if 'QCD_MuEnriched' in filename:\n",
    "\n",
    "                #Skipping if the file is absent:\n",
    "                if os.path.exists(filename) == False : continue\n",
    "                \n",
    "                tfile = ROOT.TFile(filename, \"READ\")\n",
    "                hist = tfile.Get('nlep')\n",
    "                nraw = hist.GetEntries()\n",
    "                nevt = hist.Integral()\n",
    "                nevt_scaled = nevt\n",
    "                sf = 59800/lumi\n",
    "                if scale == True : sf = sf*0.094647493\n",
    "                nevt_scaled = nevt*(sf) \n",
    "                statement = f'{sample} {subsample:10}{nraw:10.2f} {nevt:10.5f} {nevt_scaled:12.5f} {sf:15.3f}'\n",
    "                print(statement)"
   ]
  },
  {
   "cell_type": "code",
   "execution_count": 4,
   "id": "d2a24d09-269f-4c78-9c35-9ff71fba3031",
   "metadata": {},
   "outputs": [
    {
     "name": "stdout",
     "output_type": "stream",
     "text": [
      "Yields for hist_testingQCD_Apr10_wt_unscaled\n",
      "\n",
      "\u001b[1mSampleName                     nRaw       nEvt       nScaled    ScaleFactor    \u001b[0m\n",
      "QCD_MuEnriched 20to30          1.00    0.94942    224.90508         236.886\n",
      "QCD_MuEnriched 30to50         19.00   18.12576   2391.04924         131.914\n",
      "QCD_MuEnriched 50to80         34.00   32.55415   1740.21405          53.456\n",
      "QCD_MuEnriched 80to120        33.00   32.03896    356.46275          11.126\n",
      "QCD_MuEnriched 120to170        8.00    7.92155     24.86908           3.139\n",
      "QCD_MuEnriched 170to300        3.00    2.87567      1.58546           0.551\n",
      "QCD_MuEnriched 300to470        0.00    0.00000      0.00000           0.059\n",
      "QCD_MuEnriched 470to600        0.00    0.00000      0.00000           0.009\n",
      "QCD_MuEnriched 600to800        0.00    0.00000      0.00000           0.003\n",
      "QCD_MuEnriched 800to1000       0.00    0.00000      0.00000           0.000\n"
     ]
    }
   ],
   "source": [
    "print_yields('hist_testingQCD_Apr10_wt_unscaled', True)"
   ]
  },
  {
   "cell_type": "code",
   "execution_count": 5,
   "id": "1ceeda63-123c-4b24-ad83-9f6c31c81673",
   "metadata": {},
   "outputs": [
    {
     "name": "stdout",
     "output_type": "stream",
     "text": [
      "Yields for hist_testingQCD_Apr10_wt_scaled\n",
      "\n",
      "\u001b[1mSampleName                     nRaw       nEvt       nScaled    ScaleFactor    \u001b[0m\n",
      "QCD_MuEnriched 20to30          1.00    0.08986    224.90507        2502.825\n",
      "QCD_MuEnriched 30to50         19.00    1.71556   2391.04921        1393.744\n",
      "QCD_MuEnriched 50to80         34.00    3.08117   1740.21412         564.790\n",
      "QCD_MuEnriched 80to120        33.00    3.03241    356.46277         117.551\n",
      "QCD_MuEnriched 120to170        8.00    0.74975     24.86908          33.170\n",
      "QCD_MuEnriched 170to300        3.00    0.27218      1.58546           5.825\n",
      "QCD_MuEnriched 300to470        0.00    0.00000      0.00000           0.628\n",
      "QCD_MuEnriched 470to600        0.00    0.00000      0.00000           0.091\n",
      "QCD_MuEnriched 600to800        0.00    0.00000      0.00000           0.029\n",
      "QCD_MuEnriched 800to1000       0.00    0.00000      0.00000           0.005\n"
     ]
    }
   ],
   "source": [
    "print_yields('hist_testingQCD_Apr10_wt_scaled', False)"
   ]
  },
  {
   "cell_type": "code",
   "execution_count": null,
   "id": "a93eac9d-ac67-4088-a6b1-0f5b61721fe7",
   "metadata": {},
   "outputs": [],
   "source": []
  }
 ],
 "metadata": {
  "kernelspec": {
   "display_name": "Python 3 (ipykernel)",
   "language": "python",
   "name": "python3"
  },
  "language_info": {
   "codemirror_mode": {
    "name": "ipython",
    "version": 3
   },
   "file_extension": ".py",
   "mimetype": "text/x-python",
   "name": "python",
   "nbconvert_exporter": "python",
   "pygments_lexer": "ipython3",
   "version": "3.10.9"
  }
 },
 "nbformat": 4,
 "nbformat_minor": 5
}
