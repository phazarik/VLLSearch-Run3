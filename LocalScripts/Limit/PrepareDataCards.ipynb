{
 "cells": [
  {
   "cell_type": "markdown",
   "id": "a33b8a4b-63da-410d-b44c-81895f5fd68f",
   "metadata": {},
   "source": [
    "# Preparation for CMS Combine"
   ]
  },
  {
   "cell_type": "code",
   "execution_count": 1,
   "id": "b8ca063f-62f0-4156-acb1-9ae665646d29",
   "metadata": {},
   "outputs": [
    {
     "name": "stdout",
     "output_type": "stream",
     "text": [
      "Welcome to JupyROOT 6.26/10\n",
      "modules loaded.\n"
     ]
    }
   ],
   "source": [
    "import os, sys\n",
    "import ROOT\n",
    "import numpy as np\n",
    "\n",
    "print('modules loaded.')"
   ]
  },
  {
   "cell_type": "markdown",
   "id": "e5a163a2-6a9b-4c47-b871-3ada006bdd67",
   "metadata": {},
   "source": [
    "## Calculating yields\n",
    "Using `calculateYields.C`, two text files are generated that contain the following columns:\n",
    "```\n",
    "nBins    nObs    nExp    ExpErr\n",
    "```\n",
    "and\n",
    "```\n",
    "nBins    nSig   SigErr\n",
    "```"
   ]
  },
  {
   "cell_type": "code",
   "execution_count": 2,
   "id": "cb9dbc7a-1c6f-4fe7-a932-903caf5901ea",
   "metadata": {},
   "outputs": [
    {
     "name": "stdout",
     "output_type": "stream",
     "text": [
      "\n",
      "Processing CalculateYields.C()...\n",
      "\u001b[31mNot found: ../input_hists/hist_2LSS_2018UL_Aug11_SRgeneral_ee/hst_WW_WWTo2L2Nu.root\n",
      "\u001b[0mdatafile created.\n",
      "File created for VLLD_ele_M100\n",
      "File created for VLLD_ele_M200\n",
      "File created for VLLD_ele_M300\n",
      "File created for VLLD_ele_M400\n",
      "File created for VLLD_ele_M600\n",
      "File created for VLLD_ele_M800\n",
      "File created for VLLD_ele_M1000\n",
      "File created for VLLD_mu_M100\n",
      "File created for VLLD_mu_M200\n",
      "File created for VLLD_mu_M300\n",
      "File created for VLLD_mu_M400\n",
      "File created for VLLD_mu_M600\n",
      "File created for VLLD_mu_M800\n",
      "\u001b[33mDone!\n",
      "\u001b[0m"
     ]
    }
   ],
   "source": [
    "! root -q -b -l 'CalculateYields.C()'"
   ]
  },
  {
   "cell_type": "markdown",
   "id": "f21665fd-54e2-435b-8602-169e9a4b9b55",
   "metadata": {},
   "source": [
    "## Making datacards "
   ]
  },
  {
   "cell_type": "code",
   "execution_count": 3,
   "id": "15b98270-f6be-4712-8e40-3a13fef0ae78",
   "metadata": {},
   "outputs": [
    {
     "name": "stdout",
     "output_type": "stream",
     "text": [
      "['signal_VLLD_ele_M100.txt', 'signal_VLLD_ele_M1000.txt', 'signal_VLLD_ele_M200.txt', 'signal_VLLD_ele_M300.txt', 'signal_VLLD_ele_M400.txt', 'signal_VLLD_ele_M600.txt', 'signal_VLLD_ele_M800.txt', 'signal_VLLD_mu_M100.txt', 'signal_VLLD_mu_M200.txt', 'signal_VLLD_mu_M300.txt', 'signal_VLLD_mu_M400.txt', 'signal_VLLD_mu_M600.txt', 'signal_VLLD_mu_M800.txt']\n"
     ]
    }
   ],
   "source": [
    "os.makedirs('data_cards', exist_ok=True)\n",
    "indir = 'yields'\n",
    "\n",
    "file_obsexp = 'obs_exp_experr.txt'\n",
    "files_sig = os.listdir('yields')\n",
    "if file_obsexp in files_sig: files_sig.remove(file_obsexp)\n",
    "\n",
    "print(files_sig)"
   ]
  },
  {
   "cell_type": "code",
   "execution_count": 6,
   "id": "3d0176e0-23c2-4a8b-915b-b280d1294dbd",
   "metadata": {},
   "outputs": [
    {
     "name": "stdout",
     "output_type": "stream",
     "text": [
      "Processing: root -q -b -l 'DatacardMaker.C(\"yields/signal_VLLD_ele_M100.txt\", \"yields/obs_exp_experr.txt\", \"data_cards/datacard_VLLD_ele_M100.txt\", 24)' .... done.\n",
      "Processing: root -q -b -l 'DatacardMaker.C(\"yields/signal_VLLD_ele_M1000.txt\", \"yields/obs_exp_experr.txt\", \"data_cards/datacard_VLLD_ele_M1000.txt\", 24)' .... done.\n",
      "Processing: root -q -b -l 'DatacardMaker.C(\"yields/signal_VLLD_ele_M200.txt\", \"yields/obs_exp_experr.txt\", \"data_cards/datacard_VLLD_ele_M200.txt\", 24)' .... done.\n",
      "Processing: root -q -b -l 'DatacardMaker.C(\"yields/signal_VLLD_ele_M300.txt\", \"yields/obs_exp_experr.txt\", \"data_cards/datacard_VLLD_ele_M300.txt\", 24)' .... done.\n",
      "Processing: root -q -b -l 'DatacardMaker.C(\"yields/signal_VLLD_ele_M400.txt\", \"yields/obs_exp_experr.txt\", \"data_cards/datacard_VLLD_ele_M400.txt\", 24)' .... done.\n",
      "Processing: root -q -b -l 'DatacardMaker.C(\"yields/signal_VLLD_ele_M600.txt\", \"yields/obs_exp_experr.txt\", \"data_cards/datacard_VLLD_ele_M600.txt\", 24)' .... done.\n",
      "Processing: root -q -b -l 'DatacardMaker.C(\"yields/signal_VLLD_ele_M800.txt\", \"yields/obs_exp_experr.txt\", \"data_cards/datacard_VLLD_ele_M800.txt\", 24)' .... done.\n",
      "Processing: root -q -b -l 'DatacardMaker.C(\"yields/signal_VLLD_mu_M100.txt\", \"yields/obs_exp_experr.txt\", \"data_cards/datacard_VLLD_mu_M100.txt\", 24)' .... done.\n",
      "Processing: root -q -b -l 'DatacardMaker.C(\"yields/signal_VLLD_mu_M200.txt\", \"yields/obs_exp_experr.txt\", \"data_cards/datacard_VLLD_mu_M200.txt\", 24)' .... done.\n",
      "Processing: root -q -b -l 'DatacardMaker.C(\"yields/signal_VLLD_mu_M300.txt\", \"yields/obs_exp_experr.txt\", \"data_cards/datacard_VLLD_mu_M300.txt\", 24)' .... done.\n",
      "Processing: root -q -b -l 'DatacardMaker.C(\"yields/signal_VLLD_mu_M400.txt\", \"yields/obs_exp_experr.txt\", \"data_cards/datacard_VLLD_mu_M400.txt\", 24)' .... done.\n",
      "Processing: root -q -b -l 'DatacardMaker.C(\"yields/signal_VLLD_mu_M600.txt\", \"yields/obs_exp_experr.txt\", \"data_cards/datacard_VLLD_mu_M600.txt\", 24)' .... done.\n",
      "Processing: root -q -b -l 'DatacardMaker.C(\"yields/signal_VLLD_mu_M800.txt\", \"yields/obs_exp_experr.txt\", \"data_cards/datacard_VLLD_mu_M800.txt\", 24)' .... done.\n",
      "Datacards generated.\n",
      "\n",
      "Processing DatacardMaker.C(\"yields/signal_VLLD_ele_M100.txt\", \"yields/obs_exp_experr.txt\", \"data_cards/datacard_VLLD_ele_M100.txt\", 24)...\n",
      "\n",
      "Processing DatacardMaker.C(\"yields/signal_VLLD_ele_M1000.txt\", \"yields/obs_exp_experr.txt\", \"data_cards/datacard_VLLD_ele_M1000.txt\", 24)...\n",
      "\n",
      "Processing DatacardMaker.C(\"yields/signal_VLLD_ele_M200.txt\", \"yields/obs_exp_experr.txt\", \"data_cards/datacard_VLLD_ele_M200.txt\", 24)...\n",
      "\n",
      "Processing DatacardMaker.C(\"yields/signal_VLLD_ele_M300.txt\", \"yields/obs_exp_experr.txt\", \"data_cards/datacard_VLLD_ele_M300.txt\", 24)...\n",
      "\n",
      "Processing DatacardMaker.C(\"yields/signal_VLLD_ele_M400.txt\", \"yields/obs_exp_experr.txt\", \"data_cards/datacard_VLLD_ele_M400.txt\", 24)...\n",
      "\n",
      "Processing DatacardMaker.C(\"yields/signal_VLLD_ele_M600.txt\", \"yields/obs_exp_experr.txt\", \"data_cards/datacard_VLLD_ele_M600.txt\", 24)...\n",
      "\n",
      "Processing DatacardMaker.C(\"yields/signal_VLLD_ele_M800.txt\", \"yields/obs_exp_experr.txt\", \"data_cards/datacard_VLLD_ele_M800.txt\", 24)...\n",
      "\n",
      "Processing DatacardMaker.C(\"yields/signal_VLLD_mu_M100.txt\", \"yields/obs_exp_experr.txt\", \"data_cards/datacard_VLLD_mu_M100.txt\", 24)...\n",
      "\n",
      "Processing DatacardMaker.C(\"yields/signal_VLLD_mu_M200.txt\", \"yields/obs_exp_experr.txt\", \"data_cards/datacard_VLLD_mu_M200.txt\", 24)...\n",
      "\n",
      "Processing DatacardMaker.C(\"yields/signal_VLLD_mu_M300.txt\", \"yields/obs_exp_experr.txt\", \"data_cards/datacard_VLLD_mu_M300.txt\", 24)...\n",
      "\n",
      "Processing DatacardMaker.C(\"yields/signal_VLLD_mu_M400.txt\", \"yields/obs_exp_experr.txt\", \"data_cards/datacard_VLLD_mu_M400.txt\", 24)...\n",
      "\n",
      "Processing DatacardMaker.C(\"yields/signal_VLLD_mu_M600.txt\", \"yields/obs_exp_experr.txt\", \"data_cards/datacard_VLLD_mu_M600.txt\", 24)...\n",
      "\n",
      "Processing DatacardMaker.C(\"yields/signal_VLLD_mu_M800.txt\", \"yields/obs_exp_experr.txt\", \"data_cards/datacard_VLLD_mu_M800.txt\", 24)...\n"
     ]
    }
   ],
   "source": [
    "for sigfile in files_sig:\n",
    "\n",
    "    signame = '_'.join(sigfile.split('_')[1:]).replace('.txt', '')\n",
    "    sigfile = indir+'/'+sigfile\n",
    "    datafile = indir+'/'+file_obsexp\n",
    "    \n",
    "    outname = f'data_cards/datacard_{signame}.txt'\n",
    "\n",
    "    data = np.loadtxt(datafile, delimiter='\\t', skiprows=1)\n",
    "    nbins = len(data)\n",
    "\n",
    "    arguments = f'\"{sigfile}\", \"{datafile}\", \"{outname}\", {nbins}'\n",
    "    processline = f\"root -q -b -l 'DatacardMaker.C({arguments})'\"\n",
    "\n",
    "    print('Processing: '+processline, end=' ')\n",
    "    os.system(processline)\n",
    "    print('.... done.')\n",
    "\n",
    "print('Datacards generated.')"
   ]
  },
  {
   "cell_type": "markdown",
   "id": "e8bb1e13-633b-42e2-9614-165a828f327d",
   "metadata": {},
   "source": [
    "## Using CMS Combine tool"
   ]
  },
  {
   "cell_type": "code",
   "execution_count": null,
   "id": "4b2b6dbd-461c-456b-b869-4cae7d187a26",
   "metadata": {},
   "outputs": [],
   "source": []
  }
 ],
 "metadata": {
  "kernelspec": {
   "display_name": "Python 3 (ipykernel)",
   "language": "python",
   "name": "python3"
  },
  "language_info": {
   "codemirror_mode": {
    "name": "ipython",
    "version": 3
   },
   "file_extension": ".py",
   "mimetype": "text/x-python",
   "name": "python",
   "nbconvert_exporter": "python",
   "pygments_lexer": "ipython3",
   "version": "3.10.9"
  }
 },
 "nbformat": 4,
 "nbformat_minor": 5
}
