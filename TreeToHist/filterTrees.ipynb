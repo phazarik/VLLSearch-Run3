{
 "cells": [
  {
   "cell_type": "markdown",
   "id": "d15ad995-be53-4c97-b003-1e665304c060",
   "metadata": {},
   "source": [
    "# Python based analysis\n",
    "\n",
    "This script takes trees as inputs and writes another sets of trees as outputs.<br>\n",
    "The trees are filtered in between."
   ]
  },
  {
   "cell_type": "code",
   "execution_count": 1,
   "id": "46952fad-b0df-46cd-9ea3-a82c5d4b2960",
   "metadata": {},
   "outputs": [],
   "source": [
    "import os, sys\n",
    "import numpy as np\n",
    "import uproot\n",
    "import pandas as pd\n",
    "from tqdm.notebook import tqdm"
   ]
  },
  {
   "cell_type": "code",
   "execution_count": 2,
   "id": "840c6f43-9c6f-40a4-9729-05a6fd6cc5ab",
   "metadata": {},
   "outputs": [],
   "source": [
    "#Global parameters\n",
    "\n",
    "basedir = '../ROOT_FILES/treesWithNN/'\n",
    "injob  = 'baseline/tree_2018_UL_baseline'\n",
    "outjob = 'sr/tree_2018_UL_sr'\n",
    "campaign = '2018_UL'\n",
    "nnscore = 'nnscore_qcd_vlld_2018'\n",
    "\n",
    "indir = os.path.join(basedir, injob)\n",
    "outdir = os.path.join(basedir, outjob)\n",
    "os.makedirs(outdir, exist_ok=True) "
   ]
  },
  {
   "cell_type": "code",
   "execution_count": 3,
   "id": "2a6bbb61-0ef6-4dd7-ac26-2ab02b3e579a",
   "metadata": {},
   "outputs": [
    {
     "name": "stdout",
     "output_type": "stream",
     "text": [
      "Functions loaded.\n"
     ]
    }
   ],
   "source": [
    "import uproot\n",
    "import pandas as pd\n",
    "from tqdm.notebook import tqdm\n",
    "\n",
    "def read_file_into_df(filepath, step_size=100000):\n",
    "    with uproot.open(filepath) as tfile:\n",
    "        if \"myEvents\" not in tfile:\n",
    "            print(f\"Warning: 'myEvents' tree not found in {filepath}. Skipping.\")\n",
    "            return pd.DataFrame()\n",
    "\n",
    "        ttree = tfile[\"myEvents\"]\n",
    "        total_entries = ttree.num_entries\n",
    "\n",
    "        if total_entries == 0:\n",
    "            print(f\"Warning: 'myEvents' tree in {filepath} is empty. Skipping.\")\n",
    "            return pd.DataFrame()\n",
    "\n",
    "        total_batches = (total_entries + step_size - 1) // step_size\n",
    "        dfs = []\n",
    "\n",
    "        with tqdm(total=total_batches, unit=\" batch\", desc=\"Reading\", colour='green', dynamic_ncols=False, mininterval=0.5) as pbar:\n",
    "            for batch in ttree.iterate(ttree.keys(), step_size=step_size, library=\"pd\"):\n",
    "                dfs.append(batch)\n",
    "                pbar.update(1)\n",
    "\n",
    "    return pd.concat(dfs, ignore_index=True) if dfs else pd.DataFrame()\n",
    "\n",
    "def write_df_into_file(df, filepath, step_size=100000):\n",
    "    if df.empty:\n",
    "        print(f\"Warning: Attempting to write empty DataFrame to {filepath}. Skipping.\")\n",
    "        return\n",
    "\n",
    "    total_entries = len(df)\n",
    "    total_batches = (total_entries + step_size - 1) // step_size\n",
    "\n",
    "    with tqdm(total=total_batches, unit=\" batch\", desc=\"Reading\", colour='green', dynamic_ncols=False, mininterval=0.5) as pbar:\n",
    "        with uproot.recreate(filepath) as file:\n",
    "            for start in range(0, total_entries, step_size):\n",
    "                chunk = df.iloc[start:start + step_size]\n",
    "                if start == 0: file[\"myEvents\"] = {col: chunk[col].to_numpy() for col in df.columns}\n",
    "                else:          file[\"myEvents\"].extend({col: chunk[col].to_numpy() for col in df.columns})\n",
    "                pbar.update(1)\n",
    "\n",
    "print('Functions loaded.')"
   ]
  },
  {
   "cell_type": "code",
   "execution_count": 4,
   "id": "75a2660c-8c77-497c-a061-6470e5c19c8b",
   "metadata": {},
   "outputs": [
    {
     "name": "stdout",
     "output_type": "stream",
     "text": [
      "\n",
      "Processing file: tree_DYJetsToLL_M10to50.root\n"
     ]
    },
    {
     "data": {
      "application/vnd.jupyter.widget-view+json": {
       "model_id": "5fa0abaf2618468cbea3200ba5551e55",
       "version_major": 2,
       "version_minor": 0
      },
      "text/plain": [
       "Reading:   0%|          | 0/1 [00:00<?, ? batch/s]"
      ]
     },
     "metadata": {},
     "output_type": "display_data"
    },
    {
     "data": {
      "application/vnd.jupyter.widget-view+json": {
       "model_id": "286bd721a64a4ccebf42ed8fdbd6443d",
       "version_major": 2,
       "version_minor": 0
      },
      "text/plain": [
       "Reading:   0%|          | 0/1 [00:00<?, ? batch/s]"
      ]
     },
     "metadata": {},
     "output_type": "display_data"
    },
    {
     "name": "stdout",
     "output_type": "stream",
     "text": [
      "\u001b[1;32mFile written: ../ROOT_FILES/treesWithNN/sr/tree_2018_UL_sr/tree_DYJetsToLL_M10to50.root\u001b[0m (257 -> 14, 5.45%)\n",
      "\n",
      "\n",
      "Processing file: tree_DYJetsToLL_M50.root\n"
     ]
    },
    {
     "data": {
      "application/vnd.jupyter.widget-view+json": {
       "model_id": "93a8bf973b1447f5bc63a55d215be79f",
       "version_major": 2,
       "version_minor": 0
      },
      "text/plain": [
       "Reading:   0%|          | 0/2 [00:00<?, ? batch/s]"
      ]
     },
     "metadata": {},
     "output_type": "display_data"
    },
    {
     "data": {
      "application/vnd.jupyter.widget-view+json": {
       "model_id": "ea8036376dd64dedbf8807981f221e2b",
       "version_major": 2,
       "version_minor": 0
      },
      "text/plain": [
       "Reading:   0%|          | 0/1 [00:00<?, ? batch/s]"
      ]
     },
     "metadata": {},
     "output_type": "display_data"
    },
    {
     "name": "stdout",
     "output_type": "stream",
     "text": [
      "\u001b[1;32mFile written: ../ROOT_FILES/treesWithNN/sr/tree_2018_UL_sr/tree_DYJetsToLL_M50.root\u001b[0m (116185 -> 1034, 0.89%)\n",
      "\n",
      "\n",
      "Processing file: tree_EGamma_EGamma_A.root\n"
     ]
    },
    {
     "data": {
      "application/vnd.jupyter.widget-view+json": {
       "model_id": "f5d18cc46ad44f80ab463486e7316e1c",
       "version_major": 2,
       "version_minor": 0
      },
      "text/plain": [
       "Reading:   0%|          | 0/1 [00:00<?, ? batch/s]"
      ]
     },
     "metadata": {},
     "output_type": "display_data"
    },
    {
     "data": {
      "application/vnd.jupyter.widget-view+json": {
       "model_id": "615944eded4742dbbf8783ce775f3e7b",
       "version_major": 2,
       "version_minor": 0
      },
      "text/plain": [
       "Reading:   0%|          | 0/1 [00:00<?, ? batch/s]"
      ]
     },
     "metadata": {},
     "output_type": "display_data"
    },
    {
     "name": "stdout",
     "output_type": "stream",
     "text": [
      "\u001b[1;32mFile written: ../ROOT_FILES/treesWithNN/sr/tree_2018_UL_sr/tree_EGamma_EGamma_A.root\u001b[0m (65324 -> 1234, 1.89%)\n",
      "\n",
      "\n",
      "Processing file: tree_EGamma_EGamma_B.root\n"
     ]
    },
    {
     "data": {
      "application/vnd.jupyter.widget-view+json": {
       "model_id": "5d4d8b540a404d79a42c428f27bffd19",
       "version_major": 2,
       "version_minor": 0
      },
      "text/plain": [
       "Reading:   0%|          | 0/1 [00:00<?, ? batch/s]"
      ]
     },
     "metadata": {},
     "output_type": "display_data"
    },
    {
     "data": {
      "application/vnd.jupyter.widget-view+json": {
       "model_id": "1abc4cd6b67f4d22b56e40b8575bd66a",
       "version_major": 2,
       "version_minor": 0
      },
      "text/plain": [
       "Reading:   0%|          | 0/1 [00:00<?, ? batch/s]"
      ]
     },
     "metadata": {},
     "output_type": "display_data"
    },
    {
     "name": "stdout",
     "output_type": "stream",
     "text": [
      "\u001b[1;32mFile written: ../ROOT_FILES/treesWithNN/sr/tree_2018_UL_sr/tree_EGamma_EGamma_B.root\u001b[0m (33016 -> 616, 1.87%)\n",
      "\n",
      "\n",
      "Processing file: tree_EGamma_EGamma_C.root\n"
     ]
    },
    {
     "data": {
      "application/vnd.jupyter.widget-view+json": {
       "model_id": "e7b6bd482f34451a84dfb7843cd21f20",
       "version_major": 2,
       "version_minor": 0
      },
      "text/plain": [
       "Reading:   0%|          | 0/1 [00:00<?, ? batch/s]"
      ]
     },
     "metadata": {},
     "output_type": "display_data"
    },
    {
     "data": {
      "application/vnd.jupyter.widget-view+json": {
       "model_id": "d684b9bb35c049acbf6af02e0bd5aac8",
       "version_major": 2,
       "version_minor": 0
      },
      "text/plain": [
       "Reading:   0%|          | 0/1 [00:00<?, ? batch/s]"
      ]
     },
     "metadata": {},
     "output_type": "display_data"
    },
    {
     "name": "stdout",
     "output_type": "stream",
     "text": [
      "\u001b[1;32mFile written: ../ROOT_FILES/treesWithNN/sr/tree_2018_UL_sr/tree_EGamma_EGamma_C.root\u001b[0m (32905 -> 615, 1.87%)\n",
      "\n",
      "\n",
      "Processing file: tree_EGamma_EGamma_D.root\n"
     ]
    },
    {
     "data": {
      "application/vnd.jupyter.widget-view+json": {
       "model_id": "e47c2447b5a94d8a98b450060fac77d2",
       "version_major": 2,
       "version_minor": 0
      },
      "text/plain": [
       "Reading:   0%|          | 0/2 [00:00<?, ? batch/s]"
      ]
     },
     "metadata": {},
     "output_type": "display_data"
    },
    {
     "data": {
      "application/vnd.jupyter.widget-view+json": {
       "model_id": "273dfb22b0e94f23b84de06bcc9173f4",
       "version_major": 2,
       "version_minor": 0
      },
      "text/plain": [
       "Reading:   0%|          | 0/1 [00:00<?, ? batch/s]"
      ]
     },
     "metadata": {},
     "output_type": "display_data"
    },
    {
     "name": "stdout",
     "output_type": "stream",
     "text": [
      "\u001b[1;32mFile written: ../ROOT_FILES/treesWithNN/sr/tree_2018_UL_sr/tree_EGamma_EGamma_D.root\u001b[0m (150874 -> 2789, 1.85%)\n",
      "\n",
      "\n",
      "Processing file: tree_Higgs_bbH_HToZZTo4L.root\n"
     ]
    },
    {
     "data": {
      "application/vnd.jupyter.widget-view+json": {
       "model_id": "55c66176ad264517a5b3b1918795a034",
       "version_major": 2,
       "version_minor": 0
      },
      "text/plain": [
       "Reading:   0%|          | 0/1 [00:00<?, ? batch/s]"
      ]
     },
     "metadata": {},
     "output_type": "display_data"
    },
    {
     "data": {
      "application/vnd.jupyter.widget-view+json": {
       "model_id": "fe3dcbca8fb845ecb7404d6ad27a09f1",
       "version_major": 2,
       "version_minor": 0
      },
      "text/plain": [
       "Reading:   0%|          | 0/1 [00:00<?, ? batch/s]"
      ]
     },
     "metadata": {},
     "output_type": "display_data"
    },
    {
     "name": "stdout",
     "output_type": "stream",
     "text": [
      "\u001b[1;32mFile written: ../ROOT_FILES/treesWithNN/sr/tree_2018_UL_sr/tree_Higgs_bbH_HToZZTo4L.root\u001b[0m (16078 -> 304, 1.89%)\n",
      "\n",
      "\n",
      "Processing file: tree_Higgs_GluGluHToZZTo4L.root\n"
     ]
    },
    {
     "data": {
      "application/vnd.jupyter.widget-view+json": {
       "model_id": "beadf10e1bf94faf809fd5d2c489f055",
       "version_major": 2,
       "version_minor": 0
      },
      "text/plain": [
       "Reading:   0%|          | 0/1 [00:00<?, ? batch/s]"
      ]
     },
     "metadata": {},
     "output_type": "display_data"
    },
    {
     "data": {
      "application/vnd.jupyter.widget-view+json": {
       "model_id": "7a46180e1d9b4b778bf3de11c04df52f",
       "version_major": 2,
       "version_minor": 0
      },
      "text/plain": [
       "Reading:   0%|          | 0/1 [00:00<?, ? batch/s]"
      ]
     },
     "metadata": {},
     "output_type": "display_data"
    },
    {
     "name": "stdout",
     "output_type": "stream",
     "text": [
      "\u001b[1;32mFile written: ../ROOT_FILES/treesWithNN/sr/tree_2018_UL_sr/tree_Higgs_GluGluHToZZTo4L.root\u001b[0m (31926 -> 1450, 4.54%)\n",
      "\n",
      "\n",
      "Processing file: tree_Higgs_GluGluToZH_HToZZTo4L.root\n"
     ]
    },
    {
     "data": {
      "application/vnd.jupyter.widget-view+json": {
       "model_id": "b4b4e8b0eac84d21a929f59675752968",
       "version_major": 2,
       "version_minor": 0
      },
      "text/plain": [
       "Reading:   0%|          | 0/1 [00:00<?, ? batch/s]"
      ]
     },
     "metadata": {},
     "output_type": "display_data"
    },
    {
     "data": {
      "application/vnd.jupyter.widget-view+json": {
       "model_id": "6bda891e20184846a7cafbf2dabda793",
       "version_major": 2,
       "version_minor": 0
      },
      "text/plain": [
       "Reading:   0%|          | 0/1 [00:00<?, ? batch/s]"
      ]
     },
     "metadata": {},
     "output_type": "display_data"
    },
    {
     "name": "stdout",
     "output_type": "stream",
     "text": [
      "\u001b[1;32mFile written: ../ROOT_FILES/treesWithNN/sr/tree_2018_UL_sr/tree_Higgs_GluGluToZH_HToZZTo4L.root\u001b[0m (44878 -> 6600, 14.71%)\n",
      "\n",
      "\n",
      "Processing file: tree_Higgs_GluGluZH_HToWW_ZTo2L.root\n"
     ]
    },
    {
     "data": {
      "application/vnd.jupyter.widget-view+json": {
       "model_id": "2f7768b966f446599eefb728e82b40d6",
       "version_major": 2,
       "version_minor": 0
      },
      "text/plain": [
       "Reading:   0%|          | 0/1 [00:00<?, ? batch/s]"
      ]
     },
     "metadata": {},
     "output_type": "display_data"
    },
    {
     "data": {
      "application/vnd.jupyter.widget-view+json": {
       "model_id": "fa71e04e7be944b19a14575990de002d",
       "version_major": 2,
       "version_minor": 0
      },
      "text/plain": [
       "Reading:   0%|          | 0/1 [00:00<?, ? batch/s]"
      ]
     },
     "metadata": {},
     "output_type": "display_data"
    },
    {
     "name": "stdout",
     "output_type": "stream",
     "text": [
      "\u001b[1;32mFile written: ../ROOT_FILES/treesWithNN/sr/tree_2018_UL_sr/tree_Higgs_GluGluZH_HToWW_ZTo2L.root\u001b[0m (30098 -> 7957, 26.44%)\n",
      "\n",
      "\n",
      "Processing file: tree_Higgs_ttHToNonbb.root\n"
     ]
    },
    {
     "data": {
      "application/vnd.jupyter.widget-view+json": {
       "model_id": "653dc774423d4c3fba4a4c332195bd5a",
       "version_major": 2,
       "version_minor": 0
      },
      "text/plain": [
       "Reading:   0%|          | 0/2 [00:00<?, ? batch/s]"
      ]
     },
     "metadata": {},
     "output_type": "display_data"
    },
    {
     "data": {
      "application/vnd.jupyter.widget-view+json": {
       "model_id": "3c282f1ce5bb492591220829419cbdea",
       "version_major": 2,
       "version_minor": 0
      },
      "text/plain": [
       "Reading:   0%|          | 0/1 [00:00<?, ? batch/s]"
      ]
     },
     "metadata": {},
     "output_type": "display_data"
    },
    {
     "name": "stdout",
     "output_type": "stream",
     "text": [
      "\u001b[1;32mFile written: ../ROOT_FILES/treesWithNN/sr/tree_2018_UL_sr/tree_Higgs_ttHToNonbb.root\u001b[0m (148491 -> 17009, 11.45%)\n",
      "\n",
      "\n",
      "Processing file: tree_Higgs_VBF_HToZZTo4L.root\n"
     ]
    },
    {
     "data": {
      "application/vnd.jupyter.widget-view+json": {
       "model_id": "8f92d04f956e4ce9add3a21de18902bb",
       "version_major": 2,
       "version_minor": 0
      },
      "text/plain": [
       "Reading:   0%|          | 0/1 [00:00<?, ? batch/s]"
      ]
     },
     "metadata": {},
     "output_type": "display_data"
    },
    {
     "data": {
      "application/vnd.jupyter.widget-view+json": {
       "model_id": "bc6a3e722ded4b8bb12c522f93d91b33",
       "version_major": 2,
       "version_minor": 0
      },
      "text/plain": [
       "Reading:   0%|          | 0/1 [00:00<?, ? batch/s]"
      ]
     },
     "metadata": {},
     "output_type": "display_data"
    },
    {
     "name": "stdout",
     "output_type": "stream",
     "text": [
      "\u001b[1;32mFile written: ../ROOT_FILES/treesWithNN/sr/tree_2018_UL_sr/tree_Higgs_VBF_HToZZTo4L.root\u001b[0m (19422 -> 2010, 10.35%)\n",
      "\n",
      "\n",
      "Processing file: tree_Higgs_VHToNonbb.root\n"
     ]
    },
    {
     "data": {
      "application/vnd.jupyter.widget-view+json": {
       "model_id": "96eebf3f8c3b4161b0e11be267b2fade",
       "version_major": 2,
       "version_minor": 0
      },
      "text/plain": [
       "Reading:   0%|          | 0/1 [00:00<?, ? batch/s]"
      ]
     },
     "metadata": {},
     "output_type": "display_data"
    },
    {
     "data": {
      "application/vnd.jupyter.widget-view+json": {
       "model_id": "9711cb9f7499409eaf3b7a8b75b0ec1f",
       "version_major": 2,
       "version_minor": 0
      },
      "text/plain": [
       "Reading:   0%|          | 0/1 [00:00<?, ? batch/s]"
      ]
     },
     "metadata": {},
     "output_type": "display_data"
    },
    {
     "name": "stdout",
     "output_type": "stream",
     "text": [
      "\u001b[1;32mFile written: ../ROOT_FILES/treesWithNN/sr/tree_2018_UL_sr/tree_Higgs_VHToNonbb.root\u001b[0m (9960 -> 1884, 18.92%)\n",
      "\n",
      "\n",
      "Processing file: tree_HTbinnedWJets_100to200.root\n"
     ]
    },
    {
     "data": {
      "application/vnd.jupyter.widget-view+json": {
       "model_id": "849d4a5a4f8f409d8c24913b1d92c42a",
       "version_major": 2,
       "version_minor": 0
      },
      "text/plain": [
       "Reading:   0%|          | 0/1 [00:00<?, ? batch/s]"
      ]
     },
     "metadata": {},
     "output_type": "display_data"
    },
    {
     "data": {
      "application/vnd.jupyter.widget-view+json": {
       "model_id": "00621e8e5aed41c0ab115f1ec9536e48",
       "version_major": 2,
       "version_minor": 0
      },
      "text/plain": [
       "Reading:   0%|          | 0/1 [00:00<?, ? batch/s]"
      ]
     },
     "metadata": {},
     "output_type": "display_data"
    },
    {
     "name": "stdout",
     "output_type": "stream",
     "text": [
      "\u001b[1;32mFile written: ../ROOT_FILES/treesWithNN/sr/tree_2018_UL_sr/tree_HTbinnedWJets_100to200.root\u001b[0m (5224 -> 591, 11.31%)\n",
      "\n",
      "\n",
      "Processing file: tree_HTbinnedWJets_1200to2500.root\n"
     ]
    },
    {
     "data": {
      "application/vnd.jupyter.widget-view+json": {
       "model_id": "915df71c891a40fd9d75c8f4c3900862",
       "version_major": 2,
       "version_minor": 0
      },
      "text/plain": [
       "Reading:   0%|          | 0/1 [00:00<?, ? batch/s]"
      ]
     },
     "metadata": {},
     "output_type": "display_data"
    },
    {
     "data": {
      "application/vnd.jupyter.widget-view+json": {
       "model_id": "5be5222288b54720ba161a0b3444ba9d",
       "version_major": 2,
       "version_minor": 0
      },
      "text/plain": [
       "Reading:   0%|          | 0/1 [00:00<?, ? batch/s]"
      ]
     },
     "metadata": {},
     "output_type": "display_data"
    },
    {
     "name": "stdout",
     "output_type": "stream",
     "text": [
      "\u001b[1;32mFile written: ../ROOT_FILES/treesWithNN/sr/tree_2018_UL_sr/tree_HTbinnedWJets_1200to2500.root\u001b[0m (1836 -> 139, 7.57%)\n",
      "\n",
      "\n",
      "Processing file: tree_HTbinnedWJets_200to400.root\n"
     ]
    },
    {
     "data": {
      "application/vnd.jupyter.widget-view+json": {
       "model_id": "e36e880623834e4b9a9b6923b3ad4abe",
       "version_major": 2,
       "version_minor": 0
      },
      "text/plain": [
       "Reading:   0%|          | 0/1 [00:00<?, ? batch/s]"
      ]
     },
     "metadata": {},
     "output_type": "display_data"
    },
    {
     "data": {
      "application/vnd.jupyter.widget-view+json": {
       "model_id": "fbf6a031e1ce4bfeb1b380eac7e3a97d",
       "version_major": 2,
       "version_minor": 0
      },
      "text/plain": [
       "Reading:   0%|          | 0/1 [00:00<?, ? batch/s]"
      ]
     },
     "metadata": {},
     "output_type": "display_data"
    },
    {
     "name": "stdout",
     "output_type": "stream",
     "text": [
      "\u001b[1;32mFile written: ../ROOT_FILES/treesWithNN/sr/tree_2018_UL_sr/tree_HTbinnedWJets_200to400.root\u001b[0m (8946 -> 1868, 20.88%)\n",
      "\n",
      "\n",
      "Processing file: tree_HTbinnedWJets_2500toInf.root\n"
     ]
    },
    {
     "data": {
      "application/vnd.jupyter.widget-view+json": {
       "model_id": "2c3f53b061164e859252b048506f981e",
       "version_major": 2,
       "version_minor": 0
      },
      "text/plain": [
       "Reading:   0%|          | 0/1 [00:00<?, ? batch/s]"
      ]
     },
     "metadata": {},
     "output_type": "display_data"
    },
    {
     "data": {
      "application/vnd.jupyter.widget-view+json": {
       "model_id": "aea753666df34140a6eb18d3777c0146",
       "version_major": 2,
       "version_minor": 0
      },
      "text/plain": [
       "Reading:   0%|          | 0/1 [00:00<?, ? batch/s]"
      ]
     },
     "metadata": {},
     "output_type": "display_data"
    },
    {
     "name": "stdout",
     "output_type": "stream",
     "text": [
      "\u001b[1;32mFile written: ../ROOT_FILES/treesWithNN/sr/tree_2018_UL_sr/tree_HTbinnedWJets_2500toInf.root\u001b[0m (702 -> 12, 1.71%)\n",
      "\n",
      "\n",
      "Processing file: tree_HTbinnedWJets_400to600.root\n"
     ]
    },
    {
     "data": {
      "application/vnd.jupyter.widget-view+json": {
       "model_id": "5de1fa97020a49f5b96d775e948999ec",
       "version_major": 2,
       "version_minor": 0
      },
      "text/plain": [
       "Reading:   0%|          | 0/1 [00:00<?, ? batch/s]"
      ]
     },
     "metadata": {},
     "output_type": "display_data"
    },
    {
     "data": {
      "application/vnd.jupyter.widget-view+json": {
       "model_id": "cdc28a52d3104d32898ae192a5ff2790",
       "version_major": 2,
       "version_minor": 0
      },
      "text/plain": [
       "Reading:   0%|          | 0/1 [00:00<?, ? batch/s]"
      ]
     },
     "metadata": {},
     "output_type": "display_data"
    },
    {
     "name": "stdout",
     "output_type": "stream",
     "text": [
      "\u001b[1;32mFile written: ../ROOT_FILES/treesWithNN/sr/tree_2018_UL_sr/tree_HTbinnedWJets_400to600.root\u001b[0m (1476 -> 324, 21.95%)\n",
      "\n",
      "\n",
      "Processing file: tree_HTbinnedWJets_600to800.root\n"
     ]
    },
    {
     "data": {
      "application/vnd.jupyter.widget-view+json": {
       "model_id": "414c0c79f4654efab8a1fc7a62ed0db5",
       "version_major": 2,
       "version_minor": 0
      },
      "text/plain": [
       "Reading:   0%|          | 0/1 [00:00<?, ? batch/s]"
      ]
     },
     "metadata": {},
     "output_type": "display_data"
    },
    {
     "data": {
      "application/vnd.jupyter.widget-view+json": {
       "model_id": "d11c7d7282a44f839346cfc3100a70ba",
       "version_major": 2,
       "version_minor": 0
      },
      "text/plain": [
       "Reading:   0%|          | 0/1 [00:00<?, ? batch/s]"
      ]
     },
     "metadata": {},
     "output_type": "display_data"
    },
    {
     "name": "stdout",
     "output_type": "stream",
     "text": [
      "\u001b[1;32mFile written: ../ROOT_FILES/treesWithNN/sr/tree_2018_UL_sr/tree_HTbinnedWJets_600to800.root\u001b[0m (1812 -> 298, 16.45%)\n",
      "\n",
      "\n",
      "Processing file: tree_HTbinnedWJets_70to100.root\n"
     ]
    },
    {
     "data": {
      "application/vnd.jupyter.widget-view+json": {
       "model_id": "7aff520137694f239fcdfcfd329c6fdf",
       "version_major": 2,
       "version_minor": 0
      },
      "text/plain": [
       "Reading:   0%|          | 0/1 [00:00<?, ? batch/s]"
      ]
     },
     "metadata": {},
     "output_type": "display_data"
    },
    {
     "data": {
      "application/vnd.jupyter.widget-view+json": {
       "model_id": "8089341b6b3c460fb482f66f86c641a8",
       "version_major": 2,
       "version_minor": 0
      },
      "text/plain": [
       "Reading:   0%|          | 0/1 [00:00<?, ? batch/s]"
      ]
     },
     "metadata": {},
     "output_type": "display_data"
    },
    {
     "name": "stdout",
     "output_type": "stream",
     "text": [
      "\u001b[1;32mFile written: ../ROOT_FILES/treesWithNN/sr/tree_2018_UL_sr/tree_HTbinnedWJets_70to100.root\u001b[0m (4563 -> 232, 5.08%)\n",
      "\n",
      "\n",
      "Processing file: tree_HTbinnedWJets_800to1200.root\n"
     ]
    },
    {
     "data": {
      "application/vnd.jupyter.widget-view+json": {
       "model_id": "d748292b3ae3439b93856dea0ad8fd94",
       "version_major": 2,
       "version_minor": 0
      },
      "text/plain": [
       "Reading:   0%|          | 0/1 [00:00<?, ? batch/s]"
      ]
     },
     "metadata": {},
     "output_type": "display_data"
    },
    {
     "data": {
      "application/vnd.jupyter.widget-view+json": {
       "model_id": "9a889ca6aa2044f79eedb069dd973488",
       "version_major": 2,
       "version_minor": 0
      },
      "text/plain": [
       "Reading:   0%|          | 0/1 [00:00<?, ? batch/s]"
      ]
     },
     "metadata": {},
     "output_type": "display_data"
    },
    {
     "name": "stdout",
     "output_type": "stream",
     "text": [
      "\u001b[1;32mFile written: ../ROOT_FILES/treesWithNN/sr/tree_2018_UL_sr/tree_HTbinnedWJets_800to1200.root\u001b[0m (1912 -> 231, 12.08%)\n",
      "\n",
      "\n",
      "Processing file: tree_QCD_EMEnriched_120to170.root\n"
     ]
    },
    {
     "data": {
      "application/vnd.jupyter.widget-view+json": {
       "model_id": "8161923b63e94f2da5396cfbaef0c1dc",
       "version_major": 2,
       "version_minor": 0
      },
      "text/plain": [
       "Reading:   0%|          | 0/1 [00:00<?, ? batch/s]"
      ]
     },
     "metadata": {},
     "output_type": "display_data"
    },
    {
     "data": {
      "application/vnd.jupyter.widget-view+json": {
       "model_id": "69645325d8324469ab26e4cbba563990",
       "version_major": 2,
       "version_minor": 0
      },
      "text/plain": [
       "Reading:   0%|          | 0/1 [00:00<?, ? batch/s]"
      ]
     },
     "metadata": {},
     "output_type": "display_data"
    },
    {
     "name": "stdout",
     "output_type": "stream",
     "text": [
      "\u001b[1;32mFile written: ../ROOT_FILES/treesWithNN/sr/tree_2018_UL_sr/tree_QCD_EMEnriched_120to170.root\u001b[0m (5 -> 1, 20.00%)\n",
      "\n",
      "\n",
      "Processing file: tree_QCD_EMEnriched_170to300.root\n"
     ]
    },
    {
     "data": {
      "application/vnd.jupyter.widget-view+json": {
       "model_id": "0cbbb11cf5874d44b78523d265f034f1",
       "version_major": 2,
       "version_minor": 0
      },
      "text/plain": [
       "Reading:   0%|          | 0/1 [00:00<?, ? batch/s]"
      ]
     },
     "metadata": {},
     "output_type": "display_data"
    },
    {
     "name": "stdout",
     "output_type": "stream",
     "text": [
      "Warning: Attempting to write empty DataFrame to ../ROOT_FILES/treesWithNN/sr/tree_2018_UL_sr/tree_QCD_EMEnriched_170to300.root. Skipping.\n",
      "\u001b[1;32mFile written: ../ROOT_FILES/treesWithNN/sr/tree_2018_UL_sr/tree_QCD_EMEnriched_170to300.root\u001b[0m (2 -> 0, 0.00%)\n",
      "\n",
      "\n",
      "Processing file: tree_QCD_EMEnriched_300toInf.root\n"
     ]
    },
    {
     "data": {
      "application/vnd.jupyter.widget-view+json": {
       "model_id": "35e1916ef69045d798ba175b2cd47a5b",
       "version_major": 2,
       "version_minor": 0
      },
      "text/plain": [
       "Reading:   0%|          | 0/1 [00:00<?, ? batch/s]"
      ]
     },
     "metadata": {},
     "output_type": "display_data"
    },
    {
     "name": "stdout",
     "output_type": "stream",
     "text": [
      "Warning: Attempting to write empty DataFrame to ../ROOT_FILES/treesWithNN/sr/tree_2018_UL_sr/tree_QCD_EMEnriched_300toInf.root. Skipping.\n",
      "\u001b[1;32mFile written: ../ROOT_FILES/treesWithNN/sr/tree_2018_UL_sr/tree_QCD_EMEnriched_300toInf.root\u001b[0m (3 -> 0, 0.00%)\n",
      "\n",
      "\n",
      "Processing file: tree_QCD_EMEnriched_50to80.root\n"
     ]
    },
    {
     "data": {
      "application/vnd.jupyter.widget-view+json": {
       "model_id": "6ecdaf62aa0b4a03834e0172142b4967",
       "version_major": 2,
       "version_minor": 0
      },
      "text/plain": [
       "Reading:   0%|          | 0/1 [00:00<?, ? batch/s]"
      ]
     },
     "metadata": {},
     "output_type": "display_data"
    },
    {
     "name": "stdout",
     "output_type": "stream",
     "text": [
      "Warning: Attempting to write empty DataFrame to ../ROOT_FILES/treesWithNN/sr/tree_2018_UL_sr/tree_QCD_EMEnriched_50to80.root. Skipping.\n",
      "\u001b[1;32mFile written: ../ROOT_FILES/treesWithNN/sr/tree_2018_UL_sr/tree_QCD_EMEnriched_50to80.root\u001b[0m (1 -> 0, 0.00%)\n",
      "\n",
      "\n",
      "Processing file: tree_QCD_EMEnriched_80to120.root\n"
     ]
    },
    {
     "data": {
      "application/vnd.jupyter.widget-view+json": {
       "model_id": "04d1322f39174c00bb7ddd4c46fa96b1",
       "version_major": 2,
       "version_minor": 0
      },
      "text/plain": [
       "Reading:   0%|          | 0/1 [00:00<?, ? batch/s]"
      ]
     },
     "metadata": {},
     "output_type": "display_data"
    },
    {
     "name": "stdout",
     "output_type": "stream",
     "text": [
      "Warning: Attempting to write empty DataFrame to ../ROOT_FILES/treesWithNN/sr/tree_2018_UL_sr/tree_QCD_EMEnriched_80to120.root. Skipping.\n",
      "\u001b[1;32mFile written: ../ROOT_FILES/treesWithNN/sr/tree_2018_UL_sr/tree_QCD_EMEnriched_80to120.root\u001b[0m (3 -> 0, 0.00%)\n",
      "\n",
      "\n",
      "Processing file: tree_QCD_MuEnriched_120to170.root\n"
     ]
    },
    {
     "data": {
      "application/vnd.jupyter.widget-view+json": {
       "model_id": "c6226320883845dfa3cd7a6d5e319be2",
       "version_major": 2,
       "version_minor": 0
      },
      "text/plain": [
       "Reading:   0%|          | 0/1 [00:00<?, ? batch/s]"
      ]
     },
     "metadata": {},
     "output_type": "display_data"
    },
    {
     "data": {
      "application/vnd.jupyter.widget-view+json": {
       "model_id": "38ce2f5d107c471c8c9d863df9e96b76",
       "version_major": 2,
       "version_minor": 0
      },
      "text/plain": [
       "Reading:   0%|          | 0/1 [00:00<?, ? batch/s]"
      ]
     },
     "metadata": {},
     "output_type": "display_data"
    },
    {
     "name": "stdout",
     "output_type": "stream",
     "text": [
      "\u001b[1;32mFile written: ../ROOT_FILES/treesWithNN/sr/tree_2018_UL_sr/tree_QCD_MuEnriched_120to170.root\u001b[0m (255 -> 2, 0.78%)\n",
      "\n",
      "\n",
      "Processing file: tree_QCD_MuEnriched_170to300.root\n"
     ]
    },
    {
     "data": {
      "application/vnd.jupyter.widget-view+json": {
       "model_id": "c5061ab70ec741728540bc780b4a19da",
       "version_major": 2,
       "version_minor": 0
      },
      "text/plain": [
       "Reading:   0%|          | 0/1 [00:00<?, ? batch/s]"
      ]
     },
     "metadata": {},
     "output_type": "display_data"
    },
    {
     "data": {
      "application/vnd.jupyter.widget-view+json": {
       "model_id": "5bb9b99d3a5d412d9fdb9f2d01152fd4",
       "version_major": 2,
       "version_minor": 0
      },
      "text/plain": [
       "Reading:   0%|          | 0/1 [00:00<?, ? batch/s]"
      ]
     },
     "metadata": {},
     "output_type": "display_data"
    },
    {
     "name": "stdout",
     "output_type": "stream",
     "text": [
      "\u001b[1;32mFile written: ../ROOT_FILES/treesWithNN/sr/tree_2018_UL_sr/tree_QCD_MuEnriched_170to300.root\u001b[0m (456 -> 5, 1.10%)\n",
      "\n",
      "\n",
      "Processing file: tree_QCD_MuEnriched_20to30.root\n"
     ]
    },
    {
     "data": {
      "application/vnd.jupyter.widget-view+json": {
       "model_id": "c66d71f6d5444da78297723b14daa54c",
       "version_major": 2,
       "version_minor": 0
      },
      "text/plain": [
       "Reading:   0%|          | 0/1 [00:00<?, ? batch/s]"
      ]
     },
     "metadata": {},
     "output_type": "display_data"
    },
    {
     "name": "stdout",
     "output_type": "stream",
     "text": [
      "Warning: Attempting to write empty DataFrame to ../ROOT_FILES/treesWithNN/sr/tree_2018_UL_sr/tree_QCD_MuEnriched_20to30.root. Skipping.\n",
      "\u001b[1;32mFile written: ../ROOT_FILES/treesWithNN/sr/tree_2018_UL_sr/tree_QCD_MuEnriched_20to30.root\u001b[0m (6 -> 0, 0.00%)\n",
      "\n",
      "\n",
      "Processing file: tree_QCD_MuEnriched_300to470.root\n"
     ]
    },
    {
     "data": {
      "application/vnd.jupyter.widget-view+json": {
       "model_id": "7f0b4644b7e047afa313f145db404dca",
       "version_major": 2,
       "version_minor": 0
      },
      "text/plain": [
       "Reading:   0%|          | 0/1 [00:00<?, ? batch/s]"
      ]
     },
     "metadata": {},
     "output_type": "display_data"
    },
    {
     "data": {
      "application/vnd.jupyter.widget-view+json": {
       "model_id": "5846de42d14543c79d05098aa8a75736",
       "version_major": 2,
       "version_minor": 0
      },
      "text/plain": [
       "Reading:   0%|          | 0/1 [00:00<?, ? batch/s]"
      ]
     },
     "metadata": {},
     "output_type": "display_data"
    },
    {
     "name": "stdout",
     "output_type": "stream",
     "text": [
      "\u001b[1;32mFile written: ../ROOT_FILES/treesWithNN/sr/tree_2018_UL_sr/tree_QCD_MuEnriched_300to470.root\u001b[0m (327 -> 10, 3.06%)\n",
      "\n",
      "\n",
      "Processing file: tree_QCD_MuEnriched_30to50.root\n"
     ]
    },
    {
     "data": {
      "application/vnd.jupyter.widget-view+json": {
       "model_id": "643488d201d040ca8f58f4b4e3b70353",
       "version_major": 2,
       "version_minor": 0
      },
      "text/plain": [
       "Reading:   0%|          | 0/1 [00:00<?, ? batch/s]"
      ]
     },
     "metadata": {},
     "output_type": "display_data"
    },
    {
     "name": "stdout",
     "output_type": "stream",
     "text": [
      "Warning: Attempting to write empty DataFrame to ../ROOT_FILES/treesWithNN/sr/tree_2018_UL_sr/tree_QCD_MuEnriched_30to50.root. Skipping.\n",
      "\u001b[1;32mFile written: ../ROOT_FILES/treesWithNN/sr/tree_2018_UL_sr/tree_QCD_MuEnriched_30to50.root\u001b[0m (80 -> 0, 0.00%)\n",
      "\n",
      "\n",
      "Processing file: tree_QCD_MuEnriched_470to600.root\n"
     ]
    },
    {
     "data": {
      "application/vnd.jupyter.widget-view+json": {
       "model_id": "11e8b2d0c4eb45409c4f3f17b85b0981",
       "version_major": 2,
       "version_minor": 0
      },
      "text/plain": [
       "Reading:   0%|          | 0/1 [00:00<?, ? batch/s]"
      ]
     },
     "metadata": {},
     "output_type": "display_data"
    },
    {
     "data": {
      "application/vnd.jupyter.widget-view+json": {
       "model_id": "7935fe75db7b49b999ff8933d9f571c6",
       "version_major": 2,
       "version_minor": 0
      },
      "text/plain": [
       "Reading:   0%|          | 0/1 [00:00<?, ? batch/s]"
      ]
     },
     "metadata": {},
     "output_type": "display_data"
    },
    {
     "name": "stdout",
     "output_type": "stream",
     "text": [
      "\u001b[1;32mFile written: ../ROOT_FILES/treesWithNN/sr/tree_2018_UL_sr/tree_QCD_MuEnriched_470to600.root\u001b[0m (206 -> 2, 0.97%)\n",
      "\n",
      "\n",
      "Processing file: tree_QCD_MuEnriched_50to80.root\n"
     ]
    },
    {
     "data": {
      "application/vnd.jupyter.widget-view+json": {
       "model_id": "456a34fea5a8440e980bf2764af1dfed",
       "version_major": 2,
       "version_minor": 0
      },
      "text/plain": [
       "Reading:   0%|          | 0/1 [00:00<?, ? batch/s]"
      ]
     },
     "metadata": {},
     "output_type": "display_data"
    },
    {
     "name": "stdout",
     "output_type": "stream",
     "text": [
      "Warning: Attempting to write empty DataFrame to ../ROOT_FILES/treesWithNN/sr/tree_2018_UL_sr/tree_QCD_MuEnriched_50to80.root. Skipping.\n",
      "\u001b[1;32mFile written: ../ROOT_FILES/treesWithNN/sr/tree_2018_UL_sr/tree_QCD_MuEnriched_50to80.root\u001b[0m (166 -> 0, 0.00%)\n",
      "\n",
      "\n",
      "Processing file: tree_QCD_MuEnriched_600to800.root\n"
     ]
    },
    {
     "data": {
      "application/vnd.jupyter.widget-view+json": {
       "model_id": "71ce546226934d3882a631fb4443df8a",
       "version_major": 2,
       "version_minor": 0
      },
      "text/plain": [
       "Reading:   0%|          | 0/1 [00:00<?, ? batch/s]"
      ]
     },
     "metadata": {},
     "output_type": "display_data"
    },
    {
     "data": {
      "application/vnd.jupyter.widget-view+json": {
       "model_id": "447e34093a7f4cf79d2b6c4215b499c8",
       "version_major": 2,
       "version_minor": 0
      },
      "text/plain": [
       "Reading:   0%|          | 0/1 [00:00<?, ? batch/s]"
      ]
     },
     "metadata": {},
     "output_type": "display_data"
    },
    {
     "name": "stdout",
     "output_type": "stream",
     "text": [
      "\u001b[1;32mFile written: ../ROOT_FILES/treesWithNN/sr/tree_2018_UL_sr/tree_QCD_MuEnriched_600to800.root\u001b[0m (172 -> 3, 1.74%)\n",
      "\n",
      "\n",
      "Processing file: tree_QCD_MuEnriched_800to1000.root\n"
     ]
    },
    {
     "data": {
      "application/vnd.jupyter.widget-view+json": {
       "model_id": "aeb8e9cc4f454ecfbe1dcebf964bcb97",
       "version_major": 2,
       "version_minor": 0
      },
      "text/plain": [
       "Reading:   0%|          | 0/1 [00:00<?, ? batch/s]"
      ]
     },
     "metadata": {},
     "output_type": "display_data"
    },
    {
     "data": {
      "application/vnd.jupyter.widget-view+json": {
       "model_id": "f990d45bdda84280bd8fe34d402f5178",
       "version_major": 2,
       "version_minor": 0
      },
      "text/plain": [
       "Reading:   0%|          | 0/1 [00:00<?, ? batch/s]"
      ]
     },
     "metadata": {},
     "output_type": "display_data"
    },
    {
     "name": "stdout",
     "output_type": "stream",
     "text": [
      "\u001b[1;32mFile written: ../ROOT_FILES/treesWithNN/sr/tree_2018_UL_sr/tree_QCD_MuEnriched_800to1000.root\u001b[0m (349 -> 5, 1.43%)\n",
      "\n",
      "\n",
      "Processing file: tree_QCD_MuEnriched_80to120.root\n"
     ]
    },
    {
     "data": {
      "application/vnd.jupyter.widget-view+json": {
       "model_id": "e51c60f4027546c3b17c537aef178ffb",
       "version_major": 2,
       "version_minor": 0
      },
      "text/plain": [
       "Reading:   0%|          | 0/1 [00:00<?, ? batch/s]"
      ]
     },
     "metadata": {},
     "output_type": "display_data"
    },
    {
     "data": {
      "application/vnd.jupyter.widget-view+json": {
       "model_id": "5dbe354e86984337998a0bb5d4ca0e92",
       "version_major": 2,
       "version_minor": 0
      },
      "text/plain": [
       "Reading:   0%|          | 0/1 [00:00<?, ? batch/s]"
      ]
     },
     "metadata": {},
     "output_type": "display_data"
    },
    {
     "name": "stdout",
     "output_type": "stream",
     "text": [
      "\u001b[1;32mFile written: ../ROOT_FILES/treesWithNN/sr/tree_2018_UL_sr/tree_QCD_MuEnriched_80to120.root\u001b[0m (304 -> 1, 0.33%)\n",
      "\n",
      "\n",
      "Processing file: tree_Rare_THQ.root\n"
     ]
    },
    {
     "data": {
      "application/vnd.jupyter.widget-view+json": {
       "model_id": "afb064b3a1254dc1a5778d8c63bde1d3",
       "version_major": 2,
       "version_minor": 0
      },
      "text/plain": [
       "Reading:   0%|          | 0/2 [00:00<?, ? batch/s]"
      ]
     },
     "metadata": {},
     "output_type": "display_data"
    },
    {
     "data": {
      "application/vnd.jupyter.widget-view+json": {
       "model_id": "0c81a1fdd54a4cf9a38ad6a489a5d453",
       "version_major": 2,
       "version_minor": 0
      },
      "text/plain": [
       "Reading:   0%|          | 0/1 [00:00<?, ? batch/s]"
      ]
     },
     "metadata": {},
     "output_type": "display_data"
    },
    {
     "name": "stdout",
     "output_type": "stream",
     "text": [
      "\u001b[1;32mFile written: ../ROOT_FILES/treesWithNN/sr/tree_2018_UL_sr/tree_Rare_THQ.root\u001b[0m (192828 -> 22559, 11.70%)\n",
      "\n",
      "\n",
      "Processing file: tree_Rare_THW.root\n"
     ]
    },
    {
     "data": {
      "application/vnd.jupyter.widget-view+json": {
       "model_id": "36069154979a4cc088dcd0db9c1787d8",
       "version_major": 2,
       "version_minor": 0
      },
      "text/plain": [
       "Reading:   0%|          | 0/2 [00:00<?, ? batch/s]"
      ]
     },
     "metadata": {},
     "output_type": "display_data"
    },
    {
     "data": {
      "application/vnd.jupyter.widget-view+json": {
       "model_id": "90d425cf4f39417bb93820d417b4cd47",
       "version_major": 2,
       "version_minor": 0
      },
      "text/plain": [
       "Reading:   0%|          | 0/1 [00:00<?, ? batch/s]"
      ]
     },
     "metadata": {},
     "output_type": "display_data"
    },
    {
     "name": "stdout",
     "output_type": "stream",
     "text": [
      "\u001b[1;32mFile written: ../ROOT_FILES/treesWithNN/sr/tree_2018_UL_sr/tree_Rare_THW.root\u001b[0m (164172 -> 32042, 19.52%)\n",
      "\n",
      "\n",
      "Processing file: tree_Rare_TTHH.root\n"
     ]
    },
    {
     "data": {
      "application/vnd.jupyter.widget-view+json": {
       "model_id": "bfcd354bba3349f89578a3f84f3c7e78",
       "version_major": 2,
       "version_minor": 0
      },
      "text/plain": [
       "Reading:   0%|          | 0/1 [00:00<?, ? batch/s]"
      ]
     },
     "metadata": {},
     "output_type": "display_data"
    },
    {
     "data": {
      "application/vnd.jupyter.widget-view+json": {
       "model_id": "36eb781b187c40f3bcba650e6676d6fe",
       "version_major": 2,
       "version_minor": 0
      },
      "text/plain": [
       "Reading:   0%|          | 0/1 [00:00<?, ? batch/s]"
      ]
     },
     "metadata": {},
     "output_type": "display_data"
    },
    {
     "name": "stdout",
     "output_type": "stream",
     "text": [
      "\u001b[1;32mFile written: ../ROOT_FILES/treesWithNN/sr/tree_2018_UL_sr/tree_Rare_TTHH.root\u001b[0m (8605 -> 465, 5.40%)\n",
      "\n",
      "\n",
      "Processing file: tree_Rare_TTTJ.root\n"
     ]
    },
    {
     "data": {
      "application/vnd.jupyter.widget-view+json": {
       "model_id": "c7b10015a9cc486baafe80aea2196b3d",
       "version_major": 2,
       "version_minor": 0
      },
      "text/plain": [
       "Reading:   0%|          | 0/1 [00:00<?, ? batch/s]"
      ]
     },
     "metadata": {},
     "output_type": "display_data"
    },
    {
     "data": {
      "application/vnd.jupyter.widget-view+json": {
       "model_id": "3b2aef702c6641c7b8b00d8cc83bdefd",
       "version_major": 2,
       "version_minor": 0
      },
      "text/plain": [
       "Reading:   0%|          | 0/1 [00:00<?, ? batch/s]"
      ]
     },
     "metadata": {},
     "output_type": "display_data"
    },
    {
     "name": "stdout",
     "output_type": "stream",
     "text": [
      "\u001b[1;32mFile written: ../ROOT_FILES/treesWithNN/sr/tree_2018_UL_sr/tree_Rare_TTTJ.root\u001b[0m (11374 -> 625, 5.49%)\n",
      "\n",
      "\n",
      "Processing file: tree_Rare_TTTT.root\n"
     ]
    },
    {
     "data": {
      "application/vnd.jupyter.widget-view+json": {
       "model_id": "44b8ef0aa7614855ad8bc26827207e21",
       "version_major": 2,
       "version_minor": 0
      },
      "text/plain": [
       "Reading:   0%|          | 0/5 [00:00<?, ? batch/s]"
      ]
     },
     "metadata": {},
     "output_type": "display_data"
    },
    {
     "data": {
      "application/vnd.jupyter.widget-view+json": {
       "model_id": "aa21c202b8cd431e9de251d5552f26e0",
       "version_major": 2,
       "version_minor": 0
      },
      "text/plain": [
       "Reading:   0%|          | 0/1 [00:00<?, ? batch/s]"
      ]
     },
     "metadata": {},
     "output_type": "display_data"
    },
    {
     "name": "stdout",
     "output_type": "stream",
     "text": [
      "\u001b[1;32mFile written: ../ROOT_FILES/treesWithNN/sr/tree_2018_UL_sr/tree_Rare_TTTT.root\u001b[0m (454648 -> 14827, 3.26%)\n",
      "\n",
      "\n",
      "Processing file: tree_Rare_TTTW.root\n"
     ]
    },
    {
     "data": {
      "application/vnd.jupyter.widget-view+json": {
       "model_id": "5db3ed062764477ba111dcf4af829a0d",
       "version_major": 2,
       "version_minor": 0
      },
      "text/plain": [
       "Reading:   0%|          | 0/1 [00:00<?, ? batch/s]"
      ]
     },
     "metadata": {},
     "output_type": "display_data"
    },
    {
     "data": {
      "application/vnd.jupyter.widget-view+json": {
       "model_id": "c63d7829d8cd4dd2846611a47fab245b",
       "version_major": 2,
       "version_minor": 0
      },
      "text/plain": [
       "Reading:   0%|          | 0/1 [00:00<?, ? batch/s]"
      ]
     },
     "metadata": {},
     "output_type": "display_data"
    },
    {
     "name": "stdout",
     "output_type": "stream",
     "text": [
      "\u001b[1;32mFile written: ../ROOT_FILES/treesWithNN/sr/tree_2018_UL_sr/tree_Rare_TTTW.root\u001b[0m (18158 -> 1066, 5.87%)\n",
      "\n",
      "\n",
      "Processing file: tree_Rare_TTWH.root\n"
     ]
    },
    {
     "data": {
      "application/vnd.jupyter.widget-view+json": {
       "model_id": "06c81327fbb947c08e55052bf1982181",
       "version_major": 2,
       "version_minor": 0
      },
      "text/plain": [
       "Reading:   0%|          | 0/1 [00:00<?, ? batch/s]"
      ]
     },
     "metadata": {},
     "output_type": "display_data"
    },
    {
     "data": {
      "application/vnd.jupyter.widget-view+json": {
       "model_id": "816f8a85fd084bbc82a40fefe95ec9ae",
       "version_major": 2,
       "version_minor": 0
      },
      "text/plain": [
       "Reading:   0%|          | 0/1 [00:00<?, ? batch/s]"
      ]
     },
     "metadata": {},
     "output_type": "display_data"
    },
    {
     "name": "stdout",
     "output_type": "stream",
     "text": [
      "\u001b[1;32mFile written: ../ROOT_FILES/treesWithNN/sr/tree_2018_UL_sr/tree_Rare_TTWH.root\u001b[0m (14961 -> 1307, 8.74%)\n",
      "\n",
      "\n",
      "Processing file: tree_Rare_TTWW.root\n"
     ]
    },
    {
     "data": {
      "application/vnd.jupyter.widget-view+json": {
       "model_id": "2c9f18e556fb46f8a3f4f939872ecb7e",
       "version_major": 2,
       "version_minor": 0
      },
      "text/plain": [
       "Reading:   0%|          | 0/1 [00:00<?, ? batch/s]"
      ]
     },
     "metadata": {},
     "output_type": "display_data"
    },
    {
     "data": {
      "application/vnd.jupyter.widget-view+json": {
       "model_id": "de6b109f6f184a7689a66969aec0de45",
       "version_major": 2,
       "version_minor": 0
      },
      "text/plain": [
       "Reading:   0%|          | 0/1 [00:00<?, ? batch/s]"
      ]
     },
     "metadata": {},
     "output_type": "display_data"
    },
    {
     "name": "stdout",
     "output_type": "stream",
     "text": [
      "\u001b[1;32mFile written: ../ROOT_FILES/treesWithNN/sr/tree_2018_UL_sr/tree_Rare_TTWW.root\u001b[0m (34700 -> 4701, 13.55%)\n",
      "\n",
      "\n",
      "Processing file: tree_Rare_TTWZ.root\n"
     ]
    },
    {
     "data": {
      "application/vnd.jupyter.widget-view+json": {
       "model_id": "bdfffb93d0ef4de89197f659b48b8185",
       "version_major": 2,
       "version_minor": 0
      },
      "text/plain": [
       "Reading:   0%|          | 0/1 [00:00<?, ? batch/s]"
      ]
     },
     "metadata": {},
     "output_type": "display_data"
    },
    {
     "data": {
      "application/vnd.jupyter.widget-view+json": {
       "model_id": "abf24ccc2ead448380509a406fe3a511",
       "version_major": 2,
       "version_minor": 0
      },
      "text/plain": [
       "Reading:   0%|          | 0/1 [00:00<?, ? batch/s]"
      ]
     },
     "metadata": {},
     "output_type": "display_data"
    },
    {
     "name": "stdout",
     "output_type": "stream",
     "text": [
      "\u001b[1;32mFile written: ../ROOT_FILES/treesWithNN/sr/tree_2018_UL_sr/tree_Rare_TTWZ.root\u001b[0m (12826 -> 1574, 12.27%)\n",
      "\n",
      "\n",
      "Processing file: tree_Rare_TTZH.root\n"
     ]
    },
    {
     "data": {
      "application/vnd.jupyter.widget-view+json": {
       "model_id": "5968d7d3696f465eaa2c3ae1c0ed283d",
       "version_major": 2,
       "version_minor": 0
      },
      "text/plain": [
       "Reading:   0%|          | 0/1 [00:00<?, ? batch/s]"
      ]
     },
     "metadata": {},
     "output_type": "display_data"
    },
    {
     "data": {
      "application/vnd.jupyter.widget-view+json": {
       "model_id": "bacd0d92e3e144f8b19ac73342b242f0",
       "version_major": 2,
       "version_minor": 0
      },
      "text/plain": [
       "Reading:   0%|          | 0/1 [00:00<?, ? batch/s]"
      ]
     },
     "metadata": {},
     "output_type": "display_data"
    },
    {
     "name": "stdout",
     "output_type": "stream",
     "text": [
      "\u001b[1;32mFile written: ../ROOT_FILES/treesWithNN/sr/tree_2018_UL_sr/tree_Rare_TTZH.root\u001b[0m (7000 -> 575, 8.21%)\n",
      "\n",
      "\n",
      "Processing file: tree_Rare_TTZZ.root\n"
     ]
    },
    {
     "data": {
      "application/vnd.jupyter.widget-view+json": {
       "model_id": "ed6dc62cceff4b039766f1ba8f5feabc",
       "version_major": 2,
       "version_minor": 0
      },
      "text/plain": [
       "Reading:   0%|          | 0/1 [00:00<?, ? batch/s]"
      ]
     },
     "metadata": {},
     "output_type": "display_data"
    },
    {
     "data": {
      "application/vnd.jupyter.widget-view+json": {
       "model_id": "0723ad4a29384de79803bedf79f5e934",
       "version_major": 2,
       "version_minor": 0
      },
      "text/plain": [
       "Reading:   0%|          | 0/1 [00:00<?, ? batch/s]"
      ]
     },
     "metadata": {},
     "output_type": "display_data"
    },
    {
     "name": "stdout",
     "output_type": "stream",
     "text": [
      "\u001b[1;32mFile written: ../ROOT_FILES/treesWithNN/sr/tree_2018_UL_sr/tree_Rare_TTZZ.root\u001b[0m (5088 -> 547, 10.75%)\n",
      "\n",
      "\n",
      "Processing file: tree_Rare_tZq_ll.root\n"
     ]
    },
    {
     "data": {
      "application/vnd.jupyter.widget-view+json": {
       "model_id": "f5283fb169764252af6ca57719e9ea0b",
       "version_major": 2,
       "version_minor": 0
      },
      "text/plain": [
       "Reading:   0%|          | 0/4 [00:00<?, ? batch/s]"
      ]
     },
     "metadata": {},
     "output_type": "display_data"
    },
    {
     "data": {
      "application/vnd.jupyter.widget-view+json": {
       "model_id": "b61cd25ee2f34950a6465170f1480a69",
       "version_major": 2,
       "version_minor": 0
      },
      "text/plain": [
       "Reading:   0%|          | 0/1 [00:00<?, ? batch/s]"
      ]
     },
     "metadata": {},
     "output_type": "display_data"
    },
    {
     "name": "stdout",
     "output_type": "stream",
     "text": [
      "\u001b[1;32mFile written: ../ROOT_FILES/treesWithNN/sr/tree_2018_UL_sr/tree_Rare_tZq_ll.root\u001b[0m (312485 -> 39179, 12.54%)\n",
      "\n",
      "\n",
      "Processing file: tree_SingleMuon_SingleMuon_A.root\n"
     ]
    },
    {
     "data": {
      "application/vnd.jupyter.widget-view+json": {
       "model_id": "22acf66f695b4e7bae112f527fe9d227",
       "version_major": 2,
       "version_minor": 0
      },
      "text/plain": [
       "Reading:   0%|          | 0/1 [00:00<?, ? batch/s]"
      ]
     },
     "metadata": {},
     "output_type": "display_data"
    },
    {
     "data": {
      "application/vnd.jupyter.widget-view+json": {
       "model_id": "b17d237ed1cd4c8287892e97a82353f7",
       "version_major": 2,
       "version_minor": 0
      },
      "text/plain": [
       "Reading:   0%|          | 0/1 [00:00<?, ? batch/s]"
      ]
     },
     "metadata": {},
     "output_type": "display_data"
    },
    {
     "name": "stdout",
     "output_type": "stream",
     "text": [
      "\u001b[1;32mFile written: ../ROOT_FILES/treesWithNN/sr/tree_2018_UL_sr/tree_SingleMuon_SingleMuon_A.root\u001b[0m (30409 -> 1520, 5.00%)\n",
      "\n",
      "\n",
      "Processing file: tree_SingleMuon_SingleMuon_B.root\n"
     ]
    },
    {
     "data": {
      "application/vnd.jupyter.widget-view+json": {
       "model_id": "5a2235329eee4bf293bfcccdd3d9fc2d",
       "version_major": 2,
       "version_minor": 0
      },
      "text/plain": [
       "Reading:   0%|          | 0/1 [00:00<?, ? batch/s]"
      ]
     },
     "metadata": {},
     "output_type": "display_data"
    },
    {
     "data": {
      "application/vnd.jupyter.widget-view+json": {
       "model_id": "0981a4adf5f344b18969631587970089",
       "version_major": 2,
       "version_minor": 0
      },
      "text/plain": [
       "Reading:   0%|          | 0/1 [00:00<?, ? batch/s]"
      ]
     },
     "metadata": {},
     "output_type": "display_data"
    },
    {
     "name": "stdout",
     "output_type": "stream",
     "text": [
      "\u001b[1;32mFile written: ../ROOT_FILES/treesWithNN/sr/tree_2018_UL_sr/tree_SingleMuon_SingleMuon_B.root\u001b[0m (15910 -> 771, 4.85%)\n",
      "\n",
      "\n",
      "Processing file: tree_SingleMuon_SingleMuon_C.root\n"
     ]
    },
    {
     "data": {
      "application/vnd.jupyter.widget-view+json": {
       "model_id": "aa5a793c97e54f9995aeccd94bacca67",
       "version_major": 2,
       "version_minor": 0
      },
      "text/plain": [
       "Reading:   0%|          | 0/1 [00:00<?, ? batch/s]"
      ]
     },
     "metadata": {},
     "output_type": "display_data"
    },
    {
     "data": {
      "application/vnd.jupyter.widget-view+json": {
       "model_id": "b1d3a7de393b4c0e8eba93797f1e217a",
       "version_major": 2,
       "version_minor": 0
      },
      "text/plain": [
       "Reading:   0%|          | 0/1 [00:00<?, ? batch/s]"
      ]
     },
     "metadata": {},
     "output_type": "display_data"
    },
    {
     "name": "stdout",
     "output_type": "stream",
     "text": [
      "\u001b[1;32mFile written: ../ROOT_FILES/treesWithNN/sr/tree_2018_UL_sr/tree_SingleMuon_SingleMuon_C.root\u001b[0m (16121 -> 806, 5.00%)\n",
      "\n",
      "\n",
      "Processing file: tree_SingleMuon_SingleMuon_D.root\n"
     ]
    },
    {
     "data": {
      "application/vnd.jupyter.widget-view+json": {
       "model_id": "234c777f199f4f72bf397ec185be6a51",
       "version_major": 2,
       "version_minor": 0
      },
      "text/plain": [
       "Reading:   0%|          | 0/1 [00:00<?, ? batch/s]"
      ]
     },
     "metadata": {},
     "output_type": "display_data"
    },
    {
     "data": {
      "application/vnd.jupyter.widget-view+json": {
       "model_id": "744f5ebb16f644f8b62a06198423da08",
       "version_major": 2,
       "version_minor": 0
      },
      "text/plain": [
       "Reading:   0%|          | 0/1 [00:00<?, ? batch/s]"
      ]
     },
     "metadata": {},
     "output_type": "display_data"
    },
    {
     "name": "stdout",
     "output_type": "stream",
     "text": [
      "\u001b[1;32mFile written: ../ROOT_FILES/treesWithNN/sr/tree_2018_UL_sr/tree_SingleMuon_SingleMuon_D.root\u001b[0m (71444 -> 3708, 5.19%)\n",
      "\n",
      "\n",
      "Processing file: tree_SingleTop_s-channel_LeptonDecays.root\n"
     ]
    },
    {
     "data": {
      "application/vnd.jupyter.widget-view+json": {
       "model_id": "710f15fe473c4098afc67f3c4b1d6a25",
       "version_major": 2,
       "version_minor": 0
      },
      "text/plain": [
       "Reading:   0%|          | 0/1 [00:00<?, ? batch/s]"
      ]
     },
     "metadata": {},
     "output_type": "display_data"
    },
    {
     "data": {
      "application/vnd.jupyter.widget-view+json": {
       "model_id": "662ddb397b214feab678e6339b513df8",
       "version_major": 2,
       "version_minor": 0
      },
      "text/plain": [
       "Reading:   0%|          | 0/1 [00:00<?, ? batch/s]"
      ]
     },
     "metadata": {},
     "output_type": "display_data"
    },
    {
     "name": "stdout",
     "output_type": "stream",
     "text": [
      "\u001b[1;32mFile written: ../ROOT_FILES/treesWithNN/sr/tree_2018_UL_sr/tree_SingleTop_s-channel_LeptonDecays.root\u001b[0m (26009 -> 710, 2.73%)\n",
      "\n",
      "\n",
      "Processing file: tree_SingleTop_t-channel_AntiTop_InclusiveDecays.root\n"
     ]
    },
    {
     "data": {
      "application/vnd.jupyter.widget-view+json": {
       "model_id": "82e854ea2da645c8af563db5d22075fb",
       "version_major": 2,
       "version_minor": 0
      },
      "text/plain": [
       "Reading:   0%|          | 0/1 [00:00<?, ? batch/s]"
      ]
     },
     "metadata": {},
     "output_type": "display_data"
    },
    {
     "data": {
      "application/vnd.jupyter.widget-view+json": {
       "model_id": "40c5b7cf99f34c2eaffa5e353a188d54",
       "version_major": 2,
       "version_minor": 0
      },
      "text/plain": [
       "Reading:   0%|          | 0/1 [00:00<?, ? batch/s]"
      ]
     },
     "metadata": {},
     "output_type": "display_data"
    },
    {
     "name": "stdout",
     "output_type": "stream",
     "text": [
      "\u001b[1;32mFile written: ../ROOT_FILES/treesWithNN/sr/tree_2018_UL_sr/tree_SingleTop_t-channel_AntiTop_InclusiveDecays.root\u001b[0m (33848 -> 1339, 3.96%)\n",
      "\n",
      "\n",
      "Processing file: tree_SingleTop_t-channel_Top_InclusiveDecays.root\n"
     ]
    },
    {
     "data": {
      "application/vnd.jupyter.widget-view+json": {
       "model_id": "63e53b953dad4b8cb6fe916af3c0db83",
       "version_major": 2,
       "version_minor": 0
      },
      "text/plain": [
       "Reading:   0%|          | 0/1 [00:00<?, ? batch/s]"
      ]
     },
     "metadata": {},
     "output_type": "display_data"
    },
    {
     "data": {
      "application/vnd.jupyter.widget-view+json": {
       "model_id": "2748511d0cf4442d9ef0b3ff7c1a4467",
       "version_major": 2,
       "version_minor": 0
      },
      "text/plain": [
       "Reading:   0%|          | 0/1 [00:00<?, ? batch/s]"
      ]
     },
     "metadata": {},
     "output_type": "display_data"
    },
    {
     "name": "stdout",
     "output_type": "stream",
     "text": [
      "\u001b[1;32mFile written: ../ROOT_FILES/treesWithNN/sr/tree_2018_UL_sr/tree_SingleTop_t-channel_Top_InclusiveDecays.root\u001b[0m (60775 -> 2323, 3.82%)\n",
      "\n",
      "\n",
      "Processing file: tree_SingleTop_tW_AntiTop_InclusiveDecays.root\n"
     ]
    },
    {
     "data": {
      "application/vnd.jupyter.widget-view+json": {
       "model_id": "f20d8ba2ad9e417bb08765f719cdca9b",
       "version_major": 2,
       "version_minor": 0
      },
      "text/plain": [
       "Reading:   0%|          | 0/1 [00:00<?, ? batch/s]"
      ]
     },
     "metadata": {},
     "output_type": "display_data"
    },
    {
     "data": {
      "application/vnd.jupyter.widget-view+json": {
       "model_id": "d56ba6f399c6488ba1addd4bbdc41034",
       "version_major": 2,
       "version_minor": 0
      },
      "text/plain": [
       "Reading:   0%|          | 0/1 [00:00<?, ? batch/s]"
      ]
     },
     "metadata": {},
     "output_type": "display_data"
    },
    {
     "name": "stdout",
     "output_type": "stream",
     "text": [
      "\u001b[1;32mFile written: ../ROOT_FILES/treesWithNN/sr/tree_2018_UL_sr/tree_SingleTop_tW_AntiTop_InclusiveDecays.root\u001b[0m (6101 -> 582, 9.54%)\n",
      "\n",
      "\n",
      "Processing file: tree_SingleTop_tW_Top_InclusiveDecays.root\n"
     ]
    },
    {
     "data": {
      "application/vnd.jupyter.widget-view+json": {
       "model_id": "ab79252da1bd4e15a3fe9960c17ebee4",
       "version_major": 2,
       "version_minor": 0
      },
      "text/plain": [
       "Reading:   0%|          | 0/1 [00:00<?, ? batch/s]"
      ]
     },
     "metadata": {},
     "output_type": "display_data"
    },
    {
     "data": {
      "application/vnd.jupyter.widget-view+json": {
       "model_id": "b341eb4fd3f24e9daebd0ca0a8da1c60",
       "version_major": 2,
       "version_minor": 0
      },
      "text/plain": [
       "Reading:   0%|          | 0/1 [00:00<?, ? batch/s]"
      ]
     },
     "metadata": {},
     "output_type": "display_data"
    },
    {
     "name": "stdout",
     "output_type": "stream",
     "text": [
      "\u001b[1;32mFile written: ../ROOT_FILES/treesWithNN/sr/tree_2018_UL_sr/tree_SingleTop_tW_Top_InclusiveDecays.root\u001b[0m (6233 -> 659, 10.57%)\n",
      "\n",
      "\n",
      "Processing file: tree_TTBar_TTTo2L2Nu.root\n"
     ]
    },
    {
     "data": {
      "application/vnd.jupyter.widget-view+json": {
       "model_id": "3a824f2bc6b141d6aee32d2e7e1fb25d",
       "version_major": 2,
       "version_minor": 0
      },
      "text/plain": [
       "Reading:   0%|          | 0/4 [00:00<?, ? batch/s]"
      ]
     },
     "metadata": {},
     "output_type": "display_data"
    },
    {
     "data": {
      "application/vnd.jupyter.widget-view+json": {
       "model_id": "21fe4bd8eeac4555aec808c5a47fb664",
       "version_major": 2,
       "version_minor": 0
      },
      "text/plain": [
       "Reading:   0%|          | 0/1 [00:00<?, ? batch/s]"
      ]
     },
     "metadata": {},
     "output_type": "display_data"
    },
    {
     "name": "stdout",
     "output_type": "stream",
     "text": [
      "\u001b[1;32mFile written: ../ROOT_FILES/treesWithNN/sr/tree_2018_UL_sr/tree_TTBar_TTTo2L2Nu.root\u001b[0m (341764 -> 27802, 8.13%)\n",
      "\n",
      "\n",
      "Processing file: tree_TTBar_TTToSemiLeptonic.root\n"
     ]
    },
    {
     "data": {
      "application/vnd.jupyter.widget-view+json": {
       "model_id": "6c27429a77b041bfb920dc0b0954749d",
       "version_major": 2,
       "version_minor": 0
      },
      "text/plain": [
       "Reading:   0%|          | 0/8 [00:00<?, ? batch/s]"
      ]
     },
     "metadata": {},
     "output_type": "display_data"
    },
    {
     "data": {
      "application/vnd.jupyter.widget-view+json": {
       "model_id": "9065f250f27a4bbb8a037f6ef2310670",
       "version_major": 2,
       "version_minor": 0
      },
      "text/plain": [
       "Reading:   0%|          | 0/1 [00:00<?, ? batch/s]"
      ]
     },
     "metadata": {},
     "output_type": "display_data"
    },
    {
     "name": "stdout",
     "output_type": "stream",
     "text": [
      "\u001b[1;32mFile written: ../ROOT_FILES/treesWithNN/sr/tree_2018_UL_sr/tree_TTBar_TTToSemiLeptonic.root\u001b[0m (751163 -> 69285, 9.22%)\n",
      "\n",
      "\n",
      "Processing file: tree_TTW_TTWToLNu.root\n"
     ]
    },
    {
     "data": {
      "application/vnd.jupyter.widget-view+json": {
       "model_id": "0f2239ff864a4ee58997e52e699f853b",
       "version_major": 2,
       "version_minor": 0
      },
      "text/plain": [
       "Reading:   0%|          | 0/7 [00:00<?, ? batch/s]"
      ]
     },
     "metadata": {},
     "output_type": "display_data"
    },
    {
     "data": {
      "application/vnd.jupyter.widget-view+json": {
       "model_id": "22fda817225743f89eb636c1bfd8a6ee",
       "version_major": 2,
       "version_minor": 0
      },
      "text/plain": [
       "Reading:   0%|          | 0/1 [00:00<?, ? batch/s]"
      ]
     },
     "metadata": {},
     "output_type": "display_data"
    },
    {
     "name": "stdout",
     "output_type": "stream",
     "text": [
      "\u001b[1;32mFile written: ../ROOT_FILES/treesWithNN/sr/tree_2018_UL_sr/tree_TTW_TTWToLNu.root\u001b[0m (659302 -> 97391, 14.77%)\n",
      "\n",
      "\n",
      "Processing file: tree_TTZ_TTZToLL.root\n"
     ]
    },
    {
     "data": {
      "application/vnd.jupyter.widget-view+json": {
       "model_id": "43b4cffd091844c08be3ffb14999abcc",
       "version_major": 2,
       "version_minor": 0
      },
      "text/plain": [
       "Reading:   0%|          | 0/13 [00:00<?, ? batch/s]"
      ]
     },
     "metadata": {},
     "output_type": "display_data"
    },
    {
     "data": {
      "application/vnd.jupyter.widget-view+json": {
       "model_id": "e77935d284fb45d59f0856d39d8cfdaf",
       "version_major": 2,
       "version_minor": 0
      },
      "text/plain": [
       "Reading:   0%|          | 0/2 [00:00<?, ? batch/s]"
      ]
     },
     "metadata": {},
     "output_type": "display_data"
    },
    {
     "name": "stdout",
     "output_type": "stream",
     "text": [
      "\u001b[1;32mFile written: ../ROOT_FILES/treesWithNN/sr/tree_2018_UL_sr/tree_TTZ_TTZToLL.root\u001b[0m (1298000 -> 182745, 14.08%)\n",
      "\n",
      "\n",
      "Processing file: tree_VLLD_ele_M100.root\n"
     ]
    },
    {
     "data": {
      "application/vnd.jupyter.widget-view+json": {
       "model_id": "fc37e6dfc1eb4b52b51ea5965b5dda75",
       "version_major": 2,
       "version_minor": 0
      },
      "text/plain": [
       "Reading:   0%|          | 0/1 [00:00<?, ? batch/s]"
      ]
     },
     "metadata": {},
     "output_type": "display_data"
    },
    {
     "data": {
      "application/vnd.jupyter.widget-view+json": {
       "model_id": "478ba3e9dcf5441db20397541b5922c1",
       "version_major": 2,
       "version_minor": 0
      },
      "text/plain": [
       "Reading:   0%|          | 0/1 [00:00<?, ? batch/s]"
      ]
     },
     "metadata": {},
     "output_type": "display_data"
    },
    {
     "name": "stdout",
     "output_type": "stream",
     "text": [
      "\u001b[1;32mFile written: ../ROOT_FILES/treesWithNN/sr/tree_2018_UL_sr/tree_VLLD_ele_M100.root\u001b[0m (2809 -> 466, 16.59%)\n",
      "\n",
      "\n",
      "Processing file: tree_VLLD_ele_M1000.root\n"
     ]
    },
    {
     "data": {
      "application/vnd.jupyter.widget-view+json": {
       "model_id": "493567cab3464438838ad9c03ed4009b",
       "version_major": 2,
       "version_minor": 0
      },
      "text/plain": [
       "Reading:   0%|          | 0/1 [00:00<?, ? batch/s]"
      ]
     },
     "metadata": {},
     "output_type": "display_data"
    },
    {
     "data": {
      "application/vnd.jupyter.widget-view+json": {
       "model_id": "69d1af9cf9d94e9991f17189bc291d5a",
       "version_major": 2,
       "version_minor": 0
      },
      "text/plain": [
       "Reading:   0%|          | 0/1 [00:00<?, ? batch/s]"
      ]
     },
     "metadata": {},
     "output_type": "display_data"
    },
    {
     "name": "stdout",
     "output_type": "stream",
     "text": [
      "\u001b[1;32mFile written: ../ROOT_FILES/treesWithNN/sr/tree_2018_UL_sr/tree_VLLD_ele_M1000.root\u001b[0m (1128 -> 588, 52.13%)\n",
      "\n",
      "\n",
      "Processing file: tree_VLLD_ele_M200.root\n"
     ]
    },
    {
     "data": {
      "application/vnd.jupyter.widget-view+json": {
       "model_id": "30b2966218564b3b9b3b6c52992c1f5b",
       "version_major": 2,
       "version_minor": 0
      },
      "text/plain": [
       "Reading:   0%|          | 0/1 [00:00<?, ? batch/s]"
      ]
     },
     "metadata": {},
     "output_type": "display_data"
    },
    {
     "data": {
      "application/vnd.jupyter.widget-view+json": {
       "model_id": "d4e7dc4403d64040bd8a53afc19ad63c",
       "version_major": 2,
       "version_minor": 0
      },
      "text/plain": [
       "Reading:   0%|          | 0/1 [00:00<?, ? batch/s]"
      ]
     },
     "metadata": {},
     "output_type": "display_data"
    },
    {
     "name": "stdout",
     "output_type": "stream",
     "text": [
      "\u001b[1;32mFile written: ../ROOT_FILES/treesWithNN/sr/tree_2018_UL_sr/tree_VLLD_ele_M200.root\u001b[0m (3196 -> 1330, 41.61%)\n",
      "\n",
      "\n",
      "Processing file: tree_VLLD_ele_M300.root\n"
     ]
    },
    {
     "data": {
      "application/vnd.jupyter.widget-view+json": {
       "model_id": "c48868b394b24cd886a13d87cb4bb1ec",
       "version_major": 2,
       "version_minor": 0
      },
      "text/plain": [
       "Reading:   0%|          | 0/1 [00:00<?, ? batch/s]"
      ]
     },
     "metadata": {},
     "output_type": "display_data"
    },
    {
     "data": {
      "application/vnd.jupyter.widget-view+json": {
       "model_id": "ff22ea8aafe54e69af0aba9e5ba90295",
       "version_major": 2,
       "version_minor": 0
      },
      "text/plain": [
       "Reading:   0%|          | 0/1 [00:00<?, ? batch/s]"
      ]
     },
     "metadata": {},
     "output_type": "display_data"
    },
    {
     "name": "stdout",
     "output_type": "stream",
     "text": [
      "\u001b[1;32mFile written: ../ROOT_FILES/treesWithNN/sr/tree_2018_UL_sr/tree_VLLD_ele_M300.root\u001b[0m (1063 -> 555, 52.21%)\n",
      "\n",
      "\n",
      "Processing file: tree_VLLD_ele_M400.root\n"
     ]
    },
    {
     "data": {
      "application/vnd.jupyter.widget-view+json": {
       "model_id": "5f9feda825aa42e981c0e1d58848f792",
       "version_major": 2,
       "version_minor": 0
      },
      "text/plain": [
       "Reading:   0%|          | 0/1 [00:00<?, ? batch/s]"
      ]
     },
     "metadata": {},
     "output_type": "display_data"
    },
    {
     "data": {
      "application/vnd.jupyter.widget-view+json": {
       "model_id": "2966338c60ad4f32ba0348c81bab7a2f",
       "version_major": 2,
       "version_minor": 0
      },
      "text/plain": [
       "Reading:   0%|          | 0/1 [00:00<?, ? batch/s]"
      ]
     },
     "metadata": {},
     "output_type": "display_data"
    },
    {
     "name": "stdout",
     "output_type": "stream",
     "text": [
      "\u001b[1;32mFile written: ../ROOT_FILES/treesWithNN/sr/tree_2018_UL_sr/tree_VLLD_ele_M400.root\u001b[0m (1088 -> 586, 53.86%)\n",
      "\n",
      "\n",
      "Processing file: tree_VLLD_ele_M600.root\n"
     ]
    },
    {
     "data": {
      "application/vnd.jupyter.widget-view+json": {
       "model_id": "918b1fc162ff495d8b4ee9216c52b2f7",
       "version_major": 2,
       "version_minor": 0
      },
      "text/plain": [
       "Reading:   0%|          | 0/1 [00:00<?, ? batch/s]"
      ]
     },
     "metadata": {},
     "output_type": "display_data"
    },
    {
     "data": {
      "application/vnd.jupyter.widget-view+json": {
       "model_id": "588a09c2ff9b4df9bede5bb5e2a12ebe",
       "version_major": 2,
       "version_minor": 0
      },
      "text/plain": [
       "Reading:   0%|          | 0/1 [00:00<?, ? batch/s]"
      ]
     },
     "metadata": {},
     "output_type": "display_data"
    },
    {
     "name": "stdout",
     "output_type": "stream",
     "text": [
      "\u001b[1;32mFile written: ../ROOT_FILES/treesWithNN/sr/tree_2018_UL_sr/tree_VLLD_ele_M600.root\u001b[0m (1117 -> 600, 53.72%)\n",
      "\n",
      "\n",
      "Processing file: tree_VLLD_ele_M800.root\n"
     ]
    },
    {
     "data": {
      "application/vnd.jupyter.widget-view+json": {
       "model_id": "202fd3578a8b48d2862357cc40de62d2",
       "version_major": 2,
       "version_minor": 0
      },
      "text/plain": [
       "Reading:   0%|          | 0/1 [00:00<?, ? batch/s]"
      ]
     },
     "metadata": {},
     "output_type": "display_data"
    },
    {
     "data": {
      "application/vnd.jupyter.widget-view+json": {
       "model_id": "51bfa4df4a14476ebf010be19ab9fbe0",
       "version_major": 2,
       "version_minor": 0
      },
      "text/plain": [
       "Reading:   0%|          | 0/1 [00:00<?, ? batch/s]"
      ]
     },
     "metadata": {},
     "output_type": "display_data"
    },
    {
     "name": "stdout",
     "output_type": "stream",
     "text": [
      "\u001b[1;32mFile written: ../ROOT_FILES/treesWithNN/sr/tree_2018_UL_sr/tree_VLLD_ele_M800.root\u001b[0m (1088 -> 623, 57.26%)\n",
      "\n",
      "\n",
      "Processing file: tree_VLLD_mu_M100.root\n"
     ]
    },
    {
     "data": {
      "application/vnd.jupyter.widget-view+json": {
       "model_id": "d197a596addc4b1b9eb772aec46a4aba",
       "version_major": 2,
       "version_minor": 0
      },
      "text/plain": [
       "Reading:   0%|          | 0/1 [00:00<?, ? batch/s]"
      ]
     },
     "metadata": {},
     "output_type": "display_data"
    },
    {
     "data": {
      "application/vnd.jupyter.widget-view+json": {
       "model_id": "0fbe8ef204b54a83a304870e78654cfe",
       "version_major": 2,
       "version_minor": 0
      },
      "text/plain": [
       "Reading:   0%|          | 0/1 [00:00<?, ? batch/s]"
      ]
     },
     "metadata": {},
     "output_type": "display_data"
    },
    {
     "name": "stdout",
     "output_type": "stream",
     "text": [
      "\u001b[1;32mFile written: ../ROOT_FILES/treesWithNN/sr/tree_2018_UL_sr/tree_VLLD_mu_M100.root\u001b[0m (3041 -> 533, 17.53%)\n",
      "\n",
      "\n",
      "Processing file: tree_VLLD_mu_M200.root\n"
     ]
    },
    {
     "data": {
      "application/vnd.jupyter.widget-view+json": {
       "model_id": "46005aff0d1c4f92b59048389462a90f",
       "version_major": 2,
       "version_minor": 0
      },
      "text/plain": [
       "Reading:   0%|          | 0/1 [00:00<?, ? batch/s]"
      ]
     },
     "metadata": {},
     "output_type": "display_data"
    },
    {
     "data": {
      "application/vnd.jupyter.widget-view+json": {
       "model_id": "15dc33292bc248168cd52ff256013836",
       "version_major": 2,
       "version_minor": 0
      },
      "text/plain": [
       "Reading:   0%|          | 0/1 [00:00<?, ? batch/s]"
      ]
     },
     "metadata": {},
     "output_type": "display_data"
    },
    {
     "name": "stdout",
     "output_type": "stream",
     "text": [
      "\u001b[1;32mFile written: ../ROOT_FILES/treesWithNN/sr/tree_2018_UL_sr/tree_VLLD_mu_M200.root\u001b[0m (1868 -> 771, 41.27%)\n",
      "\n",
      "\n",
      "Processing file: tree_VLLD_mu_M300.root\n"
     ]
    },
    {
     "data": {
      "application/vnd.jupyter.widget-view+json": {
       "model_id": "8494c34781974651be776214e95257a8",
       "version_major": 2,
       "version_minor": 0
      },
      "text/plain": [
       "Reading:   0%|          | 0/1 [00:00<?, ? batch/s]"
      ]
     },
     "metadata": {},
     "output_type": "display_data"
    },
    {
     "data": {
      "application/vnd.jupyter.widget-view+json": {
       "model_id": "7ef3cf0a947b43a39718993e3ea1f84a",
       "version_major": 2,
       "version_minor": 0
      },
      "text/plain": [
       "Reading:   0%|          | 0/1 [00:00<?, ? batch/s]"
      ]
     },
     "metadata": {},
     "output_type": "display_data"
    },
    {
     "name": "stdout",
     "output_type": "stream",
     "text": [
      "\u001b[1;32mFile written: ../ROOT_FILES/treesWithNN/sr/tree_2018_UL_sr/tree_VLLD_mu_M300.root\u001b[0m (562 -> 289, 51.42%)\n",
      "\n",
      "\n",
      "Processing file: tree_VLLD_mu_M400.root\n"
     ]
    },
    {
     "data": {
      "application/vnd.jupyter.widget-view+json": {
       "model_id": "185d268be9cd4b95aa7f90867428b4aa",
       "version_major": 2,
       "version_minor": 0
      },
      "text/plain": [
       "Reading:   0%|          | 0/1 [00:00<?, ? batch/s]"
      ]
     },
     "metadata": {},
     "output_type": "display_data"
    },
    {
     "data": {
      "application/vnd.jupyter.widget-view+json": {
       "model_id": "019068a190334541abbac9e45ec91fe0",
       "version_major": 2,
       "version_minor": 0
      },
      "text/plain": [
       "Reading:   0%|          | 0/1 [00:00<?, ? batch/s]"
      ]
     },
     "metadata": {},
     "output_type": "display_data"
    },
    {
     "name": "stdout",
     "output_type": "stream",
     "text": [
      "\u001b[1;32mFile written: ../ROOT_FILES/treesWithNN/sr/tree_2018_UL_sr/tree_VLLD_mu_M400.root\u001b[0m (518 -> 277, 53.47%)\n",
      "\n",
      "\n",
      "Processing file: tree_VLLD_mu_M600.root\n"
     ]
    },
    {
     "data": {
      "application/vnd.jupyter.widget-view+json": {
       "model_id": "b0823cc328214e978e56ff57c5a36280",
       "version_major": 2,
       "version_minor": 0
      },
      "text/plain": [
       "Reading:   0%|          | 0/1 [00:00<?, ? batch/s]"
      ]
     },
     "metadata": {},
     "output_type": "display_data"
    },
    {
     "data": {
      "application/vnd.jupyter.widget-view+json": {
       "model_id": "e151e9625e094867ab976285cf967090",
       "version_major": 2,
       "version_minor": 0
      },
      "text/plain": [
       "Reading:   0%|          | 0/1 [00:00<?, ? batch/s]"
      ]
     },
     "metadata": {},
     "output_type": "display_data"
    },
    {
     "name": "stdout",
     "output_type": "stream",
     "text": [
      "\u001b[1;32mFile written: ../ROOT_FILES/treesWithNN/sr/tree_2018_UL_sr/tree_VLLD_mu_M600.root\u001b[0m (473 -> 278, 58.77%)\n",
      "\n",
      "\n",
      "Processing file: tree_VLLD_mu_M800.root\n"
     ]
    },
    {
     "data": {
      "application/vnd.jupyter.widget-view+json": {
       "model_id": "c8cdf07ded7e45779f01ae0de7d46001",
       "version_major": 2,
       "version_minor": 0
      },
      "text/plain": [
       "Reading:   0%|          | 0/1 [00:00<?, ? batch/s]"
      ]
     },
     "metadata": {},
     "output_type": "display_data"
    },
    {
     "data": {
      "application/vnd.jupyter.widget-view+json": {
       "model_id": "22371d22ba7c4d9290d0ea7884e1aca3",
       "version_major": 2,
       "version_minor": 0
      },
      "text/plain": [
       "Reading:   0%|          | 0/1 [00:00<?, ? batch/s]"
      ]
     },
     "metadata": {},
     "output_type": "display_data"
    },
    {
     "name": "stdout",
     "output_type": "stream",
     "text": [
      "\u001b[1;32mFile written: ../ROOT_FILES/treesWithNN/sr/tree_2018_UL_sr/tree_VLLD_mu_M800.root\u001b[0m (454 -> 260, 57.27%)\n",
      "\n",
      "\n",
      "Processing file: tree_VLLS_ele_M100.root\n"
     ]
    },
    {
     "data": {
      "application/vnd.jupyter.widget-view+json": {
       "model_id": "ec76ff35022047ca899548312cadf2bf",
       "version_major": 2,
       "version_minor": 0
      },
      "text/plain": [
       "Reading:   0%|          | 0/1 [00:00<?, ? batch/s]"
      ]
     },
     "metadata": {},
     "output_type": "display_data"
    },
    {
     "data": {
      "application/vnd.jupyter.widget-view+json": {
       "model_id": "f2cd6a0a9ea34c0a960e7624b02041cc",
       "version_major": 2,
       "version_minor": 0
      },
      "text/plain": [
       "Reading:   0%|          | 0/1 [00:00<?, ? batch/s]"
      ]
     },
     "metadata": {},
     "output_type": "display_data"
    },
    {
     "name": "stdout",
     "output_type": "stream",
     "text": [
      "\u001b[1;32mFile written: ../ROOT_FILES/treesWithNN/sr/tree_2018_UL_sr/tree_VLLS_ele_M100.root\u001b[0m (802 -> 111, 13.84%)\n",
      "\n",
      "\n",
      "Processing file: tree_VLLS_ele_M1000.root\n"
     ]
    },
    {
     "data": {
      "application/vnd.jupyter.widget-view+json": {
       "model_id": "ba9f60f1d5ba47bab88376a8080c2028",
       "version_major": 2,
       "version_minor": 0
      },
      "text/plain": [
       "Reading:   0%|          | 0/1 [00:00<?, ? batch/s]"
      ]
     },
     "metadata": {},
     "output_type": "display_data"
    },
    {
     "data": {
      "application/vnd.jupyter.widget-view+json": {
       "model_id": "369cddb9acdd4b49be2fbdaced465ae6",
       "version_major": 2,
       "version_minor": 0
      },
      "text/plain": [
       "Reading:   0%|          | 0/1 [00:00<?, ? batch/s]"
      ]
     },
     "metadata": {},
     "output_type": "display_data"
    },
    {
     "name": "stdout",
     "output_type": "stream",
     "text": [
      "\u001b[1;32mFile written: ../ROOT_FILES/treesWithNN/sr/tree_2018_UL_sr/tree_VLLS_ele_M1000.root\u001b[0m (1218 -> 674, 55.34%)\n",
      "\n",
      "\n",
      "Processing file: tree_VLLS_ele_M125.root\n"
     ]
    },
    {
     "data": {
      "application/vnd.jupyter.widget-view+json": {
       "model_id": "f0acf17bca83451a8971e9b38d03a9f6",
       "version_major": 2,
       "version_minor": 0
      },
      "text/plain": [
       "Reading:   0%|          | 0/1 [00:00<?, ? batch/s]"
      ]
     },
     "metadata": {},
     "output_type": "display_data"
    },
    {
     "data": {
      "application/vnd.jupyter.widget-view+json": {
       "model_id": "c01dde32c21240d183a38e9cfefbdda8",
       "version_major": 2,
       "version_minor": 0
      },
      "text/plain": [
       "Reading:   0%|          | 0/1 [00:00<?, ? batch/s]"
      ]
     },
     "metadata": {},
     "output_type": "display_data"
    },
    {
     "name": "stdout",
     "output_type": "stream",
     "text": [
      "\u001b[1;32mFile written: ../ROOT_FILES/treesWithNN/sr/tree_2018_UL_sr/tree_VLLS_ele_M125.root\u001b[0m (3179 -> 727, 22.87%)\n",
      "\n",
      "\n",
      "Processing file: tree_VLLS_ele_M150.root\n"
     ]
    },
    {
     "data": {
      "application/vnd.jupyter.widget-view+json": {
       "model_id": "49e6301d653e4b9cb91fb5043ef71265",
       "version_major": 2,
       "version_minor": 0
      },
      "text/plain": [
       "Reading:   0%|          | 0/1 [00:00<?, ? batch/s]"
      ]
     },
     "metadata": {},
     "output_type": "display_data"
    },
    {
     "data": {
      "application/vnd.jupyter.widget-view+json": {
       "model_id": "29dc23e18fdb4375a0760d6fd04c7aa9",
       "version_major": 2,
       "version_minor": 0
      },
      "text/plain": [
       "Reading:   0%|          | 0/1 [00:00<?, ? batch/s]"
      ]
     },
     "metadata": {},
     "output_type": "display_data"
    },
    {
     "name": "stdout",
     "output_type": "stream",
     "text": [
      "\u001b[1;32mFile written: ../ROOT_FILES/treesWithNN/sr/tree_2018_UL_sr/tree_VLLS_ele_M150.root\u001b[0m (4576 -> 1228, 26.84%)\n",
      "\n",
      "\n",
      "Processing file: tree_VLLS_ele_M200.root\n"
     ]
    },
    {
     "data": {
      "application/vnd.jupyter.widget-view+json": {
       "model_id": "9ff0a5c1e494436eb68de4694d032bfe",
       "version_major": 2,
       "version_minor": 0
      },
      "text/plain": [
       "Reading:   0%|          | 0/1 [00:00<?, ? batch/s]"
      ]
     },
     "metadata": {},
     "output_type": "display_data"
    },
    {
     "data": {
      "application/vnd.jupyter.widget-view+json": {
       "model_id": "b9be658074c340b59c32255f69550c9b",
       "version_major": 2,
       "version_minor": 0
      },
      "text/plain": [
       "Reading:   0%|          | 0/1 [00:00<?, ? batch/s]"
      ]
     },
     "metadata": {},
     "output_type": "display_data"
    },
    {
     "name": "stdout",
     "output_type": "stream",
     "text": [
      "\u001b[1;32mFile written: ../ROOT_FILES/treesWithNN/sr/tree_2018_UL_sr/tree_VLLS_ele_M200.root\u001b[0m (5912 -> 2420, 40.93%)\n",
      "\n",
      "\n",
      "Processing file: tree_VLLS_ele_M250.root\n"
     ]
    },
    {
     "data": {
      "application/vnd.jupyter.widget-view+json": {
       "model_id": "940135e952ff45b29096531dcc6df196",
       "version_major": 2,
       "version_minor": 0
      },
      "text/plain": [
       "Reading:   0%|          | 0/1 [00:00<?, ? batch/s]"
      ]
     },
     "metadata": {},
     "output_type": "display_data"
    },
    {
     "data": {
      "application/vnd.jupyter.widget-view+json": {
       "model_id": "5c6f5e9021de4bdcb8c763f352bd4aa5",
       "version_major": 2,
       "version_minor": 0
      },
      "text/plain": [
       "Reading:   0%|          | 0/1 [00:00<?, ? batch/s]"
      ]
     },
     "metadata": {},
     "output_type": "display_data"
    },
    {
     "name": "stdout",
     "output_type": "stream",
     "text": [
      "\u001b[1;32mFile written: ../ROOT_FILES/treesWithNN/sr/tree_2018_UL_sr/tree_VLLS_ele_M250.root\u001b[0m (5222 -> 2431, 46.55%)\n",
      "\n",
      "\n",
      "Processing file: tree_VLLS_ele_M300.root\n"
     ]
    },
    {
     "data": {
      "application/vnd.jupyter.widget-view+json": {
       "model_id": "b8fd961d222d4090925ea83fb6efef51",
       "version_major": 2,
       "version_minor": 0
      },
      "text/plain": [
       "Reading:   0%|          | 0/1 [00:00<?, ? batch/s]"
      ]
     },
     "metadata": {},
     "output_type": "display_data"
    },
    {
     "data": {
      "application/vnd.jupyter.widget-view+json": {
       "model_id": "d734bb567df146e09cdde48ef8f5b320",
       "version_major": 2,
       "version_minor": 0
      },
      "text/plain": [
       "Reading:   0%|          | 0/1 [00:00<?, ? batch/s]"
      ]
     },
     "metadata": {},
     "output_type": "display_data"
    },
    {
     "name": "stdout",
     "output_type": "stream",
     "text": [
      "\u001b[1;32mFile written: ../ROOT_FILES/treesWithNN/sr/tree_2018_UL_sr/tree_VLLS_ele_M300.root\u001b[0m (5529 -> 2889, 52.25%)\n",
      "\n",
      "\n",
      "Processing file: tree_VLLS_ele_M350.root\n"
     ]
    },
    {
     "data": {
      "application/vnd.jupyter.widget-view+json": {
       "model_id": "a5d51edd3fa9453a9946324aa409e6d8",
       "version_major": 2,
       "version_minor": 0
      },
      "text/plain": [
       "Reading:   0%|          | 0/1 [00:00<?, ? batch/s]"
      ]
     },
     "metadata": {},
     "output_type": "display_data"
    },
    {
     "data": {
      "application/vnd.jupyter.widget-view+json": {
       "model_id": "fb5b6b55e4db4ea8ad6e09b13d52a4f7",
       "version_major": 2,
       "version_minor": 0
      },
      "text/plain": [
       "Reading:   0%|          | 0/1 [00:00<?, ? batch/s]"
      ]
     },
     "metadata": {},
     "output_type": "display_data"
    },
    {
     "name": "stdout",
     "output_type": "stream",
     "text": [
      "\u001b[1;32mFile written: ../ROOT_FILES/treesWithNN/sr/tree_2018_UL_sr/tree_VLLS_ele_M350.root\u001b[0m (2256 -> 1255, 55.63%)\n",
      "\n",
      "\n",
      "Processing file: tree_VLLS_ele_M400.root\n"
     ]
    },
    {
     "data": {
      "application/vnd.jupyter.widget-view+json": {
       "model_id": "b88dcfb1f69048bb8f6f096c69685f97",
       "version_major": 2,
       "version_minor": 0
      },
      "text/plain": [
       "Reading:   0%|          | 0/1 [00:00<?, ? batch/s]"
      ]
     },
     "metadata": {},
     "output_type": "display_data"
    },
    {
     "data": {
      "application/vnd.jupyter.widget-view+json": {
       "model_id": "ccc2301b8fe64ec3b4c036b5d42a1e3f",
       "version_major": 2,
       "version_minor": 0
      },
      "text/plain": [
       "Reading:   0%|          | 0/1 [00:00<?, ? batch/s]"
      ]
     },
     "metadata": {},
     "output_type": "display_data"
    },
    {
     "name": "stdout",
     "output_type": "stream",
     "text": [
      "\u001b[1;32mFile written: ../ROOT_FILES/treesWithNN/sr/tree_2018_UL_sr/tree_VLLS_ele_M400.root\u001b[0m (2399 -> 1321, 55.06%)\n",
      "\n",
      "\n",
      "Processing file: tree_VLLS_ele_M450.root\n"
     ]
    },
    {
     "data": {
      "application/vnd.jupyter.widget-view+json": {
       "model_id": "55e2d0f0c7d6412a98653eec23839aa8",
       "version_major": 2,
       "version_minor": 0
      },
      "text/plain": [
       "Reading:   0%|          | 0/1 [00:00<?, ? batch/s]"
      ]
     },
     "metadata": {},
     "output_type": "display_data"
    },
    {
     "data": {
      "application/vnd.jupyter.widget-view+json": {
       "model_id": "cd2360bb3f924b3bafdca5ca5a75ab6c",
       "version_major": 2,
       "version_minor": 0
      },
      "text/plain": [
       "Reading:   0%|          | 0/1 [00:00<?, ? batch/s]"
      ]
     },
     "metadata": {},
     "output_type": "display_data"
    },
    {
     "name": "stdout",
     "output_type": "stream",
     "text": [
      "\u001b[1;32mFile written: ../ROOT_FILES/treesWithNN/sr/tree_2018_UL_sr/tree_VLLS_ele_M450.root\u001b[0m (2342 -> 1344, 57.39%)\n",
      "\n",
      "\n",
      "Processing file: tree_VLLS_ele_M500.root\n"
     ]
    },
    {
     "data": {
      "application/vnd.jupyter.widget-view+json": {
       "model_id": "2e3c7948b72740ef9c670f3341c7527d",
       "version_major": 2,
       "version_minor": 0
      },
      "text/plain": [
       "Reading:   0%|          | 0/1 [00:00<?, ? batch/s]"
      ]
     },
     "metadata": {},
     "output_type": "display_data"
    },
    {
     "data": {
      "application/vnd.jupyter.widget-view+json": {
       "model_id": "13fe94658d094b4583db6a1499a09015",
       "version_major": 2,
       "version_minor": 0
      },
      "text/plain": [
       "Reading:   0%|          | 0/1 [00:00<?, ? batch/s]"
      ]
     },
     "metadata": {},
     "output_type": "display_data"
    },
    {
     "name": "stdout",
     "output_type": "stream",
     "text": [
      "\u001b[1;32mFile written: ../ROOT_FILES/treesWithNN/sr/tree_2018_UL_sr/tree_VLLS_ele_M500.root\u001b[0m (2355 -> 1359, 57.71%)\n",
      "\n",
      "\n",
      "Processing file: tree_VLLS_ele_M750.root\n"
     ]
    },
    {
     "data": {
      "application/vnd.jupyter.widget-view+json": {
       "model_id": "95ca7dd0ea3545b381b8ddc9a3bc28cc",
       "version_major": 2,
       "version_minor": 0
      },
      "text/plain": [
       "Reading:   0%|          | 0/1 [00:00<?, ? batch/s]"
      ]
     },
     "metadata": {},
     "output_type": "display_data"
    },
    {
     "data": {
      "application/vnd.jupyter.widget-view+json": {
       "model_id": "32895a2dd7ae4996970de16f15fb460b",
       "version_major": 2,
       "version_minor": 0
      },
      "text/plain": [
       "Reading:   0%|          | 0/1 [00:00<?, ? batch/s]"
      ]
     },
     "metadata": {},
     "output_type": "display_data"
    },
    {
     "name": "stdout",
     "output_type": "stream",
     "text": [
      "\u001b[1;32mFile written: ../ROOT_FILES/treesWithNN/sr/tree_2018_UL_sr/tree_VLLS_ele_M750.root\u001b[0m (1211 -> 676, 55.82%)\n",
      "\n",
      "\n",
      "Processing file: tree_VLLS_mu_M100.root\n"
     ]
    },
    {
     "data": {
      "application/vnd.jupyter.widget-view+json": {
       "model_id": "8e84699d77134e33a9c9bcb77676b40b",
       "version_major": 2,
       "version_minor": 0
      },
      "text/plain": [
       "Reading:   0%|          | 0/1 [00:00<?, ? batch/s]"
      ]
     },
     "metadata": {},
     "output_type": "display_data"
    },
    {
     "data": {
      "application/vnd.jupyter.widget-view+json": {
       "model_id": "1391d04811db46c3a082fee5361deed5",
       "version_major": 2,
       "version_minor": 0
      },
      "text/plain": [
       "Reading:   0%|          | 0/1 [00:00<?, ? batch/s]"
      ]
     },
     "metadata": {},
     "output_type": "display_data"
    },
    {
     "name": "stdout",
     "output_type": "stream",
     "text": [
      "\u001b[1;32mFile written: ../ROOT_FILES/treesWithNN/sr/tree_2018_UL_sr/tree_VLLS_mu_M100.root\u001b[0m (851 -> 118, 13.87%)\n",
      "\n",
      "\n",
      "Processing file: tree_VLLS_mu_M1000.root\n"
     ]
    },
    {
     "data": {
      "application/vnd.jupyter.widget-view+json": {
       "model_id": "9475f7c4cb5544dcb2f4e75430482a3d",
       "version_major": 2,
       "version_minor": 0
      },
      "text/plain": [
       "Reading:   0%|          | 0/1 [00:00<?, ? batch/s]"
      ]
     },
     "metadata": {},
     "output_type": "display_data"
    },
    {
     "data": {
      "application/vnd.jupyter.widget-view+json": {
       "model_id": "5cd23cdb1a36439f9beba5bbd935e2c5",
       "version_major": 2,
       "version_minor": 0
      },
      "text/plain": [
       "Reading:   0%|          | 0/1 [00:00<?, ? batch/s]"
      ]
     },
     "metadata": {},
     "output_type": "display_data"
    },
    {
     "name": "stdout",
     "output_type": "stream",
     "text": [
      "\u001b[1;32mFile written: ../ROOT_FILES/treesWithNN/sr/tree_2018_UL_sr/tree_VLLS_mu_M1000.root\u001b[0m (718 -> 451, 62.81%)\n",
      "\n",
      "\n",
      "Processing file: tree_VLLS_mu_M125.root\n"
     ]
    },
    {
     "data": {
      "application/vnd.jupyter.widget-view+json": {
       "model_id": "283d16383be04ac78aea6b904c979eab",
       "version_major": 2,
       "version_minor": 0
      },
      "text/plain": [
       "Reading:   0%|          | 0/1 [00:00<?, ? batch/s]"
      ]
     },
     "metadata": {},
     "output_type": "display_data"
    },
    {
     "data": {
      "application/vnd.jupyter.widget-view+json": {
       "model_id": "f99676cd778943b6982cf7054cc37fc0",
       "version_major": 2,
       "version_minor": 0
      },
      "text/plain": [
       "Reading:   0%|          | 0/1 [00:00<?, ? batch/s]"
      ]
     },
     "metadata": {},
     "output_type": "display_data"
    },
    {
     "name": "stdout",
     "output_type": "stream",
     "text": [
      "\u001b[1;32mFile written: ../ROOT_FILES/treesWithNN/sr/tree_2018_UL_sr/tree_VLLS_mu_M125.root\u001b[0m (3697 -> 892, 24.13%)\n",
      "\n",
      "\n",
      "Processing file: tree_VLLS_mu_M150.root\n"
     ]
    },
    {
     "data": {
      "application/vnd.jupyter.widget-view+json": {
       "model_id": "0e79c3bcfe6e45409e4e949ccbc4f2a4",
       "version_major": 2,
       "version_minor": 0
      },
      "text/plain": [
       "Reading:   0%|          | 0/1 [00:00<?, ? batch/s]"
      ]
     },
     "metadata": {},
     "output_type": "display_data"
    },
    {
     "data": {
      "application/vnd.jupyter.widget-view+json": {
       "model_id": "ec26b97eb5c240f2bc2f5bb4bac2754e",
       "version_major": 2,
       "version_minor": 0
      },
      "text/plain": [
       "Reading:   0%|          | 0/1 [00:00<?, ? batch/s]"
      ]
     },
     "metadata": {},
     "output_type": "display_data"
    },
    {
     "name": "stdout",
     "output_type": "stream",
     "text": [
      "\u001b[1;32mFile written: ../ROOT_FILES/treesWithNN/sr/tree_2018_UL_sr/tree_VLLS_mu_M150.root\u001b[0m (4370 -> 1423, 32.56%)\n",
      "\n",
      "\n",
      "Processing file: tree_VLLS_mu_M200.root\n"
     ]
    },
    {
     "data": {
      "application/vnd.jupyter.widget-view+json": {
       "model_id": "7aad5330fd974b0da8adafb8ab3b13a8",
       "version_major": 2,
       "version_minor": 0
      },
      "text/plain": [
       "Reading:   0%|          | 0/1 [00:00<?, ? batch/s]"
      ]
     },
     "metadata": {},
     "output_type": "display_data"
    },
    {
     "data": {
      "application/vnd.jupyter.widget-view+json": {
       "model_id": "6a874e1d4f5c4e229628a2865fe9906b",
       "version_major": 2,
       "version_minor": 0
      },
      "text/plain": [
       "Reading:   0%|          | 0/1 [00:00<?, ? batch/s]"
      ]
     },
     "metadata": {},
     "output_type": "display_data"
    },
    {
     "name": "stdout",
     "output_type": "stream",
     "text": [
      "\u001b[1;32mFile written: ../ROOT_FILES/treesWithNN/sr/tree_2018_UL_sr/tree_VLLS_mu_M200.root\u001b[0m (5077 -> 2367, 46.62%)\n",
      "\n",
      "\n",
      "Processing file: tree_VLLS_mu_M250.root\n"
     ]
    },
    {
     "data": {
      "application/vnd.jupyter.widget-view+json": {
       "model_id": "d4b9b36a61bd4290a4925b0834096f6f",
       "version_major": 2,
       "version_minor": 0
      },
      "text/plain": [
       "Reading:   0%|          | 0/1 [00:00<?, ? batch/s]"
      ]
     },
     "metadata": {},
     "output_type": "display_data"
    },
    {
     "data": {
      "application/vnd.jupyter.widget-view+json": {
       "model_id": "681d59f2866943a39e157fd91dd49b0a",
       "version_major": 2,
       "version_minor": 0
      },
      "text/plain": [
       "Reading:   0%|          | 0/1 [00:00<?, ? batch/s]"
      ]
     },
     "metadata": {},
     "output_type": "display_data"
    },
    {
     "name": "stdout",
     "output_type": "stream",
     "text": [
      "\u001b[1;32mFile written: ../ROOT_FILES/treesWithNN/sr/tree_2018_UL_sr/tree_VLLS_mu_M250.root\u001b[0m (4320 -> 2393, 55.39%)\n",
      "\n",
      "\n",
      "Processing file: tree_VLLS_mu_M300.root\n"
     ]
    },
    {
     "data": {
      "application/vnd.jupyter.widget-view+json": {
       "model_id": "5c25afcc89bf4cf39028383fd247ed56",
       "version_major": 2,
       "version_minor": 0
      },
      "text/plain": [
       "Reading:   0%|          | 0/1 [00:00<?, ? batch/s]"
      ]
     },
     "metadata": {},
     "output_type": "display_data"
    },
    {
     "data": {
      "application/vnd.jupyter.widget-view+json": {
       "model_id": "3237bcd7769f46378d636c4298de2b07",
       "version_major": 2,
       "version_minor": 0
      },
      "text/plain": [
       "Reading:   0%|          | 0/1 [00:00<?, ? batch/s]"
      ]
     },
     "metadata": {},
     "output_type": "display_data"
    },
    {
     "name": "stdout",
     "output_type": "stream",
     "text": [
      "\u001b[1;32mFile written: ../ROOT_FILES/treesWithNN/sr/tree_2018_UL_sr/tree_VLLS_mu_M300.root\u001b[0m (4456 -> 2726, 61.18%)\n",
      "\n",
      "\n",
      "Processing file: tree_VLLS_mu_M400.root\n"
     ]
    },
    {
     "data": {
      "application/vnd.jupyter.widget-view+json": {
       "model_id": "32e7cc7c22a6469aae52c12375cf1c7a",
       "version_major": 2,
       "version_minor": 0
      },
      "text/plain": [
       "Reading:   0%|          | 0/1 [00:00<?, ? batch/s]"
      ]
     },
     "metadata": {},
     "output_type": "display_data"
    },
    {
     "data": {
      "application/vnd.jupyter.widget-view+json": {
       "model_id": "922d88cc02124a9e963121ec994d240f",
       "version_major": 2,
       "version_minor": 0
      },
      "text/plain": [
       "Reading:   0%|          | 0/1 [00:00<?, ? batch/s]"
      ]
     },
     "metadata": {},
     "output_type": "display_data"
    },
    {
     "name": "stdout",
     "output_type": "stream",
     "text": [
      "\u001b[1;32mFile written: ../ROOT_FILES/treesWithNN/sr/tree_2018_UL_sr/tree_VLLS_mu_M400.root\u001b[0m (1722 -> 1126, 65.39%)\n",
      "\n",
      "\n",
      "Processing file: tree_VLLS_mu_M450.root\n"
     ]
    },
    {
     "data": {
      "application/vnd.jupyter.widget-view+json": {
       "model_id": "3fca6c97d0f1408f956d563173843163",
       "version_major": 2,
       "version_minor": 0
      },
      "text/plain": [
       "Reading:   0%|          | 0/1 [00:00<?, ? batch/s]"
      ]
     },
     "metadata": {},
     "output_type": "display_data"
    },
    {
     "data": {
      "application/vnd.jupyter.widget-view+json": {
       "model_id": "e8606887e86e48ff9ae9771ea09c2478",
       "version_major": 2,
       "version_minor": 0
      },
      "text/plain": [
       "Reading:   0%|          | 0/1 [00:00<?, ? batch/s]"
      ]
     },
     "metadata": {},
     "output_type": "display_data"
    },
    {
     "name": "stdout",
     "output_type": "stream",
     "text": [
      "\u001b[1;32mFile written: ../ROOT_FILES/treesWithNN/sr/tree_2018_UL_sr/tree_VLLS_mu_M450.root\u001b[0m (1648 -> 1097, 66.57%)\n",
      "\n",
      "\n",
      "Processing file: tree_VLLS_mu_M500.root\n"
     ]
    },
    {
     "data": {
      "application/vnd.jupyter.widget-view+json": {
       "model_id": "2fb6010e3d84486888e89fb95b49e254",
       "version_major": 2,
       "version_minor": 0
      },
      "text/plain": [
       "Reading:   0%|          | 0/1 [00:00<?, ? batch/s]"
      ]
     },
     "metadata": {},
     "output_type": "display_data"
    },
    {
     "data": {
      "application/vnd.jupyter.widget-view+json": {
       "model_id": "466114bf452d43e0ad19c605fa8d4248",
       "version_major": 2,
       "version_minor": 0
      },
      "text/plain": [
       "Reading:   0%|          | 0/1 [00:00<?, ? batch/s]"
      ]
     },
     "metadata": {},
     "output_type": "display_data"
    },
    {
     "name": "stdout",
     "output_type": "stream",
     "text": [
      "\u001b[1;32mFile written: ../ROOT_FILES/treesWithNN/sr/tree_2018_UL_sr/tree_VLLS_mu_M500.root\u001b[0m (1667 -> 1055, 63.29%)\n",
      "\n",
      "\n",
      "Processing file: tree_VLLS_mu_M750.root\n"
     ]
    },
    {
     "data": {
      "application/vnd.jupyter.widget-view+json": {
       "model_id": "080e28d941dc4c2bba9f2192f1dd1e3d",
       "version_major": 2,
       "version_minor": 0
      },
      "text/plain": [
       "Reading:   0%|          | 0/1 [00:00<?, ? batch/s]"
      ]
     },
     "metadata": {},
     "output_type": "display_data"
    },
    {
     "data": {
      "application/vnd.jupyter.widget-view+json": {
       "model_id": "59a1af351bd748e9b04afe3fc29cd3de",
       "version_major": 2,
       "version_minor": 0
      },
      "text/plain": [
       "Reading:   0%|          | 0/1 [00:00<?, ? batch/s]"
      ]
     },
     "metadata": {},
     "output_type": "display_data"
    },
    {
     "name": "stdout",
     "output_type": "stream",
     "text": [
      "\u001b[1;32mFile written: ../ROOT_FILES/treesWithNN/sr/tree_2018_UL_sr/tree_VLLS_mu_M750.root\u001b[0m (841 -> 554, 65.87%)\n",
      "\n",
      "\n",
      "Processing file: tree_VLLS_tau_M100.root\n"
     ]
    },
    {
     "data": {
      "application/vnd.jupyter.widget-view+json": {
       "model_id": "e0213fd5c5094b2587fff30929490bb8",
       "version_major": 2,
       "version_minor": 0
      },
      "text/plain": [
       "Reading:   0%|          | 0/1 [00:00<?, ? batch/s]"
      ]
     },
     "metadata": {},
     "output_type": "display_data"
    },
    {
     "data": {
      "application/vnd.jupyter.widget-view+json": {
       "model_id": "47531a9604054416ae23733598ca6038",
       "version_major": 2,
       "version_minor": 0
      },
      "text/plain": [
       "Reading:   0%|          | 0/1 [00:00<?, ? batch/s]"
      ]
     },
     "metadata": {},
     "output_type": "display_data"
    },
    {
     "name": "stdout",
     "output_type": "stream",
     "text": [
      "\u001b[1;32mFile written: ../ROOT_FILES/treesWithNN/sr/tree_2018_UL_sr/tree_VLLS_tau_M100.root\u001b[0m (1115 -> 123, 11.03%)\n",
      "\n",
      "\n",
      "Processing file: tree_VLLS_tau_M125.root\n"
     ]
    },
    {
     "data": {
      "application/vnd.jupyter.widget-view+json": {
       "model_id": "7a2cd5cc94164deba17acb6abb49b8a7",
       "version_major": 2,
       "version_minor": 0
      },
      "text/plain": [
       "Reading:   0%|          | 0/1 [00:00<?, ? batch/s]"
      ]
     },
     "metadata": {},
     "output_type": "display_data"
    },
    {
     "data": {
      "application/vnd.jupyter.widget-view+json": {
       "model_id": "23dbcd62b30349488eaa220417a4d1a5",
       "version_major": 2,
       "version_minor": 0
      },
      "text/plain": [
       "Reading:   0%|          | 0/1 [00:00<?, ? batch/s]"
      ]
     },
     "metadata": {},
     "output_type": "display_data"
    },
    {
     "name": "stdout",
     "output_type": "stream",
     "text": [
      "\u001b[1;32mFile written: ../ROOT_FILES/treesWithNN/sr/tree_2018_UL_sr/tree_VLLS_tau_M125.root\u001b[0m (2783 -> 437, 15.70%)\n",
      "\n",
      "\n",
      "Processing file: tree_VLLS_tau_M150.root\n"
     ]
    },
    {
     "data": {
      "application/vnd.jupyter.widget-view+json": {
       "model_id": "6d5a27a3bedc4c62abf54fe43935a5bc",
       "version_major": 2,
       "version_minor": 0
      },
      "text/plain": [
       "Reading:   0%|          | 0/1 [00:00<?, ? batch/s]"
      ]
     },
     "metadata": {},
     "output_type": "display_data"
    },
    {
     "data": {
      "application/vnd.jupyter.widget-view+json": {
       "model_id": "a564fcb5490b4ff78e2b7dcb2db57a43",
       "version_major": 2,
       "version_minor": 0
      },
      "text/plain": [
       "Reading:   0%|          | 0/1 [00:00<?, ? batch/s]"
      ]
     },
     "metadata": {},
     "output_type": "display_data"
    },
    {
     "name": "stdout",
     "output_type": "stream",
     "text": [
      "\u001b[1;32mFile written: ../ROOT_FILES/treesWithNN/sr/tree_2018_UL_sr/tree_VLLS_tau_M150.root\u001b[0m (3783 -> 802, 21.20%)\n",
      "\n",
      "\n",
      "Processing file: tree_VLLS_tau_M200.root\n"
     ]
    },
    {
     "data": {
      "application/vnd.jupyter.widget-view+json": {
       "model_id": "32e34781b88b4b5ebd0bcc97c7df8052",
       "version_major": 2,
       "version_minor": 0
      },
      "text/plain": [
       "Reading:   0%|          | 0/1 [00:00<?, ? batch/s]"
      ]
     },
     "metadata": {},
     "output_type": "display_data"
    },
    {
     "data": {
      "application/vnd.jupyter.widget-view+json": {
       "model_id": "5bda8cc357eb4fd6857ce09524cb900b",
       "version_major": 2,
       "version_minor": 0
      },
      "text/plain": [
       "Reading:   0%|          | 0/1 [00:00<?, ? batch/s]"
      ]
     },
     "metadata": {},
     "output_type": "display_data"
    },
    {
     "name": "stdout",
     "output_type": "stream",
     "text": [
      "\u001b[1;32mFile written: ../ROOT_FILES/treesWithNN/sr/tree_2018_UL_sr/tree_VLLS_tau_M200.root\u001b[0m (4914 -> 1549, 31.52%)\n",
      "\n",
      "\n",
      "Processing file: tree_VLLS_tau_M250.root\n"
     ]
    },
    {
     "data": {
      "application/vnd.jupyter.widget-view+json": {
       "model_id": "237c801275fb488abd813a681e879934",
       "version_major": 2,
       "version_minor": 0
      },
      "text/plain": [
       "Reading:   0%|          | 0/1 [00:00<?, ? batch/s]"
      ]
     },
     "metadata": {},
     "output_type": "display_data"
    },
    {
     "data": {
      "application/vnd.jupyter.widget-view+json": {
       "model_id": "42493a0d68bf48bbbe56de9eb0936c03",
       "version_major": 2,
       "version_minor": 0
      },
      "text/plain": [
       "Reading:   0%|          | 0/1 [00:00<?, ? batch/s]"
      ]
     },
     "metadata": {},
     "output_type": "display_data"
    },
    {
     "name": "stdout",
     "output_type": "stream",
     "text": [
      "\u001b[1;32mFile written: ../ROOT_FILES/treesWithNN/sr/tree_2018_UL_sr/tree_VLLS_tau_M250.root\u001b[0m (4467 -> 1719, 38.48%)\n",
      "\n",
      "\n",
      "Processing file: tree_VLLS_tau_M300.root\n"
     ]
    },
    {
     "data": {
      "application/vnd.jupyter.widget-view+json": {
       "model_id": "39f8d248254e4901b8a5b9d3042069af",
       "version_major": 2,
       "version_minor": 0
      },
      "text/plain": [
       "Reading:   0%|          | 0/1 [00:00<?, ? batch/s]"
      ]
     },
     "metadata": {},
     "output_type": "display_data"
    },
    {
     "data": {
      "application/vnd.jupyter.widget-view+json": {
       "model_id": "5c14b979e95a49329ecd85d098522667",
       "version_major": 2,
       "version_minor": 0
      },
      "text/plain": [
       "Reading:   0%|          | 0/1 [00:00<?, ? batch/s]"
      ]
     },
     "metadata": {},
     "output_type": "display_data"
    },
    {
     "name": "stdout",
     "output_type": "stream",
     "text": [
      "\u001b[1;32mFile written: ../ROOT_FILES/treesWithNN/sr/tree_2018_UL_sr/tree_VLLS_tau_M300.root\u001b[0m (4911 -> 2009, 40.91%)\n",
      "\n",
      "\n",
      "Processing file: tree_VLLS_tau_M350.root\n"
     ]
    },
    {
     "data": {
      "application/vnd.jupyter.widget-view+json": {
       "model_id": "cbe651ab263c4e5b84f56c9cd1d267c7",
       "version_major": 2,
       "version_minor": 0
      },
      "text/plain": [
       "Reading:   0%|          | 0/1 [00:00<?, ? batch/s]"
      ]
     },
     "metadata": {},
     "output_type": "display_data"
    },
    {
     "data": {
      "application/vnd.jupyter.widget-view+json": {
       "model_id": "59b93ae08535457ab9c28e5742390e28",
       "version_major": 2,
       "version_minor": 0
      },
      "text/plain": [
       "Reading:   0%|          | 0/1 [00:00<?, ? batch/s]"
      ]
     },
     "metadata": {},
     "output_type": "display_data"
    },
    {
     "name": "stdout",
     "output_type": "stream",
     "text": [
      "\u001b[1;32mFile written: ../ROOT_FILES/treesWithNN/sr/tree_2018_UL_sr/tree_VLLS_tau_M350.root\u001b[0m (2008 -> 854, 42.53%)\n",
      "\n",
      "\n",
      "Processing file: tree_VLLS_tau_M400.root\n"
     ]
    },
    {
     "data": {
      "application/vnd.jupyter.widget-view+json": {
       "model_id": "811b6021a5da41759019ef7d39f9afcc",
       "version_major": 2,
       "version_minor": 0
      },
      "text/plain": [
       "Reading:   0%|          | 0/1 [00:00<?, ? batch/s]"
      ]
     },
     "metadata": {},
     "output_type": "display_data"
    },
    {
     "data": {
      "application/vnd.jupyter.widget-view+json": {
       "model_id": "425e29158df243258b6b5e5b5541d3f5",
       "version_major": 2,
       "version_minor": 0
      },
      "text/plain": [
       "Reading:   0%|          | 0/1 [00:00<?, ? batch/s]"
      ]
     },
     "metadata": {},
     "output_type": "display_data"
    },
    {
     "name": "stdout",
     "output_type": "stream",
     "text": [
      "\u001b[1;32mFile written: ../ROOT_FILES/treesWithNN/sr/tree_2018_UL_sr/tree_VLLS_tau_M400.root\u001b[0m (2125 -> 922, 43.39%)\n",
      "\n",
      "\n",
      "Processing file: tree_WGamma_WGToLNuG_01J.root\n"
     ]
    },
    {
     "data": {
      "application/vnd.jupyter.widget-view+json": {
       "model_id": "c014da471e0c4b1090064f163d8a4520",
       "version_major": 2,
       "version_minor": 0
      },
      "text/plain": [
       "Reading:   0%|          | 0/1 [00:00<?, ? batch/s]"
      ]
     },
     "metadata": {},
     "output_type": "display_data"
    },
    {
     "data": {
      "application/vnd.jupyter.widget-view+json": {
       "model_id": "a94840dbaf2445478ec5548d688e5269",
       "version_major": 2,
       "version_minor": 0
      },
      "text/plain": [
       "Reading:   0%|          | 0/1 [00:00<?, ? batch/s]"
      ]
     },
     "metadata": {},
     "output_type": "display_data"
    },
    {
     "name": "stdout",
     "output_type": "stream",
     "text": [
      "\u001b[1;32mFile written: ../ROOT_FILES/treesWithNN/sr/tree_2018_UL_sr/tree_WGamma_WGToLNuG_01J.root\u001b[0m (40553 -> 5239, 12.92%)\n",
      "\n",
      "\n",
      "Processing file: tree_WpWp_WpWpJJEWK.root\n"
     ]
    },
    {
     "data": {
      "application/vnd.jupyter.widget-view+json": {
       "model_id": "6f31632c83424e2a96bb28818bbb286e",
       "version_major": 2,
       "version_minor": 0
      },
      "text/plain": [
       "Reading:   0%|          | 0/1 [00:00<?, ? batch/s]"
      ]
     },
     "metadata": {},
     "output_type": "display_data"
    },
    {
     "data": {
      "application/vnd.jupyter.widget-view+json": {
       "model_id": "6f32c16ca58a4098a25b0f5349ba6864",
       "version_major": 2,
       "version_minor": 0
      },
      "text/plain": [
       "Reading:   0%|          | 0/1 [00:00<?, ? batch/s]"
      ]
     },
     "metadata": {},
     "output_type": "display_data"
    },
    {
     "name": "stdout",
     "output_type": "stream",
     "text": [
      "\u001b[1;32mFile written: ../ROOT_FILES/treesWithNN/sr/tree_2018_UL_sr/tree_WpWp_WpWpJJEWK.root\u001b[0m (42583 -> 16545, 38.85%)\n",
      "\n",
      "\n",
      "Processing file: tree_WpWp_WpWpJJQCD.root\n"
     ]
    },
    {
     "data": {
      "application/vnd.jupyter.widget-view+json": {
       "model_id": "7beddbaa2b50483592fbca8e75339892",
       "version_major": 2,
       "version_minor": 0
      },
      "text/plain": [
       "Reading:   0%|          | 0/1 [00:00<?, ? batch/s]"
      ]
     },
     "metadata": {},
     "output_type": "display_data"
    },
    {
     "data": {
      "application/vnd.jupyter.widget-view+json": {
       "model_id": "43d7d4d2090b4b58a0ebb0305727ec23",
       "version_major": 2,
       "version_minor": 0
      },
      "text/plain": [
       "Reading:   0%|          | 0/1 [00:00<?, ? batch/s]"
      ]
     },
     "metadata": {},
     "output_type": "display_data"
    },
    {
     "name": "stdout",
     "output_type": "stream",
     "text": [
      "\u001b[1;32mFile written: ../ROOT_FILES/treesWithNN/sr/tree_2018_UL_sr/tree_WpWp_WpWpJJQCD.root\u001b[0m (29266 -> 10278, 35.12%)\n",
      "\n",
      "\n",
      "Processing file: tree_WWW_Inclusive.root\n"
     ]
    },
    {
     "data": {
      "application/vnd.jupyter.widget-view+json": {
       "model_id": "6dd679b2e8b34a5faadaedcbbb2a205a",
       "version_major": 2,
       "version_minor": 0
      },
      "text/plain": [
       "Reading:   0%|          | 0/1 [00:00<?, ? batch/s]"
      ]
     },
     "metadata": {},
     "output_type": "display_data"
    },
    {
     "data": {
      "application/vnd.jupyter.widget-view+json": {
       "model_id": "d91d66d652b0414ca0b51607bdcf3645",
       "version_major": 2,
       "version_minor": 0
      },
      "text/plain": [
       "Reading:   0%|          | 0/1 [00:00<?, ? batch/s]"
      ]
     },
     "metadata": {},
     "output_type": "display_data"
    },
    {
     "name": "stdout",
     "output_type": "stream",
     "text": [
      "\u001b[1;32mFile written: ../ROOT_FILES/treesWithNN/sr/tree_2018_UL_sr/tree_WWW_Inclusive.root\u001b[0m (4232 -> 1640, 38.75%)\n",
      "\n",
      "\n",
      "Processing file: tree_WWZ_Inclusive.root\n"
     ]
    },
    {
     "data": {
      "application/vnd.jupyter.widget-view+json": {
       "model_id": "8ce7350109d94132a22706c57144a928",
       "version_major": 2,
       "version_minor": 0
      },
      "text/plain": [
       "Reading:   0%|          | 0/1 [00:00<?, ? batch/s]"
      ]
     },
     "metadata": {},
     "output_type": "display_data"
    },
    {
     "data": {
      "application/vnd.jupyter.widget-view+json": {
       "model_id": "beaba1fa51d14665b0bbe330311a3fd8",
       "version_major": 2,
       "version_minor": 0
      },
      "text/plain": [
       "Reading:   0%|          | 0/1 [00:00<?, ? batch/s]"
      ]
     },
     "metadata": {},
     "output_type": "display_data"
    },
    {
     "name": "stdout",
     "output_type": "stream",
     "text": [
      "\u001b[1;32mFile written: ../ROOT_FILES/treesWithNN/sr/tree_2018_UL_sr/tree_WWZ_Inclusive.root\u001b[0m (1134 -> 415, 36.60%)\n",
      "\n",
      "\n",
      "Processing file: tree_WWZ_WWZJetsTo4L2Nu.root\n"
     ]
    },
    {
     "data": {
      "application/vnd.jupyter.widget-view+json": {
       "model_id": "f94303f5b13944c994ed3a8694e05e3e",
       "version_major": 2,
       "version_minor": 0
      },
      "text/plain": [
       "Reading:   0%|          | 0/3 [00:00<?, ? batch/s]"
      ]
     },
     "metadata": {},
     "output_type": "display_data"
    },
    {
     "data": {
      "application/vnd.jupyter.widget-view+json": {
       "model_id": "2cbecfe4c05a42ed9fa964644ffbf73e",
       "version_major": 2,
       "version_minor": 0
      },
      "text/plain": [
       "Reading:   0%|          | 0/1 [00:00<?, ? batch/s]"
      ]
     },
     "metadata": {},
     "output_type": "display_data"
    },
    {
     "name": "stdout",
     "output_type": "stream",
     "text": [
      "\u001b[1;32mFile written: ../ROOT_FILES/treesWithNN/sr/tree_2018_UL_sr/tree_WWZ_WWZJetsTo4L2Nu.root\u001b[0m (289466 -> 94013, 32.48%)\n",
      "\n",
      "\n",
      "Processing file: tree_WW_WWTo1L1Nu2Q.root\n"
     ]
    },
    {
     "data": {
      "application/vnd.jupyter.widget-view+json": {
       "model_id": "d4bbf213b22b490ba91d2b04b04fb8df",
       "version_major": 2,
       "version_minor": 0
      },
      "text/plain": [
       "Reading:   0%|          | 0/1 [00:00<?, ? batch/s]"
      ]
     },
     "metadata": {},
     "output_type": "display_data"
    },
    {
     "data": {
      "application/vnd.jupyter.widget-view+json": {
       "model_id": "e8dcb75ec27e4a62857b4d3d04b2ef27",
       "version_major": 2,
       "version_minor": 0
      },
      "text/plain": [
       "Reading:   0%|          | 0/1 [00:00<?, ? batch/s]"
      ]
     },
     "metadata": {},
     "output_type": "display_data"
    },
    {
     "name": "stdout",
     "output_type": "stream",
     "text": [
      "\u001b[1;32mFile written: ../ROOT_FILES/treesWithNN/sr/tree_2018_UL_sr/tree_WW_WWTo1L1Nu2Q.root\u001b[0m (4818 -> 800, 16.60%)\n",
      "\n",
      "\n",
      "Processing file: tree_WW_WWTo2L2Nu.root\n"
     ]
    },
    {
     "data": {
      "application/vnd.jupyter.widget-view+json": {
       "model_id": "fc3d54ab442244c9b63998d18646d586",
       "version_major": 2,
       "version_minor": 0
      },
      "text/plain": [
       "Reading:   0%|          | 0/1 [00:00<?, ? batch/s]"
      ]
     },
     "metadata": {},
     "output_type": "display_data"
    },
    {
     "data": {
      "application/vnd.jupyter.widget-view+json": {
       "model_id": "337df179e27a4696a2b629d0a5269747",
       "version_major": 2,
       "version_minor": 0
      },
      "text/plain": [
       "Reading:   0%|          | 0/1 [00:00<?, ? batch/s]"
      ]
     },
     "metadata": {},
     "output_type": "display_data"
    },
    {
     "name": "stdout",
     "output_type": "stream",
     "text": [
      "\u001b[1;32mFile written: ../ROOT_FILES/treesWithNN/sr/tree_2018_UL_sr/tree_WW_WWTo2L2Nu.root\u001b[0m (8042 -> 1079, 13.42%)\n",
      "\n",
      "\n",
      "Processing file: tree_WW_WWTo4Q.root\n"
     ]
    },
    {
     "data": {
      "application/vnd.jupyter.widget-view+json": {
       "model_id": "02b991778fd24ff3b89ac7c377cfe868",
       "version_major": 2,
       "version_minor": 0
      },
      "text/plain": [
       "Reading:   0%|          | 0/1 [00:00<?, ? batch/s]"
      ]
     },
     "metadata": {},
     "output_type": "display_data"
    },
    {
     "name": "stdout",
     "output_type": "stream",
     "text": [
      "Warning: Attempting to write empty DataFrame to ../ROOT_FILES/treesWithNN/sr/tree_2018_UL_sr/tree_WW_WWTo4Q.root. Skipping.\n",
      "\u001b[1;32mFile written: ../ROOT_FILES/treesWithNN/sr/tree_2018_UL_sr/tree_WW_WWTo4Q.root\u001b[0m (11 -> 0, 0.00%)\n",
      "\n",
      "\n",
      "Processing file: tree_WZZ_Inclusive.root\n"
     ]
    },
    {
     "data": {
      "application/vnd.jupyter.widget-view+json": {
       "model_id": "2b2ac0d7684449b787dd046bb592e377",
       "version_major": 2,
       "version_minor": 0
      },
      "text/plain": [
       "Reading:   0%|          | 0/1 [00:00<?, ? batch/s]"
      ]
     },
     "metadata": {},
     "output_type": "display_data"
    },
    {
     "data": {
      "application/vnd.jupyter.widget-view+json": {
       "model_id": "8d000b2560b847fcb47e3e4a5001b821",
       "version_major": 2,
       "version_minor": 0
      },
      "text/plain": [
       "Reading:   0%|          | 0/1 [00:00<?, ? batch/s]"
      ]
     },
     "metadata": {},
     "output_type": "display_data"
    },
    {
     "name": "stdout",
     "output_type": "stream",
     "text": [
      "\u001b[1;32mFile written: ../ROOT_FILES/treesWithNN/sr/tree_2018_UL_sr/tree_WZZ_Inclusive.root\u001b[0m (1667 -> 537, 32.21%)\n",
      "\n",
      "\n",
      "Processing file: tree_WZ_WZTo1L1Nu2Q.root\n"
     ]
    },
    {
     "data": {
      "application/vnd.jupyter.widget-view+json": {
       "model_id": "9c8bcff74a3d41bc876c666d857bf175",
       "version_major": 2,
       "version_minor": 0
      },
      "text/plain": [
       "Reading:   0%|          | 0/1 [00:00<?, ? batch/s]"
      ]
     },
     "metadata": {},
     "output_type": "display_data"
    },
    {
     "data": {
      "application/vnd.jupyter.widget-view+json": {
       "model_id": "65ee90aa534d49bdbb99f944df6d1571",
       "version_major": 2,
       "version_minor": 0
      },
      "text/plain": [
       "Reading:   0%|          | 0/1 [00:00<?, ? batch/s]"
      ]
     },
     "metadata": {},
     "output_type": "display_data"
    },
    {
     "name": "stdout",
     "output_type": "stream",
     "text": [
      "\u001b[1;32mFile written: ../ROOT_FILES/treesWithNN/sr/tree_2018_UL_sr/tree_WZ_WZTo1L1Nu2Q.root\u001b[0m (1377 -> 211, 15.32%)\n",
      "\n",
      "\n",
      "Processing file: tree_WZ_WZTo2L2Q.root\n"
     ]
    },
    {
     "data": {
      "application/vnd.jupyter.widget-view+json": {
       "model_id": "228c70185b3d4edf8ab23408dd7ef6ca",
       "version_major": 2,
       "version_minor": 0
      },
      "text/plain": [
       "Reading:   0%|          | 0/1 [00:00<?, ? batch/s]"
      ]
     },
     "metadata": {},
     "output_type": "display_data"
    },
    {
     "data": {
      "application/vnd.jupyter.widget-view+json": {
       "model_id": "9c51525f92164571b69b9db5fb046646",
       "version_major": 2,
       "version_minor": 0
      },
      "text/plain": [
       "Reading:   0%|          | 0/1 [00:00<?, ? batch/s]"
      ]
     },
     "metadata": {},
     "output_type": "display_data"
    },
    {
     "name": "stdout",
     "output_type": "stream",
     "text": [
      "\u001b[1;32mFile written: ../ROOT_FILES/treesWithNN/sr/tree_2018_UL_sr/tree_WZ_WZTo2L2Q.root\u001b[0m (19454 -> 819, 4.21%)\n",
      "\n",
      "\n",
      "Processing file: tree_WZ_WZTo3LNu.root\n"
     ]
    },
    {
     "data": {
      "application/vnd.jupyter.widget-view+json": {
       "model_id": "fef335165efc436ab0c541e350136a1f",
       "version_major": 2,
       "version_minor": 0
      },
      "text/plain": [
       "Reading:   0%|          | 0/4 [00:00<?, ? batch/s]"
      ]
     },
     "metadata": {},
     "output_type": "display_data"
    },
    {
     "data": {
      "application/vnd.jupyter.widget-view+json": {
       "model_id": "d23d80d495724f7eab55d2fc1d49ce30",
       "version_major": 2,
       "version_minor": 0
      },
      "text/plain": [
       "Reading:   0%|          | 0/1 [00:00<?, ? batch/s]"
      ]
     },
     "metadata": {},
     "output_type": "display_data"
    },
    {
     "name": "stdout",
     "output_type": "stream",
     "text": [
      "\u001b[1;32mFile written: ../ROOT_FILES/treesWithNN/sr/tree_2018_UL_sr/tree_WZ_WZTo3LNu.root\u001b[0m (338172 -> 60281, 17.83%)\n",
      "\n",
      "\n",
      "Processing file: tree_ZGamma_ZGToLLG_01J.root\n"
     ]
    },
    {
     "data": {
      "application/vnd.jupyter.widget-view+json": {
       "model_id": "c7e557e61b14447db33df89f131be501",
       "version_major": 2,
       "version_minor": 0
      },
      "text/plain": [
       "Reading:   0%|          | 0/1 [00:00<?, ? batch/s]"
      ]
     },
     "metadata": {},
     "output_type": "display_data"
    },
    {
     "data": {
      "application/vnd.jupyter.widget-view+json": {
       "model_id": "328d728aced542a1a9e123dc8adefca8",
       "version_major": 2,
       "version_minor": 0
      },
      "text/plain": [
       "Reading:   0%|          | 0/1 [00:00<?, ? batch/s]"
      ]
     },
     "metadata": {},
     "output_type": "display_data"
    },
    {
     "name": "stdout",
     "output_type": "stream",
     "text": [
      "\u001b[1;32mFile written: ../ROOT_FILES/treesWithNN/sr/tree_2018_UL_sr/tree_ZGamma_ZGToLLG_01J.root\u001b[0m (45635 -> 1599, 3.50%)\n",
      "\n",
      "\n",
      "Processing file: tree_ZZZ_Inclusive.root\n"
     ]
    },
    {
     "data": {
      "application/vnd.jupyter.widget-view+json": {
       "model_id": "47a2112ef4f044158abeb155ffe3b608",
       "version_major": 2,
       "version_minor": 0
      },
      "text/plain": [
       "Reading:   0%|          | 0/1 [00:00<?, ? batch/s]"
      ]
     },
     "metadata": {},
     "output_type": "display_data"
    },
    {
     "data": {
      "application/vnd.jupyter.widget-view+json": {
       "model_id": "cededbf4a8d6441cb994e143dc43d67b",
       "version_major": 2,
       "version_minor": 0
      },
      "text/plain": [
       "Reading:   0%|          | 0/1 [00:00<?, ? batch/s]"
      ]
     },
     "metadata": {},
     "output_type": "display_data"
    },
    {
     "name": "stdout",
     "output_type": "stream",
     "text": [
      "\u001b[1;32mFile written: ../ROOT_FILES/treesWithNN/sr/tree_2018_UL_sr/tree_ZZZ_Inclusive.root\u001b[0m (448 -> 105, 23.44%)\n",
      "\n",
      "\n",
      "Processing file: tree_ZZ_ZZTo2L2Nu.root\n"
     ]
    },
    {
     "data": {
      "application/vnd.jupyter.widget-view+json": {
       "model_id": "e78ea4333a1a401fb6b58c9071aa818d",
       "version_major": 2,
       "version_minor": 0
      },
      "text/plain": [
       "Reading:   0%|          | 0/1 [00:00<?, ? batch/s]"
      ]
     },
     "metadata": {},
     "output_type": "display_data"
    },
    {
     "data": {
      "application/vnd.jupyter.widget-view+json": {
       "model_id": "be78a3764768429d949ff4b17cc72739",
       "version_major": 2,
       "version_minor": 0
      },
      "text/plain": [
       "Reading:   0%|          | 0/1 [00:00<?, ? batch/s]"
      ]
     },
     "metadata": {},
     "output_type": "display_data"
    },
    {
     "name": "stdout",
     "output_type": "stream",
     "text": [
      "\u001b[1;32mFile written: ../ROOT_FILES/treesWithNN/sr/tree_2018_UL_sr/tree_ZZ_ZZTo2L2Nu.root\u001b[0m (34976 -> 866, 2.48%)\n",
      "\n",
      "\n",
      "Processing file: tree_ZZ_ZZTo2Q2L.root\n"
     ]
    },
    {
     "data": {
      "application/vnd.jupyter.widget-view+json": {
       "model_id": "d55d5186efb4436b8d767c9db938fc79",
       "version_major": 2,
       "version_minor": 0
      },
      "text/plain": [
       "Reading:   0%|          | 0/1 [00:00<?, ? batch/s]"
      ]
     },
     "metadata": {},
     "output_type": "display_data"
    },
    {
     "data": {
      "application/vnd.jupyter.widget-view+json": {
       "model_id": "a9b49d5398164a58b5f9713cdb111e49",
       "version_major": 2,
       "version_minor": 0
      },
      "text/plain": [
       "Reading:   0%|          | 0/1 [00:00<?, ? batch/s]"
      ]
     },
     "metadata": {},
     "output_type": "display_data"
    },
    {
     "name": "stdout",
     "output_type": "stream",
     "text": [
      "\u001b[1;32mFile written: ../ROOT_FILES/treesWithNN/sr/tree_2018_UL_sr/tree_ZZ_ZZTo2Q2L.root\u001b[0m (26323 -> 869, 3.30%)\n",
      "\n",
      "\n",
      "Processing file: tree_ZZ_ZZTo2Q2Nu.root\n"
     ]
    },
    {
     "data": {
      "application/vnd.jupyter.widget-view+json": {
       "model_id": "8d1458399344427b9dc7b84f53f4c3f7",
       "version_major": 2,
       "version_minor": 0
      },
      "text/plain": [
       "Reading:   0%|          | 0/1 [00:00<?, ? batch/s]"
      ]
     },
     "metadata": {},
     "output_type": "display_data"
    },
    {
     "data": {
      "application/vnd.jupyter.widget-view+json": {
       "model_id": "a892bcc9823c4f308d5b03842316dc2d",
       "version_major": 2,
       "version_minor": 0
      },
      "text/plain": [
       "Reading:   0%|          | 0/1 [00:00<?, ? batch/s]"
      ]
     },
     "metadata": {},
     "output_type": "display_data"
    },
    {
     "name": "stdout",
     "output_type": "stream",
     "text": [
      "\u001b[1;32mFile written: ../ROOT_FILES/treesWithNN/sr/tree_2018_UL_sr/tree_ZZ_ZZTo2Q2Nu.root\u001b[0m (28 -> 1, 3.57%)\n",
      "\n",
      "\n",
      "Processing file: tree_ZZ_ZZTo4L.root\n"
     ]
    },
    {
     "data": {
      "application/vnd.jupyter.widget-view+json": {
       "model_id": "4ba6be64595445dc8a403e5519ba7959",
       "version_major": 2,
       "version_minor": 0
      },
      "text/plain": [
       "Reading:   0%|          | 0/15 [00:00<?, ? batch/s]"
      ]
     },
     "metadata": {},
     "output_type": "display_data"
    },
    {
     "data": {
      "application/vnd.jupyter.widget-view+json": {
       "model_id": "8dad9202afe6479d98a7663f589577b8",
       "version_major": 2,
       "version_minor": 0
      },
      "text/plain": [
       "Reading:   0%|          | 0/1 [00:00<?, ? batch/s]"
      ]
     },
     "metadata": {},
     "output_type": "display_data"
    },
    {
     "name": "stdout",
     "output_type": "stream",
     "text": [
      "\u001b[1;32mFile written: ../ROOT_FILES/treesWithNN/sr/tree_2018_UL_sr/tree_ZZ_ZZTo4L.root\u001b[0m (1471725 -> 75740, 5.15%)\n",
      "\n",
      "\n",
      "\u001b[1;33mSummary:\u001b[0m\n",
      "\n",
      "\u001b[33mEmpty input: []\u001b[0m\n",
      "\n",
      "\u001b[31mEmpty output: ['QCD_EMEnriched_170to300.root', 'QCD_EMEnriched_300toInf.root', 'QCD_EMEnriched_50to80.root', 'QCD_EMEnriched_80to120.root', 'QCD_MuEnriched_20to30.root', 'QCD_MuEnriched_30to50.root', 'QCD_MuEnriched_50to80.root', 'WW_WWTo4Q.root']\u001b[0m\n",
      "\n",
      "CPU times: user 26.5 s, sys: 2.76 s, total: 29.2 s\n",
      "Wall time: 48.6 s\n"
     ]
    }
   ],
   "source": [
    "%%time\n",
    "\n",
    "list_of_files = os.listdir(indir)\n",
    "list_empty_input = []\n",
    "list_empty_output = []\n",
    "\n",
    "for f in list_of_files:\n",
    "\n",
    "    #if not 'QCD' in f: continue\n",
    "    if not f.endswith('.root'): continue\n",
    "    #if 'SingleMuon' not in f: continue\n",
    "\n",
    "    #Step1: Prepare the dataframe\n",
    "    print(f'\\nProcessing file: {f}')\n",
    "    filepath = os.path.join(indir, f)\n",
    "    sample = f.split(\"_\")[1]\n",
    "    subsample = \"_\".join(f.split(\"_\")[2:])\n",
    "       \n",
    "    outfile = os.path.join(outdir, f)\n",
    "    #if os.path.exists(outfile): continue\n",
    "    #if 'WJets' not in f: continue\n",
    "\n",
    "    df = read_file_into_df(filepath)\n",
    "    if df.empty : \n",
    "        #print(f\"\\033[0;31mWarning: Empty input file: {filepath}\\033[0m\\n\")\n",
    "        list_empty_input.append(filepath)\n",
    "        continue\n",
    "\n",
    "    ####################################\n",
    "    #         EVENT SELECTION          #\n",
    "    ####################################\n",
    "\n",
    "    #Step1: Controlling QCD:\n",
    "    dy_veto = 'not (channel == 3 and 76 < dilep_mass < 106)'\n",
    "    qcd_cr = f'{dy_veto} and {nnscore}<0.30 and 0.02<lep0_iso<0.15 and lep0_sip3d>5'\n",
    "    qcd_vr = f'{dy_veto} and {nnscore}<0.30 and 0.02<lep0_iso<0.15 and lep0_sip3d<5'\n",
    "\n",
    "    #Step2: Controlling Drell-Yan:\n",
    "    dycr  = f'76<dilep_mass<106  and dilep_ptratio > 0.7'\n",
    "\n",
    "    #Step3: Filter bad events:\n",
    "    tight_sip3d =  'lep0_sip3d<5 and lep1_sip3d<10'\n",
    "    good_events = f'{tight_sip3d} and {dy_veto} and {nnscore}>0.30 and HT>50' \n",
    "    \n",
    "    #Step4: Controlling TTbar:\n",
    "    top_cr = f'{good_events} and {nnscore}>0.70 and nbjet>0'    \n",
    "\n",
    "    #Step5: Validation:\n",
    "    val_region = f'{good_events} and 0.50<{nnscore}<0.70'\n",
    "\n",
    "    #Step6: Signal regions:\n",
    "    sr = f'{good_events} and {nnscore}>0.70 and nbjet==0'\n",
    "    \n",
    "    #------------------------------\n",
    "    # Final event selection:\n",
    "    event_selection = sr\n",
    "    #------------------------------\n",
    "\n",
    "    # Use df.query with the combined condition\n",
    "    df_filtered = df.query(event_selection)\n",
    "    \n",
    "    if df_filtered.empty: list_empty_output.append(f'{sample}_{subsample}')\n",
    "\n",
    "    nbefore = len(df)\n",
    "    nafter = len(df_filtered)\n",
    "\n",
    "    frac = 0\n",
    "    if nbefore != 0: frac = nafter*100/nbefore\n",
    "\n",
    "    #display(df_filtered)\n",
    "\n",
    "    write_df_into_file(df_filtered, outfile)\n",
    "    print(f'\\033[1;32mFile written: {outfile}\\033[0m ({nbefore} -> {nafter}, {frac:.2f}%)\\n')\n",
    "    #break #file\n",
    "\n",
    "print(f'\\n\\033[1;33mSummary:\\033[0m')\n",
    "print(f'\\n\\033[33mEmpty input: {list_empty_input}\\033[0m')\n",
    "print(f'\\n\\033[31mEmpty output: {list_empty_output}\\033[0m\\n')"
   ]
  },
  {
   "cell_type": "code",
   "execution_count": 5,
   "id": "f3244341-4a93-436b-90f4-34df59bfc803",
   "metadata": {},
   "outputs": [
    {
     "name": "stdout",
     "output_type": "stream",
     "text": [
      "\u001b[93m\n",
      "Runnning .. \n",
      "root -q -b -l 'extractHistsFromTrees.C(\"sr/tree_2018_UL_sr\", \"sr/hist_2018_UL_sr_mm\", \"2018_UL\", \"mm\")'\u001b[0m\n",
      "\n",
      "Run it yourself:\n",
      "\u001b[93m\n",
      "Runnning .. \n",
      "root -q -b -l 'extractHistsFromTrees.C(\"sr/tree_2018_UL_sr\", \"sr/hist_2018_UL_sr_me\", \"2018_UL\", \"me\")'\u001b[0m\n",
      "\n",
      "Run it yourself:\n",
      "\u001b[93m\n",
      "Runnning .. \n",
      "root -q -b -l 'extractHistsFromTrees.C(\"sr/tree_2018_UL_sr\", \"sr/hist_2018_UL_sr_em\", \"2018_UL\", \"em\")'\u001b[0m\n",
      "\n",
      "Run it yourself:\n",
      "\u001b[93m\n",
      "Runnning .. \n",
      "root -q -b -l 'extractHistsFromTrees.C(\"sr/tree_2018_UL_sr\", \"sr/hist_2018_UL_sr_ee\", \"2018_UL\", \"ee\")'\u001b[0m\n",
      "\n",
      "Run it yourself:\n",
      "Done!\n",
      "CPU times: user 190 μs, sys: 0 ns, total: 190 μs\n",
      "Wall time: 178 μs\n"
     ]
    }
   ],
   "source": [
    "%%time\n",
    "\n",
    "run_here = False\n",
    "\n",
    "channels = ['mm', 'me', 'em', 'ee']\n",
    "for channel_ in channels:\n",
    "    jobname_ = outjob\n",
    "    campaign_ = campaign\n",
    "    dump_ = outjob.replace('tree', 'hist')+'_'+channel_\n",
    "    arguments = f'extractHistsFromTrees.C(\"{jobname_}\", \"{dump_}\", \"{campaign_}\", \"{channel_}\")'\n",
    "    command = f\"root -q -b -l '{arguments}'\"\n",
    "    print(f'\\033[93m\\nRunnning .. \\n{command}\\033[0m\\n')\n",
    "\n",
    "    if run_here: os.system(command)\n",
    "    else: print('Run it yourself:')\n",
    "    \n",
    "print('Done!')"
   ]
  },
  {
   "cell_type": "code",
   "execution_count": null,
   "id": "ef11b42b-6023-4523-a035-375e3096932b",
   "metadata": {},
   "outputs": [],
   "source": []
  }
 ],
 "metadata": {
  "kernelspec": {
   "display_name": "Python 3 (ipykernel)",
   "language": "python",
   "name": "python3"
  },
  "language_info": {
   "codemirror_mode": {
    "name": "ipython",
    "version": 3
   },
   "file_extension": ".py",
   "mimetype": "text/x-python",
   "name": "python",
   "nbconvert_exporter": "python",
   "pygments_lexer": "ipython3",
   "version": "3.10.9"
  }
 },
 "nbformat": 4,
 "nbformat_minor": 5
}
