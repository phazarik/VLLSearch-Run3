{
 "cells": [
  {
   "cell_type": "markdown",
   "id": "d15ad995-be53-4c97-b003-1e665304c060",
   "metadata": {},
   "source": [
    "# Python based analysis\n",
    "\n",
    "This script takes trees as inputs and writes another sets of trees as outputs.<br>\n",
    "The trees are filtered in between."
   ]
  },
  {
   "cell_type": "code",
   "execution_count": 1,
   "id": "46952fad-b0df-46cd-9ea3-a82c5d4b2960",
   "metadata": {},
   "outputs": [],
   "source": [
    "import os, sys\n",
    "import numpy as np\n",
    "import uproot\n",
    "import pandas as pd\n",
    "from tqdm.notebook import tqdm"
   ]
  },
  {
   "cell_type": "code",
   "execution_count": 2,
   "id": "840c6f43-9c6f-40a4-9729-05a6fd6cc5ab",
   "metadata": {},
   "outputs": [],
   "source": [
    "#Global parameters\n",
    "\n",
    "basedir = '../ROOT_FILES/treesWithNN/'\n",
    "injob  = 'baseline/tree_2016preVFP_UL_baseline'\n",
    "outjob = 'qcdcr/tree_2016preVFP_UL_topcr'\n",
    "campaign = '2016preVFP_UL'\n",
    "nnscore = 'nnscore_qcd_vlld_2016preVFP'\n",
    "\n",
    "indir = os.path.join(basedir, injob)\n",
    "outdir = os.path.join(basedir, outjob)\n",
    "os.makedirs(outdir, exist_ok=True) "
   ]
  },
  {
   "cell_type": "code",
   "execution_count": 3,
   "id": "2a6bbb61-0ef6-4dd7-ac26-2ab02b3e579a",
   "metadata": {},
   "outputs": [
    {
     "name": "stdout",
     "output_type": "stream",
     "text": [
      "Functions loaded.\n"
     ]
    }
   ],
   "source": [
    "import uproot\n",
    "import pandas as pd\n",
    "from tqdm.notebook import tqdm\n",
    "\n",
    "def read_file_into_df(filepath, step_size=100000):\n",
    "    with uproot.open(filepath) as tfile:\n",
    "        if \"myEvents\" not in tfile:\n",
    "            print(f\"Warning: 'myEvents' tree not found in {filepath}. Skipping.\")\n",
    "            return pd.DataFrame()\n",
    "\n",
    "        ttree = tfile[\"myEvents\"]\n",
    "        total_entries = ttree.num_entries\n",
    "\n",
    "        if total_entries == 0:\n",
    "            print(f\"Warning: 'myEvents' tree in {filepath} is empty. Skipping.\")\n",
    "            return pd.DataFrame()\n",
    "\n",
    "        total_batches = (total_entries + step_size - 1) // step_size\n",
    "        dfs = []\n",
    "\n",
    "        with tqdm(total=total_batches, unit=\" batch\", desc=\"Reading\", colour='green', dynamic_ncols=False, mininterval=0.5) as pbar:\n",
    "            for batch in ttree.iterate(ttree.keys(), step_size=step_size, library=\"pd\"):\n",
    "                dfs.append(batch)\n",
    "                pbar.update(1)\n",
    "\n",
    "    return pd.concat(dfs, ignore_index=True) if dfs else pd.DataFrame()\n",
    "\n",
    "def write_df_into_file(df, filepath, step_size=100000):\n",
    "    if df.empty:\n",
    "        print(f\"Warning: Attempting to write empty DataFrame to {filepath}. Skipping.\")\n",
    "        return\n",
    "\n",
    "    total_entries = len(df)\n",
    "    total_batches = (total_entries + step_size - 1) // step_size\n",
    "\n",
    "    with tqdm(total=total_batches, unit=\" batch\", desc=\"Reading\", colour='green', dynamic_ncols=False, mininterval=0.5) as pbar:\n",
    "        with uproot.recreate(filepath) as file:\n",
    "            for start in range(0, total_entries, step_size):\n",
    "                chunk = df.iloc[start:start + step_size]\n",
    "                if start == 0: file[\"myEvents\"] = {col: chunk[col].to_numpy() for col in df.columns}\n",
    "                else:          file[\"myEvents\"].extend({col: chunk[col].to_numpy() for col in df.columns})\n",
    "                pbar.update(1)\n",
    "\n",
    "print('Functions loaded.')"
   ]
  },
  {
   "cell_type": "code",
   "execution_count": 4,
   "id": "75a2660c-8c77-497c-a061-6470e5c19c8b",
   "metadata": {},
   "outputs": [
    {
     "name": "stdout",
     "output_type": "stream",
     "text": [
      "\n",
      "Processing file: tree_DYJetsToLL_M10to50.root\n"
     ]
    },
    {
     "data": {
      "application/vnd.jupyter.widget-view+json": {
       "model_id": "6f2357915de6444e9f90cdc73b3effaa",
       "version_major": 2,
       "version_minor": 0
      },
      "text/plain": [
       "Reading:   0%|          | 0/1 [00:00<?, ? batch/s]"
      ]
     },
     "metadata": {},
     "output_type": "display_data"
    },
    {
     "data": {
      "application/vnd.jupyter.widget-view+json": {
       "model_id": "4608c2205ed64abc9eaf3465fec85e16",
       "version_major": 2,
       "version_minor": 0
      },
      "text/plain": [
       "Reading:   0%|          | 0/1 [00:00<?, ? batch/s]"
      ]
     },
     "metadata": {},
     "output_type": "display_data"
    },
    {
     "name": "stdout",
     "output_type": "stream",
     "text": [
      "\u001b[1;32mFile written: ../ROOT_FILES/treesWithNN/qcdcr/tree_2017_UL_qcdcr/tree_DYJetsToLL_M10to50.root\u001b[0m (172 -> 3, 1.74%)\n",
      "\n",
      "\n",
      "Processing file: tree_DYJetsToLL_M50.root\n"
     ]
    },
    {
     "data": {
      "application/vnd.jupyter.widget-view+json": {
       "model_id": "9e978b485b3e47759c4a40faa2c77d18",
       "version_major": 2,
       "version_minor": 0
      },
      "text/plain": [
       "Reading:   0%|          | 0/2 [00:00<?, ? batch/s]"
      ]
     },
     "metadata": {},
     "output_type": "display_data"
    },
    {
     "data": {
      "application/vnd.jupyter.widget-view+json": {
       "model_id": "7b2b579ca4ce435ea3545e8c08e2e253",
       "version_major": 2,
       "version_minor": 0
      },
      "text/plain": [
       "Reading:   0%|          | 0/1 [00:00<?, ? batch/s]"
      ]
     },
     "metadata": {},
     "output_type": "display_data"
    },
    {
     "name": "stdout",
     "output_type": "stream",
     "text": [
      "\u001b[1;32mFile written: ../ROOT_FILES/treesWithNN/qcdcr/tree_2017_UL_qcdcr/tree_DYJetsToLL_M50.root\u001b[0m (111549 -> 301, 0.27%)\n",
      "\n",
      "\n",
      "Processing file: tree_EGamma_EGamma_B.root\n"
     ]
    },
    {
     "data": {
      "application/vnd.jupyter.widget-view+json": {
       "model_id": "92ebef16e2f84d4083f0b468b7194802",
       "version_major": 2,
       "version_minor": 0
      },
      "text/plain": [
       "Reading:   0%|          | 0/1 [00:00<?, ? batch/s]"
      ]
     },
     "metadata": {},
     "output_type": "display_data"
    },
    {
     "data": {
      "application/vnd.jupyter.widget-view+json": {
       "model_id": "90962e6405e042e6b7428c12ef65084b",
       "version_major": 2,
       "version_minor": 0
      },
      "text/plain": [
       "Reading:   0%|          | 0/1 [00:00<?, ? batch/s]"
      ]
     },
     "metadata": {},
     "output_type": "display_data"
    },
    {
     "name": "stdout",
     "output_type": "stream",
     "text": [
      "\u001b[1;32mFile written: ../ROOT_FILES/treesWithNN/qcdcr/tree_2017_UL_qcdcr/tree_EGamma_EGamma_B.root\u001b[0m (18492 -> 87, 0.47%)\n",
      "\n",
      "\n",
      "Processing file: tree_EGamma_EGamma_C.root\n"
     ]
    },
    {
     "data": {
      "application/vnd.jupyter.widget-view+json": {
       "model_id": "78998c8bf45c4dee8df33783907bf184",
       "version_major": 2,
       "version_minor": 0
      },
      "text/plain": [
       "Reading:   0%|          | 0/1 [00:00<?, ? batch/s]"
      ]
     },
     "metadata": {},
     "output_type": "display_data"
    },
    {
     "data": {
      "application/vnd.jupyter.widget-view+json": {
       "model_id": "364fc44a1b5e4705a9e110e20b2105e7",
       "version_major": 2,
       "version_minor": 0
      },
      "text/plain": [
       "Reading:   0%|          | 0/1 [00:00<?, ? batch/s]"
      ]
     },
     "metadata": {},
     "output_type": "display_data"
    },
    {
     "name": "stdout",
     "output_type": "stream",
     "text": [
      "\u001b[1;32mFile written: ../ROOT_FILES/treesWithNN/qcdcr/tree_2017_UL_qcdcr/tree_EGamma_EGamma_C.root\u001b[0m (40421 -> 170, 0.42%)\n",
      "\n",
      "\n",
      "Processing file: tree_EGamma_EGamma_D.root\n"
     ]
    },
    {
     "data": {
      "application/vnd.jupyter.widget-view+json": {
       "model_id": "65e0bb993ffc42959277d103d8a9bf33",
       "version_major": 2,
       "version_minor": 0
      },
      "text/plain": [
       "Reading:   0%|          | 0/1 [00:00<?, ? batch/s]"
      ]
     },
     "metadata": {},
     "output_type": "display_data"
    },
    {
     "data": {
      "application/vnd.jupyter.widget-view+json": {
       "model_id": "3a230a85b8264ed0ad8ee6e07778a1d9",
       "version_major": 2,
       "version_minor": 0
      },
      "text/plain": [
       "Reading:   0%|          | 0/1 [00:00<?, ? batch/s]"
      ]
     },
     "metadata": {},
     "output_type": "display_data"
    },
    {
     "name": "stdout",
     "output_type": "stream",
     "text": [
      "\u001b[1;32mFile written: ../ROOT_FILES/treesWithNN/qcdcr/tree_2017_UL_qcdcr/tree_EGamma_EGamma_D.root\u001b[0m (16925 -> 62, 0.37%)\n",
      "\n",
      "\n",
      "Processing file: tree_EGamma_EGamma_E.root\n"
     ]
    },
    {
     "data": {
      "application/vnd.jupyter.widget-view+json": {
       "model_id": "c9f81fd567774436aabce4f3ccb7bfe0",
       "version_major": 2,
       "version_minor": 0
      },
      "text/plain": [
       "Reading:   0%|          | 0/1 [00:00<?, ? batch/s]"
      ]
     },
     "metadata": {},
     "output_type": "display_data"
    },
    {
     "data": {
      "application/vnd.jupyter.widget-view+json": {
       "model_id": "1c3103411ad14ba99a218e6a514c1ae5",
       "version_major": 2,
       "version_minor": 0
      },
      "text/plain": [
       "Reading:   0%|          | 0/1 [00:00<?, ? batch/s]"
      ]
     },
     "metadata": {},
     "output_type": "display_data"
    },
    {
     "name": "stdout",
     "output_type": "stream",
     "text": [
      "\u001b[1;32mFile written: ../ROOT_FILES/treesWithNN/qcdcr/tree_2017_UL_qcdcr/tree_EGamma_EGamma_E.root\u001b[0m (36588 -> 145, 0.40%)\n",
      "\n",
      "\n",
      "Processing file: tree_EGamma_EGamma_F.root\n"
     ]
    },
    {
     "data": {
      "application/vnd.jupyter.widget-view+json": {
       "model_id": "25c313b1c7594efb9085387fd6bde981",
       "version_major": 2,
       "version_minor": 0
      },
      "text/plain": [
       "Reading:   0%|          | 0/1 [00:00<?, ? batch/s]"
      ]
     },
     "metadata": {},
     "output_type": "display_data"
    },
    {
     "data": {
      "application/vnd.jupyter.widget-view+json": {
       "model_id": "f29da0fec16f4b65874d7151f4502fd8",
       "version_major": 2,
       "version_minor": 0
      },
      "text/plain": [
       "Reading:   0%|          | 0/1 [00:00<?, ? batch/s]"
      ]
     },
     "metadata": {},
     "output_type": "display_data"
    },
    {
     "name": "stdout",
     "output_type": "stream",
     "text": [
      "\u001b[1;32mFile written: ../ROOT_FILES/treesWithNN/qcdcr/tree_2017_UL_qcdcr/tree_EGamma_EGamma_F.root\u001b[0m (48237 -> 165, 0.34%)\n",
      "\n",
      "\n",
      "Processing file: tree_Higgs_bbH_HToZZTo4L.root\n"
     ]
    },
    {
     "data": {
      "application/vnd.jupyter.widget-view+json": {
       "model_id": "b72c3bf77b7a4fd0a7f9b0948cff02d6",
       "version_major": 2,
       "version_minor": 0
      },
      "text/plain": [
       "Reading:   0%|          | 0/1 [00:00<?, ? batch/s]"
      ]
     },
     "metadata": {},
     "output_type": "display_data"
    },
    {
     "data": {
      "application/vnd.jupyter.widget-view+json": {
       "model_id": "299b6ec3d1ec4a4c9b0060f42b4fe097",
       "version_major": 2,
       "version_minor": 0
      },
      "text/plain": [
       "Reading:   0%|          | 0/1 [00:00<?, ? batch/s]"
      ]
     },
     "metadata": {},
     "output_type": "display_data"
    },
    {
     "name": "stdout",
     "output_type": "stream",
     "text": [
      "\u001b[1;32mFile written: ../ROOT_FILES/treesWithNN/qcdcr/tree_2017_UL_qcdcr/tree_Higgs_bbH_HToZZTo4L.root\u001b[0m (15170 -> 47, 0.31%)\n",
      "\n",
      "\n",
      "Processing file: tree_Higgs_GluGluHToZZTo4L.root\n"
     ]
    },
    {
     "data": {
      "application/vnd.jupyter.widget-view+json": {
       "model_id": "af604a3f393044cbbcb58f4b044ae23d",
       "version_major": 2,
       "version_minor": 0
      },
      "text/plain": [
       "Reading:   0%|          | 0/1 [00:00<?, ? batch/s]"
      ]
     },
     "metadata": {},
     "output_type": "display_data"
    },
    {
     "data": {
      "application/vnd.jupyter.widget-view+json": {
       "model_id": "91771c830dfc4a2ea40c480d329ceda4",
       "version_major": 2,
       "version_minor": 0
      },
      "text/plain": [
       "Reading:   0%|          | 0/1 [00:00<?, ? batch/s]"
      ]
     },
     "metadata": {},
     "output_type": "display_data"
    },
    {
     "name": "stdout",
     "output_type": "stream",
     "text": [
      "\u001b[1;32mFile written: ../ROOT_FILES/treesWithNN/qcdcr/tree_2017_UL_qcdcr/tree_Higgs_GluGluHToZZTo4L.root\u001b[0m (29910 -> 101, 0.34%)\n",
      "\n",
      "\n",
      "Processing file: tree_Higgs_GluGluToZH_HToZZTo4L.root\n"
     ]
    },
    {
     "data": {
      "application/vnd.jupyter.widget-view+json": {
       "model_id": "4563b6ccdd6f408cba81fcda95482bf1",
       "version_major": 2,
       "version_minor": 0
      },
      "text/plain": [
       "Reading:   0%|          | 0/1 [00:00<?, ? batch/s]"
      ]
     },
     "metadata": {},
     "output_type": "display_data"
    },
    {
     "data": {
      "application/vnd.jupyter.widget-view+json": {
       "model_id": "296c32d1f73042b49789979f3c11aa4a",
       "version_major": 2,
       "version_minor": 0
      },
      "text/plain": [
       "Reading:   0%|          | 0/1 [00:00<?, ? batch/s]"
      ]
     },
     "metadata": {},
     "output_type": "display_data"
    },
    {
     "name": "stdout",
     "output_type": "stream",
     "text": [
      "\u001b[1;32mFile written: ../ROOT_FILES/treesWithNN/qcdcr/tree_2017_UL_qcdcr/tree_Higgs_GluGluToZH_HToZZTo4L.root\u001b[0m (43919 -> 211, 0.48%)\n",
      "\n",
      "\n",
      "Processing file: tree_Higgs_GluGluZH_HToWW_ZTo2L.root\n"
     ]
    },
    {
     "data": {
      "application/vnd.jupyter.widget-view+json": {
       "model_id": "5b344617c2344453892935624a1a537f",
       "version_major": 2,
       "version_minor": 0
      },
      "text/plain": [
       "Reading:   0%|          | 0/4 [00:00<?, ? batch/s]"
      ]
     },
     "metadata": {},
     "output_type": "display_data"
    },
    {
     "data": {
      "application/vnd.jupyter.widget-view+json": {
       "model_id": "1db843d6c9e44550b5251dbca0a5b9ba",
       "version_major": 2,
       "version_minor": 0
      },
      "text/plain": [
       "Reading:   0%|          | 0/1 [00:00<?, ? batch/s]"
      ]
     },
     "metadata": {},
     "output_type": "display_data"
    },
    {
     "name": "stdout",
     "output_type": "stream",
     "text": [
      "\u001b[1;32mFile written: ../ROOT_FILES/treesWithNN/qcdcr/tree_2017_UL_qcdcr/tree_Higgs_GluGluZH_HToWW_ZTo2L.root\u001b[0m (304946 -> 1043, 0.34%)\n",
      "\n",
      "\n",
      "Processing file: tree_Higgs_ttHToNonbb.root\n"
     ]
    },
    {
     "data": {
      "application/vnd.jupyter.widget-view+json": {
       "model_id": "02af6e57cb9941cba5e7f914c4e42c6d",
       "version_major": 2,
       "version_minor": 0
      },
      "text/plain": [
       "Reading:   0%|          | 0/1 [00:00<?, ? batch/s]"
      ]
     },
     "metadata": {},
     "output_type": "display_data"
    },
    {
     "data": {
      "application/vnd.jupyter.widget-view+json": {
       "model_id": "d6637a03b7f94cf3a5fbc157c9e4e6e3",
       "version_major": 2,
       "version_minor": 0
      },
      "text/plain": [
       "Reading:   0%|          | 0/1 [00:00<?, ? batch/s]"
      ]
     },
     "metadata": {},
     "output_type": "display_data"
    },
    {
     "name": "stdout",
     "output_type": "stream",
     "text": [
      "\u001b[1;32mFile written: ../ROOT_FILES/treesWithNN/qcdcr/tree_2017_UL_qcdcr/tree_Higgs_ttHToNonbb.root\u001b[0m (99372 -> 477, 0.48%)\n",
      "\n",
      "\n",
      "Processing file: tree_Higgs_VBF_HToZZTo4L.root\n"
     ]
    },
    {
     "data": {
      "application/vnd.jupyter.widget-view+json": {
       "model_id": "394ccef15c444083b55f5a4119fbb4d2",
       "version_major": 2,
       "version_minor": 0
      },
      "text/plain": [
       "Reading:   0%|          | 0/1 [00:00<?, ? batch/s]"
      ]
     },
     "metadata": {},
     "output_type": "display_data"
    },
    {
     "data": {
      "application/vnd.jupyter.widget-view+json": {
       "model_id": "6700bd3e5bb440fb835d1c415825bc08",
       "version_major": 2,
       "version_minor": 0
      },
      "text/plain": [
       "Reading:   0%|          | 0/1 [00:00<?, ? batch/s]"
      ]
     },
     "metadata": {},
     "output_type": "display_data"
    },
    {
     "name": "stdout",
     "output_type": "stream",
     "text": [
      "\u001b[1;32mFile written: ../ROOT_FILES/treesWithNN/qcdcr/tree_2017_UL_qcdcr/tree_Higgs_VBF_HToZZTo4L.root\u001b[0m (18956 -> 85, 0.45%)\n",
      "\n",
      "\n",
      "Processing file: tree_Higgs_VHToNonbb.root\n"
     ]
    },
    {
     "data": {
      "application/vnd.jupyter.widget-view+json": {
       "model_id": "ac36696474ce4f389fa8f75f2d9a50f9",
       "version_major": 2,
       "version_minor": 0
      },
      "text/plain": [
       "Reading:   0%|          | 0/1 [00:00<?, ? batch/s]"
      ]
     },
     "metadata": {},
     "output_type": "display_data"
    },
    {
     "data": {
      "application/vnd.jupyter.widget-view+json": {
       "model_id": "9c9c740388264855a611429a29c44915",
       "version_major": 2,
       "version_minor": 0
      },
      "text/plain": [
       "Reading:   0%|          | 0/1 [00:00<?, ? batch/s]"
      ]
     },
     "metadata": {},
     "output_type": "display_data"
    },
    {
     "name": "stdout",
     "output_type": "stream",
     "text": [
      "\u001b[1;32mFile written: ../ROOT_FILES/treesWithNN/qcdcr/tree_2017_UL_qcdcr/tree_Higgs_VHToNonbb.root\u001b[0m (7089 -> 9, 0.13%)\n",
      "\n",
      "\n",
      "Processing file: tree_HTbinnedWJets_100to200.root\n"
     ]
    },
    {
     "data": {
      "application/vnd.jupyter.widget-view+json": {
       "model_id": "b0750e3467414bb08e3880060d1c077c",
       "version_major": 2,
       "version_minor": 0
      },
      "text/plain": [
       "Reading:   0%|          | 0/1 [00:00<?, ? batch/s]"
      ]
     },
     "metadata": {},
     "output_type": "display_data"
    },
    {
     "data": {
      "application/vnd.jupyter.widget-view+json": {
       "model_id": "eda2c846d07e486393e77253f62aaf2a",
       "version_major": 2,
       "version_minor": 0
      },
      "text/plain": [
       "Reading:   0%|          | 0/1 [00:00<?, ? batch/s]"
      ]
     },
     "metadata": {},
     "output_type": "display_data"
    },
    {
     "name": "stdout",
     "output_type": "stream",
     "text": [
      "\u001b[1;32mFile written: ../ROOT_FILES/treesWithNN/qcdcr/tree_2017_UL_qcdcr/tree_HTbinnedWJets_100to200.root\u001b[0m (4643 -> 23, 0.50%)\n",
      "\n",
      "\n",
      "Processing file: tree_HTbinnedWJets_1200to2500.root\n"
     ]
    },
    {
     "data": {
      "application/vnd.jupyter.widget-view+json": {
       "model_id": "dbc9a46de34b4bb79d502d2bbe2906a3",
       "version_major": 2,
       "version_minor": 0
      },
      "text/plain": [
       "Reading:   0%|          | 0/1 [00:00<?, ? batch/s]"
      ]
     },
     "metadata": {},
     "output_type": "display_data"
    },
    {
     "data": {
      "application/vnd.jupyter.widget-view+json": {
       "model_id": "1e634a9124e542beb76d3a84bfa75272",
       "version_major": 2,
       "version_minor": 0
      },
      "text/plain": [
       "Reading:   0%|          | 0/1 [00:00<?, ? batch/s]"
      ]
     },
     "metadata": {},
     "output_type": "display_data"
    },
    {
     "name": "stdout",
     "output_type": "stream",
     "text": [
      "\u001b[1;32mFile written: ../ROOT_FILES/treesWithNN/qcdcr/tree_2017_UL_qcdcr/tree_HTbinnedWJets_1200to2500.root\u001b[0m (1347 -> 46, 3.41%)\n",
      "\n",
      "\n",
      "Processing file: tree_HTbinnedWJets_200to400.root\n"
     ]
    },
    {
     "data": {
      "application/vnd.jupyter.widget-view+json": {
       "model_id": "adcf1152851b4fc28e7ed9286cba9137",
       "version_major": 2,
       "version_minor": 0
      },
      "text/plain": [
       "Reading:   0%|          | 0/1 [00:00<?, ? batch/s]"
      ]
     },
     "metadata": {},
     "output_type": "display_data"
    },
    {
     "data": {
      "application/vnd.jupyter.widget-view+json": {
       "model_id": "6f22e10e938046eab3eafb5fc126cf42",
       "version_major": 2,
       "version_minor": 0
      },
      "text/plain": [
       "Reading:   0%|          | 0/1 [00:00<?, ? batch/s]"
      ]
     },
     "metadata": {},
     "output_type": "display_data"
    },
    {
     "name": "stdout",
     "output_type": "stream",
     "text": [
      "\u001b[1;32mFile written: ../ROOT_FILES/treesWithNN/qcdcr/tree_2017_UL_qcdcr/tree_HTbinnedWJets_200to400.root\u001b[0m (6422 -> 66, 1.03%)\n",
      "\n",
      "\n",
      "Processing file: tree_HTbinnedWJets_2500toInf.root\n"
     ]
    },
    {
     "data": {
      "application/vnd.jupyter.widget-view+json": {
       "model_id": "470edd659b494ba1aee904e332b8b8b8",
       "version_major": 2,
       "version_minor": 0
      },
      "text/plain": [
       "Reading:   0%|          | 0/1 [00:00<?, ? batch/s]"
      ]
     },
     "metadata": {},
     "output_type": "display_data"
    },
    {
     "data": {
      "application/vnd.jupyter.widget-view+json": {
       "model_id": "b42b94d5727d42439cb4a9b4aae109c7",
       "version_major": 2,
       "version_minor": 0
      },
      "text/plain": [
       "Reading:   0%|          | 0/1 [00:00<?, ? batch/s]"
      ]
     },
     "metadata": {},
     "output_type": "display_data"
    },
    {
     "name": "stdout",
     "output_type": "stream",
     "text": [
      "\u001b[1;32mFile written: ../ROOT_FILES/treesWithNN/qcdcr/tree_2017_UL_qcdcr/tree_HTbinnedWJets_2500toInf.root\u001b[0m (424 -> 15, 3.54%)\n",
      "\n",
      "\n",
      "Processing file: tree_HTbinnedWJets_400to600.root\n"
     ]
    },
    {
     "data": {
      "application/vnd.jupyter.widget-view+json": {
       "model_id": "70b505bf439044b3939265c7f991f98d",
       "version_major": 2,
       "version_minor": 0
      },
      "text/plain": [
       "Reading:   0%|          | 0/1 [00:00<?, ? batch/s]"
      ]
     },
     "metadata": {},
     "output_type": "display_data"
    },
    {
     "data": {
      "application/vnd.jupyter.widget-view+json": {
       "model_id": "a69c017d16814f5c844ec14ea703aca1",
       "version_major": 2,
       "version_minor": 0
      },
      "text/plain": [
       "Reading:   0%|          | 0/1 [00:00<?, ? batch/s]"
      ]
     },
     "metadata": {},
     "output_type": "display_data"
    },
    {
     "name": "stdout",
     "output_type": "stream",
     "text": [
      "\u001b[1;32mFile written: ../ROOT_FILES/treesWithNN/qcdcr/tree_2017_UL_qcdcr/tree_HTbinnedWJets_400to600.root\u001b[0m (1123 -> 11, 0.98%)\n",
      "\n",
      "\n",
      "Processing file: tree_HTbinnedWJets_600to800.root\n"
     ]
    },
    {
     "data": {
      "application/vnd.jupyter.widget-view+json": {
       "model_id": "3ebab4bc27724636bb33ac31d803aab9",
       "version_major": 2,
       "version_minor": 0
      },
      "text/plain": [
       "Reading:   0%|          | 0/1 [00:00<?, ? batch/s]"
      ]
     },
     "metadata": {},
     "output_type": "display_data"
    },
    {
     "data": {
      "application/vnd.jupyter.widget-view+json": {
       "model_id": "596bd65e19fa4d5a8e3c40ece8f6e95a",
       "version_major": 2,
       "version_minor": 0
      },
      "text/plain": [
       "Reading:   0%|          | 0/1 [00:00<?, ? batch/s]"
      ]
     },
     "metadata": {},
     "output_type": "display_data"
    },
    {
     "name": "stdout",
     "output_type": "stream",
     "text": [
      "\u001b[1;32mFile written: ../ROOT_FILES/treesWithNN/qcdcr/tree_2017_UL_qcdcr/tree_HTbinnedWJets_600to800.root\u001b[0m (1253 -> 31, 2.47%)\n",
      "\n",
      "\n",
      "Processing file: tree_HTbinnedWJets_70to100.root\n"
     ]
    },
    {
     "data": {
      "application/vnd.jupyter.widget-view+json": {
       "model_id": "d18c676df704431a961dcd42f3206e5b",
       "version_major": 2,
       "version_minor": 0
      },
      "text/plain": [
       "Reading:   0%|          | 0/1 [00:00<?, ? batch/s]"
      ]
     },
     "metadata": {},
     "output_type": "display_data"
    },
    {
     "data": {
      "application/vnd.jupyter.widget-view+json": {
       "model_id": "79a2f5ff4f874255b130643d9e185f8d",
       "version_major": 2,
       "version_minor": 0
      },
      "text/plain": [
       "Reading:   0%|          | 0/1 [00:00<?, ? batch/s]"
      ]
     },
     "metadata": {},
     "output_type": "display_data"
    },
    {
     "name": "stdout",
     "output_type": "stream",
     "text": [
      "\u001b[1;32mFile written: ../ROOT_FILES/treesWithNN/qcdcr/tree_2017_UL_qcdcr/tree_HTbinnedWJets_70to100.root\u001b[0m (2885 -> 13, 0.45%)\n",
      "\n",
      "\n",
      "Processing file: tree_HTbinnedWJets_800to1200.root\n"
     ]
    },
    {
     "data": {
      "application/vnd.jupyter.widget-view+json": {
       "model_id": "bb289a3313f24a3b915280b972baadb9",
       "version_major": 2,
       "version_minor": 0
      },
      "text/plain": [
       "Reading:   0%|          | 0/1 [00:00<?, ? batch/s]"
      ]
     },
     "metadata": {},
     "output_type": "display_data"
    },
    {
     "data": {
      "application/vnd.jupyter.widget-view+json": {
       "model_id": "7fcaef8d45a3489c88de543751942dc9",
       "version_major": 2,
       "version_minor": 0
      },
      "text/plain": [
       "Reading:   0%|          | 0/1 [00:00<?, ? batch/s]"
      ]
     },
     "metadata": {},
     "output_type": "display_data"
    },
    {
     "name": "stdout",
     "output_type": "stream",
     "text": [
      "\u001b[1;32mFile written: ../ROOT_FILES/treesWithNN/qcdcr/tree_2017_UL_qcdcr/tree_HTbinnedWJets_800to1200.root\u001b[0m (1301 -> 45, 3.46%)\n",
      "\n",
      "\n",
      "Processing file: tree_QCD_EMEnriched_120to170.root\n"
     ]
    },
    {
     "data": {
      "application/vnd.jupyter.widget-view+json": {
       "model_id": "e9362e6f3b0f436a99a67daacd71a964",
       "version_major": 2,
       "version_minor": 0
      },
      "text/plain": [
       "Reading:   0%|          | 0/1 [00:00<?, ? batch/s]"
      ]
     },
     "metadata": {},
     "output_type": "display_data"
    },
    {
     "name": "stdout",
     "output_type": "stream",
     "text": [
      "Warning: Attempting to write empty DataFrame to ../ROOT_FILES/treesWithNN/qcdcr/tree_2017_UL_qcdcr/tree_QCD_EMEnriched_120to170.root. Skipping.\n",
      "\u001b[1;32mFile written: ../ROOT_FILES/treesWithNN/qcdcr/tree_2017_UL_qcdcr/tree_QCD_EMEnriched_120to170.root\u001b[0m (4 -> 0, 0.00%)\n",
      "\n",
      "\n",
      "Processing file: tree_QCD_EMEnriched_170to300.root\n"
     ]
    },
    {
     "data": {
      "application/vnd.jupyter.widget-view+json": {
       "model_id": "0e84c0df327c429f9193b5837eb852c6",
       "version_major": 2,
       "version_minor": 0
      },
      "text/plain": [
       "Reading:   0%|          | 0/1 [00:00<?, ? batch/s]"
      ]
     },
     "metadata": {},
     "output_type": "display_data"
    },
    {
     "name": "stdout",
     "output_type": "stream",
     "text": [
      "Warning: Attempting to write empty DataFrame to ../ROOT_FILES/treesWithNN/qcdcr/tree_2017_UL_qcdcr/tree_QCD_EMEnriched_170to300.root. Skipping.\n",
      "\u001b[1;32mFile written: ../ROOT_FILES/treesWithNN/qcdcr/tree_2017_UL_qcdcr/tree_QCD_EMEnriched_170to300.root\u001b[0m (4 -> 0, 0.00%)\n",
      "\n",
      "\n",
      "Processing file: tree_QCD_EMEnriched_300toInf.root\n"
     ]
    },
    {
     "data": {
      "application/vnd.jupyter.widget-view+json": {
       "model_id": "c8616d47358846a99b014ae0d0972aa3",
       "version_major": 2,
       "version_minor": 0
      },
      "text/plain": [
       "Reading:   0%|          | 0/1 [00:00<?, ? batch/s]"
      ]
     },
     "metadata": {},
     "output_type": "display_data"
    },
    {
     "data": {
      "application/vnd.jupyter.widget-view+json": {
       "model_id": "ee3e042956dc41a688ae8205bac4eb58",
       "version_major": 2,
       "version_minor": 0
      },
      "text/plain": [
       "Reading:   0%|          | 0/1 [00:00<?, ? batch/s]"
      ]
     },
     "metadata": {},
     "output_type": "display_data"
    },
    {
     "name": "stdout",
     "output_type": "stream",
     "text": [
      "\u001b[1;32mFile written: ../ROOT_FILES/treesWithNN/qcdcr/tree_2017_UL_qcdcr/tree_QCD_EMEnriched_300toInf.root\u001b[0m (7 -> 1, 14.29%)\n",
      "\n",
      "\n",
      "Processing file: tree_QCD_EMEnriched_30to50.root\n"
     ]
    },
    {
     "data": {
      "application/vnd.jupyter.widget-view+json": {
       "model_id": "b1f1caa3d1e14ee988c0d9c860038925",
       "version_major": 2,
       "version_minor": 0
      },
      "text/plain": [
       "Reading:   0%|          | 0/1 [00:00<?, ? batch/s]"
      ]
     },
     "metadata": {},
     "output_type": "display_data"
    },
    {
     "name": "stdout",
     "output_type": "stream",
     "text": [
      "Warning: Attempting to write empty DataFrame to ../ROOT_FILES/treesWithNN/qcdcr/tree_2017_UL_qcdcr/tree_QCD_EMEnriched_30to50.root. Skipping.\n",
      "\u001b[1;32mFile written: ../ROOT_FILES/treesWithNN/qcdcr/tree_2017_UL_qcdcr/tree_QCD_EMEnriched_30to50.root\u001b[0m (2 -> 0, 0.00%)\n",
      "\n",
      "\n",
      "Processing file: tree_QCD_EMEnriched_50to80.root\n"
     ]
    },
    {
     "data": {
      "application/vnd.jupyter.widget-view+json": {
       "model_id": "f47f29996835455ea3886fb7c2dbcdbb",
       "version_major": 2,
       "version_minor": 0
      },
      "text/plain": [
       "Reading:   0%|          | 0/1 [00:00<?, ? batch/s]"
      ]
     },
     "metadata": {},
     "output_type": "display_data"
    },
    {
     "name": "stdout",
     "output_type": "stream",
     "text": [
      "Warning: Attempting to write empty DataFrame to ../ROOT_FILES/treesWithNN/qcdcr/tree_2017_UL_qcdcr/tree_QCD_EMEnriched_50to80.root. Skipping.\n",
      "\u001b[1;32mFile written: ../ROOT_FILES/treesWithNN/qcdcr/tree_2017_UL_qcdcr/tree_QCD_EMEnriched_50to80.root\u001b[0m (4 -> 0, 0.00%)\n",
      "\n",
      "\n",
      "Processing file: tree_QCD_EMEnriched_80to120.root\n"
     ]
    },
    {
     "data": {
      "application/vnd.jupyter.widget-view+json": {
       "model_id": "dc36efacc04b44b0a64b6788df5cf236",
       "version_major": 2,
       "version_minor": 0
      },
      "text/plain": [
       "Reading:   0%|          | 0/1 [00:00<?, ? batch/s]"
      ]
     },
     "metadata": {},
     "output_type": "display_data"
    },
    {
     "name": "stdout",
     "output_type": "stream",
     "text": [
      "Warning: Attempting to write empty DataFrame to ../ROOT_FILES/treesWithNN/qcdcr/tree_2017_UL_qcdcr/tree_QCD_EMEnriched_80to120.root. Skipping.\n",
      "\u001b[1;32mFile written: ../ROOT_FILES/treesWithNN/qcdcr/tree_2017_UL_qcdcr/tree_QCD_EMEnriched_80to120.root\u001b[0m (2 -> 0, 0.00%)\n",
      "\n",
      "\n",
      "Processing file: tree_QCD_MuEnriched_120to170.root\n"
     ]
    },
    {
     "data": {
      "application/vnd.jupyter.widget-view+json": {
       "model_id": "857cc01b87ce4b1e80f563f7273d57f5",
       "version_major": 2,
       "version_minor": 0
      },
      "text/plain": [
       "Reading:   0%|          | 0/1 [00:00<?, ? batch/s]"
      ]
     },
     "metadata": {},
     "output_type": "display_data"
    },
    {
     "data": {
      "application/vnd.jupyter.widget-view+json": {
       "model_id": "8249fa3b40a748e096a58936ab4e6a54",
       "version_major": 2,
       "version_minor": 0
      },
      "text/plain": [
       "Reading:   0%|          | 0/1 [00:00<?, ? batch/s]"
      ]
     },
     "metadata": {},
     "output_type": "display_data"
    },
    {
     "name": "stdout",
     "output_type": "stream",
     "text": [
      "\u001b[1;32mFile written: ../ROOT_FILES/treesWithNN/qcdcr/tree_2017_UL_qcdcr/tree_QCD_MuEnriched_120to170.root\u001b[0m (307 -> 86, 28.01%)\n",
      "\n",
      "\n",
      "Processing file: tree_QCD_MuEnriched_170to300.root\n"
     ]
    },
    {
     "data": {
      "application/vnd.jupyter.widget-view+json": {
       "model_id": "e7b444bbaff94639845864aa18ccc465",
       "version_major": 2,
       "version_minor": 0
      },
      "text/plain": [
       "Reading:   0%|          | 0/1 [00:00<?, ? batch/s]"
      ]
     },
     "metadata": {},
     "output_type": "display_data"
    },
    {
     "data": {
      "application/vnd.jupyter.widget-view+json": {
       "model_id": "db36710f86b74231aa011951b5310652",
       "version_major": 2,
       "version_minor": 0
      },
      "text/plain": [
       "Reading:   0%|          | 0/1 [00:00<?, ? batch/s]"
      ]
     },
     "metadata": {},
     "output_type": "display_data"
    },
    {
     "name": "stdout",
     "output_type": "stream",
     "text": [
      "\u001b[1;32mFile written: ../ROOT_FILES/treesWithNN/qcdcr/tree_2017_UL_qcdcr/tree_QCD_MuEnriched_170to300.root\u001b[0m (512 -> 110, 21.48%)\n",
      "\n",
      "\n",
      "Processing file: tree_QCD_MuEnriched_20to30.root\n"
     ]
    },
    {
     "data": {
      "application/vnd.jupyter.widget-view+json": {
       "model_id": "7094c3fe4ef142668b414cca9895b198",
       "version_major": 2,
       "version_minor": 0
      },
      "text/plain": [
       "Reading:   0%|          | 0/1 [00:00<?, ? batch/s]"
      ]
     },
     "metadata": {},
     "output_type": "display_data"
    },
    {
     "data": {
      "application/vnd.jupyter.widget-view+json": {
       "model_id": "c320a692219846b9ba0fe6eedd1067b8",
       "version_major": 2,
       "version_minor": 0
      },
      "text/plain": [
       "Reading:   0%|          | 0/1 [00:00<?, ? batch/s]"
      ]
     },
     "metadata": {},
     "output_type": "display_data"
    },
    {
     "name": "stdout",
     "output_type": "stream",
     "text": [
      "\u001b[1;32mFile written: ../ROOT_FILES/treesWithNN/qcdcr/tree_2017_UL_qcdcr/tree_QCD_MuEnriched_20to30.root\u001b[0m (1 -> 1, 100.00%)\n",
      "\n",
      "\n",
      "Processing file: tree_QCD_MuEnriched_300to470.root\n"
     ]
    },
    {
     "data": {
      "application/vnd.jupyter.widget-view+json": {
       "model_id": "11560e2ef2b34e01ba2aa042c2efbbb9",
       "version_major": 2,
       "version_minor": 0
      },
      "text/plain": [
       "Reading:   0%|          | 0/1 [00:00<?, ? batch/s]"
      ]
     },
     "metadata": {},
     "output_type": "display_data"
    },
    {
     "data": {
      "application/vnd.jupyter.widget-view+json": {
       "model_id": "a1501a1afd2547cfa32a5c3a80bf996a",
       "version_major": 2,
       "version_minor": 0
      },
      "text/plain": [
       "Reading:   0%|          | 0/1 [00:00<?, ? batch/s]"
      ]
     },
     "metadata": {},
     "output_type": "display_data"
    },
    {
     "name": "stdout",
     "output_type": "stream",
     "text": [
      "\u001b[1;32mFile written: ../ROOT_FILES/treesWithNN/qcdcr/tree_2017_UL_qcdcr/tree_QCD_MuEnriched_300to470.root\u001b[0m (440 -> 84, 19.09%)\n",
      "\n",
      "\n",
      "Processing file: tree_QCD_MuEnriched_30to50.root\n"
     ]
    },
    {
     "data": {
      "application/vnd.jupyter.widget-view+json": {
       "model_id": "e7eec83feae14b239548cbb5bb5b7356",
       "version_major": 2,
       "version_minor": 0
      },
      "text/plain": [
       "Reading:   0%|          | 0/1 [00:00<?, ? batch/s]"
      ]
     },
     "metadata": {},
     "output_type": "display_data"
    },
    {
     "data": {
      "application/vnd.jupyter.widget-view+json": {
       "model_id": "7623b7ee3b9b463f84295ddcbe931080",
       "version_major": 2,
       "version_minor": 0
      },
      "text/plain": [
       "Reading:   0%|          | 0/1 [00:00<?, ? batch/s]"
      ]
     },
     "metadata": {},
     "output_type": "display_data"
    },
    {
     "name": "stdout",
     "output_type": "stream",
     "text": [
      "\u001b[1;32mFile written: ../ROOT_FILES/treesWithNN/qcdcr/tree_2017_UL_qcdcr/tree_QCD_MuEnriched_30to50.root\u001b[0m (34 -> 5, 14.71%)\n",
      "\n",
      "\n",
      "Processing file: tree_QCD_MuEnriched_470to600.root\n"
     ]
    },
    {
     "data": {
      "application/vnd.jupyter.widget-view+json": {
       "model_id": "1f010403f5f7484ba802d01d5eb1ce2c",
       "version_major": 2,
       "version_minor": 0
      },
      "text/plain": [
       "Reading:   0%|          | 0/1 [00:00<?, ? batch/s]"
      ]
     },
     "metadata": {},
     "output_type": "display_data"
    },
    {
     "data": {
      "application/vnd.jupyter.widget-view+json": {
       "model_id": "7ca82b6154f5492d9786f3058e7b7c66",
       "version_major": 2,
       "version_minor": 0
      },
      "text/plain": [
       "Reading:   0%|          | 0/1 [00:00<?, ? batch/s]"
      ]
     },
     "metadata": {},
     "output_type": "display_data"
    },
    {
     "name": "stdout",
     "output_type": "stream",
     "text": [
      "\u001b[1;32mFile written: ../ROOT_FILES/treesWithNN/qcdcr/tree_2017_UL_qcdcr/tree_QCD_MuEnriched_470to600.root\u001b[0m (194 -> 50, 25.77%)\n",
      "\n",
      "\n",
      "Processing file: tree_QCD_MuEnriched_50to80.root\n"
     ]
    },
    {
     "data": {
      "application/vnd.jupyter.widget-view+json": {
       "model_id": "5659c521ae3a42d183d709a3c7a6ac7a",
       "version_major": 2,
       "version_minor": 0
      },
      "text/plain": [
       "Reading:   0%|          | 0/1 [00:00<?, ? batch/s]"
      ]
     },
     "metadata": {},
     "output_type": "display_data"
    },
    {
     "data": {
      "application/vnd.jupyter.widget-view+json": {
       "model_id": "02227b53f6054aabaf89610c0a2f8017",
       "version_major": 2,
       "version_minor": 0
      },
      "text/plain": [
       "Reading:   0%|          | 0/1 [00:00<?, ? batch/s]"
      ]
     },
     "metadata": {},
     "output_type": "display_data"
    },
    {
     "name": "stdout",
     "output_type": "stream",
     "text": [
      "\u001b[1;32mFile written: ../ROOT_FILES/treesWithNN/qcdcr/tree_2017_UL_qcdcr/tree_QCD_MuEnriched_50to80.root\u001b[0m (156 -> 35, 22.44%)\n",
      "\n",
      "\n",
      "Processing file: tree_QCD_MuEnriched_600to800.root\n"
     ]
    },
    {
     "data": {
      "application/vnd.jupyter.widget-view+json": {
       "model_id": "b80b6f16765e402bb13347a83a6edd7a",
       "version_major": 2,
       "version_minor": 0
      },
      "text/plain": [
       "Reading:   0%|          | 0/1 [00:00<?, ? batch/s]"
      ]
     },
     "metadata": {},
     "output_type": "display_data"
    },
    {
     "data": {
      "application/vnd.jupyter.widget-view+json": {
       "model_id": "4dd71ad3038d48d6b7994b813a18975a",
       "version_major": 2,
       "version_minor": 0
      },
      "text/plain": [
       "Reading:   0%|          | 0/1 [00:00<?, ? batch/s]"
      ]
     },
     "metadata": {},
     "output_type": "display_data"
    },
    {
     "name": "stdout",
     "output_type": "stream",
     "text": [
      "\u001b[1;32mFile written: ../ROOT_FILES/treesWithNN/qcdcr/tree_2017_UL_qcdcr/tree_QCD_MuEnriched_600to800.root\u001b[0m (200 -> 41, 20.50%)\n",
      "\n",
      "\n",
      "Processing file: tree_QCD_MuEnriched_800to1000.root\n"
     ]
    },
    {
     "data": {
      "application/vnd.jupyter.widget-view+json": {
       "model_id": "825cce82ed6244bdbc6fd2f7a44da44a",
       "version_major": 2,
       "version_minor": 0
      },
      "text/plain": [
       "Reading:   0%|          | 0/1 [00:00<?, ? batch/s]"
      ]
     },
     "metadata": {},
     "output_type": "display_data"
    },
    {
     "data": {
      "application/vnd.jupyter.widget-view+json": {
       "model_id": "5f4c6d90cb484f678ed53d245ead0019",
       "version_major": 2,
       "version_minor": 0
      },
      "text/plain": [
       "Reading:   0%|          | 0/1 [00:00<?, ? batch/s]"
      ]
     },
     "metadata": {},
     "output_type": "display_data"
    },
    {
     "name": "stdout",
     "output_type": "stream",
     "text": [
      "\u001b[1;32mFile written: ../ROOT_FILES/treesWithNN/qcdcr/tree_2017_UL_qcdcr/tree_QCD_MuEnriched_800to1000.root\u001b[0m (370 -> 91, 24.59%)\n",
      "\n",
      "\n",
      "Processing file: tree_QCD_MuEnriched_80to120.root\n"
     ]
    },
    {
     "data": {
      "application/vnd.jupyter.widget-view+json": {
       "model_id": "0a0cff001a3b4cca8df8a0682ae2977d",
       "version_major": 2,
       "version_minor": 0
      },
      "text/plain": [
       "Reading:   0%|          | 0/1 [00:00<?, ? batch/s]"
      ]
     },
     "metadata": {},
     "output_type": "display_data"
    },
    {
     "data": {
      "application/vnd.jupyter.widget-view+json": {
       "model_id": "1878c0889d284223931776ffa7fb4f0d",
       "version_major": 2,
       "version_minor": 0
      },
      "text/plain": [
       "Reading:   0%|          | 0/1 [00:00<?, ? batch/s]"
      ]
     },
     "metadata": {},
     "output_type": "display_data"
    },
    {
     "name": "stdout",
     "output_type": "stream",
     "text": [
      "\u001b[1;32mFile written: ../ROOT_FILES/treesWithNN/qcdcr/tree_2017_UL_qcdcr/tree_QCD_MuEnriched_80to120.root\u001b[0m (301 -> 71, 23.59%)\n",
      "\n",
      "\n",
      "Processing file: tree_Rare_THQ.root\n"
     ]
    },
    {
     "data": {
      "application/vnd.jupyter.widget-view+json": {
       "model_id": "97c168a01f894bff82936a14f15f0c70",
       "version_major": 2,
       "version_minor": 0
      },
      "text/plain": [
       "Reading:   0%|          | 0/1 [00:00<?, ? batch/s]"
      ]
     },
     "metadata": {},
     "output_type": "display_data"
    },
    {
     "data": {
      "application/vnd.jupyter.widget-view+json": {
       "model_id": "3186454c3d96481c9b7fd2892df3dc9c",
       "version_major": 2,
       "version_minor": 0
      },
      "text/plain": [
       "Reading:   0%|          | 0/1 [00:00<?, ? batch/s]"
      ]
     },
     "metadata": {},
     "output_type": "display_data"
    },
    {
     "name": "stdout",
     "output_type": "stream",
     "text": [
      "\u001b[1;32mFile written: ../ROOT_FILES/treesWithNN/qcdcr/tree_2017_UL_qcdcr/tree_Rare_THQ.root\u001b[0m (9228 -> 43, 0.47%)\n",
      "\n",
      "\n",
      "Processing file: tree_Rare_THW.root\n"
     ]
    },
    {
     "data": {
      "application/vnd.jupyter.widget-view+json": {
       "model_id": "06294cd9f50446149ed19f32bc733201",
       "version_major": 2,
       "version_minor": 0
      },
      "text/plain": [
       "Reading:   0%|          | 0/1 [00:00<?, ? batch/s]"
      ]
     },
     "metadata": {},
     "output_type": "display_data"
    },
    {
     "data": {
      "application/vnd.jupyter.widget-view+json": {
       "model_id": "0b8bfe11b13549f5a4e4c27e5d0dd9dd",
       "version_major": 2,
       "version_minor": 0
      },
      "text/plain": [
       "Reading:   0%|          | 0/1 [00:00<?, ? batch/s]"
      ]
     },
     "metadata": {},
     "output_type": "display_data"
    },
    {
     "name": "stdout",
     "output_type": "stream",
     "text": [
      "\u001b[1;32mFile written: ../ROOT_FILES/treesWithNN/qcdcr/tree_2017_UL_qcdcr/tree_Rare_THW.root\u001b[0m (23563 -> 122, 0.52%)\n",
      "\n",
      "\n",
      "Processing file: tree_Rare_TTHH.root\n"
     ]
    },
    {
     "data": {
      "application/vnd.jupyter.widget-view+json": {
       "model_id": "3e96f13dedc04f4fa7734c91d9377d0f",
       "version_major": 2,
       "version_minor": 0
      },
      "text/plain": [
       "Reading:   0%|          | 0/1 [00:00<?, ? batch/s]"
      ]
     },
     "metadata": {},
     "output_type": "display_data"
    },
    {
     "data": {
      "application/vnd.jupyter.widget-view+json": {
       "model_id": "7abb18e8959746af8b083cce40816d38",
       "version_major": 2,
       "version_minor": 0
      },
      "text/plain": [
       "Reading:   0%|          | 0/1 [00:00<?, ? batch/s]"
      ]
     },
     "metadata": {},
     "output_type": "display_data"
    },
    {
     "name": "stdout",
     "output_type": "stream",
     "text": [
      "\u001b[1;32mFile written: ../ROOT_FILES/treesWithNN/qcdcr/tree_2017_UL_qcdcr/tree_Rare_TTHH.root\u001b[0m (2192 -> 19, 0.87%)\n",
      "\n",
      "\n",
      "Processing file: tree_Rare_TTTJ.root\n"
     ]
    },
    {
     "data": {
      "application/vnd.jupyter.widget-view+json": {
       "model_id": "997f0d394b764123bfa9e4e8485cddf1",
       "version_major": 2,
       "version_minor": 0
      },
      "text/plain": [
       "Reading:   0%|          | 0/1 [00:00<?, ? batch/s]"
      ]
     },
     "metadata": {},
     "output_type": "display_data"
    },
    {
     "data": {
      "application/vnd.jupyter.widget-view+json": {
       "model_id": "88df0269828640c5b4326b231bdf8a57",
       "version_major": 2,
       "version_minor": 0
      },
      "text/plain": [
       "Reading:   0%|          | 0/1 [00:00<?, ? batch/s]"
      ]
     },
     "metadata": {},
     "output_type": "display_data"
    },
    {
     "name": "stdout",
     "output_type": "stream",
     "text": [
      "\u001b[1;32mFile written: ../ROOT_FILES/treesWithNN/qcdcr/tree_2017_UL_qcdcr/tree_Rare_TTTJ.root\u001b[0m (3131 -> 11, 0.35%)\n",
      "\n",
      "\n",
      "Processing file: tree_Rare_TTTT.root\n"
     ]
    },
    {
     "data": {
      "application/vnd.jupyter.widget-view+json": {
       "model_id": "43b308e642c0462d9d0009692c6837c9",
       "version_major": 2,
       "version_minor": 0
      },
      "text/plain": [
       "Reading:   0%|          | 0/1 [00:00<?, ? batch/s]"
      ]
     },
     "metadata": {},
     "output_type": "display_data"
    },
    {
     "data": {
      "application/vnd.jupyter.widget-view+json": {
       "model_id": "bf3358f7e898469db5c5c9ef048a576b",
       "version_major": 2,
       "version_minor": 0
      },
      "text/plain": [
       "Reading:   0%|          | 0/1 [00:00<?, ? batch/s]"
      ]
     },
     "metadata": {},
     "output_type": "display_data"
    },
    {
     "name": "stdout",
     "output_type": "stream",
     "text": [
      "\u001b[1;32mFile written: ../ROOT_FILES/treesWithNN/qcdcr/tree_2017_UL_qcdcr/tree_Rare_TTTT.root\u001b[0m (97587 -> 511, 0.52%)\n",
      "\n",
      "\n",
      "Processing file: tree_Rare_TTTW.root\n"
     ]
    },
    {
     "data": {
      "application/vnd.jupyter.widget-view+json": {
       "model_id": "d0c7577b401b48c79421f73fa4ec4118",
       "version_major": 2,
       "version_minor": 0
      },
      "text/plain": [
       "Reading:   0%|          | 0/1 [00:00<?, ? batch/s]"
      ]
     },
     "metadata": {},
     "output_type": "display_data"
    },
    {
     "data": {
      "application/vnd.jupyter.widget-view+json": {
       "model_id": "dadb665092a642c4894406e05ee2c447",
       "version_major": 2,
       "version_minor": 0
      },
      "text/plain": [
       "Reading:   0%|          | 0/1 [00:00<?, ? batch/s]"
      ]
     },
     "metadata": {},
     "output_type": "display_data"
    },
    {
     "name": "stdout",
     "output_type": "stream",
     "text": [
      "\u001b[1;32mFile written: ../ROOT_FILES/treesWithNN/qcdcr/tree_2017_UL_qcdcr/tree_Rare_TTTW.root\u001b[0m (5080 -> 17, 0.33%)\n",
      "\n",
      "\n",
      "Processing file: tree_Rare_TTWH.root\n"
     ]
    },
    {
     "data": {
      "application/vnd.jupyter.widget-view+json": {
       "model_id": "586e5bece441469a8b141358c67775bf",
       "version_major": 2,
       "version_minor": 0
      },
      "text/plain": [
       "Reading:   0%|          | 0/1 [00:00<?, ? batch/s]"
      ]
     },
     "metadata": {},
     "output_type": "display_data"
    },
    {
     "data": {
      "application/vnd.jupyter.widget-view+json": {
       "model_id": "d92f3b6e579c49c1bbd3953574a543e8",
       "version_major": 2,
       "version_minor": 0
      },
      "text/plain": [
       "Reading:   0%|          | 0/1 [00:00<?, ? batch/s]"
      ]
     },
     "metadata": {},
     "output_type": "display_data"
    },
    {
     "name": "stdout",
     "output_type": "stream",
     "text": [
      "\u001b[1;32mFile written: ../ROOT_FILES/treesWithNN/qcdcr/tree_2017_UL_qcdcr/tree_Rare_TTWH.root\u001b[0m (1621 -> 7, 0.43%)\n",
      "\n",
      "\n",
      "Processing file: tree_Rare_TTWW.root\n"
     ]
    },
    {
     "data": {
      "application/vnd.jupyter.widget-view+json": {
       "model_id": "682627b354194b60a88e777894218ea4",
       "version_major": 2,
       "version_minor": 0
      },
      "text/plain": [
       "Reading:   0%|          | 0/1 [00:00<?, ? batch/s]"
      ]
     },
     "metadata": {},
     "output_type": "display_data"
    },
    {
     "data": {
      "application/vnd.jupyter.widget-view+json": {
       "model_id": "41308baf816349dc9a8cdd675e9ce343",
       "version_major": 2,
       "version_minor": 0
      },
      "text/plain": [
       "Reading:   0%|          | 0/1 [00:00<?, ? batch/s]"
      ]
     },
     "metadata": {},
     "output_type": "display_data"
    },
    {
     "name": "stdout",
     "output_type": "stream",
     "text": [
      "\u001b[1;32mFile written: ../ROOT_FILES/treesWithNN/qcdcr/tree_2017_UL_qcdcr/tree_Rare_TTWW.root\u001b[0m (12149 -> 27, 0.22%)\n",
      "\n",
      "\n",
      "Processing file: tree_Rare_TTWZ.root\n"
     ]
    },
    {
     "data": {
      "application/vnd.jupyter.widget-view+json": {
       "model_id": "a2e018002e1c4cd4a5d61fa5644bd46c",
       "version_major": 2,
       "version_minor": 0
      },
      "text/plain": [
       "Reading:   0%|          | 0/1 [00:00<?, ? batch/s]"
      ]
     },
     "metadata": {},
     "output_type": "display_data"
    },
    {
     "name": "stdout",
     "output_type": "stream",
     "text": [
      "Warning: Attempting to write empty DataFrame to ../ROOT_FILES/treesWithNN/qcdcr/tree_2017_UL_qcdcr/tree_Rare_TTWZ.root. Skipping.\n",
      "\u001b[1;32mFile written: ../ROOT_FILES/treesWithNN/qcdcr/tree_2017_UL_qcdcr/tree_Rare_TTWZ.root\u001b[0m (40 -> 0, 0.00%)\n",
      "\n",
      "\n",
      "Processing file: tree_Rare_TTZH.root\n"
     ]
    },
    {
     "data": {
      "application/vnd.jupyter.widget-view+json": {
       "model_id": "52fd7bb672dd4a1b8ef9d82063c4d0f0",
       "version_major": 2,
       "version_minor": 0
      },
      "text/plain": [
       "Reading:   0%|          | 0/1 [00:00<?, ? batch/s]"
      ]
     },
     "metadata": {},
     "output_type": "display_data"
    },
    {
     "data": {
      "application/vnd.jupyter.widget-view+json": {
       "model_id": "d7100cec635c464a9c9810c5a5aff257",
       "version_major": 2,
       "version_minor": 0
      },
      "text/plain": [
       "Reading:   0%|          | 0/1 [00:00<?, ? batch/s]"
      ]
     },
     "metadata": {},
     "output_type": "display_data"
    },
    {
     "name": "stdout",
     "output_type": "stream",
     "text": [
      "\u001b[1;32mFile written: ../ROOT_FILES/treesWithNN/qcdcr/tree_2017_UL_qcdcr/tree_Rare_TTZH.root\u001b[0m (1958 -> 12, 0.61%)\n",
      "\n",
      "\n",
      "Processing file: tree_Rare_TTZZ.root\n"
     ]
    },
    {
     "data": {
      "application/vnd.jupyter.widget-view+json": {
       "model_id": "9d64d940b352490da3f411bba4aa01db",
       "version_major": 2,
       "version_minor": 0
      },
      "text/plain": [
       "Reading:   0%|          | 0/1 [00:00<?, ? batch/s]"
      ]
     },
     "metadata": {},
     "output_type": "display_data"
    },
    {
     "data": {
      "application/vnd.jupyter.widget-view+json": {
       "model_id": "2d806979f48d40a08aeee6cf20658cca",
       "version_major": 2,
       "version_minor": 0
      },
      "text/plain": [
       "Reading:   0%|          | 0/1 [00:00<?, ? batch/s]"
      ]
     },
     "metadata": {},
     "output_type": "display_data"
    },
    {
     "name": "stdout",
     "output_type": "stream",
     "text": [
      "\u001b[1;32mFile written: ../ROOT_FILES/treesWithNN/qcdcr/tree_2017_UL_qcdcr/tree_Rare_TTZZ.root\u001b[0m (1345 -> 6, 0.45%)\n",
      "\n",
      "\n",
      "Processing file: tree_Rare_tZq_ll.root\n"
     ]
    },
    {
     "data": {
      "application/vnd.jupyter.widget-view+json": {
       "model_id": "a76b887d50dc4cd1a9880e239b3907ba",
       "version_major": 2,
       "version_minor": 0
      },
      "text/plain": [
       "Reading:   0%|          | 0/1 [00:00<?, ? batch/s]"
      ]
     },
     "metadata": {},
     "output_type": "display_data"
    },
    {
     "data": {
      "application/vnd.jupyter.widget-view+json": {
       "model_id": "04b84d4fd492422ea5173d7b41ca39bf",
       "version_major": 2,
       "version_minor": 0
      },
      "text/plain": [
       "Reading:   0%|          | 0/1 [00:00<?, ? batch/s]"
      ]
     },
     "metadata": {},
     "output_type": "display_data"
    },
    {
     "name": "stdout",
     "output_type": "stream",
     "text": [
      "\u001b[1;32mFile written: ../ROOT_FILES/treesWithNN/qcdcr/tree_2017_UL_qcdcr/tree_Rare_tZq_ll.root\u001b[0m (64085 -> 200, 0.31%)\n",
      "\n",
      "\n",
      "Processing file: tree_SingleMuon_SingleMuon_B.root\n"
     ]
    },
    {
     "data": {
      "application/vnd.jupyter.widget-view+json": {
       "model_id": "2afae2859cec475c9fe4dc9773d9492e",
       "version_major": 2,
       "version_minor": 0
      },
      "text/plain": [
       "Reading:   0%|          | 0/1 [00:00<?, ? batch/s]"
      ]
     },
     "metadata": {},
     "output_type": "display_data"
    },
    {
     "data": {
      "application/vnd.jupyter.widget-view+json": {
       "model_id": "ce96a8cb5ad749829b5566d83fadec64",
       "version_major": 2,
       "version_minor": 0
      },
      "text/plain": [
       "Reading:   0%|          | 0/1 [00:00<?, ? batch/s]"
      ]
     },
     "metadata": {},
     "output_type": "display_data"
    },
    {
     "name": "stdout",
     "output_type": "stream",
     "text": [
      "\u001b[1;32mFile written: ../ROOT_FILES/treesWithNN/qcdcr/tree_2017_UL_qcdcr/tree_SingleMuon_SingleMuon_B.root\u001b[0m (8238 -> 391, 4.75%)\n",
      "\n",
      "\n",
      "Processing file: tree_SingleMuon_SingleMuon_C.root\n"
     ]
    },
    {
     "data": {
      "application/vnd.jupyter.widget-view+json": {
       "model_id": "dbfc2eaf4f5c4956ba6b3d2f9cdf0213",
       "version_major": 2,
       "version_minor": 0
      },
      "text/plain": [
       "Reading:   0%|          | 0/1 [00:00<?, ? batch/s]"
      ]
     },
     "metadata": {},
     "output_type": "display_data"
    },
    {
     "data": {
      "application/vnd.jupyter.widget-view+json": {
       "model_id": "d76b85a1ac67433081972b2327f71b89",
       "version_major": 2,
       "version_minor": 0
      },
      "text/plain": [
       "Reading:   0%|          | 0/1 [00:00<?, ? batch/s]"
      ]
     },
     "metadata": {},
     "output_type": "display_data"
    },
    {
     "name": "stdout",
     "output_type": "stream",
     "text": [
      "\u001b[1;32mFile written: ../ROOT_FILES/treesWithNN/qcdcr/tree_2017_UL_qcdcr/tree_SingleMuon_SingleMuon_C.root\u001b[0m (16467 -> 715, 4.34%)\n",
      "\n",
      "\n",
      "Processing file: tree_SingleMuon_SingleMuon_D.root\n"
     ]
    },
    {
     "data": {
      "application/vnd.jupyter.widget-view+json": {
       "model_id": "0d6885bef10540649e29953860f6862f",
       "version_major": 2,
       "version_minor": 0
      },
      "text/plain": [
       "Reading:   0%|          | 0/1 [00:00<?, ? batch/s]"
      ]
     },
     "metadata": {},
     "output_type": "display_data"
    },
    {
     "data": {
      "application/vnd.jupyter.widget-view+json": {
       "model_id": "491beaaadd8148ff9508878a729e9a0d",
       "version_major": 2,
       "version_minor": 0
      },
      "text/plain": [
       "Reading:   0%|          | 0/1 [00:00<?, ? batch/s]"
      ]
     },
     "metadata": {},
     "output_type": "display_data"
    },
    {
     "name": "stdout",
     "output_type": "stream",
     "text": [
      "\u001b[1;32mFile written: ../ROOT_FILES/treesWithNN/qcdcr/tree_2017_UL_qcdcr/tree_SingleMuon_SingleMuon_D.root\u001b[0m (7393 -> 334, 4.52%)\n",
      "\n",
      "\n",
      "Processing file: tree_SingleMuon_SingleMuon_E.root\n"
     ]
    },
    {
     "data": {
      "application/vnd.jupyter.widget-view+json": {
       "model_id": "ea25fdf97b204fe5a74c5365394080dc",
       "version_major": 2,
       "version_minor": 0
      },
      "text/plain": [
       "Reading:   0%|          | 0/1 [00:00<?, ? batch/s]"
      ]
     },
     "metadata": {},
     "output_type": "display_data"
    },
    {
     "data": {
      "application/vnd.jupyter.widget-view+json": {
       "model_id": "71b422e768d2400ea2c69757bb8bc1ac",
       "version_major": 2,
       "version_minor": 0
      },
      "text/plain": [
       "Reading:   0%|          | 0/1 [00:00<?, ? batch/s]"
      ]
     },
     "metadata": {},
     "output_type": "display_data"
    },
    {
     "name": "stdout",
     "output_type": "stream",
     "text": [
      "\u001b[1;32mFile written: ../ROOT_FILES/treesWithNN/qcdcr/tree_2017_UL_qcdcr/tree_SingleMuon_SingleMuon_E.root\u001b[0m (17810 -> 804, 4.51%)\n",
      "\n",
      "\n",
      "Processing file: tree_SingleMuon_SingleMuon_F.root\n"
     ]
    },
    {
     "data": {
      "application/vnd.jupyter.widget-view+json": {
       "model_id": "88c8e2939c324fd68e9c92b51dcd6c11",
       "version_major": 2,
       "version_minor": 0
      },
      "text/plain": [
       "Reading:   0%|          | 0/1 [00:00<?, ? batch/s]"
      ]
     },
     "metadata": {},
     "output_type": "display_data"
    },
    {
     "data": {
      "application/vnd.jupyter.widget-view+json": {
       "model_id": "ed566ff262b4481484a24acdd6c5d513",
       "version_major": 2,
       "version_minor": 0
      },
      "text/plain": [
       "Reading:   0%|          | 0/1 [00:00<?, ? batch/s]"
      ]
     },
     "metadata": {},
     "output_type": "display_data"
    },
    {
     "name": "stdout",
     "output_type": "stream",
     "text": [
      "\u001b[1;32mFile written: ../ROOT_FILES/treesWithNN/qcdcr/tree_2017_UL_qcdcr/tree_SingleMuon_SingleMuon_F.root\u001b[0m (27376 -> 1411, 5.15%)\n",
      "\n",
      "\n",
      "Processing file: tree_SingleTop_s-channel_LeptonDecays.root\n"
     ]
    },
    {
     "data": {
      "application/vnd.jupyter.widget-view+json": {
       "model_id": "706d070a83aa44449ead9837db04a0ec",
       "version_major": 2,
       "version_minor": 0
      },
      "text/plain": [
       "Reading:   0%|          | 0/1 [00:00<?, ? batch/s]"
      ]
     },
     "metadata": {},
     "output_type": "display_data"
    },
    {
     "data": {
      "application/vnd.jupyter.widget-view+json": {
       "model_id": "04fa8b2c9eb642529318f79f450e7cd4",
       "version_major": 2,
       "version_minor": 0
      },
      "text/plain": [
       "Reading:   0%|          | 0/1 [00:00<?, ? batch/s]"
      ]
     },
     "metadata": {},
     "output_type": "display_data"
    },
    {
     "name": "stdout",
     "output_type": "stream",
     "text": [
      "\u001b[1;32mFile written: ../ROOT_FILES/treesWithNN/qcdcr/tree_2017_UL_qcdcr/tree_SingleTop_s-channel_LeptonDecays.root\u001b[0m (17514 -> 397, 2.27%)\n",
      "\n",
      "\n",
      "Processing file: tree_SingleTop_t-channel_AntiTop_InclusiveDecays.root\n"
     ]
    },
    {
     "data": {
      "application/vnd.jupyter.widget-view+json": {
       "model_id": "9ff2e45dd9e14eb0acacb8708004c904",
       "version_major": 2,
       "version_minor": 0
      },
      "text/plain": [
       "Reading:   0%|          | 0/1 [00:00<?, ? batch/s]"
      ]
     },
     "metadata": {},
     "output_type": "display_data"
    },
    {
     "data": {
      "application/vnd.jupyter.widget-view+json": {
       "model_id": "2f6ddac92710496bb034b139f6276a90",
       "version_major": 2,
       "version_minor": 0
      },
      "text/plain": [
       "Reading:   0%|          | 0/1 [00:00<?, ? batch/s]"
      ]
     },
     "metadata": {},
     "output_type": "display_data"
    },
    {
     "name": "stdout",
     "output_type": "stream",
     "text": [
      "\u001b[1;32mFile written: ../ROOT_FILES/treesWithNN/qcdcr/tree_2017_UL_qcdcr/tree_SingleTop_t-channel_AntiTop_InclusiveDecays.root\u001b[0m (23388 -> 396, 1.69%)\n",
      "\n",
      "\n",
      "Processing file: tree_SingleTop_t-channel_Top_InclusiveDecays.root\n"
     ]
    },
    {
     "data": {
      "application/vnd.jupyter.widget-view+json": {
       "model_id": "1e26c6f483d64152a73ab4d9e1044e13",
       "version_major": 2,
       "version_minor": 0
      },
      "text/plain": [
       "Reading:   0%|          | 0/1 [00:00<?, ? batch/s]"
      ]
     },
     "metadata": {},
     "output_type": "display_data"
    },
    {
     "data": {
      "application/vnd.jupyter.widget-view+json": {
       "model_id": "48089b681e554ad78397e37fdb16ab0c",
       "version_major": 2,
       "version_minor": 0
      },
      "text/plain": [
       "Reading:   0%|          | 0/1 [00:00<?, ? batch/s]"
      ]
     },
     "metadata": {},
     "output_type": "display_data"
    },
    {
     "name": "stdout",
     "output_type": "stream",
     "text": [
      "\u001b[1;32mFile written: ../ROOT_FILES/treesWithNN/qcdcr/tree_2017_UL_qcdcr/tree_SingleTop_t-channel_Top_InclusiveDecays.root\u001b[0m (42720 -> 858, 2.01%)\n",
      "\n",
      "\n",
      "Processing file: tree_SingleTop_tW_AntiTop_InclusiveDecays.root\n"
     ]
    },
    {
     "data": {
      "application/vnd.jupyter.widget-view+json": {
       "model_id": "4fd830aef9ee4855a561cd3637294ec3",
       "version_major": 2,
       "version_minor": 0
      },
      "text/plain": [
       "Reading:   0%|          | 0/1 [00:00<?, ? batch/s]"
      ]
     },
     "metadata": {},
     "output_type": "display_data"
    },
    {
     "data": {
      "application/vnd.jupyter.widget-view+json": {
       "model_id": "6b489c3a4a7a4a6d9a9db087459fe095",
       "version_major": 2,
       "version_minor": 0
      },
      "text/plain": [
       "Reading:   0%|          | 0/1 [00:00<?, ? batch/s]"
      ]
     },
     "metadata": {},
     "output_type": "display_data"
    },
    {
     "name": "stdout",
     "output_type": "stream",
     "text": [
      "\u001b[1;32mFile written: ../ROOT_FILES/treesWithNN/qcdcr/tree_2017_UL_qcdcr/tree_SingleTop_tW_AntiTop_InclusiveDecays.root\u001b[0m (5833 -> 67, 1.15%)\n",
      "\n",
      "\n",
      "Processing file: tree_SingleTop_tW_Top_InclusiveDecays.root\n"
     ]
    },
    {
     "data": {
      "application/vnd.jupyter.widget-view+json": {
       "model_id": "8e63f53699ec42e194e0a42ebb7e3561",
       "version_major": 2,
       "version_minor": 0
      },
      "text/plain": [
       "Reading:   0%|          | 0/1 [00:00<?, ? batch/s]"
      ]
     },
     "metadata": {},
     "output_type": "display_data"
    },
    {
     "data": {
      "application/vnd.jupyter.widget-view+json": {
       "model_id": "715a3b32c10744a1ad453d2db14cba01",
       "version_major": 2,
       "version_minor": 0
      },
      "text/plain": [
       "Reading:   0%|          | 0/1 [00:00<?, ? batch/s]"
      ]
     },
     "metadata": {},
     "output_type": "display_data"
    },
    {
     "name": "stdout",
     "output_type": "stream",
     "text": [
      "\u001b[1;32mFile written: ../ROOT_FILES/treesWithNN/qcdcr/tree_2017_UL_qcdcr/tree_SingleTop_tW_Top_InclusiveDecays.root\u001b[0m (5953 -> 74, 1.24%)\n",
      "\n",
      "\n",
      "Processing file: tree_TTBar_TTTo2L2Nu.root\n"
     ]
    },
    {
     "data": {
      "application/vnd.jupyter.widget-view+json": {
       "model_id": "c155555634b849cd95308f4b70367448",
       "version_major": 2,
       "version_minor": 0
      },
      "text/plain": [
       "Reading:   0%|          | 0/3 [00:00<?, ? batch/s]"
      ]
     },
     "metadata": {},
     "output_type": "display_data"
    },
    {
     "data": {
      "application/vnd.jupyter.widget-view+json": {
       "model_id": "4bc0e444ed604e74a79946526c92bf73",
       "version_major": 2,
       "version_minor": 0
      },
      "text/plain": [
       "Reading:   0%|          | 0/1 [00:00<?, ? batch/s]"
      ]
     },
     "metadata": {},
     "output_type": "display_data"
    },
    {
     "name": "stdout",
     "output_type": "stream",
     "text": [
      "\u001b[1;32mFile written: ../ROOT_FILES/treesWithNN/qcdcr/tree_2017_UL_qcdcr/tree_TTBar_TTTo2L2Nu.root\u001b[0m (247501 -> 3338, 1.35%)\n",
      "\n",
      "\n",
      "Processing file: tree_TTBar_TTToSemiLeptonic.root\n"
     ]
    },
    {
     "data": {
      "application/vnd.jupyter.widget-view+json": {
       "model_id": "b3a21353e97c4b91ab482b7441576fc2",
       "version_major": 2,
       "version_minor": 0
      },
      "text/plain": [
       "Reading:   0%|          | 0/6 [00:00<?, ? batch/s]"
      ]
     },
     "metadata": {},
     "output_type": "display_data"
    },
    {
     "data": {
      "application/vnd.jupyter.widget-view+json": {
       "model_id": "a6d9a7ad35574973bdf73e0b54ed1d5a",
       "version_major": 2,
       "version_minor": 0
      },
      "text/plain": [
       "Reading:   0%|          | 0/1 [00:00<?, ? batch/s]"
      ]
     },
     "metadata": {},
     "output_type": "display_data"
    },
    {
     "name": "stdout",
     "output_type": "stream",
     "text": [
      "\u001b[1;32mFile written: ../ROOT_FILES/treesWithNN/qcdcr/tree_2017_UL_qcdcr/tree_TTBar_TTToSemiLeptonic.root\u001b[0m (538674 -> 10334, 1.92%)\n",
      "\n",
      "\n",
      "Processing file: tree_TTW_TTWToLNu.root\n"
     ]
    },
    {
     "data": {
      "application/vnd.jupyter.widget-view+json": {
       "model_id": "e7cd48103a2c4157969dac767becd198",
       "version_major": 2,
       "version_minor": 0
      },
      "text/plain": [
       "Reading:   0%|          | 0/5 [00:00<?, ? batch/s]"
      ]
     },
     "metadata": {},
     "output_type": "display_data"
    },
    {
     "data": {
      "application/vnd.jupyter.widget-view+json": {
       "model_id": "ad76c4af43ec48baa76efe28edc9be30",
       "version_major": 2,
       "version_minor": 0
      },
      "text/plain": [
       "Reading:   0%|          | 0/1 [00:00<?, ? batch/s]"
      ]
     },
     "metadata": {},
     "output_type": "display_data"
    },
    {
     "name": "stdout",
     "output_type": "stream",
     "text": [
      "\u001b[1;32mFile written: ../ROOT_FILES/treesWithNN/qcdcr/tree_2017_UL_qcdcr/tree_TTW_TTWToLNu.root\u001b[0m (441247 -> 884, 0.20%)\n",
      "\n",
      "\n",
      "Processing file: tree_TTZ_TTZToLL.root\n"
     ]
    },
    {
     "data": {
      "application/vnd.jupyter.widget-view+json": {
       "model_id": "cf09396a3be44538bbb3e99b7b57231c",
       "version_major": 2,
       "version_minor": 0
      },
      "text/plain": [
       "Reading:   0%|          | 0/13 [00:00<?, ? batch/s]"
      ]
     },
     "metadata": {},
     "output_type": "display_data"
    },
    {
     "data": {
      "application/vnd.jupyter.widget-view+json": {
       "model_id": "3ed1a06059b241198dd89486ad6accba",
       "version_major": 2,
       "version_minor": 0
      },
      "text/plain": [
       "Reading:   0%|          | 0/1 [00:00<?, ? batch/s]"
      ]
     },
     "metadata": {},
     "output_type": "display_data"
    },
    {
     "name": "stdout",
     "output_type": "stream",
     "text": [
      "\u001b[1;32mFile written: ../ROOT_FILES/treesWithNN/qcdcr/tree_2017_UL_qcdcr/tree_TTZ_TTZToLL.root\u001b[0m (1296168 -> 3589, 0.28%)\n",
      "\n",
      "\n",
      "Processing file: tree_VLLD_ele_M100.root\n"
     ]
    },
    {
     "data": {
      "application/vnd.jupyter.widget-view+json": {
       "model_id": "0e67a6e43cda460cb563a515c07512c7",
       "version_major": 2,
       "version_minor": 0
      },
      "text/plain": [
       "Reading:   0%|          | 0/1 [00:00<?, ? batch/s]"
      ]
     },
     "metadata": {},
     "output_type": "display_data"
    },
    {
     "data": {
      "application/vnd.jupyter.widget-view+json": {
       "model_id": "744fc92e7ac04dd587fdcfcb3bc76566",
       "version_major": 2,
       "version_minor": 0
      },
      "text/plain": [
       "Reading:   0%|          | 0/1 [00:00<?, ? batch/s]"
      ]
     },
     "metadata": {},
     "output_type": "display_data"
    },
    {
     "name": "stdout",
     "output_type": "stream",
     "text": [
      "\u001b[1;32mFile written: ../ROOT_FILES/treesWithNN/qcdcr/tree_2017_UL_qcdcr/tree_VLLD_ele_M100.root\u001b[0m (2633 -> 5, 0.19%)\n",
      "\n",
      "\n",
      "Processing file: tree_VLLD_ele_M1000.root\n"
     ]
    },
    {
     "data": {
      "application/vnd.jupyter.widget-view+json": {
       "model_id": "4a8378edbf13493baa4c36c11595549d",
       "version_major": 2,
       "version_minor": 0
      },
      "text/plain": [
       "Reading:   0%|          | 0/1 [00:00<?, ? batch/s]"
      ]
     },
     "metadata": {},
     "output_type": "display_data"
    },
    {
     "name": "stdout",
     "output_type": "stream",
     "text": [
      "Warning: Attempting to write empty DataFrame to ../ROOT_FILES/treesWithNN/qcdcr/tree_2017_UL_qcdcr/tree_VLLD_ele_M1000.root. Skipping.\n",
      "\u001b[1;32mFile written: ../ROOT_FILES/treesWithNN/qcdcr/tree_2017_UL_qcdcr/tree_VLLD_ele_M1000.root\u001b[0m (1128 -> 0, 0.00%)\n",
      "\n",
      "\n",
      "Processing file: tree_VLLD_ele_M200.root\n"
     ]
    },
    {
     "data": {
      "application/vnd.jupyter.widget-view+json": {
       "model_id": "b2937fcc805e4866b832b74bdcf4bae5",
       "version_major": 2,
       "version_minor": 0
      },
      "text/plain": [
       "Reading:   0%|          | 0/1 [00:00<?, ? batch/s]"
      ]
     },
     "metadata": {},
     "output_type": "display_data"
    },
    {
     "data": {
      "application/vnd.jupyter.widget-view+json": {
       "model_id": "5a27404c66104977acc8ab8edee2dc50",
       "version_major": 2,
       "version_minor": 0
      },
      "text/plain": [
       "Reading:   0%|          | 0/1 [00:00<?, ? batch/s]"
      ]
     },
     "metadata": {},
     "output_type": "display_data"
    },
    {
     "name": "stdout",
     "output_type": "stream",
     "text": [
      "\u001b[1;32mFile written: ../ROOT_FILES/treesWithNN/qcdcr/tree_2017_UL_qcdcr/tree_VLLD_ele_M200.root\u001b[0m (3186 -> 2, 0.06%)\n",
      "\n",
      "\n",
      "Processing file: tree_VLLD_ele_M300.root\n"
     ]
    },
    {
     "data": {
      "application/vnd.jupyter.widget-view+json": {
       "model_id": "656784b94cf844a5a1771c4d33345896",
       "version_major": 2,
       "version_minor": 0
      },
      "text/plain": [
       "Reading:   0%|          | 0/1 [00:00<?, ? batch/s]"
      ]
     },
     "metadata": {},
     "output_type": "display_data"
    },
    {
     "name": "stdout",
     "output_type": "stream",
     "text": [
      "Warning: Attempting to write empty DataFrame to ../ROOT_FILES/treesWithNN/qcdcr/tree_2017_UL_qcdcr/tree_VLLD_ele_M300.root. Skipping.\n",
      "\u001b[1;32mFile written: ../ROOT_FILES/treesWithNN/qcdcr/tree_2017_UL_qcdcr/tree_VLLD_ele_M300.root\u001b[0m (1063 -> 0, 0.00%)\n",
      "\n",
      "\n",
      "Processing file: tree_VLLD_ele_M400.root\n"
     ]
    },
    {
     "data": {
      "application/vnd.jupyter.widget-view+json": {
       "model_id": "ac7b42de6f774f72bcf1b858437cb65f",
       "version_major": 2,
       "version_minor": 0
      },
      "text/plain": [
       "Reading:   0%|          | 0/1 [00:00<?, ? batch/s]"
      ]
     },
     "metadata": {},
     "output_type": "display_data"
    },
    {
     "data": {
      "application/vnd.jupyter.widget-view+json": {
       "model_id": "82d466515b46463daef99922f2833398",
       "version_major": 2,
       "version_minor": 0
      },
      "text/plain": [
       "Reading:   0%|          | 0/1 [00:00<?, ? batch/s]"
      ]
     },
     "metadata": {},
     "output_type": "display_data"
    },
    {
     "name": "stdout",
     "output_type": "stream",
     "text": [
      "\u001b[1;32mFile written: ../ROOT_FILES/treesWithNN/qcdcr/tree_2017_UL_qcdcr/tree_VLLD_ele_M400.root\u001b[0m (1086 -> 1, 0.09%)\n",
      "\n",
      "\n",
      "Processing file: tree_VLLD_ele_M600.root\n"
     ]
    },
    {
     "data": {
      "application/vnd.jupyter.widget-view+json": {
       "model_id": "745de76e30f24045be594ea17e6b5957",
       "version_major": 2,
       "version_minor": 0
      },
      "text/plain": [
       "Reading:   0%|          | 0/1 [00:00<?, ? batch/s]"
      ]
     },
     "metadata": {},
     "output_type": "display_data"
    },
    {
     "name": "stdout",
     "output_type": "stream",
     "text": [
      "Warning: Attempting to write empty DataFrame to ../ROOT_FILES/treesWithNN/qcdcr/tree_2017_UL_qcdcr/tree_VLLD_ele_M600.root. Skipping.\n",
      "\u001b[1;32mFile written: ../ROOT_FILES/treesWithNN/qcdcr/tree_2017_UL_qcdcr/tree_VLLD_ele_M600.root\u001b[0m (1116 -> 0, 0.00%)\n",
      "\n",
      "\n",
      "Processing file: tree_VLLD_ele_M800.root\n"
     ]
    },
    {
     "data": {
      "application/vnd.jupyter.widget-view+json": {
       "model_id": "4e990e9527224cdf92064026484ba9d0",
       "version_major": 2,
       "version_minor": 0
      },
      "text/plain": [
       "Reading:   0%|          | 0/1 [00:00<?, ? batch/s]"
      ]
     },
     "metadata": {},
     "output_type": "display_data"
    },
    {
     "data": {
      "application/vnd.jupyter.widget-view+json": {
       "model_id": "029c2fcb446a4213804c6ce0365562f5",
       "version_major": 2,
       "version_minor": 0
      },
      "text/plain": [
       "Reading:   0%|          | 0/1 [00:00<?, ? batch/s]"
      ]
     },
     "metadata": {},
     "output_type": "display_data"
    },
    {
     "name": "stdout",
     "output_type": "stream",
     "text": [
      "\u001b[1;32mFile written: ../ROOT_FILES/treesWithNN/qcdcr/tree_2017_UL_qcdcr/tree_VLLD_ele_M800.root\u001b[0m (1088 -> 1, 0.09%)\n",
      "\n",
      "\n",
      "Processing file: tree_VLLD_mu_M100.root\n"
     ]
    },
    {
     "data": {
      "application/vnd.jupyter.widget-view+json": {
       "model_id": "49a7f04122ae41f5b8c0f5db8c3998cb",
       "version_major": 2,
       "version_minor": 0
      },
      "text/plain": [
       "Reading:   0%|          | 0/1 [00:00<?, ? batch/s]"
      ]
     },
     "metadata": {},
     "output_type": "display_data"
    },
    {
     "data": {
      "application/vnd.jupyter.widget-view+json": {
       "model_id": "150acaac8d54496e8890c3a3ba72668e",
       "version_major": 2,
       "version_minor": 0
      },
      "text/plain": [
       "Reading:   0%|          | 0/1 [00:00<?, ? batch/s]"
      ]
     },
     "metadata": {},
     "output_type": "display_data"
    },
    {
     "name": "stdout",
     "output_type": "stream",
     "text": [
      "\u001b[1;32mFile written: ../ROOT_FILES/treesWithNN/qcdcr/tree_2017_UL_qcdcr/tree_VLLD_mu_M100.root\u001b[0m (2829 -> 2, 0.07%)\n",
      "\n",
      "\n",
      "Processing file: tree_VLLD_mu_M200.root\n"
     ]
    },
    {
     "data": {
      "application/vnd.jupyter.widget-view+json": {
       "model_id": "7bda155fee794b6fbd0abfc5356c57c6",
       "version_major": 2,
       "version_minor": 0
      },
      "text/plain": [
       "Reading:   0%|          | 0/1 [00:00<?, ? batch/s]"
      ]
     },
     "metadata": {},
     "output_type": "display_data"
    },
    {
     "name": "stdout",
     "output_type": "stream",
     "text": [
      "Warning: Attempting to write empty DataFrame to ../ROOT_FILES/treesWithNN/qcdcr/tree_2017_UL_qcdcr/tree_VLLD_mu_M200.root. Skipping.\n",
      "\u001b[1;32mFile written: ../ROOT_FILES/treesWithNN/qcdcr/tree_2017_UL_qcdcr/tree_VLLD_mu_M200.root\u001b[0m (1858 -> 0, 0.00%)\n",
      "\n",
      "\n",
      "Processing file: tree_VLLD_mu_M300.root\n"
     ]
    },
    {
     "data": {
      "application/vnd.jupyter.widget-view+json": {
       "model_id": "74f8089530f24641be2d6ee5d8ad1eeb",
       "version_major": 2,
       "version_minor": 0
      },
      "text/plain": [
       "Reading:   0%|          | 0/1 [00:00<?, ? batch/s]"
      ]
     },
     "metadata": {},
     "output_type": "display_data"
    },
    {
     "name": "stdout",
     "output_type": "stream",
     "text": [
      "Warning: Attempting to write empty DataFrame to ../ROOT_FILES/treesWithNN/qcdcr/tree_2017_UL_qcdcr/tree_VLLD_mu_M300.root. Skipping.\n",
      "\u001b[1;32mFile written: ../ROOT_FILES/treesWithNN/qcdcr/tree_2017_UL_qcdcr/tree_VLLD_mu_M300.root\u001b[0m (562 -> 0, 0.00%)\n",
      "\n",
      "\n",
      "Processing file: tree_VLLD_mu_M400.root\n"
     ]
    },
    {
     "data": {
      "application/vnd.jupyter.widget-view+json": {
       "model_id": "d7eba1530f2642a68886001126a0946f",
       "version_major": 2,
       "version_minor": 0
      },
      "text/plain": [
       "Reading:   0%|          | 0/1 [00:00<?, ? batch/s]"
      ]
     },
     "metadata": {},
     "output_type": "display_data"
    },
    {
     "name": "stdout",
     "output_type": "stream",
     "text": [
      "Warning: Attempting to write empty DataFrame to ../ROOT_FILES/treesWithNN/qcdcr/tree_2017_UL_qcdcr/tree_VLLD_mu_M400.root. Skipping.\n",
      "\u001b[1;32mFile written: ../ROOT_FILES/treesWithNN/qcdcr/tree_2017_UL_qcdcr/tree_VLLD_mu_M400.root\u001b[0m (518 -> 0, 0.00%)\n",
      "\n",
      "\n",
      "Processing file: tree_VLLD_mu_M600.root\n"
     ]
    },
    {
     "data": {
      "application/vnd.jupyter.widget-view+json": {
       "model_id": "74f3b4edad3d4f47977da052e799f665",
       "version_major": 2,
       "version_minor": 0
      },
      "text/plain": [
       "Reading:   0%|          | 0/1 [00:00<?, ? batch/s]"
      ]
     },
     "metadata": {},
     "output_type": "display_data"
    },
    {
     "name": "stdout",
     "output_type": "stream",
     "text": [
      "Warning: Attempting to write empty DataFrame to ../ROOT_FILES/treesWithNN/qcdcr/tree_2017_UL_qcdcr/tree_VLLD_mu_M600.root. Skipping.\n",
      "\u001b[1;32mFile written: ../ROOT_FILES/treesWithNN/qcdcr/tree_2017_UL_qcdcr/tree_VLLD_mu_M600.root\u001b[0m (473 -> 0, 0.00%)\n",
      "\n",
      "\n",
      "Processing file: tree_VLLD_mu_M800.root\n"
     ]
    },
    {
     "data": {
      "application/vnd.jupyter.widget-view+json": {
       "model_id": "6f950a72032b4c9ca90dea0475568ced",
       "version_major": 2,
       "version_minor": 0
      },
      "text/plain": [
       "Reading:   0%|          | 0/1 [00:00<?, ? batch/s]"
      ]
     },
     "metadata": {},
     "output_type": "display_data"
    },
    {
     "name": "stdout",
     "output_type": "stream",
     "text": [
      "Warning: Attempting to write empty DataFrame to ../ROOT_FILES/treesWithNN/qcdcr/tree_2017_UL_qcdcr/tree_VLLD_mu_M800.root. Skipping.\n",
      "\u001b[1;32mFile written: ../ROOT_FILES/treesWithNN/qcdcr/tree_2017_UL_qcdcr/tree_VLLD_mu_M800.root\u001b[0m (454 -> 0, 0.00%)\n",
      "\n",
      "\n",
      "Processing file: tree_VLLS_ele_M100.root\n"
     ]
    },
    {
     "data": {
      "application/vnd.jupyter.widget-view+json": {
       "model_id": "13d086efd94e41e6997ed676f2b112bf",
       "version_major": 2,
       "version_minor": 0
      },
      "text/plain": [
       "Reading:   0%|          | 0/1 [00:00<?, ? batch/s]"
      ]
     },
     "metadata": {},
     "output_type": "display_data"
    },
    {
     "data": {
      "application/vnd.jupyter.widget-view+json": {
       "model_id": "b909f7b5dc054c3c9430412497c110ea",
       "version_major": 2,
       "version_minor": 0
      },
      "text/plain": [
       "Reading:   0%|          | 0/1 [00:00<?, ? batch/s]"
      ]
     },
     "metadata": {},
     "output_type": "display_data"
    },
    {
     "name": "stdout",
     "output_type": "stream",
     "text": [
      "\u001b[1;32mFile written: ../ROOT_FILES/treesWithNN/qcdcr/tree_2017_UL_qcdcr/tree_VLLS_ele_M100.root\u001b[0m (768 -> 2, 0.26%)\n",
      "\n",
      "\n",
      "Processing file: tree_VLLS_ele_M1000.root\n"
     ]
    },
    {
     "data": {
      "application/vnd.jupyter.widget-view+json": {
       "model_id": "93380776a22248a7910577993fffdb69",
       "version_major": 2,
       "version_minor": 0
      },
      "text/plain": [
       "Reading:   0%|          | 0/1 [00:00<?, ? batch/s]"
      ]
     },
     "metadata": {},
     "output_type": "display_data"
    },
    {
     "name": "stdout",
     "output_type": "stream",
     "text": [
      "Warning: Attempting to write empty DataFrame to ../ROOT_FILES/treesWithNN/qcdcr/tree_2017_UL_qcdcr/tree_VLLS_ele_M1000.root. Skipping.\n",
      "\u001b[1;32mFile written: ../ROOT_FILES/treesWithNN/qcdcr/tree_2017_UL_qcdcr/tree_VLLS_ele_M1000.root\u001b[0m (1218 -> 0, 0.00%)\n",
      "\n",
      "\n",
      "Processing file: tree_VLLS_ele_M125.root\n"
     ]
    },
    {
     "data": {
      "application/vnd.jupyter.widget-view+json": {
       "model_id": "ad69f4407c3b42648a6afebfaa80497a",
       "version_major": 2,
       "version_minor": 0
      },
      "text/plain": [
       "Reading:   0%|          | 0/1 [00:00<?, ? batch/s]"
      ]
     },
     "metadata": {},
     "output_type": "display_data"
    },
    {
     "data": {
      "application/vnd.jupyter.widget-view+json": {
       "model_id": "5e2bf66d99dd47a6b9f4630af2927ad3",
       "version_major": 2,
       "version_minor": 0
      },
      "text/plain": [
       "Reading:   0%|          | 0/1 [00:00<?, ? batch/s]"
      ]
     },
     "metadata": {},
     "output_type": "display_data"
    },
    {
     "name": "stdout",
     "output_type": "stream",
     "text": [
      "\u001b[1;32mFile written: ../ROOT_FILES/treesWithNN/qcdcr/tree_2017_UL_qcdcr/tree_VLLS_ele_M125.root\u001b[0m (3036 -> 6, 0.20%)\n",
      "\n",
      "\n",
      "Processing file: tree_VLLS_ele_M150.root\n"
     ]
    },
    {
     "data": {
      "application/vnd.jupyter.widget-view+json": {
       "model_id": "361262e3bf8844b7843f6c26a895497b",
       "version_major": 2,
       "version_minor": 0
      },
      "text/plain": [
       "Reading:   0%|          | 0/1 [00:00<?, ? batch/s]"
      ]
     },
     "metadata": {},
     "output_type": "display_data"
    },
    {
     "data": {
      "application/vnd.jupyter.widget-view+json": {
       "model_id": "ff49888f0f9c45b785228ae10022cc5e",
       "version_major": 2,
       "version_minor": 0
      },
      "text/plain": [
       "Reading:   0%|          | 0/1 [00:00<?, ? batch/s]"
      ]
     },
     "metadata": {},
     "output_type": "display_data"
    },
    {
     "name": "stdout",
     "output_type": "stream",
     "text": [
      "\u001b[1;32mFile written: ../ROOT_FILES/treesWithNN/qcdcr/tree_2017_UL_qcdcr/tree_VLLS_ele_M150.root\u001b[0m (4497 -> 9, 0.20%)\n",
      "\n",
      "\n",
      "Processing file: tree_VLLS_ele_M200.root\n"
     ]
    },
    {
     "data": {
      "application/vnd.jupyter.widget-view+json": {
       "model_id": "be0a8476d99f45eb93b4801b5e13529c",
       "version_major": 2,
       "version_minor": 0
      },
      "text/plain": [
       "Reading:   0%|          | 0/1 [00:00<?, ? batch/s]"
      ]
     },
     "metadata": {},
     "output_type": "display_data"
    },
    {
     "data": {
      "application/vnd.jupyter.widget-view+json": {
       "model_id": "ed90438aa6054e4a9680ff46659d8ced",
       "version_major": 2,
       "version_minor": 0
      },
      "text/plain": [
       "Reading:   0%|          | 0/1 [00:00<?, ? batch/s]"
      ]
     },
     "metadata": {},
     "output_type": "display_data"
    },
    {
     "name": "stdout",
     "output_type": "stream",
     "text": [
      "\u001b[1;32mFile written: ../ROOT_FILES/treesWithNN/qcdcr/tree_2017_UL_qcdcr/tree_VLLS_ele_M200.root\u001b[0m (5877 -> 3, 0.05%)\n",
      "\n",
      "\n",
      "Processing file: tree_VLLS_ele_M250.root\n"
     ]
    },
    {
     "data": {
      "application/vnd.jupyter.widget-view+json": {
       "model_id": "ea357e340e8c486191ba8e0935c10f94",
       "version_major": 2,
       "version_minor": 0
      },
      "text/plain": [
       "Reading:   0%|          | 0/1 [00:00<?, ? batch/s]"
      ]
     },
     "metadata": {},
     "output_type": "display_data"
    },
    {
     "data": {
      "application/vnd.jupyter.widget-view+json": {
       "model_id": "8010a8a7c1084633add5c12ddf658622",
       "version_major": 2,
       "version_minor": 0
      },
      "text/plain": [
       "Reading:   0%|          | 0/1 [00:00<?, ? batch/s]"
      ]
     },
     "metadata": {},
     "output_type": "display_data"
    },
    {
     "name": "stdout",
     "output_type": "stream",
     "text": [
      "\u001b[1;32mFile written: ../ROOT_FILES/treesWithNN/qcdcr/tree_2017_UL_qcdcr/tree_VLLS_ele_M250.root\u001b[0m (5208 -> 5, 0.10%)\n",
      "\n",
      "\n",
      "Processing file: tree_VLLS_ele_M300.root\n"
     ]
    },
    {
     "data": {
      "application/vnd.jupyter.widget-view+json": {
       "model_id": "dca28f613e2c41e39e8b451f149d095c",
       "version_major": 2,
       "version_minor": 0
      },
      "text/plain": [
       "Reading:   0%|          | 0/1 [00:00<?, ? batch/s]"
      ]
     },
     "metadata": {},
     "output_type": "display_data"
    },
    {
     "data": {
      "application/vnd.jupyter.widget-view+json": {
       "model_id": "531896d147cf42a590c2896a956622c1",
       "version_major": 2,
       "version_minor": 0
      },
      "text/plain": [
       "Reading:   0%|          | 0/1 [00:00<?, ? batch/s]"
      ]
     },
     "metadata": {},
     "output_type": "display_data"
    },
    {
     "name": "stdout",
     "output_type": "stream",
     "text": [
      "\u001b[1;32mFile written: ../ROOT_FILES/treesWithNN/qcdcr/tree_2017_UL_qcdcr/tree_VLLS_ele_M300.root\u001b[0m (5524 -> 2, 0.04%)\n",
      "\n",
      "\n",
      "Processing file: tree_VLLS_ele_M350.root\n"
     ]
    },
    {
     "data": {
      "application/vnd.jupyter.widget-view+json": {
       "model_id": "2cf51f9506354274b58ef6cf911fdd77",
       "version_major": 2,
       "version_minor": 0
      },
      "text/plain": [
       "Reading:   0%|          | 0/1 [00:00<?, ? batch/s]"
      ]
     },
     "metadata": {},
     "output_type": "display_data"
    },
    {
     "name": "stdout",
     "output_type": "stream",
     "text": [
      "Warning: Attempting to write empty DataFrame to ../ROOT_FILES/treesWithNN/qcdcr/tree_2017_UL_qcdcr/tree_VLLS_ele_M350.root. Skipping.\n",
      "\u001b[1;32mFile written: ../ROOT_FILES/treesWithNN/qcdcr/tree_2017_UL_qcdcr/tree_VLLS_ele_M350.root\u001b[0m (2253 -> 0, 0.00%)\n",
      "\n",
      "\n",
      "Processing file: tree_VLLS_ele_M400.root\n"
     ]
    },
    {
     "data": {
      "application/vnd.jupyter.widget-view+json": {
       "model_id": "0511c892a3904062a6ba4153f77277d9",
       "version_major": 2,
       "version_minor": 0
      },
      "text/plain": [
       "Reading:   0%|          | 0/1 [00:00<?, ? batch/s]"
      ]
     },
     "metadata": {},
     "output_type": "display_data"
    },
    {
     "data": {
      "application/vnd.jupyter.widget-view+json": {
       "model_id": "ed76b631fc284daaa840dac04dfaace5",
       "version_major": 2,
       "version_minor": 0
      },
      "text/plain": [
       "Reading:   0%|          | 0/1 [00:00<?, ? batch/s]"
      ]
     },
     "metadata": {},
     "output_type": "display_data"
    },
    {
     "name": "stdout",
     "output_type": "stream",
     "text": [
      "\u001b[1;32mFile written: ../ROOT_FILES/treesWithNN/qcdcr/tree_2017_UL_qcdcr/tree_VLLS_ele_M400.root\u001b[0m (2396 -> 1, 0.04%)\n",
      "\n",
      "\n",
      "Processing file: tree_VLLS_ele_M450.root\n"
     ]
    },
    {
     "data": {
      "application/vnd.jupyter.widget-view+json": {
       "model_id": "3e3cad7c77e74b1faa54f38f9be52382",
       "version_major": 2,
       "version_minor": 0
      },
      "text/plain": [
       "Reading:   0%|          | 0/1 [00:00<?, ? batch/s]"
      ]
     },
     "metadata": {},
     "output_type": "display_data"
    },
    {
     "name": "stdout",
     "output_type": "stream",
     "text": [
      "Warning: Attempting to write empty DataFrame to ../ROOT_FILES/treesWithNN/qcdcr/tree_2017_UL_qcdcr/tree_VLLS_ele_M450.root. Skipping.\n",
      "\u001b[1;32mFile written: ../ROOT_FILES/treesWithNN/qcdcr/tree_2017_UL_qcdcr/tree_VLLS_ele_M450.root\u001b[0m (2342 -> 0, 0.00%)\n",
      "\n",
      "\n",
      "Processing file: tree_VLLS_ele_M500.root\n"
     ]
    },
    {
     "data": {
      "application/vnd.jupyter.widget-view+json": {
       "model_id": "3a13861d1fd2484db84a8fd4fd624ccd",
       "version_major": 2,
       "version_minor": 0
      },
      "text/plain": [
       "Reading:   0%|          | 0/1 [00:00<?, ? batch/s]"
      ]
     },
     "metadata": {},
     "output_type": "display_data"
    },
    {
     "data": {
      "application/vnd.jupyter.widget-view+json": {
       "model_id": "011369db19fa40ec991897ce0f923e97",
       "version_major": 2,
       "version_minor": 0
      },
      "text/plain": [
       "Reading:   0%|          | 0/1 [00:00<?, ? batch/s]"
      ]
     },
     "metadata": {},
     "output_type": "display_data"
    },
    {
     "name": "stdout",
     "output_type": "stream",
     "text": [
      "\u001b[1;32mFile written: ../ROOT_FILES/treesWithNN/qcdcr/tree_2017_UL_qcdcr/tree_VLLS_ele_M500.root\u001b[0m (2353 -> 2, 0.08%)\n",
      "\n",
      "\n",
      "Processing file: tree_VLLS_ele_M750.root\n"
     ]
    },
    {
     "data": {
      "application/vnd.jupyter.widget-view+json": {
       "model_id": "990f2c9087a94fe5a653e1beefdc9d06",
       "version_major": 2,
       "version_minor": 0
      },
      "text/plain": [
       "Reading:   0%|          | 0/1 [00:00<?, ? batch/s]"
      ]
     },
     "metadata": {},
     "output_type": "display_data"
    },
    {
     "name": "stdout",
     "output_type": "stream",
     "text": [
      "Warning: Attempting to write empty DataFrame to ../ROOT_FILES/treesWithNN/qcdcr/tree_2017_UL_qcdcr/tree_VLLS_ele_M750.root. Skipping.\n",
      "\u001b[1;32mFile written: ../ROOT_FILES/treesWithNN/qcdcr/tree_2017_UL_qcdcr/tree_VLLS_ele_M750.root\u001b[0m (1211 -> 0, 0.00%)\n",
      "\n",
      "\n",
      "Processing file: tree_VLLS_mu_M100.root\n"
     ]
    },
    {
     "data": {
      "application/vnd.jupyter.widget-view+json": {
       "model_id": "513f9d98ee524fb2a68081b855576137",
       "version_major": 2,
       "version_minor": 0
      },
      "text/plain": [
       "Reading:   0%|          | 0/1 [00:00<?, ? batch/s]"
      ]
     },
     "metadata": {},
     "output_type": "display_data"
    },
    {
     "data": {
      "application/vnd.jupyter.widget-view+json": {
       "model_id": "845f66e06b9746c8aa87de262138904b",
       "version_major": 2,
       "version_minor": 0
      },
      "text/plain": [
       "Reading:   0%|          | 0/1 [00:00<?, ? batch/s]"
      ]
     },
     "metadata": {},
     "output_type": "display_data"
    },
    {
     "name": "stdout",
     "output_type": "stream",
     "text": [
      "\u001b[1;32mFile written: ../ROOT_FILES/treesWithNN/qcdcr/tree_2017_UL_qcdcr/tree_VLLS_mu_M100.root\u001b[0m (817 -> 2, 0.24%)\n",
      "\n",
      "\n",
      "Processing file: tree_VLLS_mu_M1000.root\n"
     ]
    },
    {
     "data": {
      "application/vnd.jupyter.widget-view+json": {
       "model_id": "7b7a1410a33d4d6384afca3268a200b7",
       "version_major": 2,
       "version_minor": 0
      },
      "text/plain": [
       "Reading:   0%|          | 0/1 [00:00<?, ? batch/s]"
      ]
     },
     "metadata": {},
     "output_type": "display_data"
    },
    {
     "data": {
      "application/vnd.jupyter.widget-view+json": {
       "model_id": "eb9f18f4cfb7492ea5b854f52befaa9a",
       "version_major": 2,
       "version_minor": 0
      },
      "text/plain": [
       "Reading:   0%|          | 0/1 [00:00<?, ? batch/s]"
      ]
     },
     "metadata": {},
     "output_type": "display_data"
    },
    {
     "name": "stdout",
     "output_type": "stream",
     "text": [
      "\u001b[1;32mFile written: ../ROOT_FILES/treesWithNN/qcdcr/tree_2017_UL_qcdcr/tree_VLLS_mu_M1000.root\u001b[0m (718 -> 1, 0.14%)\n",
      "\n",
      "\n",
      "Processing file: tree_VLLS_mu_M125.root\n"
     ]
    },
    {
     "data": {
      "application/vnd.jupyter.widget-view+json": {
       "model_id": "a8f81c678ca24a1289efcb44c8f6f211",
       "version_major": 2,
       "version_minor": 0
      },
      "text/plain": [
       "Reading:   0%|          | 0/1 [00:00<?, ? batch/s]"
      ]
     },
     "metadata": {},
     "output_type": "display_data"
    },
    {
     "data": {
      "application/vnd.jupyter.widget-view+json": {
       "model_id": "3f5ed819c24442c4b5123d465c9361e1",
       "version_major": 2,
       "version_minor": 0
      },
      "text/plain": [
       "Reading:   0%|          | 0/1 [00:00<?, ? batch/s]"
      ]
     },
     "metadata": {},
     "output_type": "display_data"
    },
    {
     "name": "stdout",
     "output_type": "stream",
     "text": [
      "\u001b[1;32mFile written: ../ROOT_FILES/treesWithNN/qcdcr/tree_2017_UL_qcdcr/tree_VLLS_mu_M125.root\u001b[0m (3556 -> 8, 0.22%)\n",
      "\n",
      "\n",
      "Processing file: tree_VLLS_mu_M150.root\n"
     ]
    },
    {
     "data": {
      "application/vnd.jupyter.widget-view+json": {
       "model_id": "c56ae00793804d06b3f150fb1caa285d",
       "version_major": 2,
       "version_minor": 0
      },
      "text/plain": [
       "Reading:   0%|          | 0/1 [00:00<?, ? batch/s]"
      ]
     },
     "metadata": {},
     "output_type": "display_data"
    },
    {
     "data": {
      "application/vnd.jupyter.widget-view+json": {
       "model_id": "dba5b94b81f24fbc8d3f586bb12e4afa",
       "version_major": 2,
       "version_minor": 0
      },
      "text/plain": [
       "Reading:   0%|          | 0/1 [00:00<?, ? batch/s]"
      ]
     },
     "metadata": {},
     "output_type": "display_data"
    },
    {
     "name": "stdout",
     "output_type": "stream",
     "text": [
      "\u001b[1;32mFile written: ../ROOT_FILES/treesWithNN/qcdcr/tree_2017_UL_qcdcr/tree_VLLS_mu_M150.root\u001b[0m (4297 -> 5, 0.12%)\n",
      "\n",
      "\n",
      "Processing file: tree_VLLS_mu_M200.root\n"
     ]
    },
    {
     "data": {
      "application/vnd.jupyter.widget-view+json": {
       "model_id": "352d65b0e0fb409582778e65b82bb893",
       "version_major": 2,
       "version_minor": 0
      },
      "text/plain": [
       "Reading:   0%|          | 0/1 [00:00<?, ? batch/s]"
      ]
     },
     "metadata": {},
     "output_type": "display_data"
    },
    {
     "data": {
      "application/vnd.jupyter.widget-view+json": {
       "model_id": "7337ef7063aa4afab84c967531d07e8e",
       "version_major": 2,
       "version_minor": 0
      },
      "text/plain": [
       "Reading:   0%|          | 0/1 [00:00<?, ? batch/s]"
      ]
     },
     "metadata": {},
     "output_type": "display_data"
    },
    {
     "name": "stdout",
     "output_type": "stream",
     "text": [
      "\u001b[1;32mFile written: ../ROOT_FILES/treesWithNN/qcdcr/tree_2017_UL_qcdcr/tree_VLLS_mu_M200.root\u001b[0m (5044 -> 2, 0.04%)\n",
      "\n",
      "\n",
      "Processing file: tree_VLLS_mu_M250.root\n"
     ]
    },
    {
     "data": {
      "application/vnd.jupyter.widget-view+json": {
       "model_id": "3859993862904bc59949d401e6337365",
       "version_major": 2,
       "version_minor": 0
      },
      "text/plain": [
       "Reading:   0%|          | 0/1 [00:00<?, ? batch/s]"
      ]
     },
     "metadata": {},
     "output_type": "display_data"
    },
    {
     "data": {
      "application/vnd.jupyter.widget-view+json": {
       "model_id": "270548b19dbe427b876715c20ac4985a",
       "version_major": 2,
       "version_minor": 0
      },
      "text/plain": [
       "Reading:   0%|          | 0/1 [00:00<?, ? batch/s]"
      ]
     },
     "metadata": {},
     "output_type": "display_data"
    },
    {
     "name": "stdout",
     "output_type": "stream",
     "text": [
      "\u001b[1;32mFile written: ../ROOT_FILES/treesWithNN/qcdcr/tree_2017_UL_qcdcr/tree_VLLS_mu_M250.root\u001b[0m (4313 -> 2, 0.05%)\n",
      "\n",
      "\n",
      "Processing file: tree_VLLS_mu_M300.root\n"
     ]
    },
    {
     "data": {
      "application/vnd.jupyter.widget-view+json": {
       "model_id": "199c8ba0b81a47f2a9e64145c413414d",
       "version_major": 2,
       "version_minor": 0
      },
      "text/plain": [
       "Reading:   0%|          | 0/1 [00:00<?, ? batch/s]"
      ]
     },
     "metadata": {},
     "output_type": "display_data"
    },
    {
     "data": {
      "application/vnd.jupyter.widget-view+json": {
       "model_id": "1b3e05cd7a4c4f449f021b0dc3f06d1f",
       "version_major": 2,
       "version_minor": 0
      },
      "text/plain": [
       "Reading:   0%|          | 0/1 [00:00<?, ? batch/s]"
      ]
     },
     "metadata": {},
     "output_type": "display_data"
    },
    {
     "name": "stdout",
     "output_type": "stream",
     "text": [
      "\u001b[1;32mFile written: ../ROOT_FILES/treesWithNN/qcdcr/tree_2017_UL_qcdcr/tree_VLLS_mu_M300.root\u001b[0m (4450 -> 2, 0.04%)\n",
      "\n",
      "\n",
      "Processing file: tree_VLLS_mu_M400.root\n"
     ]
    },
    {
     "data": {
      "application/vnd.jupyter.widget-view+json": {
       "model_id": "c8643f22c4f84917bdd50d976aff4122",
       "version_major": 2,
       "version_minor": 0
      },
      "text/plain": [
       "Reading:   0%|          | 0/1 [00:00<?, ? batch/s]"
      ]
     },
     "metadata": {},
     "output_type": "display_data"
    },
    {
     "data": {
      "application/vnd.jupyter.widget-view+json": {
       "model_id": "310b7f3c3b1641b98350fc6c9e04cd85",
       "version_major": 2,
       "version_minor": 0
      },
      "text/plain": [
       "Reading:   0%|          | 0/1 [00:00<?, ? batch/s]"
      ]
     },
     "metadata": {},
     "output_type": "display_data"
    },
    {
     "name": "stdout",
     "output_type": "stream",
     "text": [
      "\u001b[1;32mFile written: ../ROOT_FILES/treesWithNN/qcdcr/tree_2017_UL_qcdcr/tree_VLLS_mu_M400.root\u001b[0m (1720 -> 2, 0.12%)\n",
      "\n",
      "\n",
      "Processing file: tree_VLLS_mu_M450.root\n"
     ]
    },
    {
     "data": {
      "application/vnd.jupyter.widget-view+json": {
       "model_id": "cc4ce156191a4cf4a5e12f6e0355d8b5",
       "version_major": 2,
       "version_minor": 0
      },
      "text/plain": [
       "Reading:   0%|          | 0/1 [00:00<?, ? batch/s]"
      ]
     },
     "metadata": {},
     "output_type": "display_data"
    },
    {
     "name": "stdout",
     "output_type": "stream",
     "text": [
      "Warning: Attempting to write empty DataFrame to ../ROOT_FILES/treesWithNN/qcdcr/tree_2017_UL_qcdcr/tree_VLLS_mu_M450.root. Skipping.\n",
      "\u001b[1;32mFile written: ../ROOT_FILES/treesWithNN/qcdcr/tree_2017_UL_qcdcr/tree_VLLS_mu_M450.root\u001b[0m (1648 -> 0, 0.00%)\n",
      "\n",
      "\n",
      "Processing file: tree_VLLS_mu_M500.root\n"
     ]
    },
    {
     "data": {
      "application/vnd.jupyter.widget-view+json": {
       "model_id": "a8e1d4825fa443e680b0306422cd6ea6",
       "version_major": 2,
       "version_minor": 0
      },
      "text/plain": [
       "Reading:   0%|          | 0/1 [00:00<?, ? batch/s]"
      ]
     },
     "metadata": {},
     "output_type": "display_data"
    },
    {
     "name": "stdout",
     "output_type": "stream",
     "text": [
      "Warning: Attempting to write empty DataFrame to ../ROOT_FILES/treesWithNN/qcdcr/tree_2017_UL_qcdcr/tree_VLLS_mu_M500.root. Skipping.\n",
      "\u001b[1;32mFile written: ../ROOT_FILES/treesWithNN/qcdcr/tree_2017_UL_qcdcr/tree_VLLS_mu_M500.root\u001b[0m (1667 -> 0, 0.00%)\n",
      "\n",
      "\n",
      "Processing file: tree_VLLS_mu_M750.root\n"
     ]
    },
    {
     "data": {
      "application/vnd.jupyter.widget-view+json": {
       "model_id": "02ddc68d74e3487683c5b1858f8f0324",
       "version_major": 2,
       "version_minor": 0
      },
      "text/plain": [
       "Reading:   0%|          | 0/1 [00:00<?, ? batch/s]"
      ]
     },
     "metadata": {},
     "output_type": "display_data"
    },
    {
     "name": "stdout",
     "output_type": "stream",
     "text": [
      "Warning: Attempting to write empty DataFrame to ../ROOT_FILES/treesWithNN/qcdcr/tree_2017_UL_qcdcr/tree_VLLS_mu_M750.root. Skipping.\n",
      "\u001b[1;32mFile written: ../ROOT_FILES/treesWithNN/qcdcr/tree_2017_UL_qcdcr/tree_VLLS_mu_M750.root\u001b[0m (840 -> 0, 0.00%)\n",
      "\n",
      "\n",
      "Processing file: tree_VLLS_tau_M100.root\n"
     ]
    },
    {
     "data": {
      "application/vnd.jupyter.widget-view+json": {
       "model_id": "fadb612a15c54cc992f49991fc9bc553",
       "version_major": 2,
       "version_minor": 0
      },
      "text/plain": [
       "Reading:   0%|          | 0/1 [00:00<?, ? batch/s]"
      ]
     },
     "metadata": {},
     "output_type": "display_data"
    },
    {
     "data": {
      "application/vnd.jupyter.widget-view+json": {
       "model_id": "c211253d5c2a4688ab2485335f654503",
       "version_major": 2,
       "version_minor": 0
      },
      "text/plain": [
       "Reading:   0%|          | 0/1 [00:00<?, ? batch/s]"
      ]
     },
     "metadata": {},
     "output_type": "display_data"
    },
    {
     "name": "stdout",
     "output_type": "stream",
     "text": [
      "\u001b[1;32mFile written: ../ROOT_FILES/treesWithNN/qcdcr/tree_2017_UL_qcdcr/tree_VLLS_tau_M100.root\u001b[0m (1078 -> 2, 0.19%)\n",
      "\n",
      "\n",
      "Processing file: tree_VLLS_tau_M125.root\n"
     ]
    },
    {
     "data": {
      "application/vnd.jupyter.widget-view+json": {
       "model_id": "77887b0fa04c4cfe94fc19143d513037",
       "version_major": 2,
       "version_minor": 0
      },
      "text/plain": [
       "Reading:   0%|          | 0/1 [00:00<?, ? batch/s]"
      ]
     },
     "metadata": {},
     "output_type": "display_data"
    },
    {
     "data": {
      "application/vnd.jupyter.widget-view+json": {
       "model_id": "2d1b068f953e45378b1d0c98fb5ec432",
       "version_major": 2,
       "version_minor": 0
      },
      "text/plain": [
       "Reading:   0%|          | 0/1 [00:00<?, ? batch/s]"
      ]
     },
     "metadata": {},
     "output_type": "display_data"
    },
    {
     "name": "stdout",
     "output_type": "stream",
     "text": [
      "\u001b[1;32mFile written: ../ROOT_FILES/treesWithNN/qcdcr/tree_2017_UL_qcdcr/tree_VLLS_tau_M125.root\u001b[0m (2665 -> 10, 0.38%)\n",
      "\n",
      "\n",
      "Processing file: tree_VLLS_tau_M150.root\n"
     ]
    },
    {
     "data": {
      "application/vnd.jupyter.widget-view+json": {
       "model_id": "8cb1d417208145a783e60649e0858a37",
       "version_major": 2,
       "version_minor": 0
      },
      "text/plain": [
       "Reading:   0%|          | 0/1 [00:00<?, ? batch/s]"
      ]
     },
     "metadata": {},
     "output_type": "display_data"
    },
    {
     "data": {
      "application/vnd.jupyter.widget-view+json": {
       "model_id": "5085a21184444376a9157f7ef8ef8edd",
       "version_major": 2,
       "version_minor": 0
      },
      "text/plain": [
       "Reading:   0%|          | 0/1 [00:00<?, ? batch/s]"
      ]
     },
     "metadata": {},
     "output_type": "display_data"
    },
    {
     "name": "stdout",
     "output_type": "stream",
     "text": [
      "\u001b[1;32mFile written: ../ROOT_FILES/treesWithNN/qcdcr/tree_2017_UL_qcdcr/tree_VLLS_tau_M150.root\u001b[0m (3637 -> 14, 0.38%)\n",
      "\n",
      "\n",
      "Processing file: tree_VLLS_tau_M200.root\n"
     ]
    },
    {
     "data": {
      "application/vnd.jupyter.widget-view+json": {
       "model_id": "6481d88117c74e0f9e10267c6f9bf66b",
       "version_major": 2,
       "version_minor": 0
      },
      "text/plain": [
       "Reading:   0%|          | 0/1 [00:00<?, ? batch/s]"
      ]
     },
     "metadata": {},
     "output_type": "display_data"
    },
    {
     "data": {
      "application/vnd.jupyter.widget-view+json": {
       "model_id": "e4cdb132f9e345c48f2f622658cf7be2",
       "version_major": 2,
       "version_minor": 0
      },
      "text/plain": [
       "Reading:   0%|          | 0/1 [00:00<?, ? batch/s]"
      ]
     },
     "metadata": {},
     "output_type": "display_data"
    },
    {
     "name": "stdout",
     "output_type": "stream",
     "text": [
      "\u001b[1;32mFile written: ../ROOT_FILES/treesWithNN/qcdcr/tree_2017_UL_qcdcr/tree_VLLS_tau_M200.root\u001b[0m (4792 -> 28, 0.58%)\n",
      "\n",
      "\n",
      "Processing file: tree_VLLS_tau_M250.root\n"
     ]
    },
    {
     "data": {
      "application/vnd.jupyter.widget-view+json": {
       "model_id": "9543a0400fbc495d8da966ae0007bc22",
       "version_major": 2,
       "version_minor": 0
      },
      "text/plain": [
       "Reading:   0%|          | 0/1 [00:00<?, ? batch/s]"
      ]
     },
     "metadata": {},
     "output_type": "display_data"
    },
    {
     "data": {
      "application/vnd.jupyter.widget-view+json": {
       "model_id": "77a265ea0a4a4962aaeb90d5c8f61893",
       "version_major": 2,
       "version_minor": 0
      },
      "text/plain": [
       "Reading:   0%|          | 0/1 [00:00<?, ? batch/s]"
      ]
     },
     "metadata": {},
     "output_type": "display_data"
    },
    {
     "name": "stdout",
     "output_type": "stream",
     "text": [
      "\u001b[1;32mFile written: ../ROOT_FILES/treesWithNN/qcdcr/tree_2017_UL_qcdcr/tree_VLLS_tau_M250.root\u001b[0m (4369 -> 29, 0.66%)\n",
      "\n",
      "\n",
      "Processing file: tree_VLLS_tau_M300.root\n"
     ]
    },
    {
     "data": {
      "application/vnd.jupyter.widget-view+json": {
       "model_id": "88de2fb94bfe46868e2d45dcab401b7c",
       "version_major": 2,
       "version_minor": 0
      },
      "text/plain": [
       "Reading:   0%|          | 0/1 [00:00<?, ? batch/s]"
      ]
     },
     "metadata": {},
     "output_type": "display_data"
    },
    {
     "data": {
      "application/vnd.jupyter.widget-view+json": {
       "model_id": "9729b00e5e9343bda3771d69bc187dfa",
       "version_major": 2,
       "version_minor": 0
      },
      "text/plain": [
       "Reading:   0%|          | 0/1 [00:00<?, ? batch/s]"
      ]
     },
     "metadata": {},
     "output_type": "display_data"
    },
    {
     "name": "stdout",
     "output_type": "stream",
     "text": [
      "\u001b[1;32mFile written: ../ROOT_FILES/treesWithNN/qcdcr/tree_2017_UL_qcdcr/tree_VLLS_tau_M300.root\u001b[0m (4841 -> 29, 0.60%)\n",
      "\n",
      "\n",
      "Processing file: tree_VLLS_tau_M350.root\n"
     ]
    },
    {
     "data": {
      "application/vnd.jupyter.widget-view+json": {
       "model_id": "e07c825aebe2468cb00d656368754802",
       "version_major": 2,
       "version_minor": 0
      },
      "text/plain": [
       "Reading:   0%|          | 0/1 [00:00<?, ? batch/s]"
      ]
     },
     "metadata": {},
     "output_type": "display_data"
    },
    {
     "data": {
      "application/vnd.jupyter.widget-view+json": {
       "model_id": "5edc0cdfbc96428b984ed65c6bd55f39",
       "version_major": 2,
       "version_minor": 0
      },
      "text/plain": [
       "Reading:   0%|          | 0/1 [00:00<?, ? batch/s]"
      ]
     },
     "metadata": {},
     "output_type": "display_data"
    },
    {
     "name": "stdout",
     "output_type": "stream",
     "text": [
      "\u001b[1;32mFile written: ../ROOT_FILES/treesWithNN/qcdcr/tree_2017_UL_qcdcr/tree_VLLS_tau_M350.root\u001b[0m (1983 -> 5, 0.25%)\n",
      "\n",
      "\n",
      "Processing file: tree_VLLS_tau_M400.root\n"
     ]
    },
    {
     "data": {
      "application/vnd.jupyter.widget-view+json": {
       "model_id": "9d3cb61595de4667a7550f7774846064",
       "version_major": 2,
       "version_minor": 0
      },
      "text/plain": [
       "Reading:   0%|          | 0/1 [00:00<?, ? batch/s]"
      ]
     },
     "metadata": {},
     "output_type": "display_data"
    },
    {
     "data": {
      "application/vnd.jupyter.widget-view+json": {
       "model_id": "886d97ca8727430d969d078ec1b2595a",
       "version_major": 2,
       "version_minor": 0
      },
      "text/plain": [
       "Reading:   0%|          | 0/1 [00:00<?, ? batch/s]"
      ]
     },
     "metadata": {},
     "output_type": "display_data"
    },
    {
     "name": "stdout",
     "output_type": "stream",
     "text": [
      "\u001b[1;32mFile written: ../ROOT_FILES/treesWithNN/qcdcr/tree_2017_UL_qcdcr/tree_VLLS_tau_M400.root\u001b[0m (2106 -> 10, 0.47%)\n",
      "\n",
      "\n",
      "Processing file: tree_WGamma_WGToLNuG_01J.root\n"
     ]
    },
    {
     "data": {
      "application/vnd.jupyter.widget-view+json": {
       "model_id": "29c7f68736a74b3a93ce86adfb314dee",
       "version_major": 2,
       "version_minor": 0
      },
      "text/plain": [
       "Reading:   0%|          | 0/1 [00:00<?, ? batch/s]"
      ]
     },
     "metadata": {},
     "output_type": "display_data"
    },
    {
     "data": {
      "application/vnd.jupyter.widget-view+json": {
       "model_id": "a868a510449647efa8564a9d73832868",
       "version_major": 2,
       "version_minor": 0
      },
      "text/plain": [
       "Reading:   0%|          | 0/1 [00:00<?, ? batch/s]"
      ]
     },
     "metadata": {},
     "output_type": "display_data"
    },
    {
     "name": "stdout",
     "output_type": "stream",
     "text": [
      "\u001b[1;32mFile written: ../ROOT_FILES/treesWithNN/qcdcr/tree_2017_UL_qcdcr/tree_WGamma_WGToLNuG_01J.root\u001b[0m (28529 -> 91, 0.32%)\n",
      "\n",
      "\n",
      "Processing file: tree_WpWp_WpWpJJEWK.root\n"
     ]
    },
    {
     "data": {
      "application/vnd.jupyter.widget-view+json": {
       "model_id": "7aebbb6a93724f4a9f3cbedab3154419",
       "version_major": 2,
       "version_minor": 0
      },
      "text/plain": [
       "Reading:   0%|          | 0/1 [00:00<?, ? batch/s]"
      ]
     },
     "metadata": {},
     "output_type": "display_data"
    },
    {
     "data": {
      "application/vnd.jupyter.widget-view+json": {
       "model_id": "6763785f8c4c4bd8883c62e770f5c5f8",
       "version_major": 2,
       "version_minor": 0
      },
      "text/plain": [
       "Reading:   0%|          | 0/1 [00:00<?, ? batch/s]"
      ]
     },
     "metadata": {},
     "output_type": "display_data"
    },
    {
     "name": "stdout",
     "output_type": "stream",
     "text": [
      "\u001b[1;32mFile written: ../ROOT_FILES/treesWithNN/qcdcr/tree_2017_UL_qcdcr/tree_WpWp_WpWpJJEWK.root\u001b[0m (32019 -> 38, 0.12%)\n",
      "\n",
      "\n",
      "Processing file: tree_WWW_Inclusive.root\n"
     ]
    },
    {
     "data": {
      "application/vnd.jupyter.widget-view+json": {
       "model_id": "7873cfb7d04d4335826a579e49df9880",
       "version_major": 2,
       "version_minor": 0
      },
      "text/plain": [
       "Reading:   0%|          | 0/1 [00:00<?, ? batch/s]"
      ]
     },
     "metadata": {},
     "output_type": "display_data"
    },
    {
     "data": {
      "application/vnd.jupyter.widget-view+json": {
       "model_id": "774902cba10540edb45e99c03b28d298",
       "version_major": 2,
       "version_minor": 0
      },
      "text/plain": [
       "Reading:   0%|          | 0/1 [00:00<?, ? batch/s]"
      ]
     },
     "metadata": {},
     "output_type": "display_data"
    },
    {
     "name": "stdout",
     "output_type": "stream",
     "text": [
      "\u001b[1;32mFile written: ../ROOT_FILES/treesWithNN/qcdcr/tree_2017_UL_qcdcr/tree_WWW_Inclusive.root\u001b[0m (2186 -> 3, 0.14%)\n",
      "\n",
      "\n",
      "Processing file: tree_WWZ_Inclusive.root\n"
     ]
    },
    {
     "data": {
      "application/vnd.jupyter.widget-view+json": {
       "model_id": "480433b165c74c9d8d8b983a552b2472",
       "version_major": 2,
       "version_minor": 0
      },
      "text/plain": [
       "Reading:   0%|          | 0/1 [00:00<?, ? batch/s]"
      ]
     },
     "metadata": {},
     "output_type": "display_data"
    },
    {
     "name": "stdout",
     "output_type": "stream",
     "text": [
      "Warning: Attempting to write empty DataFrame to ../ROOT_FILES/treesWithNN/qcdcr/tree_2017_UL_qcdcr/tree_WWZ_Inclusive.root. Skipping.\n",
      "\u001b[1;32mFile written: ../ROOT_FILES/treesWithNN/qcdcr/tree_2017_UL_qcdcr/tree_WWZ_Inclusive.root\u001b[0m (828 -> 0, 0.00%)\n",
      "\n",
      "\n",
      "Processing file: tree_WW_WWTo1L1Nu2Q.root\n"
     ]
    },
    {
     "data": {
      "application/vnd.jupyter.widget-view+json": {
       "model_id": "9ecbc00fd99c4103a5371bf83daf15c3",
       "version_major": 2,
       "version_minor": 0
      },
      "text/plain": [
       "Reading:   0%|          | 0/1 [00:00<?, ? batch/s]"
      ]
     },
     "metadata": {},
     "output_type": "display_data"
    },
    {
     "data": {
      "application/vnd.jupyter.widget-view+json": {
       "model_id": "96f777fec925414c9069f105efcd47c9",
       "version_major": 2,
       "version_minor": 0
      },
      "text/plain": [
       "Reading:   0%|          | 0/1 [00:00<?, ? batch/s]"
      ]
     },
     "metadata": {},
     "output_type": "display_data"
    },
    {
     "name": "stdout",
     "output_type": "stream",
     "text": [
      "\u001b[1;32mFile written: ../ROOT_FILES/treesWithNN/qcdcr/tree_2017_UL_qcdcr/tree_WW_WWTo1L1Nu2Q.root\u001b[0m (4617 -> 20, 0.43%)\n",
      "\n",
      "\n",
      "Processing file: tree_WW_WWTo2L2Nu.root\n"
     ]
    },
    {
     "data": {
      "application/vnd.jupyter.widget-view+json": {
       "model_id": "0a59d13073344672ac1dca755b0fb805",
       "version_major": 2,
       "version_minor": 0
      },
      "text/plain": [
       "Reading:   0%|          | 0/1 [00:00<?, ? batch/s]"
      ]
     },
     "metadata": {},
     "output_type": "display_data"
    },
    {
     "data": {
      "application/vnd.jupyter.widget-view+json": {
       "model_id": "42865ad932034dfa8d36cb5669707ee3",
       "version_major": 2,
       "version_minor": 0
      },
      "text/plain": [
       "Reading:   0%|          | 0/1 [00:00<?, ? batch/s]"
      ]
     },
     "metadata": {},
     "output_type": "display_data"
    },
    {
     "name": "stdout",
     "output_type": "stream",
     "text": [
      "\u001b[1;32mFile written: ../ROOT_FILES/treesWithNN/qcdcr/tree_2017_UL_qcdcr/tree_WW_WWTo2L2Nu.root\u001b[0m (5514 -> 28, 0.51%)\n",
      "\n",
      "\n",
      "Processing file: tree_WW_WWTo4Q.root\n"
     ]
    },
    {
     "data": {
      "application/vnd.jupyter.widget-view+json": {
       "model_id": "f357520c2e8949e5b2048d078afdd7ea",
       "version_major": 2,
       "version_minor": 0
      },
      "text/plain": [
       "Reading:   0%|          | 0/1 [00:00<?, ? batch/s]"
      ]
     },
     "metadata": {},
     "output_type": "display_data"
    },
    {
     "data": {
      "application/vnd.jupyter.widget-view+json": {
       "model_id": "16149b40c27542b38fd02792904495e1",
       "version_major": 2,
       "version_minor": 0
      },
      "text/plain": [
       "Reading:   0%|          | 0/1 [00:00<?, ? batch/s]"
      ]
     },
     "metadata": {},
     "output_type": "display_data"
    },
    {
     "name": "stdout",
     "output_type": "stream",
     "text": [
      "\u001b[1;32mFile written: ../ROOT_FILES/treesWithNN/qcdcr/tree_2017_UL_qcdcr/tree_WW_WWTo4Q.root\u001b[0m (8 -> 1, 12.50%)\n",
      "\n",
      "\n",
      "Processing file: tree_WZZ_Inclusive.root\n"
     ]
    },
    {
     "data": {
      "application/vnd.jupyter.widget-view+json": {
       "model_id": "08cd7bce83514503849ecef48d1b46b0",
       "version_major": 2,
       "version_minor": 0
      },
      "text/plain": [
       "Reading:   0%|          | 0/1 [00:00<?, ? batch/s]"
      ]
     },
     "metadata": {},
     "output_type": "display_data"
    },
    {
     "data": {
      "application/vnd.jupyter.widget-view+json": {
       "model_id": "4fbbc369ded340f3aeb977f019f4c154",
       "version_major": 2,
       "version_minor": 0
      },
      "text/plain": [
       "Reading:   0%|          | 0/1 [00:00<?, ? batch/s]"
      ]
     },
     "metadata": {},
     "output_type": "display_data"
    },
    {
     "name": "stdout",
     "output_type": "stream",
     "text": [
      "\u001b[1;32mFile written: ../ROOT_FILES/treesWithNN/qcdcr/tree_2017_UL_qcdcr/tree_WZZ_Inclusive.root\u001b[0m (1605 -> 6, 0.37%)\n",
      "\n",
      "\n",
      "Processing file: tree_WZ_WZTo1L1Nu2Q.root\n"
     ]
    },
    {
     "data": {
      "application/vnd.jupyter.widget-view+json": {
       "model_id": "9e3e735bb09e4c799bbc7a7c62d9fe0b",
       "version_major": 2,
       "version_minor": 0
      },
      "text/plain": [
       "Reading:   0%|          | 0/1 [00:00<?, ? batch/s]"
      ]
     },
     "metadata": {},
     "output_type": "display_data"
    },
    {
     "data": {
      "application/vnd.jupyter.widget-view+json": {
       "model_id": "4129d3f0da5c42a889861d06d74a3180",
       "version_major": 2,
       "version_minor": 0
      },
      "text/plain": [
       "Reading:   0%|          | 0/1 [00:00<?, ? batch/s]"
      ]
     },
     "metadata": {},
     "output_type": "display_data"
    },
    {
     "name": "stdout",
     "output_type": "stream",
     "text": [
      "\u001b[1;32mFile written: ../ROOT_FILES/treesWithNN/qcdcr/tree_2017_UL_qcdcr/tree_WZ_WZTo1L1Nu2Q.root\u001b[0m (1356 -> 7, 0.52%)\n",
      "\n",
      "\n",
      "Processing file: tree_WZ_WZTo2L2Q.root\n"
     ]
    },
    {
     "data": {
      "application/vnd.jupyter.widget-view+json": {
       "model_id": "7534f65646314f9a8f0ef4e16835ebc5",
       "version_major": 2,
       "version_minor": 0
      },
      "text/plain": [
       "Reading:   0%|          | 0/1 [00:00<?, ? batch/s]"
      ]
     },
     "metadata": {},
     "output_type": "display_data"
    },
    {
     "data": {
      "application/vnd.jupyter.widget-view+json": {
       "model_id": "9e6ed710de5147e0891bc33a7a26ae80",
       "version_major": 2,
       "version_minor": 0
      },
      "text/plain": [
       "Reading:   0%|          | 0/1 [00:00<?, ? batch/s]"
      ]
     },
     "metadata": {},
     "output_type": "display_data"
    },
    {
     "name": "stdout",
     "output_type": "stream",
     "text": [
      "\u001b[1;32mFile written: ../ROOT_FILES/treesWithNN/qcdcr/tree_2017_UL_qcdcr/tree_WZ_WZTo2L2Q.root\u001b[0m (19610 -> 57, 0.29%)\n",
      "\n",
      "\n",
      "Processing file: tree_WZ_WZTo3LNu.root\n"
     ]
    },
    {
     "data": {
      "application/vnd.jupyter.widget-view+json": {
       "model_id": "917eab201d65447aac010023ac7f5a23",
       "version_major": 2,
       "version_minor": 0
      },
      "text/plain": [
       "Reading:   0%|          | 0/4 [00:00<?, ? batch/s]"
      ]
     },
     "metadata": {},
     "output_type": "display_data"
    },
    {
     "data": {
      "application/vnd.jupyter.widget-view+json": {
       "model_id": "0c9dc79d7920488e9d3c8f702e3c8a80",
       "version_major": 2,
       "version_minor": 0
      },
      "text/plain": [
       "Reading:   0%|          | 0/1 [00:00<?, ? batch/s]"
      ]
     },
     "metadata": {},
     "output_type": "display_data"
    },
    {
     "name": "stdout",
     "output_type": "stream",
     "text": [
      "\u001b[1;32mFile written: ../ROOT_FILES/treesWithNN/qcdcr/tree_2017_UL_qcdcr/tree_WZ_WZTo3LNu.root\u001b[0m (337301 -> 612, 0.18%)\n",
      "\n",
      "\n",
      "Processing file: tree_ZGamma_ZGToLLG_01J.root\n"
     ]
    },
    {
     "data": {
      "application/vnd.jupyter.widget-view+json": {
       "model_id": "0aa923ec585c4e198d2799221aeb102b",
       "version_major": 2,
       "version_minor": 0
      },
      "text/plain": [
       "Reading:   0%|          | 0/1 [00:00<?, ? batch/s]"
      ]
     },
     "metadata": {},
     "output_type": "display_data"
    },
    {
     "data": {
      "application/vnd.jupyter.widget-view+json": {
       "model_id": "96493bf56208473c9fe2751f70e33efa",
       "version_major": 2,
       "version_minor": 0
      },
      "text/plain": [
       "Reading:   0%|          | 0/1 [00:00<?, ? batch/s]"
      ]
     },
     "metadata": {},
     "output_type": "display_data"
    },
    {
     "name": "stdout",
     "output_type": "stream",
     "text": [
      "\u001b[1;32mFile written: ../ROOT_FILES/treesWithNN/qcdcr/tree_2017_UL_qcdcr/tree_ZGamma_ZGToLLG_01J.root\u001b[0m (41200 -> 279, 0.68%)\n",
      "\n",
      "\n",
      "Processing file: tree_ZZZ_Inclusive.root\n"
     ]
    },
    {
     "data": {
      "application/vnd.jupyter.widget-view+json": {
       "model_id": "83d496411b534fd6a523c93dacda9d74",
       "version_major": 2,
       "version_minor": 0
      },
      "text/plain": [
       "Reading:   0%|          | 0/1 [00:00<?, ? batch/s]"
      ]
     },
     "metadata": {},
     "output_type": "display_data"
    },
    {
     "name": "stdout",
     "output_type": "stream",
     "text": [
      "Warning: Attempting to write empty DataFrame to ../ROOT_FILES/treesWithNN/qcdcr/tree_2017_UL_qcdcr/tree_ZZZ_Inclusive.root. Skipping.\n",
      "\u001b[1;32mFile written: ../ROOT_FILES/treesWithNN/qcdcr/tree_2017_UL_qcdcr/tree_ZZZ_Inclusive.root\u001b[0m (317 -> 0, 0.00%)\n",
      "\n",
      "\n",
      "Processing file: tree_ZZ_ZZTo2L2Nu.root\n"
     ]
    },
    {
     "data": {
      "application/vnd.jupyter.widget-view+json": {
       "model_id": "c1412e4f92024aa68984589ef8ce6749",
       "version_major": 2,
       "version_minor": 0
      },
      "text/plain": [
       "Reading:   0%|          | 0/1 [00:00<?, ? batch/s]"
      ]
     },
     "metadata": {},
     "output_type": "display_data"
    },
    {
     "data": {
      "application/vnd.jupyter.widget-view+json": {
       "model_id": "27e2d129b8e345beb50ce3b7a653230b",
       "version_major": 2,
       "version_minor": 0
      },
      "text/plain": [
       "Reading:   0%|          | 0/1 [00:00<?, ? batch/s]"
      ]
     },
     "metadata": {},
     "output_type": "display_data"
    },
    {
     "name": "stdout",
     "output_type": "stream",
     "text": [
      "\u001b[1;32mFile written: ../ROOT_FILES/treesWithNN/qcdcr/tree_2017_UL_qcdcr/tree_ZZ_ZZTo2L2Nu.root\u001b[0m (25484 -> 26, 0.10%)\n",
      "\n",
      "\n",
      "Processing file: tree_ZZ_ZZTo2Q2L.root\n"
     ]
    },
    {
     "data": {
      "application/vnd.jupyter.widget-view+json": {
       "model_id": "a522d95450624fae9c4e4953e69edda5",
       "version_major": 2,
       "version_minor": 0
      },
      "text/plain": [
       "Reading:   0%|          | 0/1 [00:00<?, ? batch/s]"
      ]
     },
     "metadata": {},
     "output_type": "display_data"
    },
    {
     "data": {
      "application/vnd.jupyter.widget-view+json": {
       "model_id": "7bf83157b6544161ac73b591ec9ac5a7",
       "version_major": 2,
       "version_minor": 0
      },
      "text/plain": [
       "Reading:   0%|          | 0/1 [00:00<?, ? batch/s]"
      ]
     },
     "metadata": {},
     "output_type": "display_data"
    },
    {
     "name": "stdout",
     "output_type": "stream",
     "text": [
      "\u001b[1;32mFile written: ../ROOT_FILES/treesWithNN/qcdcr/tree_2017_UL_qcdcr/tree_ZZ_ZZTo2Q2L.root\u001b[0m (25891 -> 180, 0.70%)\n",
      "\n",
      "\n",
      "Processing file: tree_ZZ_ZZTo2Q2Nu.root\n"
     ]
    },
    {
     "data": {
      "application/vnd.jupyter.widget-view+json": {
       "model_id": "85664e54d0ff4a3b81ad88972b863a37",
       "version_major": 2,
       "version_minor": 0
      },
      "text/plain": [
       "Reading:   0%|          | 0/1 [00:00<?, ? batch/s]"
      ]
     },
     "metadata": {},
     "output_type": "display_data"
    },
    {
     "name": "stdout",
     "output_type": "stream",
     "text": [
      "Warning: Attempting to write empty DataFrame to ../ROOT_FILES/treesWithNN/qcdcr/tree_2017_UL_qcdcr/tree_ZZ_ZZTo2Q2Nu.root. Skipping.\n",
      "\u001b[1;32mFile written: ../ROOT_FILES/treesWithNN/qcdcr/tree_2017_UL_qcdcr/tree_ZZ_ZZTo2Q2Nu.root\u001b[0m (1 -> 0, 0.00%)\n",
      "\n",
      "\n",
      "Processing file: tree_ZZ_ZZTo4L.root\n"
     ]
    },
    {
     "data": {
      "application/vnd.jupyter.widget-view+json": {
       "model_id": "f51b83e52c5f41c9a1b20e7c555b2bf3",
       "version_major": 2,
       "version_minor": 0
      },
      "text/plain": [
       "Reading:   0%|          | 0/14 [00:00<?, ? batch/s]"
      ]
     },
     "metadata": {},
     "output_type": "display_data"
    },
    {
     "data": {
      "application/vnd.jupyter.widget-view+json": {
       "model_id": "e4b3df02dece4852a305c99d99aaf536",
       "version_major": 2,
       "version_minor": 0
      },
      "text/plain": [
       "Reading:   0%|          | 0/1 [00:00<?, ? batch/s]"
      ]
     },
     "metadata": {},
     "output_type": "display_data"
    },
    {
     "name": "stdout",
     "output_type": "stream",
     "text": [
      "\u001b[1;32mFile written: ../ROOT_FILES/treesWithNN/qcdcr/tree_2017_UL_qcdcr/tree_ZZ_ZZTo4L.root\u001b[0m (1334237 -> 4478, 0.34%)\n",
      "\n",
      "\n",
      "\u001b[1;33mSummary:\u001b[0m\n",
      "\n",
      "\u001b[33mEmpty input: []\u001b[0m\n",
      "\n",
      "\u001b[31mEmpty output: ['QCD_EMEnriched_120to170.root', 'QCD_EMEnriched_170to300.root', 'QCD_EMEnriched_30to50.root', 'QCD_EMEnriched_50to80.root', 'QCD_EMEnriched_80to120.root', 'Rare_TTWZ.root', 'VLLD_ele_M1000.root', 'VLLD_ele_M300.root', 'VLLD_ele_M600.root', 'VLLD_mu_M200.root', 'VLLD_mu_M300.root', 'VLLD_mu_M400.root', 'VLLD_mu_M600.root', 'VLLD_mu_M800.root', 'VLLS_ele_M1000.root', 'VLLS_ele_M350.root', 'VLLS_ele_M450.root', 'VLLS_ele_M750.root', 'VLLS_mu_M450.root', 'VLLS_mu_M500.root', 'VLLS_mu_M750.root', 'WWZ_Inclusive.root', 'ZZZ_Inclusive.root', 'ZZ_ZZTo2Q2Nu.root']\u001b[0m\n",
      "\n",
      "CPU times: user 19.2 s, sys: 2.37 s, total: 21.6 s\n",
      "Wall time: 38.5 s\n"
     ]
    }
   ],
   "source": [
    "%%time\n",
    "\n",
    "list_of_files = os.listdir(indir)\n",
    "list_empty_input = []\n",
    "list_empty_output = []\n",
    "\n",
    "for f in list_of_files:\n",
    "\n",
    "    #if not 'QCD' in f: continue\n",
    "    if not f.endswith('.root'): continue\n",
    "    #if 'SingleMuon' not in f: continue\n",
    "\n",
    "    #Step1: Prepare the dataframe\n",
    "    print(f'\\nProcessing file: {f}')\n",
    "    filepath = os.path.join(indir, f)\n",
    "    sample = f.split(\"_\")[1]\n",
    "    subsample = \"_\".join(f.split(\"_\")[2:])\n",
    "       \n",
    "    outfile = os.path.join(outdir, f)\n",
    "    #if os.path.exists(outfile): continue\n",
    "    #if 'WJets' not in f: continue\n",
    "\n",
    "    df = read_file_into_df(filepath)\n",
    "    if df.empty : \n",
    "        #print(f\"\\033[0;31mWarning: Empty input file: {filepath}\\033[0m\\n\")\n",
    "        list_empty_input.append(filepath)\n",
    "        continue\n",
    "\n",
    "    ####################################\n",
    "    #         EVENT SELECTION          #\n",
    "    ####################################\n",
    "\n",
    "    #Step1: Controlling QCD:\n",
    "    dy_veto = 'not (channel == 3 and 76 < dilep_mass < 106)'\n",
    "    qcd_cr = f'{dy_veto} and {nnscore}<0.30 and 0.02<lep0_iso<0.15 and lep0_sip3d>5'\n",
    "    qcd_vr = f'{dy_veto} and {nnscore}<0.30 and 0.02<lep0_iso<0.15 and lep0_sip3d<5'\n",
    "\n",
    "    #Step2: Controlling Drell-Yan:\n",
    "    dycr  = f'76<dilep_mass<106  and dilep_ptratio > 0.7'\n",
    "\n",
    "    #Step3: Filter bad events:\n",
    "    tight_sip3d =  'lep0_sip3d<5 and lep1_sip3d<10'\n",
    "    good_events = f'{tight_sip3d} and {dy_veto} and {nnscore}>0.30 and HT>50' \n",
    "    \n",
    "    #Step4: Controlling TTbar:\n",
    "    top_cr = f'{good_events} and {nnscore}>0.70 and nbjet>0'    \n",
    "\n",
    "    #Step5: Validation:\n",
    "    val_region = f'{good_events} and 0.50<{nnscore}<0.70'\n",
    "\n",
    "    #Step6: Signal regions:\n",
    "    sr = f'{good_events} and {nnscore}>0.70 and nbjet==0'\n",
    "    \n",
    "    #------------------------------\n",
    "    # Final event selection:\n",
    "    event_selection = qcd_cr\n",
    "    #------------------------------\n",
    "\n",
    "    # Use df.query with the combined condition\n",
    "    df_filtered = df.query(event_selection)\n",
    "    \n",
    "    if df_filtered.empty: list_empty_output.append(f'{sample}_{subsample}')\n",
    "\n",
    "    nbefore = len(df)\n",
    "    nafter = len(df_filtered)\n",
    "\n",
    "    frac = 0\n",
    "    if nbefore != 0: frac = nafter*100/nbefore\n",
    "\n",
    "    #display(df_filtered)\n",
    "\n",
    "    write_df_into_file(df_filtered, outfile)\n",
    "    print(f'\\033[1;32mFile written: {outfile}\\033[0m ({nbefore} -> {nafter}, {frac:.2f}%)\\n')\n",
    "    #break #file\n",
    "\n",
    "print(f'\\n\\033[1;33mSummary:\\033[0m')\n",
    "print(f'\\n\\033[33mEmpty input: {list_empty_input}\\033[0m')\n",
    "print(f'\\n\\033[31mEmpty output: {list_empty_output}\\033[0m\\n')"
   ]
  },
  {
   "cell_type": "code",
   "execution_count": 5,
   "id": "f3244341-4a93-436b-90f4-34df59bfc803",
   "metadata": {},
   "outputs": [
    {
     "name": "stdout",
     "output_type": "stream",
     "text": [
      "\u001b[93m\n",
      "Runnning .. \n",
      "root -q -b -l 'extractHistsFromTrees.C(\"qcdcr/tree_2017_UL_qcdcr\", \"qcdcr/hist_2017_UL_qcdcr_mm\", \"2017_UL\", \"mm\")'\u001b[0m\n",
      "\n",
      "Run it yourself:\n",
      "\u001b[93m\n",
      "Runnning .. \n",
      "root -q -b -l 'extractHistsFromTrees.C(\"qcdcr/tree_2017_UL_qcdcr\", \"qcdcr/hist_2017_UL_qcdcr_me\", \"2017_UL\", \"me\")'\u001b[0m\n",
      "\n",
      "Run it yourself:\n",
      "\u001b[93m\n",
      "Runnning .. \n",
      "root -q -b -l 'extractHistsFromTrees.C(\"qcdcr/tree_2017_UL_qcdcr\", \"qcdcr/hist_2017_UL_qcdcr_em\", \"2017_UL\", \"em\")'\u001b[0m\n",
      "\n",
      "Run it yourself:\n",
      "\u001b[93m\n",
      "Runnning .. \n",
      "root -q -b -l 'extractHistsFromTrees.C(\"qcdcr/tree_2017_UL_qcdcr\", \"qcdcr/hist_2017_UL_qcdcr_ee\", \"2017_UL\", \"ee\")'\u001b[0m\n",
      "\n",
      "Run it yourself:\n",
      "Done!\n",
      "CPU times: user 146 μs, sys: 17 μs, total: 163 μs\n",
      "Wall time: 160 μs\n"
     ]
    }
   ],
   "source": [
    "%%time\n",
    "\n",
    "run_here = False\n",
    "\n",
    "channels = ['mm', 'me', 'em', 'ee']\n",
    "for channel_ in channels:\n",
    "    jobname_ = outjob\n",
    "    campaign_ = campaign\n",
    "    dump_ = outjob.replace('tree', 'hist')+'_'+channel_\n",
    "    arguments = f'extractHistsFromTrees.C(\"{jobname_}\", \"{dump_}\", \"{campaign_}\", \"{channel_}\")'\n",
    "    command = f\"root -q -b -l '{arguments}'\"\n",
    "    print(f'\\033[93m\\nRunnning .. \\n{command}\\033[0m\\n')\n",
    "\n",
    "    if run_here: os.system(command)\n",
    "    else: print('Run it yourself:')\n",
    "    \n",
    "print('Done!')"
   ]
  },
  {
   "cell_type": "code",
   "execution_count": null,
   "id": "ef11b42b-6023-4523-a035-375e3096932b",
   "metadata": {},
   "outputs": [],
   "source": []
  }
 ],
 "metadata": {
  "kernelspec": {
   "display_name": "Python 3 (ipykernel)",
   "language": "python",
   "name": "python3"
  },
  "language_info": {
   "codemirror_mode": {
    "name": "ipython",
    "version": 3
   },
   "file_extension": ".py",
   "mimetype": "text/x-python",
   "name": "python",
   "nbconvert_exporter": "python",
   "pygments_lexer": "ipython3",
   "version": "3.10.9"
  }
 },
 "nbformat": 4,
 "nbformat_minor": 5
}
