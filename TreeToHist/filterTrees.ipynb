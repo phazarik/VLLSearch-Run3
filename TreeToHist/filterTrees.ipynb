{
 "cells": [
  {
   "cell_type": "markdown",
   "id": "d15ad995-be53-4c97-b003-1e665304c060",
   "metadata": {},
   "source": [
    "# Python based analysis\n",
    "\n",
    "This script takes trees as inputs and writes another sets of trees as outputs.<br>\n",
    "The trees are filtered in between."
   ]
  },
  {
   "cell_type": "code",
   "execution_count": 1,
   "id": "46952fad-b0df-46cd-9ea3-a82c5d4b2960",
   "metadata": {},
   "outputs": [],
   "source": [
    "import os, sys\n",
    "import numpy as np\n",
    "import uproot\n",
    "import pandas as pd\n",
    "from tqdm import tqdm"
   ]
  },
  {
   "cell_type": "code",
   "execution_count": 2,
   "id": "840c6f43-9c6f-40a4-9729-05a6fd6cc5ab",
   "metadata": {},
   "outputs": [],
   "source": [
    "#Global parameters\n",
    "\n",
    "basedir = '../input_files/trees'\n",
    "injob  = 'tree_ee_Zwindow_2018UL_Feb27'\n",
    "outjob = 'tree_ee_Zwindow_2018UL_Mar12'\n",
    "campaign = '2018_UL'\n",
    "\n",
    "indir = os.path.join(basedir, injob)\n",
    "outdir = os.path.join(basedir, outjob)\n",
    "os.makedirs(outdir, exist_ok=True) "
   ]
  },
  {
   "cell_type": "code",
   "execution_count": 3,
   "id": "2a6bbb61-0ef6-4dd7-ac26-2ab02b3e579a",
   "metadata": {},
   "outputs": [
    {
     "name": "stdout",
     "output_type": "stream",
     "text": [
      "Functions loaded.\n"
     ]
    }
   ],
   "source": [
    "import uproot\n",
    "import pandas as pd\n",
    "from tqdm.notebook import tqdm\n",
    "\n",
    "def read_file_into_df(filepath, step_size=100000):\n",
    "    with uproot.open(filepath) as tfile:\n",
    "        if \"myEvents\" not in tfile:\n",
    "            print(f\"Warning: 'myEvents' tree not found in {filepath}. Skipping.\")\n",
    "            return pd.DataFrame()\n",
    "\n",
    "        ttree = tfile[\"myEvents\"]\n",
    "        total_entries = ttree.num_entries\n",
    "\n",
    "        if total_entries == 0:\n",
    "            print(f\"Warning: 'myEvents' tree in {filepath} is empty. Skipping.\")\n",
    "            return pd.DataFrame()\n",
    "\n",
    "        total_batches = (total_entries + step_size - 1) // step_size\n",
    "        dfs = []\n",
    "\n",
    "        with tqdm(total=total_batches, unit=\"batch\",\n",
    "                  bar_format=\"{l_bar}{bar}| [{elapsed} < {remaining}, {n_fmt}/{total_fmt}]\",\n",
    "                  leave=True, ncols=100, desc=\"Reading\", colour='green') as pbar:\n",
    "            for batch in ttree.iterate(ttree.keys(), step_size=step_size, library=\"pd\"):\n",
    "                dfs.append(batch)\n",
    "                pbar.update(1)\n",
    "\n",
    "    return pd.concat(dfs, ignore_index=True) if dfs else pd.DataFrame()\n",
    "\n",
    "def write_df_into_file(df, filepath, step_size=100000):\n",
    "    if df.empty:\n",
    "        print(f\"Warning: Attempting to write empty DataFrame to {filepath}. Skipping.\")\n",
    "        return\n",
    "\n",
    "    total_entries = len(df)\n",
    "    total_batches = (total_entries + step_size - 1) // step_size\n",
    "\n",
    "    with tqdm(total=total_batches, unit=\"batch\", \n",
    "              bar_format=\"{l_bar}{bar}| {percentage:3.0f}% [{elapsed} < {remaining}, {n_fmt}/{total_fmt}]\",\n",
    "              leave=True, ncols=100, desc=\"Writing\", colour='green') as pbar:\n",
    "        \n",
    "        with uproot.recreate(filepath) as file:\n",
    "            for start in range(0, total_entries, step_size):\n",
    "                chunk = df.iloc[start:start + step_size]\n",
    "                if start == 0: file[\"myEvents\"] = {col: chunk[col].to_numpy() for col in df.columns}\n",
    "                else:          file[\"myEvents\"].extend({col: chunk[col].to_numpy() for col in df.columns})\n",
    "                pbar.update(1)\n",
    "\n",
    "print('Functions loaded.')"
   ]
  },
  {
   "cell_type": "code",
   "execution_count": 4,
   "id": "75a2660c-8c77-497c-a061-6470e5c19c8b",
   "metadata": {},
   "outputs": [
    {
     "name": "stdout",
     "output_type": "stream",
     "text": [
      "\n",
      "Processing file: tree_DYJetsToLL_M10to50.root\n"
     ]
    },
    {
     "data": {
      "application/vnd.jupyter.widget-view+json": {
       "model_id": "a495d3e2ddad4e0391d2045db77c56f8",
       "version_major": 2,
       "version_minor": 0
      },
      "text/plain": [
       "Reading:   0%|                                                                    | [00:00 < ?, 0/1]"
      ]
     },
     "metadata": {},
     "output_type": "display_data"
    },
    {
     "data": {
      "application/vnd.jupyter.widget-view+json": {
       "model_id": "4c3047bcc13d40cfab0b5f2405f71451",
       "version_major": 2,
       "version_minor": 0
      },
      "text/plain": [
       "Writing:   0%|                                                               |   0% [00:00 < ?, 0/1]"
      ]
     },
     "metadata": {},
     "output_type": "display_data"
    },
    {
     "name": "stdout",
     "output_type": "stream",
     "text": [
      "\u001b[1;32mFile written: ../input_files/trees/tree_ee_Zwindow_2018UL_Mar12/tree_DYJetsToLL_M10to50.root\u001b[0m (8 -> 3, 37.50%)\n",
      "\n",
      "\n",
      "Processing file: tree_DYJetsToLL_M50.root\n"
     ]
    },
    {
     "data": {
      "application/vnd.jupyter.widget-view+json": {
       "model_id": "3762a043a00b4a6fa6e4fe898e3de962",
       "version_major": 2,
       "version_minor": 0
      },
      "text/plain": [
       "Reading:   0%|                                                                  | [00:00 < ?, 0/133]"
      ]
     },
     "metadata": {},
     "output_type": "display_data"
    },
    {
     "data": {
      "application/vnd.jupyter.widget-view+json": {
       "model_id": "3516cde430364ebf8837b708776f7555",
       "version_major": 2,
       "version_minor": 0
      },
      "text/plain": [
       "Writing:   0%|                                                              |   0% [00:00 < ?, 0/79]"
      ]
     },
     "metadata": {},
     "output_type": "display_data"
    },
    {
     "name": "stdout",
     "output_type": "stream",
     "text": [
      "\u001b[1;32mFile written: ../input_files/trees/tree_ee_Zwindow_2018UL_Mar12/tree_DYJetsToLL_M50.root\u001b[0m (13251184 -> 7826278, 59.06%)\n",
      "\n",
      "\n",
      "Processing file: tree_EGamma_EGamma_A.root\n"
     ]
    },
    {
     "data": {
      "application/vnd.jupyter.widget-view+json": {
       "model_id": "987d99cd43fa44778945914dac8b3bfd",
       "version_major": 2,
       "version_minor": 0
      },
      "text/plain": [
       "Reading:   0%|                                                                   | [00:00 < ?, 0/50]"
      ]
     },
     "metadata": {},
     "output_type": "display_data"
    },
    {
     "data": {
      "application/vnd.jupyter.widget-view+json": {
       "model_id": "fc6dffeae9c547efb591f20d8f8f0cee",
       "version_major": 2,
       "version_minor": 0
      },
      "text/plain": [
       "Writing:   0%|                                                              |   0% [00:00 < ?, 0/33]"
      ]
     },
     "metadata": {},
     "output_type": "display_data"
    },
    {
     "name": "stdout",
     "output_type": "stream",
     "text": [
      "\u001b[1;32mFile written: ../input_files/trees/tree_ee_Zwindow_2018UL_Mar12/tree_EGamma_EGamma_A.root\u001b[0m (4921819 -> 3288831, 66.82%)\n",
      "\n",
      "\n",
      "Processing file: tree_EGamma_EGamma_B.root\n"
     ]
    },
    {
     "data": {
      "application/vnd.jupyter.widget-view+json": {
       "model_id": "4ce540bed1454a09836768c3730be722",
       "version_major": 2,
       "version_minor": 0
      },
      "text/plain": [
       "Reading:   0%|                                                                   | [00:00 < ?, 0/25]"
      ]
     },
     "metadata": {},
     "output_type": "display_data"
    },
    {
     "data": {
      "application/vnd.jupyter.widget-view+json": {
       "model_id": "9a52b512ad9c4eb1959f38aaaafd9295",
       "version_major": 2,
       "version_minor": 0
      },
      "text/plain": [
       "Writing:   0%|                                                              |   0% [00:00 < ?, 0/17]"
      ]
     },
     "metadata": {},
     "output_type": "display_data"
    },
    {
     "name": "stdout",
     "output_type": "stream",
     "text": [
      "\u001b[1;32mFile written: ../input_files/trees/tree_ee_Zwindow_2018UL_Mar12/tree_EGamma_EGamma_B.root\u001b[0m (2497360 -> 1668765, 66.82%)\n",
      "\n",
      "\n",
      "Processing file: tree_EGamma_EGamma_C.root\n"
     ]
    },
    {
     "data": {
      "application/vnd.jupyter.widget-view+json": {
       "model_id": "db505b40121f48e0a5128e5cffdca273",
       "version_major": 2,
       "version_minor": 0
      },
      "text/plain": [
       "Reading:   0%|                                                                   | [00:00 < ?, 0/25]"
      ]
     },
     "metadata": {},
     "output_type": "display_data"
    },
    {
     "data": {
      "application/vnd.jupyter.widget-view+json": {
       "model_id": "fcccc087685b42419e8c9063a2c73c4c",
       "version_major": 2,
       "version_minor": 0
      },
      "text/plain": [
       "Writing:   0%|                                                              |   0% [00:00 < ?, 0/17]"
      ]
     },
     "metadata": {},
     "output_type": "display_data"
    },
    {
     "name": "stdout",
     "output_type": "stream",
     "text": [
      "\u001b[1;32mFile written: ../input_files/trees/tree_ee_Zwindow_2018UL_Mar12/tree_EGamma_EGamma_C.root\u001b[0m (2417316 -> 1615009, 66.81%)\n",
      "\n",
      "\n",
      "Processing file: tree_EGamma_EGamma_D.root\n"
     ]
    },
    {
     "data": {
      "application/vnd.jupyter.widget-view+json": {
       "model_id": "c766b0acd49348f2a6e272abe5555847",
       "version_major": 2,
       "version_minor": 0
      },
      "text/plain": [
       "Reading:   0%|                                                                  | [00:00 < ?, 0/112]"
      ]
     },
     "metadata": {},
     "output_type": "display_data"
    },
    {
     "data": {
      "application/vnd.jupyter.widget-view+json": {
       "model_id": "58e1575ee5164e189595f13c650d6c3e",
       "version_major": 2,
       "version_minor": 0
      },
      "text/plain": [
       "Writing:   0%|                                                              |   0% [00:00 < ?, 0/75]"
      ]
     },
     "metadata": {},
     "output_type": "display_data"
    },
    {
     "name": "stdout",
     "output_type": "stream",
     "text": [
      "\u001b[1;32mFile written: ../input_files/trees/tree_ee_Zwindow_2018UL_Mar12/tree_EGamma_EGamma_D.root\u001b[0m (11132743 -> 7468867, 67.09%)\n",
      "\n",
      "\n",
      "Processing file: tree_Higgs_bbH_HToZZTo4L.root\n"
     ]
    },
    {
     "data": {
      "application/vnd.jupyter.widget-view+json": {
       "model_id": "cfbba363e12142f4891b09fbd935e852",
       "version_major": 2,
       "version_minor": 0
      },
      "text/plain": [
       "Reading:   0%|                                                                    | [00:00 < ?, 0/1]"
      ]
     },
     "metadata": {},
     "output_type": "display_data"
    },
    {
     "data": {
      "application/vnd.jupyter.widget-view+json": {
       "model_id": "0ae8623f9f9243fab1c0d983a0a3bac5",
       "version_major": 2,
       "version_minor": 0
      },
      "text/plain": [
       "Writing:   0%|                                                               |   0% [00:00 < ?, 0/1]"
      ]
     },
     "metadata": {},
     "output_type": "display_data"
    },
    {
     "name": "stdout",
     "output_type": "stream",
     "text": [
      "\u001b[1;32mFile written: ../input_files/trees/tree_ee_Zwindow_2018UL_Mar12/tree_Higgs_bbH_HToZZTo4L.root\u001b[0m (22728 -> 10475, 46.09%)\n",
      "\n",
      "\n",
      "Processing file: tree_Higgs_GluGluHToZZTo4L.root\n"
     ]
    },
    {
     "data": {
      "application/vnd.jupyter.widget-view+json": {
       "model_id": "328825b355254669927f736df899fac7",
       "version_major": 2,
       "version_minor": 0
      },
      "text/plain": [
       "Reading:   0%|                                                                    | [00:00 < ?, 0/1]"
      ]
     },
     "metadata": {},
     "output_type": "display_data"
    },
    {
     "data": {
      "application/vnd.jupyter.widget-view+json": {
       "model_id": "ffff4f0c901141e29ff84a151bc51733",
       "version_major": 2,
       "version_minor": 0
      },
      "text/plain": [
       "Writing:   0%|                                                               |   0% [00:00 < ?, 0/1]"
      ]
     },
     "metadata": {},
     "output_type": "display_data"
    },
    {
     "name": "stdout",
     "output_type": "stream",
     "text": [
      "\u001b[1;32mFile written: ../input_files/trees/tree_ee_Zwindow_2018UL_Mar12/tree_Higgs_GluGluHToZZTo4L.root\u001b[0m (44354 -> 21399, 48.25%)\n",
      "\n",
      "\n",
      "Processing file: tree_Higgs_GluGluToZH_HToZZTo4L.root\n"
     ]
    },
    {
     "data": {
      "application/vnd.jupyter.widget-view+json": {
       "model_id": "ee490a30aae44abfb8ec428401854209",
       "version_major": 2,
       "version_minor": 0
      },
      "text/plain": [
       "Reading:   0%|                                                                    | [00:00 < ?, 0/1]"
      ]
     },
     "metadata": {},
     "output_type": "display_data"
    },
    {
     "data": {
      "application/vnd.jupyter.widget-view+json": {
       "model_id": "ae76147e430043288eeff398a089ef70",
       "version_major": 2,
       "version_minor": 0
      },
      "text/plain": [
       "Writing:   0%|                                                               |   0% [00:00 < ?, 0/1]"
      ]
     },
     "metadata": {},
     "output_type": "display_data"
    },
    {
     "name": "stdout",
     "output_type": "stream",
     "text": [
      "\u001b[1;32mFile written: ../input_files/trees/tree_ee_Zwindow_2018UL_Mar12/tree_Higgs_GluGluToZH_HToZZTo4L.root\u001b[0m (70778 -> 18718, 26.45%)\n",
      "\n",
      "\n",
      "Processing file: tree_Higgs_GluGluZH_HToWW_ZTo2L.root\n"
     ]
    },
    {
     "data": {
      "application/vnd.jupyter.widget-view+json": {
       "model_id": "b288419477ba4a809d01bbd768b95786",
       "version_major": 2,
       "version_minor": 0
      },
      "text/plain": [
       "Reading:   0%|                                                                    | [00:00 < ?, 0/2]"
      ]
     },
     "metadata": {},
     "output_type": "display_data"
    },
    {
     "data": {
      "application/vnd.jupyter.widget-view+json": {
       "model_id": "7d11983a311f4287b8dfc0fb4e4fd90b",
       "version_major": 2,
       "version_minor": 0
      },
      "text/plain": [
       "Writing:   0%|                                                               |   0% [00:00 < ?, 0/1]"
      ]
     },
     "metadata": {},
     "output_type": "display_data"
    },
    {
     "name": "stdout",
     "output_type": "stream",
     "text": [
      "\u001b[1;32mFile written: ../input_files/trees/tree_ee_Zwindow_2018UL_Mar12/tree_Higgs_GluGluZH_HToWW_ZTo2L.root\u001b[0m (113610 -> 31626, 27.84%)\n",
      "\n",
      "\n",
      "Processing file: tree_Higgs_ttHToNonbb.root\n"
     ]
    },
    {
     "data": {
      "application/vnd.jupyter.widget-view+json": {
       "model_id": "728d1eb9939941ac80f52f0c1c456325",
       "version_major": 2,
       "version_minor": 0
      },
      "text/plain": [
       "Reading:   0%|                                                                    | [00:00 < ?, 0/1]"
      ]
     },
     "metadata": {},
     "output_type": "display_data"
    },
    {
     "data": {
      "application/vnd.jupyter.widget-view+json": {
       "model_id": "fc1ffa7bf2964bc99d3938aaad7cafdb",
       "version_major": 2,
       "version_minor": 0
      },
      "text/plain": [
       "Writing:   0%|                                                               |   0% [00:00 < ?, 0/1]"
      ]
     },
     "metadata": {},
     "output_type": "display_data"
    },
    {
     "name": "stdout",
     "output_type": "stream",
     "text": [
      "\u001b[1;32mFile written: ../input_files/trees/tree_ee_Zwindow_2018UL_Mar12/tree_Higgs_ttHToNonbb.root\u001b[0m (20712 -> 4912, 23.72%)\n",
      "\n",
      "\n",
      "Processing file: tree_Higgs_VBF_HToZZTo4L.root\n"
     ]
    },
    {
     "data": {
      "application/vnd.jupyter.widget-view+json": {
       "model_id": "911c7420af4a4a10bbb7ad0442e724ce",
       "version_major": 2,
       "version_minor": 0
      },
      "text/plain": [
       "Reading:   0%|                                                                    | [00:00 < ?, 0/1]"
      ]
     },
     "metadata": {},
     "output_type": "display_data"
    },
    {
     "data": {
      "application/vnd.jupyter.widget-view+json": {
       "model_id": "648e95fc5e0f43cd945f59ddf582bd24",
       "version_major": 2,
       "version_minor": 0
      },
      "text/plain": [
       "Writing:   0%|                                                               |   0% [00:00 < ?, 0/1]"
      ]
     },
     "metadata": {},
     "output_type": "display_data"
    },
    {
     "name": "stdout",
     "output_type": "stream",
     "text": [
      "\u001b[1;32mFile written: ../input_files/trees/tree_ee_Zwindow_2018UL_Mar12/tree_Higgs_VBF_HToZZTo4L.root\u001b[0m (23008 -> 6878, 29.89%)\n",
      "\n",
      "\n",
      "Processing file: tree_Higgs_VHToNonbb.root\n"
     ]
    },
    {
     "data": {
      "application/vnd.jupyter.widget-view+json": {
       "model_id": "985ead0560fd4b8d84f22d796f833dab",
       "version_major": 2,
       "version_minor": 0
      },
      "text/plain": [
       "Reading:   0%|                                                                    | [00:00 < ?, 0/1]"
      ]
     },
     "metadata": {},
     "output_type": "display_data"
    },
    {
     "data": {
      "application/vnd.jupyter.widget-view+json": {
       "model_id": "09bfe9a7419b4130b66d9fcf950834c3",
       "version_major": 2,
       "version_minor": 0
      },
      "text/plain": [
       "Writing:   0%|                                                               |   0% [00:00 < ?, 0/1]"
      ]
     },
     "metadata": {},
     "output_type": "display_data"
    },
    {
     "name": "stdout",
     "output_type": "stream",
     "text": [
      "\u001b[1;32mFile written: ../input_files/trees/tree_ee_Zwindow_2018UL_Mar12/tree_Higgs_VHToNonbb.root\u001b[0m (5603 -> 1655, 29.54%)\n",
      "\n",
      "\n",
      "Processing file: tree_HTbinnedWJets_100to200.root\n"
     ]
    },
    {
     "data": {
      "application/vnd.jupyter.widget-view+json": {
       "model_id": "07467d12448844af93a16695fc9b770e",
       "version_major": 2,
       "version_minor": 0
      },
      "text/plain": [
       "Reading:   0%|                                                                    | [00:00 < ?, 0/1]"
      ]
     },
     "metadata": {},
     "output_type": "display_data"
    },
    {
     "data": {
      "application/vnd.jupyter.widget-view+json": {
       "model_id": "a1a3500eca764fac9933e2e1dd1a2637",
       "version_major": 2,
       "version_minor": 0
      },
      "text/plain": [
       "Writing:   0%|                                                               |   0% [00:00 < ?, 0/1]"
      ]
     },
     "metadata": {},
     "output_type": "display_data"
    },
    {
     "name": "stdout",
     "output_type": "stream",
     "text": [
      "\u001b[1;32mFile written: ../input_files/trees/tree_ee_Zwindow_2018UL_Mar12/tree_HTbinnedWJets_100to200.root\u001b[0m (743 -> 140, 18.84%)\n",
      "\n",
      "\n",
      "Processing file: tree_HTbinnedWJets_1200to2500.root\n"
     ]
    },
    {
     "data": {
      "application/vnd.jupyter.widget-view+json": {
       "model_id": "7b081f7de694400784f0ef2f569654dd",
       "version_major": 2,
       "version_minor": 0
      },
      "text/plain": [
       "Reading:   0%|                                                                    | [00:00 < ?, 0/1]"
      ]
     },
     "metadata": {},
     "output_type": "display_data"
    },
    {
     "data": {
      "application/vnd.jupyter.widget-view+json": {
       "model_id": "760673ad52f645e49f0c97f7cf91cece",
       "version_major": 2,
       "version_minor": 0
      },
      "text/plain": [
       "Writing:   0%|                                                               |   0% [00:00 < ?, 0/1]"
      ]
     },
     "metadata": {},
     "output_type": "display_data"
    },
    {
     "name": "stdout",
     "output_type": "stream",
     "text": [
      "\u001b[1;32mFile written: ../input_files/trees/tree_ee_Zwindow_2018UL_Mar12/tree_HTbinnedWJets_1200to2500.root\u001b[0m (138 -> 10, 7.25%)\n",
      "\n",
      "\n",
      "Processing file: tree_HTbinnedWJets_200to400.root\n"
     ]
    },
    {
     "data": {
      "application/vnd.jupyter.widget-view+json": {
       "model_id": "27ca5d80d7314d6fbef603c65a0ea954",
       "version_major": 2,
       "version_minor": 0
      },
      "text/plain": [
       "Reading:   0%|                                                                    | [00:00 < ?, 0/1]"
      ]
     },
     "metadata": {},
     "output_type": "display_data"
    },
    {
     "data": {
      "application/vnd.jupyter.widget-view+json": {
       "model_id": "b19cba60ad8f4c84a22f350cb1840781",
       "version_major": 2,
       "version_minor": 0
      },
      "text/plain": [
       "Writing:   0%|                                                               |   0% [00:00 < ?, 0/1]"
      ]
     },
     "metadata": {},
     "output_type": "display_data"
    },
    {
     "name": "stdout",
     "output_type": "stream",
     "text": [
      "\u001b[1;32mFile written: ../input_files/trees/tree_ee_Zwindow_2018UL_Mar12/tree_HTbinnedWJets_200to400.root\u001b[0m (1015 -> 123, 12.12%)\n",
      "\n",
      "\n",
      "Processing file: tree_HTbinnedWJets_2500toInf.root\n"
     ]
    },
    {
     "data": {
      "application/vnd.jupyter.widget-view+json": {
       "model_id": "a29a9ddd09f9401ead3dea3a44ffb889",
       "version_major": 2,
       "version_minor": 0
      },
      "text/plain": [
       "Reading:   0%|                                                                    | [00:00 < ?, 0/1]"
      ]
     },
     "metadata": {},
     "output_type": "display_data"
    },
    {
     "data": {
      "application/vnd.jupyter.widget-view+json": {
       "model_id": "6c8f040589524714bf7d9cf9ad9f6f6f",
       "version_major": 2,
       "version_minor": 0
      },
      "text/plain": [
       "Writing:   0%|                                                               |   0% [00:00 < ?, 0/1]"
      ]
     },
     "metadata": {},
     "output_type": "display_data"
    },
    {
     "name": "stdout",
     "output_type": "stream",
     "text": [
      "\u001b[1;32mFile written: ../input_files/trees/tree_ee_Zwindow_2018UL_Mar12/tree_HTbinnedWJets_2500toInf.root\u001b[0m (38 -> 1, 2.63%)\n",
      "\n",
      "\n",
      "Processing file: tree_HTbinnedWJets_400to600.root\n"
     ]
    },
    {
     "data": {
      "application/vnd.jupyter.widget-view+json": {
       "model_id": "303f980587eb43a3a46702cd3bf757f9",
       "version_major": 2,
       "version_minor": 0
      },
      "text/plain": [
       "Reading:   0%|                                                                    | [00:00 < ?, 0/1]"
      ]
     },
     "metadata": {},
     "output_type": "display_data"
    },
    {
     "data": {
      "application/vnd.jupyter.widget-view+json": {
       "model_id": "fa6a44fae84a47d1922e94ed737b607a",
       "version_major": 2,
       "version_minor": 0
      },
      "text/plain": [
       "Writing:   0%|                                                               |   0% [00:00 < ?, 0/1]"
      ]
     },
     "metadata": {},
     "output_type": "display_data"
    },
    {
     "name": "stdout",
     "output_type": "stream",
     "text": [
      "\u001b[1;32mFile written: ../input_files/trees/tree_ee_Zwindow_2018UL_Mar12/tree_HTbinnedWJets_400to600.root\u001b[0m (155 -> 21, 13.55%)\n",
      "\n",
      "\n",
      "Processing file: tree_HTbinnedWJets_600to800.root\n"
     ]
    },
    {
     "data": {
      "application/vnd.jupyter.widget-view+json": {
       "model_id": "34b5952c6e39453e82ddc69a2e9cb702",
       "version_major": 2,
       "version_minor": 0
      },
      "text/plain": [
       "Reading:   0%|                                                                    | [00:00 < ?, 0/1]"
      ]
     },
     "metadata": {},
     "output_type": "display_data"
    },
    {
     "data": {
      "application/vnd.jupyter.widget-view+json": {
       "model_id": "c155593b14934b4a8ca6643c4c7f14f3",
       "version_major": 2,
       "version_minor": 0
      },
      "text/plain": [
       "Writing:   0%|                                                               |   0% [00:00 < ?, 0/1]"
      ]
     },
     "metadata": {},
     "output_type": "display_data"
    },
    {
     "name": "stdout",
     "output_type": "stream",
     "text": [
      "\u001b[1;32mFile written: ../input_files/trees/tree_ee_Zwindow_2018UL_Mar12/tree_HTbinnedWJets_600to800.root\u001b[0m (158 -> 16, 10.13%)\n",
      "\n",
      "\n",
      "Processing file: tree_HTbinnedWJets_70to100.root\n"
     ]
    },
    {
     "data": {
      "application/vnd.jupyter.widget-view+json": {
       "model_id": "114febd7a2924edcaad97b3a9289b736",
       "version_major": 2,
       "version_minor": 0
      },
      "text/plain": [
       "Reading:   0%|                                                                    | [00:00 < ?, 0/1]"
      ]
     },
     "metadata": {},
     "output_type": "display_data"
    },
    {
     "data": {
      "application/vnd.jupyter.widget-view+json": {
       "model_id": "858d7055bcbe4549990fbc3d75a2f96f",
       "version_major": 2,
       "version_minor": 0
      },
      "text/plain": [
       "Writing:   0%|                                                               |   0% [00:00 < ?, 0/1]"
      ]
     },
     "metadata": {},
     "output_type": "display_data"
    },
    {
     "name": "stdout",
     "output_type": "stream",
     "text": [
      "\u001b[1;32mFile written: ../input_files/trees/tree_ee_Zwindow_2018UL_Mar12/tree_HTbinnedWJets_70to100.root\u001b[0m (769 -> 152, 19.77%)\n",
      "\n",
      "\n",
      "Processing file: tree_HTbinnedWJets_800to1200.root\n"
     ]
    },
    {
     "data": {
      "application/vnd.jupyter.widget-view+json": {
       "model_id": "a37da8ebdb1e402cba3afa7b6e014a5b",
       "version_major": 2,
       "version_minor": 0
      },
      "text/plain": [
       "Reading:   0%|                                                                    | [00:00 < ?, 0/1]"
      ]
     },
     "metadata": {},
     "output_type": "display_data"
    },
    {
     "data": {
      "application/vnd.jupyter.widget-view+json": {
       "model_id": "7054e798c7b340b48babdd0c6dbbf29f",
       "version_major": 2,
       "version_minor": 0
      },
      "text/plain": [
       "Writing:   0%|                                                               |   0% [00:00 < ?, 0/1]"
      ]
     },
     "metadata": {},
     "output_type": "display_data"
    },
    {
     "name": "stdout",
     "output_type": "stream",
     "text": [
      "\u001b[1;32mFile written: ../input_files/trees/tree_ee_Zwindow_2018UL_Mar12/tree_HTbinnedWJets_800to1200.root\u001b[0m (158 -> 25, 15.82%)\n",
      "\n",
      "\n",
      "Processing file: tree_QCD_EMEnriched_120to170.root\n"
     ]
    },
    {
     "data": {
      "application/vnd.jupyter.widget-view+json": {
       "model_id": "b87cb87994e64f60b960d9efefe6f264",
       "version_major": 2,
       "version_minor": 0
      },
      "text/plain": [
       "Reading:   0%|                                                                    | [00:00 < ?, 0/1]"
      ]
     },
     "metadata": {},
     "output_type": "display_data"
    },
    {
     "name": "stdout",
     "output_type": "stream",
     "text": [
      "Warning: Attempting to write empty DataFrame to ../input_files/trees/tree_ee_Zwindow_2018UL_Mar12/tree_QCD_EMEnriched_120to170.root. Skipping.\n",
      "\u001b[1;32mFile written: ../input_files/trees/tree_ee_Zwindow_2018UL_Mar12/tree_QCD_EMEnriched_120to170.root\u001b[0m (1 -> 0, 0.00%)\n",
      "\n",
      "\n",
      "Processing file: tree_QCD_EMEnriched_15to20.root\n",
      "Warning: 'myEvents' tree in ../input_files/trees/tree_ee_Zwindow_2018UL_Feb27/tree_QCD_EMEnriched_15to20.root is empty. Skipping.\n",
      "\n",
      "Processing file: tree_QCD_EMEnriched_170to300.root\n",
      "Warning: 'myEvents' tree in ../input_files/trees/tree_ee_Zwindow_2018UL_Feb27/tree_QCD_EMEnriched_170to300.root is empty. Skipping.\n",
      "\n",
      "Processing file: tree_QCD_EMEnriched_20to30.root\n",
      "Warning: 'myEvents' tree in ../input_files/trees/tree_ee_Zwindow_2018UL_Feb27/tree_QCD_EMEnriched_20to30.root is empty. Skipping.\n",
      "\n",
      "Processing file: tree_QCD_EMEnriched_300toInf.root\n"
     ]
    },
    {
     "data": {
      "application/vnd.jupyter.widget-view+json": {
       "model_id": "3bed01805e82470980d0dfa586ed0291",
       "version_major": 2,
       "version_minor": 0
      },
      "text/plain": [
       "Reading:   0%|                                                                    | [00:00 < ?, 0/1]"
      ]
     },
     "metadata": {},
     "output_type": "display_data"
    },
    {
     "name": "stdout",
     "output_type": "stream",
     "text": [
      "Warning: Attempting to write empty DataFrame to ../input_files/trees/tree_ee_Zwindow_2018UL_Mar12/tree_QCD_EMEnriched_300toInf.root. Skipping.\n",
      "\u001b[1;32mFile written: ../input_files/trees/tree_ee_Zwindow_2018UL_Mar12/tree_QCD_EMEnriched_300toInf.root\u001b[0m (1 -> 0, 0.00%)\n",
      "\n",
      "\n",
      "Processing file: tree_QCD_EMEnriched_30to50.root\n",
      "Warning: 'myEvents' tree in ../input_files/trees/tree_ee_Zwindow_2018UL_Feb27/tree_QCD_EMEnriched_30to50.root is empty. Skipping.\n",
      "\n",
      "Processing file: tree_QCD_EMEnriched_50to80.root\n",
      "Warning: 'myEvents' tree in ../input_files/trees/tree_ee_Zwindow_2018UL_Feb27/tree_QCD_EMEnriched_50to80.root is empty. Skipping.\n",
      "\n",
      "Processing file: tree_QCD_EMEnriched_80to120.root\n",
      "Warning: 'myEvents' tree in ../input_files/trees/tree_ee_Zwindow_2018UL_Feb27/tree_QCD_EMEnriched_80to120.root is empty. Skipping.\n",
      "\n",
      "Processing file: tree_QCD_MuEnriched_120to170.root\n"
     ]
    },
    {
     "data": {
      "application/vnd.jupyter.widget-view+json": {
       "model_id": "23eaa5cb38b94607ae2f45ab78388402",
       "version_major": 2,
       "version_minor": 0
      },
      "text/plain": [
       "Reading:   0%|                                                                    | [00:00 < ?, 0/1]"
      ]
     },
     "metadata": {},
     "output_type": "display_data"
    },
    {
     "name": "stdout",
     "output_type": "stream",
     "text": [
      "Warning: Attempting to write empty DataFrame to ../input_files/trees/tree_ee_Zwindow_2018UL_Mar12/tree_QCD_MuEnriched_120to170.root. Skipping.\n",
      "\u001b[1;32mFile written: ../input_files/trees/tree_ee_Zwindow_2018UL_Mar12/tree_QCD_MuEnriched_120to170.root\u001b[0m (2 -> 0, 0.00%)\n",
      "\n",
      "\n",
      "Processing file: tree_QCD_MuEnriched_170to300.root\n"
     ]
    },
    {
     "data": {
      "application/vnd.jupyter.widget-view+json": {
       "model_id": "49beceed1d424442a2d5df1a56668c6f",
       "version_major": 2,
       "version_minor": 0
      },
      "text/plain": [
       "Reading:   0%|                                                                    | [00:00 < ?, 0/1]"
      ]
     },
     "metadata": {},
     "output_type": "display_data"
    },
    {
     "name": "stdout",
     "output_type": "stream",
     "text": [
      "Warning: Attempting to write empty DataFrame to ../input_files/trees/tree_ee_Zwindow_2018UL_Mar12/tree_QCD_MuEnriched_170to300.root. Skipping.\n",
      "\u001b[1;32mFile written: ../input_files/trees/tree_ee_Zwindow_2018UL_Mar12/tree_QCD_MuEnriched_170to300.root\u001b[0m (4 -> 0, 0.00%)\n",
      "\n",
      "\n",
      "Processing file: tree_QCD_MuEnriched_20to30.root\n",
      "Warning: 'myEvents' tree in ../input_files/trees/tree_ee_Zwindow_2018UL_Feb27/tree_QCD_MuEnriched_20to30.root is empty. Skipping.\n",
      "\n",
      "Processing file: tree_QCD_MuEnriched_30to50.root\n",
      "Warning: 'myEvents' tree in ../input_files/trees/tree_ee_Zwindow_2018UL_Feb27/tree_QCD_MuEnriched_30to50.root is empty. Skipping.\n",
      "\n",
      "Processing file: tree_QCD_MuEnriched_470to600.root\n"
     ]
    },
    {
     "data": {
      "application/vnd.jupyter.widget-view+json": {
       "model_id": "dba88ce7948145aab53f4e8dd2c316b1",
       "version_major": 2,
       "version_minor": 0
      },
      "text/plain": [
       "Reading:   0%|                                                                    | [00:00 < ?, 0/1]"
      ]
     },
     "metadata": {},
     "output_type": "display_data"
    },
    {
     "data": {
      "application/vnd.jupyter.widget-view+json": {
       "model_id": "e07983bb8bad496e80a07525d3ba4e10",
       "version_major": 2,
       "version_minor": 0
      },
      "text/plain": [
       "Writing:   0%|                                                               |   0% [00:00 < ?, 0/1]"
      ]
     },
     "metadata": {},
     "output_type": "display_data"
    },
    {
     "name": "stdout",
     "output_type": "stream",
     "text": [
      "\u001b[1;32mFile written: ../input_files/trees/tree_ee_Zwindow_2018UL_Mar12/tree_QCD_MuEnriched_470to600.root\u001b[0m (2 -> 1, 50.00%)\n",
      "\n",
      "\n",
      "Processing file: tree_QCD_MuEnriched_50to80.root\n"
     ]
    },
    {
     "data": {
      "application/vnd.jupyter.widget-view+json": {
       "model_id": "01fb427529194e6d93d52dded99a32fb",
       "version_major": 2,
       "version_minor": 0
      },
      "text/plain": [
       "Reading:   0%|                                                                    | [00:00 < ?, 0/1]"
      ]
     },
     "metadata": {},
     "output_type": "display_data"
    },
    {
     "name": "stdout",
     "output_type": "stream",
     "text": [
      "Warning: Attempting to write empty DataFrame to ../input_files/trees/tree_ee_Zwindow_2018UL_Mar12/tree_QCD_MuEnriched_50to80.root. Skipping.\n",
      "\u001b[1;32mFile written: ../input_files/trees/tree_ee_Zwindow_2018UL_Mar12/tree_QCD_MuEnriched_50to80.root\u001b[0m (1 -> 0, 0.00%)\n",
      "\n",
      "\n",
      "Processing file: tree_QCD_MuEnriched_600to800.root\n"
     ]
    },
    {
     "data": {
      "application/vnd.jupyter.widget-view+json": {
       "model_id": "28cddca5c7bc484d85d34e28d8a0ea8f",
       "version_major": 2,
       "version_minor": 0
      },
      "text/plain": [
       "Reading:   0%|                                                                    | [00:00 < ?, 0/1]"
      ]
     },
     "metadata": {},
     "output_type": "display_data"
    },
    {
     "name": "stdout",
     "output_type": "stream",
     "text": [
      "Warning: Attempting to write empty DataFrame to ../input_files/trees/tree_ee_Zwindow_2018UL_Mar12/tree_QCD_MuEnriched_600to800.root. Skipping.\n",
      "\u001b[1;32mFile written: ../input_files/trees/tree_ee_Zwindow_2018UL_Mar12/tree_QCD_MuEnriched_600to800.root\u001b[0m (1 -> 0, 0.00%)\n",
      "\n",
      "\n",
      "Processing file: tree_QCD_MuEnriched_800to1000.root\n"
     ]
    },
    {
     "data": {
      "application/vnd.jupyter.widget-view+json": {
       "model_id": "11abc03d7a6046e8aff246f611c93309",
       "version_major": 2,
       "version_minor": 0
      },
      "text/plain": [
       "Reading:   0%|                                                                    | [00:00 < ?, 0/1]"
      ]
     },
     "metadata": {},
     "output_type": "display_data"
    },
    {
     "name": "stdout",
     "output_type": "stream",
     "text": [
      "Warning: Attempting to write empty DataFrame to ../input_files/trees/tree_ee_Zwindow_2018UL_Mar12/tree_QCD_MuEnriched_800to1000.root. Skipping.\n",
      "\u001b[1;32mFile written: ../input_files/trees/tree_ee_Zwindow_2018UL_Mar12/tree_QCD_MuEnriched_800to1000.root\u001b[0m (4 -> 0, 0.00%)\n",
      "\n",
      "\n",
      "Processing file: tree_QCD_MuEnriched_80to120.root\n",
      "Warning: 'myEvents' tree in ../input_files/trees/tree_ee_Zwindow_2018UL_Feb27/tree_QCD_MuEnriched_80to120.root is empty. Skipping.\n",
      "\n",
      "Processing file: tree_Rare_THW.root\n"
     ]
    },
    {
     "data": {
      "application/vnd.jupyter.widget-view+json": {
       "model_id": "0ce5bd8e47da49d4bd56c445378e87d7",
       "version_major": 2,
       "version_minor": 0
      },
      "text/plain": [
       "Reading:   0%|                                                                    | [00:00 < ?, 0/1]"
      ]
     },
     "metadata": {},
     "output_type": "display_data"
    },
    {
     "data": {
      "application/vnd.jupyter.widget-view+json": {
       "model_id": "eb7416d20ade40d0be8e8943ef31b733",
       "version_major": 2,
       "version_minor": 0
      },
      "text/plain": [
       "Writing:   0%|                                                               |   0% [00:00 < ?, 0/1]"
      ]
     },
     "metadata": {},
     "output_type": "display_data"
    },
    {
     "name": "stdout",
     "output_type": "stream",
     "text": [
      "\u001b[1;32mFile written: ../input_files/trees/tree_ee_Zwindow_2018UL_Mar12/tree_Rare_THW.root\u001b[0m (28030 -> 5512, 19.66%)\n",
      "\n",
      "\n",
      "Processing file: tree_Rare_TTHH.root\n"
     ]
    },
    {
     "data": {
      "application/vnd.jupyter.widget-view+json": {
       "model_id": "7351c019d72d424b96e506723ca3dfe0",
       "version_major": 2,
       "version_minor": 0
      },
      "text/plain": [
       "Reading:   0%|                                                                    | [00:00 < ?, 0/1]"
      ]
     },
     "metadata": {},
     "output_type": "display_data"
    },
    {
     "data": {
      "application/vnd.jupyter.widget-view+json": {
       "model_id": "4cf58859e0f747c5941d2b58f54033d9",
       "version_major": 2,
       "version_minor": 0
      },
      "text/plain": [
       "Writing:   0%|                                                               |   0% [00:00 < ?, 0/1]"
      ]
     },
     "metadata": {},
     "output_type": "display_data"
    },
    {
     "name": "stdout",
     "output_type": "stream",
     "text": [
      "\u001b[1;32mFile written: ../input_files/trees/tree_ee_Zwindow_2018UL_Mar12/tree_Rare_TTHH.root\u001b[0m (1196 -> 237, 19.82%)\n",
      "\n",
      "\n",
      "Processing file: tree_Rare_TTTJ.root\n"
     ]
    },
    {
     "data": {
      "application/vnd.jupyter.widget-view+json": {
       "model_id": "5c4d79ea20684595aed3542c5a3d4511",
       "version_major": 2,
       "version_minor": 0
      },
      "text/plain": [
       "Reading:   0%|                                                                    | [00:00 < ?, 0/1]"
      ]
     },
     "metadata": {},
     "output_type": "display_data"
    },
    {
     "data": {
      "application/vnd.jupyter.widget-view+json": {
       "model_id": "729014ab534941a48d9926ffe64cf52b",
       "version_major": 2,
       "version_minor": 0
      },
      "text/plain": [
       "Writing:   0%|                                                               |   0% [00:00 < ?, 0/1]"
      ]
     },
     "metadata": {},
     "output_type": "display_data"
    },
    {
     "name": "stdout",
     "output_type": "stream",
     "text": [
      "\u001b[1;32mFile written: ../input_files/trees/tree_ee_Zwindow_2018UL_Mar12/tree_Rare_TTTJ.root\u001b[0m (1137 -> 260, 22.87%)\n",
      "\n",
      "\n",
      "Processing file: tree_Rare_TTTT.root\n"
     ]
    },
    {
     "data": {
      "application/vnd.jupyter.widget-view+json": {
       "model_id": "29fdf517c90c4c3d952347cdf419d18e",
       "version_major": 2,
       "version_minor": 0
      },
      "text/plain": [
       "Reading:   0%|                                                                    | [00:00 < ?, 0/1]"
      ]
     },
     "metadata": {},
     "output_type": "display_data"
    },
    {
     "data": {
      "application/vnd.jupyter.widget-view+json": {
       "model_id": "77511e5777fa489da8361c79a1e51c29",
       "version_major": 2,
       "version_minor": 0
      },
      "text/plain": [
       "Writing:   0%|                                                               |   0% [00:00 < ?, 0/1]"
      ]
     },
     "metadata": {},
     "output_type": "display_data"
    },
    {
     "name": "stdout",
     "output_type": "stream",
     "text": [
      "\u001b[1;32mFile written: ../input_files/trees/tree_ee_Zwindow_2018UL_Mar12/tree_Rare_TTTT.root\u001b[0m (42865 -> 9388, 21.90%)\n",
      "\n",
      "\n",
      "Processing file: tree_Rare_TTTW.root\n"
     ]
    },
    {
     "data": {
      "application/vnd.jupyter.widget-view+json": {
       "model_id": "8d99d33b694c437fab115bd3bfda54ec",
       "version_major": 2,
       "version_minor": 0
      },
      "text/plain": [
       "Reading:   0%|                                                                    | [00:00 < ?, 0/1]"
      ]
     },
     "metadata": {},
     "output_type": "display_data"
    },
    {
     "data": {
      "application/vnd.jupyter.widget-view+json": {
       "model_id": "b7d18a0b8d554b479f7337d60bb5f0f1",
       "version_major": 2,
       "version_minor": 0
      },
      "text/plain": [
       "Writing:   0%|                                                               |   0% [00:00 < ?, 0/1]"
      ]
     },
     "metadata": {},
     "output_type": "display_data"
    },
    {
     "name": "stdout",
     "output_type": "stream",
     "text": [
      "\u001b[1;32mFile written: ../input_files/trees/tree_ee_Zwindow_2018UL_Mar12/tree_Rare_TTTW.root\u001b[0m (1698 -> 388, 22.85%)\n",
      "\n",
      "\n",
      "Processing file: tree_Rare_TTWH.root\n"
     ]
    },
    {
     "data": {
      "application/vnd.jupyter.widget-view+json": {
       "model_id": "ba38706cfdae445a88e1a0cd17e76fd2",
       "version_major": 2,
       "version_minor": 0
      },
      "text/plain": [
       "Reading:   0%|                                                                    | [00:00 < ?, 0/1]"
      ]
     },
     "metadata": {},
     "output_type": "display_data"
    },
    {
     "data": {
      "application/vnd.jupyter.widget-view+json": {
       "model_id": "661e051a5119428fb56dc725fab4a282",
       "version_major": 2,
       "version_minor": 0
      },
      "text/plain": [
       "Writing:   0%|                                                               |   0% [00:00 < ?, 0/1]"
      ]
     },
     "metadata": {},
     "output_type": "display_data"
    },
    {
     "name": "stdout",
     "output_type": "stream",
     "text": [
      "\u001b[1;32mFile written: ../input_files/trees/tree_ee_Zwindow_2018UL_Mar12/tree_Rare_TTWH.root\u001b[0m (1486 -> 329, 22.14%)\n",
      "\n",
      "\n",
      "Processing file: tree_Rare_TTWW.root\n"
     ]
    },
    {
     "data": {
      "application/vnd.jupyter.widget-view+json": {
       "model_id": "64b65750adcf4ac1bdb9208c467adea9",
       "version_major": 2,
       "version_minor": 0
      },
      "text/plain": [
       "Reading:   0%|                                                                    | [00:00 < ?, 0/1]"
      ]
     },
     "metadata": {},
     "output_type": "display_data"
    },
    {
     "data": {
      "application/vnd.jupyter.widget-view+json": {
       "model_id": "405fb64a5a5d4d1088e40e23143a086a",
       "version_major": 2,
       "version_minor": 0
      },
      "text/plain": [
       "Writing:   0%|                                                               |   0% [00:00 < ?, 0/1]"
      ]
     },
     "metadata": {},
     "output_type": "display_data"
    },
    {
     "name": "stdout",
     "output_type": "stream",
     "text": [
      "\u001b[1;32mFile written: ../input_files/trees/tree_ee_Zwindow_2018UL_Mar12/tree_Rare_TTWW.root\u001b[0m (3628 -> 822, 22.66%)\n",
      "\n",
      "\n",
      "Processing file: tree_Rare_TTWZ.root\n"
     ]
    },
    {
     "data": {
      "application/vnd.jupyter.widget-view+json": {
       "model_id": "637d39c91a654b62ba13f85d62fab8fb",
       "version_major": 2,
       "version_minor": 0
      },
      "text/plain": [
       "Reading:   0%|                                                                    | [00:00 < ?, 0/1]"
      ]
     },
     "metadata": {},
     "output_type": "display_data"
    },
    {
     "data": {
      "application/vnd.jupyter.widget-view+json": {
       "model_id": "0521dde043fe48a990c5ad7d20d59b62",
       "version_major": 2,
       "version_minor": 0
      },
      "text/plain": [
       "Writing:   0%|                                                               |   0% [00:00 < ?, 0/1]"
      ]
     },
     "metadata": {},
     "output_type": "display_data"
    },
    {
     "name": "stdout",
     "output_type": "stream",
     "text": [
      "\u001b[1;32mFile written: ../input_files/trees/tree_ee_Zwindow_2018UL_Mar12/tree_Rare_TTWZ.root\u001b[0m (4898 -> 1168, 23.85%)\n",
      "\n",
      "\n",
      "Processing file: tree_Rare_TTZH.root\n"
     ]
    },
    {
     "data": {
      "application/vnd.jupyter.widget-view+json": {
       "model_id": "e6adf99fc57f47c9a6011e6edf307ec7",
       "version_major": 2,
       "version_minor": 0
      },
      "text/plain": [
       "Reading:   0%|                                                                    | [00:00 < ?, 0/1]"
      ]
     },
     "metadata": {},
     "output_type": "display_data"
    },
    {
     "data": {
      "application/vnd.jupyter.widget-view+json": {
       "model_id": "e5e697964587435087f35a7cb0fff463",
       "version_major": 2,
       "version_minor": 0
      },
      "text/plain": [
       "Writing:   0%|                                                               |   0% [00:00 < ?, 0/1]"
      ]
     },
     "metadata": {},
     "output_type": "display_data"
    },
    {
     "name": "stdout",
     "output_type": "stream",
     "text": [
      "\u001b[1;32mFile written: ../input_files/trees/tree_ee_Zwindow_2018UL_Mar12/tree_Rare_TTZH.root\u001b[0m (4997 -> 1135, 22.71%)\n",
      "\n",
      "\n",
      "Processing file: tree_Rare_TTZZ.root\n"
     ]
    },
    {
     "data": {
      "application/vnd.jupyter.widget-view+json": {
       "model_id": "6afb306235fb44d0996a24faea007e4a",
       "version_major": 2,
       "version_minor": 0
      },
      "text/plain": [
       "Reading:   0%|                                                                    | [00:00 < ?, 0/1]"
      ]
     },
     "metadata": {},
     "output_type": "display_data"
    },
    {
     "data": {
      "application/vnd.jupyter.widget-view+json": {
       "model_id": "cc6cd1c0492f49f9a6ff9373e33551a4",
       "version_major": 2,
       "version_minor": 0
      },
      "text/plain": [
       "Writing:   0%|                                                               |   0% [00:00 < ?, 0/1]"
      ]
     },
     "metadata": {},
     "output_type": "display_data"
    },
    {
     "name": "stdout",
     "output_type": "stream",
     "text": [
      "\u001b[1;32mFile written: ../input_files/trees/tree_ee_Zwindow_2018UL_Mar12/tree_Rare_TTZZ.root\u001b[0m (8934 -> 2154, 24.11%)\n",
      "\n",
      "\n",
      "Processing file: tree_Rare_tZq_ll.root\n"
     ]
    },
    {
     "data": {
      "application/vnd.jupyter.widget-view+json": {
       "model_id": "1d11ecf966a643ba9c5b2d0836517d2f",
       "version_major": 2,
       "version_minor": 0
      },
      "text/plain": [
       "Reading:   0%|                                                                   | [00:00 < ?, 0/12]"
      ]
     },
     "metadata": {},
     "output_type": "display_data"
    },
    {
     "data": {
      "application/vnd.jupyter.widget-view+json": {
       "model_id": "fdd53eab24f740be8c2cd367c82bc940",
       "version_major": 2,
       "version_minor": 0
      },
      "text/plain": [
       "Writing:   0%|                                                               |   0% [00:00 < ?, 0/3]"
      ]
     },
     "metadata": {},
     "output_type": "display_data"
    },
    {
     "name": "stdout",
     "output_type": "stream",
     "text": [
      "\u001b[1;32mFile written: ../input_files/trees/tree_ee_Zwindow_2018UL_Mar12/tree_Rare_tZq_ll.root\u001b[0m (1141035 -> 295583, 25.90%)\n",
      "\n",
      "\n",
      "Processing file: tree_SingleMuon_SingleMuon_A.root\n"
     ]
    },
    {
     "data": {
      "application/vnd.jupyter.widget-view+json": {
       "model_id": "8d8cac75754e446b8744012d147292bd",
       "version_major": 2,
       "version_minor": 0
      },
      "text/plain": [
       "Reading:   0%|                                                                    | [00:00 < ?, 0/1]"
      ]
     },
     "metadata": {},
     "output_type": "display_data"
    },
    {
     "data": {
      "application/vnd.jupyter.widget-view+json": {
       "model_id": "fbf133ab95bc42e18323a68aa42e3d10",
       "version_major": 2,
       "version_minor": 0
      },
      "text/plain": [
       "Writing:   0%|                                                               |   0% [00:00 < ?, 0/1]"
      ]
     },
     "metadata": {},
     "output_type": "display_data"
    },
    {
     "name": "stdout",
     "output_type": "stream",
     "text": [
      "\u001b[1;32mFile written: ../input_files/trees/tree_ee_Zwindow_2018UL_Mar12/tree_SingleMuon_SingleMuon_A.root\u001b[0m (83 -> 24, 28.92%)\n",
      "\n",
      "\n",
      "Processing file: tree_SingleMuon_SingleMuon_B.root\n"
     ]
    },
    {
     "data": {
      "application/vnd.jupyter.widget-view+json": {
       "model_id": "be6394b66a494d33bd53ec0fed3f14e9",
       "version_major": 2,
       "version_minor": 0
      },
      "text/plain": [
       "Reading:   0%|                                                                    | [00:00 < ?, 0/1]"
      ]
     },
     "metadata": {},
     "output_type": "display_data"
    },
    {
     "data": {
      "application/vnd.jupyter.widget-view+json": {
       "model_id": "c4951bed6d454f0db0adf623e41340f4",
       "version_major": 2,
       "version_minor": 0
      },
      "text/plain": [
       "Writing:   0%|                                                               |   0% [00:00 < ?, 0/1]"
      ]
     },
     "metadata": {},
     "output_type": "display_data"
    },
    {
     "name": "stdout",
     "output_type": "stream",
     "text": [
      "\u001b[1;32mFile written: ../input_files/trees/tree_ee_Zwindow_2018UL_Mar12/tree_SingleMuon_SingleMuon_B.root\u001b[0m (50 -> 12, 24.00%)\n",
      "\n",
      "\n",
      "Processing file: tree_SingleMuon_SingleMuon_C.root\n"
     ]
    },
    {
     "data": {
      "application/vnd.jupyter.widget-view+json": {
       "model_id": "5322c611287f4847ae3db4f088b3d773",
       "version_major": 2,
       "version_minor": 0
      },
      "text/plain": [
       "Reading:   0%|                                                                    | [00:00 < ?, 0/1]"
      ]
     },
     "metadata": {},
     "output_type": "display_data"
    },
    {
     "data": {
      "application/vnd.jupyter.widget-view+json": {
       "model_id": "27f1db8de31d45a780500c11a33e2ff1",
       "version_major": 2,
       "version_minor": 0
      },
      "text/plain": [
       "Writing:   0%|                                                               |   0% [00:00 < ?, 0/1]"
      ]
     },
     "metadata": {},
     "output_type": "display_data"
    },
    {
     "name": "stdout",
     "output_type": "stream",
     "text": [
      "\u001b[1;32mFile written: ../input_files/trees/tree_ee_Zwindow_2018UL_Mar12/tree_SingleMuon_SingleMuon_C.root\u001b[0m (45 -> 7, 15.56%)\n",
      "\n",
      "\n",
      "Processing file: tree_SingleMuon_SingleMuon_D.root\n"
     ]
    },
    {
     "data": {
      "application/vnd.jupyter.widget-view+json": {
       "model_id": "6a1731ba2e5d46b198a76e8e8a8164d4",
       "version_major": 2,
       "version_minor": 0
      },
      "text/plain": [
       "Reading:   0%|                                                                    | [00:00 < ?, 0/1]"
      ]
     },
     "metadata": {},
     "output_type": "display_data"
    },
    {
     "data": {
      "application/vnd.jupyter.widget-view+json": {
       "model_id": "50168a6dc91a4cbe89f80a895741b9ca",
       "version_major": 2,
       "version_minor": 0
      },
      "text/plain": [
       "Writing:   0%|                                                               |   0% [00:00 < ?, 0/1]"
      ]
     },
     "metadata": {},
     "output_type": "display_data"
    },
    {
     "name": "stdout",
     "output_type": "stream",
     "text": [
      "\u001b[1;32mFile written: ../input_files/trees/tree_ee_Zwindow_2018UL_Mar12/tree_SingleMuon_SingleMuon_D.root\u001b[0m (194 -> 55, 28.35%)\n",
      "\n",
      "\n",
      "Processing file: tree_SingleTop_s-channel_LeptonDecays.root\n"
     ]
    },
    {
     "data": {
      "application/vnd.jupyter.widget-view+json": {
       "model_id": "cdef32dd28b0409da11d70a94658b049",
       "version_major": 2,
       "version_minor": 0
      },
      "text/plain": [
       "Reading:   0%|                                                                    | [00:00 < ?, 0/1]"
      ]
     },
     "metadata": {},
     "output_type": "display_data"
    },
    {
     "data": {
      "application/vnd.jupyter.widget-view+json": {
       "model_id": "af48de9238a94e62ade599ea74123a95",
       "version_major": 2,
       "version_minor": 0
      },
      "text/plain": [
       "Writing:   0%|                                                               |   0% [00:00 < ?, 0/1]"
      ]
     },
     "metadata": {},
     "output_type": "display_data"
    },
    {
     "name": "stdout",
     "output_type": "stream",
     "text": [
      "\u001b[1;32mFile written: ../input_files/trees/tree_ee_Zwindow_2018UL_Mar12/tree_SingleTop_s-channel_LeptonDecays.root\u001b[0m (1230 -> 169, 13.74%)\n",
      "\n",
      "\n",
      "Processing file: tree_SingleTop_t-channel_AntiTop_InclusiveDecays.root\n"
     ]
    },
    {
     "data": {
      "application/vnd.jupyter.widget-view+json": {
       "model_id": "bfc30c27a78d44508005a72885cdef27",
       "version_major": 2,
       "version_minor": 0
      },
      "text/plain": [
       "Reading:   0%|                                                                    | [00:00 < ?, 0/1]"
      ]
     },
     "metadata": {},
     "output_type": "display_data"
    },
    {
     "data": {
      "application/vnd.jupyter.widget-view+json": {
       "model_id": "33d514945d374a69bb2ee1843af80e85",
       "version_major": 2,
       "version_minor": 0
      },
      "text/plain": [
       "Writing:   0%|                                                               |   0% [00:00 < ?, 0/1]"
      ]
     },
     "metadata": {},
     "output_type": "display_data"
    },
    {
     "name": "stdout",
     "output_type": "stream",
     "text": [
      "\u001b[1;32mFile written: ../input_files/trees/tree_ee_Zwindow_2018UL_Mar12/tree_SingleTop_t-channel_AntiTop_InclusiveDecays.root\u001b[0m (2339 -> 262, 11.20%)\n",
      "\n",
      "\n",
      "Processing file: tree_SingleTop_t-channel_Top_InclusiveDecays.root\n"
     ]
    },
    {
     "data": {
      "application/vnd.jupyter.widget-view+json": {
       "model_id": "65f8e83092e940ecab98acbfda666cd6",
       "version_major": 2,
       "version_minor": 0
      },
      "text/plain": [
       "Reading:   0%|                                                                    | [00:00 < ?, 0/1]"
      ]
     },
     "metadata": {},
     "output_type": "display_data"
    },
    {
     "data": {
      "application/vnd.jupyter.widget-view+json": {
       "model_id": "c294ee9a23d443c3886c862e279a339c",
       "version_major": 2,
       "version_minor": 0
      },
      "text/plain": [
       "Writing:   0%|                                                               |   0% [00:00 < ?, 0/1]"
      ]
     },
     "metadata": {},
     "output_type": "display_data"
    },
    {
     "name": "stdout",
     "output_type": "stream",
     "text": [
      "\u001b[1;32mFile written: ../input_files/trees/tree_ee_Zwindow_2018UL_Mar12/tree_SingleTop_t-channel_Top_InclusiveDecays.root\u001b[0m (4080 -> 500, 12.25%)\n",
      "\n",
      "\n",
      "Processing file: tree_SingleTop_tW_AntiTop_InclusiveDecays.root\n"
     ]
    },
    {
     "data": {
      "application/vnd.jupyter.widget-view+json": {
       "model_id": "59f0f8a901584880835fcde21c63ce19",
       "version_major": 2,
       "version_minor": 0
      },
      "text/plain": [
       "Reading:   0%|                                                                    | [00:00 < ?, 0/1]"
      ]
     },
     "metadata": {},
     "output_type": "display_data"
    },
    {
     "data": {
      "application/vnd.jupyter.widget-view+json": {
       "model_id": "f3c1b36de75248c6b602ad2816bd957a",
       "version_major": 2,
       "version_minor": 0
      },
      "text/plain": [
       "Writing:   0%|                                                               |   0% [00:00 < ?, 0/1]"
      ]
     },
     "metadata": {},
     "output_type": "display_data"
    },
    {
     "name": "stdout",
     "output_type": "stream",
     "text": [
      "\u001b[1;32mFile written: ../input_files/trees/tree_ee_Zwindow_2018UL_Mar12/tree_SingleTop_tW_AntiTop_InclusiveDecays.root\u001b[0m (9107 -> 2407, 26.43%)\n",
      "\n",
      "\n",
      "Processing file: tree_SingleTop_tW_Top_InclusiveDecays.root\n"
     ]
    },
    {
     "data": {
      "application/vnd.jupyter.widget-view+json": {
       "model_id": "6ff87f605f9f43c5b8b78262402b9c5a",
       "version_major": 2,
       "version_minor": 0
      },
      "text/plain": [
       "Reading:   0%|                                                                    | [00:00 < ?, 0/1]"
      ]
     },
     "metadata": {},
     "output_type": "display_data"
    },
    {
     "data": {
      "application/vnd.jupyter.widget-view+json": {
       "model_id": "772de66332fb459895afd27ce4ccbb03",
       "version_major": 2,
       "version_minor": 0
      },
      "text/plain": [
       "Writing:   0%|                                                               |   0% [00:00 < ?, 0/1]"
      ]
     },
     "metadata": {},
     "output_type": "display_data"
    },
    {
     "name": "stdout",
     "output_type": "stream",
     "text": [
      "\u001b[1;32mFile written: ../input_files/trees/tree_ee_Zwindow_2018UL_Mar12/tree_SingleTop_tW_Top_InclusiveDecays.root\u001b[0m (9194 -> 2458, 26.73%)\n",
      "\n",
      "\n",
      "Processing file: tree_TTBar_TTTo2L2Nu.root\n"
     ]
    },
    {
     "data": {
      "application/vnd.jupyter.widget-view+json": {
       "model_id": "58f312bc0b8d487e996814dba498cf46",
       "version_major": 2,
       "version_minor": 0
      },
      "text/plain": [
       "Reading:   0%|                                                                   | [00:00 < ?, 0/15]"
      ]
     },
     "metadata": {},
     "output_type": "display_data"
    },
    {
     "data": {
      "application/vnd.jupyter.widget-view+json": {
       "model_id": "f25fbbc4223a4affba095b383678ff98",
       "version_major": 2,
       "version_minor": 0
      },
      "text/plain": [
       "Writing:   0%|                                                               |   0% [00:00 < ?, 0/5]"
      ]
     },
     "metadata": {},
     "output_type": "display_data"
    },
    {
     "name": "stdout",
     "output_type": "stream",
     "text": [
      "\u001b[1;32mFile written: ../input_files/trees/tree_ee_Zwindow_2018UL_Mar12/tree_TTBar_TTTo2L2Nu.root\u001b[0m (1455473 -> 403127, 27.70%)\n",
      "\n",
      "\n",
      "Processing file: tree_TTBar_TTToSemiLeptonic.root\n"
     ]
    },
    {
     "data": {
      "application/vnd.jupyter.widget-view+json": {
       "model_id": "dbb279e74ec34d82b17254963194789d",
       "version_major": 2,
       "version_minor": 0
      },
      "text/plain": [
       "Reading:   0%|                                                                    | [00:00 < ?, 0/1]"
      ]
     },
     "metadata": {},
     "output_type": "display_data"
    },
    {
     "data": {
      "application/vnd.jupyter.widget-view+json": {
       "model_id": "99c68f55426e4a69b9b8b22ba20c3e75",
       "version_major": 2,
       "version_minor": 0
      },
      "text/plain": [
       "Writing:   0%|                                                               |   0% [00:00 < ?, 0/1]"
      ]
     },
     "metadata": {},
     "output_type": "display_data"
    },
    {
     "name": "stdout",
     "output_type": "stream",
     "text": [
      "\u001b[1;32mFile written: ../input_files/trees/tree_ee_Zwindow_2018UL_Mar12/tree_TTBar_TTToSemiLeptonic.root\u001b[0m (48124 -> 4916, 10.22%)\n",
      "\n",
      "\n",
      "Processing file: tree_TTW_TTWToLNu.root\n"
     ]
    },
    {
     "data": {
      "application/vnd.jupyter.widget-view+json": {
       "model_id": "cd72aae8168b4b3280a7e2914b8ffeed",
       "version_major": 2,
       "version_minor": 0
      },
      "text/plain": [
       "Reading:   0%|                                                                    | [00:00 < ?, 0/1]"
      ]
     },
     "metadata": {},
     "output_type": "display_data"
    },
    {
     "data": {
      "application/vnd.jupyter.widget-view+json": {
       "model_id": "a16919d305bb4255b65d018ab80f5dd4",
       "version_major": 2,
       "version_minor": 0
      },
      "text/plain": [
       "Writing:   0%|                                                               |   0% [00:00 < ?, 0/1]"
      ]
     },
     "metadata": {},
     "output_type": "display_data"
    },
    {
     "name": "stdout",
     "output_type": "stream",
     "text": [
      "\u001b[1;32mFile written: ../input_files/trees/tree_ee_Zwindow_2018UL_Mar12/tree_TTW_TTWToLNu.root\u001b[0m (50345 -> 12341, 24.51%)\n",
      "\n",
      "\n",
      "Processing file: tree_VLLD_ele_M100.root\n"
     ]
    },
    {
     "data": {
      "application/vnd.jupyter.widget-view+json": {
       "model_id": "01daf62216714127b63502141d2a9430",
       "version_major": 2,
       "version_minor": 0
      },
      "text/plain": [
       "Reading:   0%|                                                                    | [00:00 < ?, 0/1]"
      ]
     },
     "metadata": {},
     "output_type": "display_data"
    },
    {
     "data": {
      "application/vnd.jupyter.widget-view+json": {
       "model_id": "0d410f0c08a2458bba5a222b9a6c71ac",
       "version_major": 2,
       "version_minor": 0
      },
      "text/plain": [
       "Writing:   0%|                                                               |   0% [00:00 < ?, 0/1]"
      ]
     },
     "metadata": {},
     "output_type": "display_data"
    },
    {
     "name": "stdout",
     "output_type": "stream",
     "text": [
      "\u001b[1;32mFile written: ../input_files/trees/tree_ee_Zwindow_2018UL_Mar12/tree_VLLD_ele_M100.root\u001b[0m (1065 -> 339, 31.83%)\n",
      "\n",
      "\n",
      "Processing file: tree_VLLD_ele_M1000.root\n"
     ]
    },
    {
     "data": {
      "application/vnd.jupyter.widget-view+json": {
       "model_id": "4d5ff90056df43669453cadfce9dd162",
       "version_major": 2,
       "version_minor": 0
      },
      "text/plain": [
       "Reading:   0%|                                                                    | [00:00 < ?, 0/1]"
      ]
     },
     "metadata": {},
     "output_type": "display_data"
    },
    {
     "data": {
      "application/vnd.jupyter.widget-view+json": {
       "model_id": "8266bea4bff34d2f971efeda2e381ef9",
       "version_major": 2,
       "version_minor": 0
      },
      "text/plain": [
       "Writing:   0%|                                                               |   0% [00:00 < ?, 0/1]"
      ]
     },
     "metadata": {},
     "output_type": "display_data"
    },
    {
     "name": "stdout",
     "output_type": "stream",
     "text": [
      "\u001b[1;32mFile written: ../input_files/trees/tree_ee_Zwindow_2018UL_Mar12/tree_VLLD_ele_M1000.root\u001b[0m (68 -> 19, 27.94%)\n",
      "\n",
      "\n",
      "Processing file: tree_VLLD_ele_M200.root\n"
     ]
    },
    {
     "data": {
      "application/vnd.jupyter.widget-view+json": {
       "model_id": "0cfea1a3571c4b7d9adbe2c4484d0e75",
       "version_major": 2,
       "version_minor": 0
      },
      "text/plain": [
       "Reading:   0%|                                                                    | [00:00 < ?, 0/1]"
      ]
     },
     "metadata": {},
     "output_type": "display_data"
    },
    {
     "data": {
      "application/vnd.jupyter.widget-view+json": {
       "model_id": "c0c3f82751f2496e9fb9c85dd99dc2ae",
       "version_major": 2,
       "version_minor": 0
      },
      "text/plain": [
       "Writing:   0%|                                                               |   0% [00:00 < ?, 0/1]"
      ]
     },
     "metadata": {},
     "output_type": "display_data"
    },
    {
     "name": "stdout",
     "output_type": "stream",
     "text": [
      "\u001b[1;32mFile written: ../input_files/trees/tree_ee_Zwindow_2018UL_Mar12/tree_VLLD_ele_M200.root\u001b[0m (3751 -> 1185, 31.59%)\n",
      "\n",
      "\n",
      "Processing file: tree_VLLD_ele_M300.root\n"
     ]
    },
    {
     "data": {
      "application/vnd.jupyter.widget-view+json": {
       "model_id": "7e2c1561c1bd4a23a400c71d3e291820",
       "version_major": 2,
       "version_minor": 0
      },
      "text/plain": [
       "Reading:   0%|                                                                    | [00:00 < ?, 0/1]"
      ]
     },
     "metadata": {},
     "output_type": "display_data"
    },
    {
     "data": {
      "application/vnd.jupyter.widget-view+json": {
       "model_id": "3d4401c22ba041e8b59d9c0b08b3ca5f",
       "version_major": 2,
       "version_minor": 0
      },
      "text/plain": [
       "Writing:   0%|                                                               |   0% [00:00 < ?, 0/1]"
      ]
     },
     "metadata": {},
     "output_type": "display_data"
    },
    {
     "name": "stdout",
     "output_type": "stream",
     "text": [
      "\u001b[1;32mFile written: ../input_files/trees/tree_ee_Zwindow_2018UL_Mar12/tree_VLLD_ele_M300.root\u001b[0m (628 -> 183, 29.14%)\n",
      "\n",
      "\n",
      "Processing file: tree_VLLD_ele_M400.root\n"
     ]
    },
    {
     "data": {
      "application/vnd.jupyter.widget-view+json": {
       "model_id": "4a353d4b472d4cce8c8a12f5f9b27dd2",
       "version_major": 2,
       "version_minor": 0
      },
      "text/plain": [
       "Reading:   0%|                                                                    | [00:00 < ?, 0/1]"
      ]
     },
     "metadata": {},
     "output_type": "display_data"
    },
    {
     "data": {
      "application/vnd.jupyter.widget-view+json": {
       "model_id": "0c1d4511f67b48a795b653b62f3fecfb",
       "version_major": 2,
       "version_minor": 0
      },
      "text/plain": [
       "Writing:   0%|                                                               |   0% [00:00 < ?, 0/1]"
      ]
     },
     "metadata": {},
     "output_type": "display_data"
    },
    {
     "name": "stdout",
     "output_type": "stream",
     "text": [
      "\u001b[1;32mFile written: ../input_files/trees/tree_ee_Zwindow_2018UL_Mar12/tree_VLLD_ele_M400.root\u001b[0m (329 -> 84, 25.53%)\n",
      "\n",
      "\n",
      "Processing file: tree_VLLD_ele_M600.root\n"
     ]
    },
    {
     "data": {
      "application/vnd.jupyter.widget-view+json": {
       "model_id": "9bc14ff133cc4dc59c23ab086373ab74",
       "version_major": 2,
       "version_minor": 0
      },
      "text/plain": [
       "Reading:   0%|                                                                    | [00:00 < ?, 0/1]"
      ]
     },
     "metadata": {},
     "output_type": "display_data"
    },
    {
     "data": {
      "application/vnd.jupyter.widget-view+json": {
       "model_id": "b868962c299c42c78a00a9ceb2e65c06",
       "version_major": 2,
       "version_minor": 0
      },
      "text/plain": [
       "Writing:   0%|                                                               |   0% [00:00 < ?, 0/1]"
      ]
     },
     "metadata": {},
     "output_type": "display_data"
    },
    {
     "name": "stdout",
     "output_type": "stream",
     "text": [
      "\u001b[1;32mFile written: ../input_files/trees/tree_ee_Zwindow_2018UL_Mar12/tree_VLLD_ele_M600.root\u001b[0m (338 -> 103, 30.47%)\n",
      "\n",
      "\n",
      "Processing file: tree_VLLD_ele_M800.root\n"
     ]
    },
    {
     "data": {
      "application/vnd.jupyter.widget-view+json": {
       "model_id": "077f679823494c40905fba029c7bc54c",
       "version_major": 2,
       "version_minor": 0
      },
      "text/plain": [
       "Reading:   0%|                                                                    | [00:00 < ?, 0/1]"
      ]
     },
     "metadata": {},
     "output_type": "display_data"
    },
    {
     "data": {
      "application/vnd.jupyter.widget-view+json": {
       "model_id": "d3849648160742c39d2a4f662753aea1",
       "version_major": 2,
       "version_minor": 0
      },
      "text/plain": [
       "Writing:   0%|                                                               |   0% [00:00 < ?, 0/1]"
      ]
     },
     "metadata": {},
     "output_type": "display_data"
    },
    {
     "name": "stdout",
     "output_type": "stream",
     "text": [
      "\u001b[1;32mFile written: ../input_files/trees/tree_ee_Zwindow_2018UL_Mar12/tree_VLLD_ele_M800.root\u001b[0m (106 -> 38, 35.85%)\n",
      "\n",
      "\n",
      "Processing file: tree_VLLD_mu_M100.root\n"
     ]
    },
    {
     "data": {
      "application/vnd.jupyter.widget-view+json": {
       "model_id": "4c3a077a3f784a38a0e24b5b1443776e",
       "version_major": 2,
       "version_minor": 0
      },
      "text/plain": [
       "Reading:   0%|                                                                    | [00:00 < ?, 0/1]"
      ]
     },
     "metadata": {},
     "output_type": "display_data"
    },
    {
     "data": {
      "application/vnd.jupyter.widget-view+json": {
       "model_id": "c467d3c47d5545e19bcae9a7e9d1ca82",
       "version_major": 2,
       "version_minor": 0
      },
      "text/plain": [
       "Writing:   0%|                                                               |   0% [00:00 < ?, 0/1]"
      ]
     },
     "metadata": {},
     "output_type": "display_data"
    },
    {
     "name": "stdout",
     "output_type": "stream",
     "text": [
      "\u001b[1;32mFile written: ../input_files/trees/tree_ee_Zwindow_2018UL_Mar12/tree_VLLD_mu_M100.root\u001b[0m (144 -> 39, 27.08%)\n",
      "\n",
      "\n",
      "Processing file: tree_VLLD_mu_M200.root\n"
     ]
    },
    {
     "data": {
      "application/vnd.jupyter.widget-view+json": {
       "model_id": "d9683cada13045dcb987e00ca4fc687c",
       "version_major": 2,
       "version_minor": 0
      },
      "text/plain": [
       "Reading:   0%|                                                                    | [00:00 < ?, 0/1]"
      ]
     },
     "metadata": {},
     "output_type": "display_data"
    },
    {
     "data": {
      "application/vnd.jupyter.widget-view+json": {
       "model_id": "81b35c7f4a144a8fac873340190659e4",
       "version_major": 2,
       "version_minor": 0
      },
      "text/plain": [
       "Writing:   0%|                                                               |   0% [00:00 < ?, 0/1]"
      ]
     },
     "metadata": {},
     "output_type": "display_data"
    },
    {
     "name": "stdout",
     "output_type": "stream",
     "text": [
      "\u001b[1;32mFile written: ../input_files/trees/tree_ee_Zwindow_2018UL_Mar12/tree_VLLD_mu_M200.root\u001b[0m (21 -> 6, 28.57%)\n",
      "\n",
      "\n",
      "Processing file: tree_VLLD_mu_M300.root\n"
     ]
    },
    {
     "data": {
      "application/vnd.jupyter.widget-view+json": {
       "model_id": "8820a119ddfa44189d9f3fd42d775b49",
       "version_major": 2,
       "version_minor": 0
      },
      "text/plain": [
       "Reading:   0%|                                                                    | [00:00 < ?, 0/1]"
      ]
     },
     "metadata": {},
     "output_type": "display_data"
    },
    {
     "data": {
      "application/vnd.jupyter.widget-view+json": {
       "model_id": "fc235348c9fc45f59d78ca7cd6005052",
       "version_major": 2,
       "version_minor": 0
      },
      "text/plain": [
       "Writing:   0%|                                                               |   0% [00:00 < ?, 0/1]"
      ]
     },
     "metadata": {},
     "output_type": "display_data"
    },
    {
     "name": "stdout",
     "output_type": "stream",
     "text": [
      "\u001b[1;32mFile written: ../input_files/trees/tree_ee_Zwindow_2018UL_Mar12/tree_VLLD_mu_M300.root\u001b[0m (7 -> 1, 14.29%)\n",
      "\n",
      "\n",
      "Processing file: tree_VLLD_mu_M400.root\n"
     ]
    },
    {
     "data": {
      "application/vnd.jupyter.widget-view+json": {
       "model_id": "e8784c60a2624c1e8a8096929bad2891",
       "version_major": 2,
       "version_minor": 0
      },
      "text/plain": [
       "Reading:   0%|                                                                    | [00:00 < ?, 0/1]"
      ]
     },
     "metadata": {},
     "output_type": "display_data"
    },
    {
     "name": "stdout",
     "output_type": "stream",
     "text": [
      "Warning: Attempting to write empty DataFrame to ../input_files/trees/tree_ee_Zwindow_2018UL_Mar12/tree_VLLD_mu_M400.root. Skipping.\n",
      "\u001b[1;32mFile written: ../input_files/trees/tree_ee_Zwindow_2018UL_Mar12/tree_VLLD_mu_M400.root\u001b[0m (5 -> 0, 0.00%)\n",
      "\n",
      "\n",
      "Processing file: tree_VLLD_mu_M600.root\n"
     ]
    },
    {
     "data": {
      "application/vnd.jupyter.widget-view+json": {
       "model_id": "8eed13f864dc477f906512f442908c69",
       "version_major": 2,
       "version_minor": 0
      },
      "text/plain": [
       "Reading:   0%|                                                                    | [00:00 < ?, 0/1]"
      ]
     },
     "metadata": {},
     "output_type": "display_data"
    },
    {
     "name": "stdout",
     "output_type": "stream",
     "text": [
      "Warning: Attempting to write empty DataFrame to ../input_files/trees/tree_ee_Zwindow_2018UL_Mar12/tree_VLLD_mu_M600.root. Skipping.\n",
      "\u001b[1;32mFile written: ../input_files/trees/tree_ee_Zwindow_2018UL_Mar12/tree_VLLD_mu_M600.root\u001b[0m (1 -> 0, 0.00%)\n",
      "\n",
      "\n",
      "Processing file: tree_VLLD_mu_M800.root\n"
     ]
    },
    {
     "data": {
      "application/vnd.jupyter.widget-view+json": {
       "model_id": "31f5682fc686454bb2274ea0d324f1f2",
       "version_major": 2,
       "version_minor": 0
      },
      "text/plain": [
       "Reading:   0%|                                                                    | [00:00 < ?, 0/1]"
      ]
     },
     "metadata": {},
     "output_type": "display_data"
    },
    {
     "name": "stdout",
     "output_type": "stream",
     "text": [
      "Warning: Attempting to write empty DataFrame to ../input_files/trees/tree_ee_Zwindow_2018UL_Mar12/tree_VLLD_mu_M800.root. Skipping.\n",
      "\u001b[1;32mFile written: ../input_files/trees/tree_ee_Zwindow_2018UL_Mar12/tree_VLLD_mu_M800.root\u001b[0m (1 -> 0, 0.00%)\n",
      "\n",
      "\n",
      "Processing file: tree_VLLS_ele_M100.root\n"
     ]
    },
    {
     "data": {
      "application/vnd.jupyter.widget-view+json": {
       "model_id": "72dec8e639134d07a5ff878f51ec5315",
       "version_major": 2,
       "version_minor": 0
      },
      "text/plain": [
       "Reading:   0%|                                                                    | [00:00 < ?, 0/1]"
      ]
     },
     "metadata": {},
     "output_type": "display_data"
    },
    {
     "data": {
      "application/vnd.jupyter.widget-view+json": {
       "model_id": "3f310da13dda4eb8a06e878de838c66a",
       "version_major": 2,
       "version_minor": 0
      },
      "text/plain": [
       "Writing:   0%|                                                               |   0% [00:00 < ?, 0/1]"
      ]
     },
     "metadata": {},
     "output_type": "display_data"
    },
    {
     "name": "stdout",
     "output_type": "stream",
     "text": [
      "\u001b[1;32mFile written: ../input_files/trees/tree_ee_Zwindow_2018UL_Mar12/tree_VLLS_ele_M100.root\u001b[0m (2179 -> 618, 28.36%)\n",
      "\n",
      "\n",
      "Processing file: tree_VLLS_ele_M1000.root\n"
     ]
    },
    {
     "data": {
      "application/vnd.jupyter.widget-view+json": {
       "model_id": "8702deb2fa6c46fdb31af565f8810738",
       "version_major": 2,
       "version_minor": 0
      },
      "text/plain": [
       "Reading:   0%|                                                                    | [00:00 < ?, 0/1]"
      ]
     },
     "metadata": {},
     "output_type": "display_data"
    },
    {
     "data": {
      "application/vnd.jupyter.widget-view+json": {
       "model_id": "07b699dddbc4420c91b641939876f124",
       "version_major": 2,
       "version_minor": 0
      },
      "text/plain": [
       "Writing:   0%|                                                               |   0% [00:00 < ?, 0/1]"
      ]
     },
     "metadata": {},
     "output_type": "display_data"
    },
    {
     "name": "stdout",
     "output_type": "stream",
     "text": [
      "\u001b[1;32mFile written: ../input_files/trees/tree_ee_Zwindow_2018UL_Mar12/tree_VLLS_ele_M1000.root\u001b[0m (292 -> 51, 17.47%)\n",
      "\n",
      "\n",
      "Processing file: tree_VLLS_ele_M125.root\n"
     ]
    },
    {
     "data": {
      "application/vnd.jupyter.widget-view+json": {
       "model_id": "b312bb49f55548318bee852ed36b8426",
       "version_major": 2,
       "version_minor": 0
      },
      "text/plain": [
       "Reading:   0%|                                                                    | [00:00 < ?, 0/1]"
      ]
     },
     "metadata": {},
     "output_type": "display_data"
    },
    {
     "data": {
      "application/vnd.jupyter.widget-view+json": {
       "model_id": "a52e040cf75f4cf1ab1cb6d6166ea58b",
       "version_major": 2,
       "version_minor": 0
      },
      "text/plain": [
       "Writing:   0%|                                                               |   0% [00:00 < ?, 0/1]"
      ]
     },
     "metadata": {},
     "output_type": "display_data"
    },
    {
     "name": "stdout",
     "output_type": "stream",
     "text": [
      "\u001b[1;32mFile written: ../input_files/trees/tree_ee_Zwindow_2018UL_Mar12/tree_VLLS_ele_M125.root\u001b[0m (6707 -> 2291, 34.16%)\n",
      "\n",
      "\n",
      "Processing file: tree_VLLS_ele_M150.root\n"
     ]
    },
    {
     "data": {
      "application/vnd.jupyter.widget-view+json": {
       "model_id": "b890f6c918714c4eaf4543ff7c8172b7",
       "version_major": 2,
       "version_minor": 0
      },
      "text/plain": [
       "Reading:   0%|                                                                    | [00:00 < ?, 0/1]"
      ]
     },
     "metadata": {},
     "output_type": "display_data"
    },
    {
     "data": {
      "application/vnd.jupyter.widget-view+json": {
       "model_id": "e4d96ebded4a4fda8995be841851dba2",
       "version_major": 2,
       "version_minor": 0
      },
      "text/plain": [
       "Writing:   0%|                                                               |   0% [00:00 < ?, 0/1]"
      ]
     },
     "metadata": {},
     "output_type": "display_data"
    },
    {
     "name": "stdout",
     "output_type": "stream",
     "text": [
      "\u001b[1;32mFile written: ../input_files/trees/tree_ee_Zwindow_2018UL_Mar12/tree_VLLS_ele_M150.root\u001b[0m (11290 -> 3980, 35.25%)\n",
      "\n",
      "\n",
      "Processing file: tree_VLLS_ele_M200.root\n"
     ]
    },
    {
     "data": {
      "application/vnd.jupyter.widget-view+json": {
       "model_id": "b2e6061ef85c4b29aaf84fcb556128d9",
       "version_major": 2,
       "version_minor": 0
      },
      "text/plain": [
       "Reading:   0%|                                                                    | [00:00 < ?, 0/1]"
      ]
     },
     "metadata": {},
     "output_type": "display_data"
    },
    {
     "data": {
      "application/vnd.jupyter.widget-view+json": {
       "model_id": "462f51aad6e24e608bc13be4477d05ae",
       "version_major": 2,
       "version_minor": 0
      },
      "text/plain": [
       "Writing:   0%|                                                               |   0% [00:00 < ?, 0/1]"
      ]
     },
     "metadata": {},
     "output_type": "display_data"
    },
    {
     "name": "stdout",
     "output_type": "stream",
     "text": [
      "\u001b[1;32mFile written: ../input_files/trees/tree_ee_Zwindow_2018UL_Mar12/tree_VLLS_ele_M200.root\u001b[0m (10597 -> 3068, 28.95%)\n",
      "\n",
      "\n",
      "Processing file: tree_VLLS_ele_M250.root\n"
     ]
    },
    {
     "data": {
      "application/vnd.jupyter.widget-view+json": {
       "model_id": "08cd0ac7a93048fc8dd4999d1d9b81c7",
       "version_major": 2,
       "version_minor": 0
      },
      "text/plain": [
       "Reading:   0%|                                                                    | [00:00 < ?, 0/1]"
      ]
     },
     "metadata": {},
     "output_type": "display_data"
    },
    {
     "data": {
      "application/vnd.jupyter.widget-view+json": {
       "model_id": "95ba6fbf56b94c1291681429427e48b3",
       "version_major": 2,
       "version_minor": 0
      },
      "text/plain": [
       "Writing:   0%|                                                               |   0% [00:00 < ?, 0/1]"
      ]
     },
     "metadata": {},
     "output_type": "display_data"
    },
    {
     "name": "stdout",
     "output_type": "stream",
     "text": [
      "\u001b[1;32mFile written: ../input_files/trees/tree_ee_Zwindow_2018UL_Mar12/tree_VLLS_ele_M250.root\u001b[0m (6943 -> 1843, 26.54%)\n",
      "\n",
      "\n",
      "Processing file: tree_VLLS_ele_M300.root\n"
     ]
    },
    {
     "data": {
      "application/vnd.jupyter.widget-view+json": {
       "model_id": "2fb79cb52596493db71115285ca08e11",
       "version_major": 2,
       "version_minor": 0
      },
      "text/plain": [
       "Reading:   0%|                                                                    | [00:00 < ?, 0/1]"
      ]
     },
     "metadata": {},
     "output_type": "display_data"
    },
    {
     "data": {
      "application/vnd.jupyter.widget-view+json": {
       "model_id": "4e6cf0d0e270440b8d8147a646c636e1",
       "version_major": 2,
       "version_minor": 0
      },
      "text/plain": [
       "Writing:   0%|                                                               |   0% [00:00 < ?, 0/1]"
      ]
     },
     "metadata": {},
     "output_type": "display_data"
    },
    {
     "name": "stdout",
     "output_type": "stream",
     "text": [
      "\u001b[1;32mFile written: ../input_files/trees/tree_ee_Zwindow_2018UL_Mar12/tree_VLLS_ele_M300.root\u001b[0m (5433 -> 1351, 24.87%)\n",
      "\n",
      "\n",
      "Processing file: tree_VLLS_ele_M350.root\n"
     ]
    },
    {
     "data": {
      "application/vnd.jupyter.widget-view+json": {
       "model_id": "8d666d1d1a654863afc0a1a08cdf332b",
       "version_major": 2,
       "version_minor": 0
      },
      "text/plain": [
       "Reading:   0%|                                                                    | [00:00 < ?, 0/1]"
      ]
     },
     "metadata": {},
     "output_type": "display_data"
    },
    {
     "data": {
      "application/vnd.jupyter.widget-view+json": {
       "model_id": "091921d582a149dd9344fdfe8d9f408d",
       "version_major": 2,
       "version_minor": 0
      },
      "text/plain": [
       "Writing:   0%|                                                               |   0% [00:00 < ?, 0/1]"
      ]
     },
     "metadata": {},
     "output_type": "display_data"
    },
    {
     "name": "stdout",
     "output_type": "stream",
     "text": [
      "\u001b[1;32mFile written: ../input_files/trees/tree_ee_Zwindow_2018UL_Mar12/tree_VLLS_ele_M350.root\u001b[0m (1790 -> 408, 22.79%)\n",
      "\n",
      "\n",
      "Processing file: tree_VLLS_ele_M400.root\n"
     ]
    },
    {
     "data": {
      "application/vnd.jupyter.widget-view+json": {
       "model_id": "73c2acd9fc5a4b32ba62d83e0396a926",
       "version_major": 2,
       "version_minor": 0
      },
      "text/plain": [
       "Reading:   0%|                                                                    | [00:00 < ?, 0/1]"
      ]
     },
     "metadata": {},
     "output_type": "display_data"
    },
    {
     "data": {
      "application/vnd.jupyter.widget-view+json": {
       "model_id": "59307f87b43c4b83bf9ab96a26939999",
       "version_major": 2,
       "version_minor": 0
      },
      "text/plain": [
       "Writing:   0%|                                                               |   0% [00:00 < ?, 0/1]"
      ]
     },
     "metadata": {},
     "output_type": "display_data"
    },
    {
     "name": "stdout",
     "output_type": "stream",
     "text": [
      "\u001b[1;32mFile written: ../input_files/trees/tree_ee_Zwindow_2018UL_Mar12/tree_VLLS_ele_M400.root\u001b[0m (1471 -> 320, 21.75%)\n",
      "\n",
      "\n",
      "Processing file: tree_VLLS_ele_M450.root\n"
     ]
    },
    {
     "data": {
      "application/vnd.jupyter.widget-view+json": {
       "model_id": "8db2be57fef2497fbad583fac5495f4e",
       "version_major": 2,
       "version_minor": 0
      },
      "text/plain": [
       "Reading:   0%|                                                                    | [00:00 < ?, 0/1]"
      ]
     },
     "metadata": {},
     "output_type": "display_data"
    },
    {
     "data": {
      "application/vnd.jupyter.widget-view+json": {
       "model_id": "64c52928ee0a4939bc1aa0902037cdda",
       "version_major": 2,
       "version_minor": 0
      },
      "text/plain": [
       "Writing:   0%|                                                               |   0% [00:00 < ?, 0/1]"
      ]
     },
     "metadata": {},
     "output_type": "display_data"
    },
    {
     "name": "stdout",
     "output_type": "stream",
     "text": [
      "\u001b[1;32mFile written: ../input_files/trees/tree_ee_Zwindow_2018UL_Mar12/tree_VLLS_ele_M450.root\u001b[0m (1358 -> 297, 21.87%)\n",
      "\n",
      "\n",
      "Processing file: tree_VLLS_ele_M500.root\n"
     ]
    },
    {
     "data": {
      "application/vnd.jupyter.widget-view+json": {
       "model_id": "8e005207a3384baf9fd7ce62fcbb9e51",
       "version_major": 2,
       "version_minor": 0
      },
      "text/plain": [
       "Reading:   0%|                                                                    | [00:00 < ?, 0/1]"
      ]
     },
     "metadata": {},
     "output_type": "display_data"
    },
    {
     "data": {
      "application/vnd.jupyter.widget-view+json": {
       "model_id": "28b0e5043af84c8fb0210ef731aa6903",
       "version_major": 2,
       "version_minor": 0
      },
      "text/plain": [
       "Writing:   0%|                                                               |   0% [00:00 < ?, 0/1]"
      ]
     },
     "metadata": {},
     "output_type": "display_data"
    },
    {
     "name": "stdout",
     "output_type": "stream",
     "text": [
      "\u001b[1;32mFile written: ../input_files/trees/tree_ee_Zwindow_2018UL_Mar12/tree_VLLS_ele_M500.root\u001b[0m (1112 -> 266, 23.92%)\n",
      "\n",
      "\n",
      "Processing file: tree_VLLS_ele_M750.root\n"
     ]
    },
    {
     "data": {
      "application/vnd.jupyter.widget-view+json": {
       "model_id": "088250a869634c67b95b1bb5d178e8d0",
       "version_major": 2,
       "version_minor": 0
      },
      "text/plain": [
       "Reading:   0%|                                                                    | [00:00 < ?, 0/1]"
      ]
     },
     "metadata": {},
     "output_type": "display_data"
    },
    {
     "data": {
      "application/vnd.jupyter.widget-view+json": {
       "model_id": "bad4b38bc8f14f7f94d44e73f6fc95a1",
       "version_major": 2,
       "version_minor": 0
      },
      "text/plain": [
       "Writing:   0%|                                                               |   0% [00:00 < ?, 0/1]"
      ]
     },
     "metadata": {},
     "output_type": "display_data"
    },
    {
     "name": "stdout",
     "output_type": "stream",
     "text": [
      "\u001b[1;32mFile written: ../input_files/trees/tree_ee_Zwindow_2018UL_Mar12/tree_VLLS_ele_M750.root\u001b[0m (380 -> 85, 22.37%)\n",
      "\n",
      "\n",
      "Processing file: tree_VLLS_mu_M100.root\n"
     ]
    },
    {
     "data": {
      "application/vnd.jupyter.widget-view+json": {
       "model_id": "dc58d1eb5a0941da842ab5eaaa3bba4b",
       "version_major": 2,
       "version_minor": 0
      },
      "text/plain": [
       "Reading:   0%|                                                                    | [00:00 < ?, 0/1]"
      ]
     },
     "metadata": {},
     "output_type": "display_data"
    },
    {
     "data": {
      "application/vnd.jupyter.widget-view+json": {
       "model_id": "aa49b342491a4428998085d7e3afe35a",
       "version_major": 2,
       "version_minor": 0
      },
      "text/plain": [
       "Writing:   0%|                                                               |   0% [00:00 < ?, 0/1]"
      ]
     },
     "metadata": {},
     "output_type": "display_data"
    },
    {
     "name": "stdout",
     "output_type": "stream",
     "text": [
      "\u001b[1;32mFile written: ../input_files/trees/tree_ee_Zwindow_2018UL_Mar12/tree_VLLS_mu_M100.root\u001b[0m (1648 -> 508, 30.83%)\n",
      "\n",
      "\n",
      "Processing file: tree_VLLS_mu_M1000.root\n"
     ]
    },
    {
     "data": {
      "application/vnd.jupyter.widget-view+json": {
       "model_id": "b731f46e590f4207909723e20ccff6ec",
       "version_major": 2,
       "version_minor": 0
      },
      "text/plain": [
       "Reading:   0%|                                                                    | [00:00 < ?, 0/1]"
      ]
     },
     "metadata": {},
     "output_type": "display_data"
    },
    {
     "data": {
      "application/vnd.jupyter.widget-view+json": {
       "model_id": "97e128c8f39343f1b2164865b3ad4e46",
       "version_major": 2,
       "version_minor": 0
      },
      "text/plain": [
       "Writing:   0%|                                                               |   0% [00:00 < ?, 0/1]"
      ]
     },
     "metadata": {},
     "output_type": "display_data"
    },
    {
     "name": "stdout",
     "output_type": "stream",
     "text": [
      "\u001b[1;32mFile written: ../input_files/trees/tree_ee_Zwindow_2018UL_Mar12/tree_VLLS_mu_M1000.root\u001b[0m (68 -> 14, 20.59%)\n",
      "\n",
      "\n",
      "Processing file: tree_VLLS_mu_M125.root\n"
     ]
    },
    {
     "data": {
      "application/vnd.jupyter.widget-view+json": {
       "model_id": "cd6f94e25cf54728ab6b949a6aae39b5",
       "version_major": 2,
       "version_minor": 0
      },
      "text/plain": [
       "Reading:   0%|                                                                    | [00:00 < ?, 0/1]"
      ]
     },
     "metadata": {},
     "output_type": "display_data"
    },
    {
     "data": {
      "application/vnd.jupyter.widget-view+json": {
       "model_id": "a2196636b2114398ad774c852a143df4",
       "version_major": 2,
       "version_minor": 0
      },
      "text/plain": [
       "Writing:   0%|                                                               |   0% [00:00 < ?, 0/1]"
      ]
     },
     "metadata": {},
     "output_type": "display_data"
    },
    {
     "name": "stdout",
     "output_type": "stream",
     "text": [
      "\u001b[1;32mFile written: ../input_files/trees/tree_ee_Zwindow_2018UL_Mar12/tree_VLLS_mu_M125.root\u001b[0m (1036 -> 291, 28.09%)\n",
      "\n",
      "\n",
      "Processing file: tree_VLLS_mu_M150.root\n"
     ]
    },
    {
     "data": {
      "application/vnd.jupyter.widget-view+json": {
       "model_id": "a2fbb463f6ea460fa02f9043ef77a8c0",
       "version_major": 2,
       "version_minor": 0
      },
      "text/plain": [
       "Reading:   0%|                                                                    | [00:00 < ?, 0/1]"
      ]
     },
     "metadata": {},
     "output_type": "display_data"
    },
    {
     "data": {
      "application/vnd.jupyter.widget-view+json": {
       "model_id": "be1ebdc8e4314a4396a3ab5d9203eaa8",
       "version_major": 2,
       "version_minor": 0
      },
      "text/plain": [
       "Writing:   0%|                                                               |   0% [00:00 < ?, 0/1]"
      ]
     },
     "metadata": {},
     "output_type": "display_data"
    },
    {
     "name": "stdout",
     "output_type": "stream",
     "text": [
      "\u001b[1;32mFile written: ../input_files/trees/tree_ee_Zwindow_2018UL_Mar12/tree_VLLS_mu_M150.root\u001b[0m (879 -> 235, 26.73%)\n",
      "\n",
      "\n",
      "Processing file: tree_VLLS_mu_M200.root\n"
     ]
    },
    {
     "data": {
      "application/vnd.jupyter.widget-view+json": {
       "model_id": "8b4a2e739eee433c85c4566c5a99c187",
       "version_major": 2,
       "version_minor": 0
      },
      "text/plain": [
       "Reading:   0%|                                                                    | [00:00 < ?, 0/1]"
      ]
     },
     "metadata": {},
     "output_type": "display_data"
    },
    {
     "data": {
      "application/vnd.jupyter.widget-view+json": {
       "model_id": "aa1c8421471b45789710bf7a04b82116",
       "version_major": 2,
       "version_minor": 0
      },
      "text/plain": [
       "Writing:   0%|                                                               |   0% [00:00 < ?, 0/1]"
      ]
     },
     "metadata": {},
     "output_type": "display_data"
    },
    {
     "name": "stdout",
     "output_type": "stream",
     "text": [
      "\u001b[1;32mFile written: ../input_files/trees/tree_ee_Zwindow_2018UL_Mar12/tree_VLLS_mu_M200.root\u001b[0m (766 -> 187, 24.41%)\n",
      "\n",
      "\n",
      "Processing file: tree_VLLS_mu_M250.root\n"
     ]
    },
    {
     "data": {
      "application/vnd.jupyter.widget-view+json": {
       "model_id": "c041db2c3e1c4204b3efd53d36e9868e",
       "version_major": 2,
       "version_minor": 0
      },
      "text/plain": [
       "Reading:   0%|                                                                    | [00:00 < ?, 0/1]"
      ]
     },
     "metadata": {},
     "output_type": "display_data"
    },
    {
     "data": {
      "application/vnd.jupyter.widget-view+json": {
       "model_id": "df62aee46b424b57a767f4c91fad79d1",
       "version_major": 2,
       "version_minor": 0
      },
      "text/plain": [
       "Writing:   0%|                                                               |   0% [00:00 < ?, 0/1]"
      ]
     },
     "metadata": {},
     "output_type": "display_data"
    },
    {
     "name": "stdout",
     "output_type": "stream",
     "text": [
      "\u001b[1;32mFile written: ../input_files/trees/tree_ee_Zwindow_2018UL_Mar12/tree_VLLS_mu_M250.root\u001b[0m (666 -> 150, 22.52%)\n",
      "\n",
      "\n",
      "Processing file: tree_VLLS_mu_M300.root\n"
     ]
    },
    {
     "data": {
      "application/vnd.jupyter.widget-view+json": {
       "model_id": "8961207173844100a80be2091d32acb0",
       "version_major": 2,
       "version_minor": 0
      },
      "text/plain": [
       "Reading:   0%|                                                                    | [00:00 < ?, 0/1]"
      ]
     },
     "metadata": {},
     "output_type": "display_data"
    },
    {
     "data": {
      "application/vnd.jupyter.widget-view+json": {
       "model_id": "c39ec97e55e64c98bbe6018efcdcfb7f",
       "version_major": 2,
       "version_minor": 0
      },
      "text/plain": [
       "Writing:   0%|                                                               |   0% [00:00 < ?, 0/1]"
      ]
     },
     "metadata": {},
     "output_type": "display_data"
    },
    {
     "name": "stdout",
     "output_type": "stream",
     "text": [
      "\u001b[1;32mFile written: ../input_files/trees/tree_ee_Zwindow_2018UL_Mar12/tree_VLLS_mu_M300.root\u001b[0m (591 -> 150, 25.38%)\n",
      "\n",
      "\n",
      "Processing file: tree_VLLS_mu_M400.root\n"
     ]
    },
    {
     "data": {
      "application/vnd.jupyter.widget-view+json": {
       "model_id": "7cf1d5c0ab15498182468919f7e5386b",
       "version_major": 2,
       "version_minor": 0
      },
      "text/plain": [
       "Reading:   0%|                                                                    | [00:00 < ?, 0/1]"
      ]
     },
     "metadata": {},
     "output_type": "display_data"
    },
    {
     "data": {
      "application/vnd.jupyter.widget-view+json": {
       "model_id": "4ea0068bfa8948d08c9fe5a3e0ee5d2e",
       "version_major": 2,
       "version_minor": 0
      },
      "text/plain": [
       "Writing:   0%|                                                               |   0% [00:00 < ?, 0/1]"
      ]
     },
     "metadata": {},
     "output_type": "display_data"
    },
    {
     "name": "stdout",
     "output_type": "stream",
     "text": [
      "\u001b[1;32mFile written: ../input_files/trees/tree_ee_Zwindow_2018UL_Mar12/tree_VLLS_mu_M400.root\u001b[0m (229 -> 45, 19.65%)\n",
      "\n",
      "\n",
      "Processing file: tree_VLLS_mu_M450.root\n"
     ]
    },
    {
     "data": {
      "application/vnd.jupyter.widget-view+json": {
       "model_id": "ad40cdc66d1f40edbb2c28c8df4635ef",
       "version_major": 2,
       "version_minor": 0
      },
      "text/plain": [
       "Reading:   0%|                                                                    | [00:00 < ?, 0/1]"
      ]
     },
     "metadata": {},
     "output_type": "display_data"
    },
    {
     "data": {
      "application/vnd.jupyter.widget-view+json": {
       "model_id": "0f594bd3c28f4c95b41d6b7ef43a1f0d",
       "version_major": 2,
       "version_minor": 0
      },
      "text/plain": [
       "Writing:   0%|                                                               |   0% [00:00 < ?, 0/1]"
      ]
     },
     "metadata": {},
     "output_type": "display_data"
    },
    {
     "name": "stdout",
     "output_type": "stream",
     "text": [
      "\u001b[1;32mFile written: ../input_files/trees/tree_ee_Zwindow_2018UL_Mar12/tree_VLLS_mu_M450.root\u001b[0m (220 -> 41, 18.64%)\n",
      "\n",
      "\n",
      "Processing file: tree_VLLS_mu_M500.root\n"
     ]
    },
    {
     "data": {
      "application/vnd.jupyter.widget-view+json": {
       "model_id": "ad7bc18f0cb54968aa174628a6b8f85f",
       "version_major": 2,
       "version_minor": 0
      },
      "text/plain": [
       "Reading:   0%|                                                                    | [00:00 < ?, 0/1]"
      ]
     },
     "metadata": {},
     "output_type": "display_data"
    },
    {
     "data": {
      "application/vnd.jupyter.widget-view+json": {
       "model_id": "c0ded9303f9b477faa592e3a11593d02",
       "version_major": 2,
       "version_minor": 0
      },
      "text/plain": [
       "Writing:   0%|                                                               |   0% [00:00 < ?, 0/1]"
      ]
     },
     "metadata": {},
     "output_type": "display_data"
    },
    {
     "name": "stdout",
     "output_type": "stream",
     "text": [
      "\u001b[1;32mFile written: ../input_files/trees/tree_ee_Zwindow_2018UL_Mar12/tree_VLLS_mu_M500.root\u001b[0m (199 -> 30, 15.08%)\n",
      "\n",
      "\n",
      "Processing file: tree_VLLS_mu_M750.root\n"
     ]
    },
    {
     "data": {
      "application/vnd.jupyter.widget-view+json": {
       "model_id": "290348d35c184e18b47fc4dc0429f66e",
       "version_major": 2,
       "version_minor": 0
      },
      "text/plain": [
       "Reading:   0%|                                                                    | [00:00 < ?, 0/1]"
      ]
     },
     "metadata": {},
     "output_type": "display_data"
    },
    {
     "data": {
      "application/vnd.jupyter.widget-view+json": {
       "model_id": "f3749e7e36f945589711c6a1721a32cb",
       "version_major": 2,
       "version_minor": 0
      },
      "text/plain": [
       "Writing:   0%|                                                               |   0% [00:00 < ?, 0/1]"
      ]
     },
     "metadata": {},
     "output_type": "display_data"
    },
    {
     "name": "stdout",
     "output_type": "stream",
     "text": [
      "\u001b[1;32mFile written: ../input_files/trees/tree_ee_Zwindow_2018UL_Mar12/tree_VLLS_mu_M750.root\u001b[0m (87 -> 12, 13.79%)\n",
      "\n",
      "\n",
      "Processing file: tree_VLLS_tau_M100.root\n"
     ]
    },
    {
     "data": {
      "application/vnd.jupyter.widget-view+json": {
       "model_id": "b3ba25019b9b41babdd6f04fd8fe82f0",
       "version_major": 2,
       "version_minor": 0
      },
      "text/plain": [
       "Reading:   0%|                                                                    | [00:00 < ?, 0/1]"
      ]
     },
     "metadata": {},
     "output_type": "display_data"
    },
    {
     "data": {
      "application/vnd.jupyter.widget-view+json": {
       "model_id": "40305caeb7194450978cf1a8f7e7c1ec",
       "version_major": 2,
       "version_minor": 0
      },
      "text/plain": [
       "Writing:   0%|                                                               |   0% [00:00 < ?, 0/1]"
      ]
     },
     "metadata": {},
     "output_type": "display_data"
    },
    {
     "name": "stdout",
     "output_type": "stream",
     "text": [
      "\u001b[1;32mFile written: ../input_files/trees/tree_ee_Zwindow_2018UL_Mar12/tree_VLLS_tau_M100.root\u001b[0m (5200 -> 1586, 30.50%)\n",
      "\n",
      "\n",
      "Processing file: tree_VLLS_tau_M125.root\n"
     ]
    },
    {
     "data": {
      "application/vnd.jupyter.widget-view+json": {
       "model_id": "ce89d204673746a7beda2d16bf39a1bf",
       "version_major": 2,
       "version_minor": 0
      },
      "text/plain": [
       "Reading:   0%|                                                                    | [00:00 < ?, 0/1]"
      ]
     },
     "metadata": {},
     "output_type": "display_data"
    },
    {
     "data": {
      "application/vnd.jupyter.widget-view+json": {
       "model_id": "ae03d0a157cc4922bf0a41000c095241",
       "version_major": 2,
       "version_minor": 0
      },
      "text/plain": [
       "Writing:   0%|                                                               |   0% [00:00 < ?, 0/1]"
      ]
     },
     "metadata": {},
     "output_type": "display_data"
    },
    {
     "name": "stdout",
     "output_type": "stream",
     "text": [
      "\u001b[1;32mFile written: ../input_files/trees/tree_ee_Zwindow_2018UL_Mar12/tree_VLLS_tau_M125.root\u001b[0m (8304 -> 2195, 26.43%)\n",
      "\n",
      "\n",
      "Processing file: tree_VLLS_tau_M150.root\n"
     ]
    },
    {
     "data": {
      "application/vnd.jupyter.widget-view+json": {
       "model_id": "bcbaa5f4d5574fd7952e05fb3a84a999",
       "version_major": 2,
       "version_minor": 0
      },
      "text/plain": [
       "Reading:   0%|                                                                    | [00:00 < ?, 0/1]"
      ]
     },
     "metadata": {},
     "output_type": "display_data"
    },
    {
     "data": {
      "application/vnd.jupyter.widget-view+json": {
       "model_id": "d24a534b1453425e9641a642184b6bca",
       "version_major": 2,
       "version_minor": 0
      },
      "text/plain": [
       "Writing:   0%|                                                               |   0% [00:00 < ?, 0/1]"
      ]
     },
     "metadata": {},
     "output_type": "display_data"
    },
    {
     "name": "stdout",
     "output_type": "stream",
     "text": [
      "\u001b[1;32mFile written: ../input_files/trees/tree_ee_Zwindow_2018UL_Mar12/tree_VLLS_tau_M150.root\u001b[0m (8878 -> 2286, 25.75%)\n",
      "\n",
      "\n",
      "Processing file: tree_VLLS_tau_M200.root\n"
     ]
    },
    {
     "data": {
      "application/vnd.jupyter.widget-view+json": {
       "model_id": "6dd60c9195ad449eb5d94f4ae6afd786",
       "version_major": 2,
       "version_minor": 0
      },
      "text/plain": [
       "Reading:   0%|                                                                    | [00:00 < ?, 0/1]"
      ]
     },
     "metadata": {},
     "output_type": "display_data"
    },
    {
     "data": {
      "application/vnd.jupyter.widget-view+json": {
       "model_id": "dfa470882e3e460f9239f68386ae0de9",
       "version_major": 2,
       "version_minor": 0
      },
      "text/plain": [
       "Writing:   0%|                                                               |   0% [00:00 < ?, 0/1]"
      ]
     },
     "metadata": {},
     "output_type": "display_data"
    },
    {
     "name": "stdout",
     "output_type": "stream",
     "text": [
      "\u001b[1;32mFile written: ../input_files/trees/tree_ee_Zwindow_2018UL_Mar12/tree_VLLS_tau_M200.root\u001b[0m (9442 -> 2190, 23.19%)\n",
      "\n",
      "\n",
      "Processing file: tree_VLLS_tau_M250.root\n"
     ]
    },
    {
     "data": {
      "application/vnd.jupyter.widget-view+json": {
       "model_id": "34bea7c2809d4cfe9f6c7de9716d70aa",
       "version_major": 2,
       "version_minor": 0
      },
      "text/plain": [
       "Reading:   0%|                                                                    | [00:00 < ?, 0/1]"
      ]
     },
     "metadata": {},
     "output_type": "display_data"
    },
    {
     "data": {
      "application/vnd.jupyter.widget-view+json": {
       "model_id": "1e8c765fb5834b7394a55838227b218e",
       "version_major": 2,
       "version_minor": 0
      },
      "text/plain": [
       "Writing:   0%|                                                               |   0% [00:00 < ?, 0/1]"
      ]
     },
     "metadata": {},
     "output_type": "display_data"
    },
    {
     "name": "stdout",
     "output_type": "stream",
     "text": [
      "\u001b[1;32mFile written: ../input_files/trees/tree_ee_Zwindow_2018UL_Mar12/tree_VLLS_tau_M250.root\u001b[0m (7691 -> 1665, 21.65%)\n",
      "\n",
      "\n",
      "Processing file: tree_VLLS_tau_M300.root\n"
     ]
    },
    {
     "data": {
      "application/vnd.jupyter.widget-view+json": {
       "model_id": "cfab17827a3e4a838358863eeb31c94b",
       "version_major": 2,
       "version_minor": 0
      },
      "text/plain": [
       "Reading:   0%|                                                                    | [00:00 < ?, 0/1]"
      ]
     },
     "metadata": {},
     "output_type": "display_data"
    },
    {
     "data": {
      "application/vnd.jupyter.widget-view+json": {
       "model_id": "20ca67ce3b374a19bb6f024f3cf79530",
       "version_major": 2,
       "version_minor": 0
      },
      "text/plain": [
       "Writing:   0%|                                                               |   0% [00:00 < ?, 0/1]"
      ]
     },
     "metadata": {},
     "output_type": "display_data"
    },
    {
     "name": "stdout",
     "output_type": "stream",
     "text": [
      "\u001b[1;32mFile written: ../input_files/trees/tree_ee_Zwindow_2018UL_Mar12/tree_VLLS_tau_M300.root\u001b[0m (7965 -> 1674, 21.02%)\n",
      "\n",
      "\n",
      "Processing file: tree_VLLS_tau_M350.root\n"
     ]
    },
    {
     "data": {
      "application/vnd.jupyter.widget-view+json": {
       "model_id": "8c1732422d5b4c16919cc3d32e01a526",
       "version_major": 2,
       "version_minor": 0
      },
      "text/plain": [
       "Reading:   0%|                                                                    | [00:00 < ?, 0/1]"
      ]
     },
     "metadata": {},
     "output_type": "display_data"
    },
    {
     "data": {
      "application/vnd.jupyter.widget-view+json": {
       "model_id": "7b646ecc1acb405b8e2639fd58533116",
       "version_major": 2,
       "version_minor": 0
      },
      "text/plain": [
       "Writing:   0%|                                                               |   0% [00:00 < ?, 0/1]"
      ]
     },
     "metadata": {},
     "output_type": "display_data"
    },
    {
     "name": "stdout",
     "output_type": "stream",
     "text": [
      "\u001b[1;32mFile written: ../input_files/trees/tree_ee_Zwindow_2018UL_Mar12/tree_VLLS_tau_M350.root\u001b[0m (3077 -> 648, 21.06%)\n",
      "\n",
      "\n",
      "Processing file: tree_VLLS_tau_M400.root\n"
     ]
    },
    {
     "data": {
      "application/vnd.jupyter.widget-view+json": {
       "model_id": "a9f45d994ab24d7d948edebc2f41233c",
       "version_major": 2,
       "version_minor": 0
      },
      "text/plain": [
       "Reading:   0%|                                                                    | [00:00 < ?, 0/1]"
      ]
     },
     "metadata": {},
     "output_type": "display_data"
    },
    {
     "data": {
      "application/vnd.jupyter.widget-view+json": {
       "model_id": "7b6009ebb06747f79770a6a4b606a9e7",
       "version_major": 2,
       "version_minor": 0
      },
      "text/plain": [
       "Writing:   0%|                                                               |   0% [00:00 < ?, 0/1]"
      ]
     },
     "metadata": {},
     "output_type": "display_data"
    },
    {
     "name": "stdout",
     "output_type": "stream",
     "text": [
      "\u001b[1;32mFile written: ../input_files/trees/tree_ee_Zwindow_2018UL_Mar12/tree_VLLS_tau_M400.root\u001b[0m (3138 -> 632, 20.14%)\n",
      "\n",
      "\n",
      "Processing file: tree_WGamma_WGToLNuG_01J.root\n"
     ]
    },
    {
     "data": {
      "application/vnd.jupyter.widget-view+json": {
       "model_id": "f946ebd2f8f54d05b025dc3ee590eab7",
       "version_major": 2,
       "version_minor": 0
      },
      "text/plain": [
       "Reading:   0%|                                                                    | [00:00 < ?, 0/1]"
      ]
     },
     "metadata": {},
     "output_type": "display_data"
    },
    {
     "data": {
      "application/vnd.jupyter.widget-view+json": {
       "model_id": "c775d5ad21f84cb39bc3dcaf50cc3571",
       "version_major": 2,
       "version_minor": 0
      },
      "text/plain": [
       "Writing:   0%|                                                               |   0% [00:00 < ?, 0/1]"
      ]
     },
     "metadata": {},
     "output_type": "display_data"
    },
    {
     "name": "stdout",
     "output_type": "stream",
     "text": [
      "\u001b[1;32mFile written: ../input_files/trees/tree_ee_Zwindow_2018UL_Mar12/tree_WGamma_WGToLNuG_01J.root\u001b[0m (5367 -> 1351, 25.17%)\n",
      "\n",
      "\n",
      "Processing file: tree_WpWp_WpWpJJEWK.root\n"
     ]
    },
    {
     "data": {
      "application/vnd.jupyter.widget-view+json": {
       "model_id": "f567791345154f6081d448b21921d632",
       "version_major": 2,
       "version_minor": 0
      },
      "text/plain": [
       "Reading:   0%|                                                                    | [00:00 < ?, 0/1]"
      ]
     },
     "metadata": {},
     "output_type": "display_data"
    },
    {
     "data": {
      "application/vnd.jupyter.widget-view+json": {
       "model_id": "9bef451d703148bf8565e8ea5c99f00b",
       "version_major": 2,
       "version_minor": 0
      },
      "text/plain": [
       "Writing:   0%|                                                               |   0% [00:00 < ?, 0/1]"
      ]
     },
     "metadata": {},
     "output_type": "display_data"
    },
    {
     "name": "stdout",
     "output_type": "stream",
     "text": [
      "\u001b[1;32mFile written: ../input_files/trees/tree_ee_Zwindow_2018UL_Mar12/tree_WpWp_WpWpJJEWK.root\u001b[0m (1565 -> 398, 25.43%)\n",
      "\n",
      "\n",
      "Processing file: tree_WpWp_WpWpJJQCD.root\n"
     ]
    },
    {
     "data": {
      "application/vnd.jupyter.widget-view+json": {
       "model_id": "e1d7e30b6a70496da4141b92e25bbc34",
       "version_major": 2,
       "version_minor": 0
      },
      "text/plain": [
       "Reading:   0%|                                                                    | [00:00 < ?, 0/1]"
      ]
     },
     "metadata": {},
     "output_type": "display_data"
    },
    {
     "data": {
      "application/vnd.jupyter.widget-view+json": {
       "model_id": "edb5f4d565bc440183d66afaf58031e0",
       "version_major": 2,
       "version_minor": 0
      },
      "text/plain": [
       "Writing:   0%|                                                               |   0% [00:00 < ?, 0/1]"
      ]
     },
     "metadata": {},
     "output_type": "display_data"
    },
    {
     "name": "stdout",
     "output_type": "stream",
     "text": [
      "\u001b[1;32mFile written: ../input_files/trees/tree_ee_Zwindow_2018UL_Mar12/tree_WpWp_WpWpJJQCD.root\u001b[0m (814 -> 205, 25.18%)\n",
      "\n",
      "\n",
      "Processing file: tree_WWW_Inclusive.root\n"
     ]
    },
    {
     "data": {
      "application/vnd.jupyter.widget-view+json": {
       "model_id": "c0ad552824564e4ea12d744f5d90b84a",
       "version_major": 2,
       "version_minor": 0
      },
      "text/plain": [
       "Reading:   0%|                                                                    | [00:00 < ?, 0/1]"
      ]
     },
     "metadata": {},
     "output_type": "display_data"
    },
    {
     "data": {
      "application/vnd.jupyter.widget-view+json": {
       "model_id": "4dc1778756f34e02928913405b512333",
       "version_major": 2,
       "version_minor": 0
      },
      "text/plain": [
       "Writing:   0%|                                                               |   0% [00:00 < ?, 0/1]"
      ]
     },
     "metadata": {},
     "output_type": "display_data"
    },
    {
     "name": "stdout",
     "output_type": "stream",
     "text": [
      "\u001b[1;32mFile written: ../input_files/trees/tree_ee_Zwindow_2018UL_Mar12/tree_WWW_Inclusive.root\u001b[0m (539 -> 139, 25.79%)\n",
      "\n",
      "\n",
      "Processing file: tree_WWZ_Inclusive.root\n"
     ]
    },
    {
     "data": {
      "application/vnd.jupyter.widget-view+json": {
       "model_id": "d8b82939b9c3453e840d62a7387498e6",
       "version_major": 2,
       "version_minor": 0
      },
      "text/plain": [
       "Reading:   0%|                                                                    | [00:00 < ?, 0/1]"
      ]
     },
     "metadata": {},
     "output_type": "display_data"
    },
    {
     "data": {
      "application/vnd.jupyter.widget-view+json": {
       "model_id": "2231d64018184b9898ee1e3bd07fc073",
       "version_major": 2,
       "version_minor": 0
      },
      "text/plain": [
       "Writing:   0%|                                                               |   0% [00:00 < ?, 0/1]"
      ]
     },
     "metadata": {},
     "output_type": "display_data"
    },
    {
     "name": "stdout",
     "output_type": "stream",
     "text": [
      "\u001b[1;32mFile written: ../input_files/trees/tree_ee_Zwindow_2018UL_Mar12/tree_WWZ_Inclusive.root\u001b[0m (2503 -> 626, 25.01%)\n",
      "\n",
      "\n",
      "Processing file: tree_WWZ_WWZJetsTo4L2Nu.root\n"
     ]
    },
    {
     "data": {
      "application/vnd.jupyter.widget-view+json": {
       "model_id": "a4c861ae73ee45d0aaad879eda8b610b",
       "version_major": 2,
       "version_minor": 0
      },
      "text/plain": [
       "Reading:   0%|                                                                    | [00:00 < ?, 0/2]"
      ]
     },
     "metadata": {},
     "output_type": "display_data"
    },
    {
     "data": {
      "application/vnd.jupyter.widget-view+json": {
       "model_id": "3011ce1472eb42179d489bafedae8854",
       "version_major": 2,
       "version_minor": 0
      },
      "text/plain": [
       "Writing:   0%|                                                               |   0% [00:00 < ?, 0/1]"
      ]
     },
     "metadata": {},
     "output_type": "display_data"
    },
    {
     "name": "stdout",
     "output_type": "stream",
     "text": [
      "\u001b[1;32mFile written: ../input_files/trees/tree_ee_Zwindow_2018UL_Mar12/tree_WWZ_WWZJetsTo4L2Nu.root\u001b[0m (146994 -> 35095, 23.88%)\n",
      "\n",
      "\n",
      "Processing file: tree_WW_WWTo1L1Nu2Q.root\n"
     ]
    },
    {
     "data": {
      "application/vnd.jupyter.widget-view+json": {
       "model_id": "1d77a43e24164374981997156cc0d33b",
       "version_major": 2,
       "version_minor": 0
      },
      "text/plain": [
       "Reading:   0%|                                                                    | [00:00 < ?, 0/1]"
      ]
     },
     "metadata": {},
     "output_type": "display_data"
    },
    {
     "data": {
      "application/vnd.jupyter.widget-view+json": {
       "model_id": "9473edb18b984409beef6b8571168469",
       "version_major": 2,
       "version_minor": 0
      },
      "text/plain": [
       "Writing:   0%|                                                               |   0% [00:00 < ?, 0/1]"
      ]
     },
     "metadata": {},
     "output_type": "display_data"
    },
    {
     "name": "stdout",
     "output_type": "stream",
     "text": [
      "\u001b[1;32mFile written: ../input_files/trees/tree_ee_Zwindow_2018UL_Mar12/tree_WW_WWTo1L1Nu2Q.root\u001b[0m (902 -> 170, 18.85%)\n",
      "\n",
      "\n",
      "Processing file: tree_WW_WWTo2L2Nu.root\n"
     ]
    },
    {
     "data": {
      "application/vnd.jupyter.widget-view+json": {
       "model_id": "e5cf0e372d404939ae72ec0259ffb4bf",
       "version_major": 2,
       "version_minor": 0
      },
      "text/plain": [
       "Reading:   0%|                                                                    | [00:00 < ?, 0/1]"
      ]
     },
     "metadata": {},
     "output_type": "display_data"
    },
    {
     "data": {
      "application/vnd.jupyter.widget-view+json": {
       "model_id": "a0b21faac9214a9790527cb78546a762",
       "version_major": 2,
       "version_minor": 0
      },
      "text/plain": [
       "Writing:   0%|                                                               |   0% [00:00 < ?, 0/1]"
      ]
     },
     "metadata": {},
     "output_type": "display_data"
    },
    {
     "name": "stdout",
     "output_type": "stream",
     "text": [
      "\u001b[1;32mFile written: ../input_files/trees/tree_ee_Zwindow_2018UL_Mar12/tree_WW_WWTo2L2Nu.root\u001b[0m (78416 -> 32422, 41.35%)\n",
      "\n",
      "\n",
      "Processing file: tree_WW_WWTo4Q.root\n"
     ]
    },
    {
     "data": {
      "application/vnd.jupyter.widget-view+json": {
       "model_id": "4ff21932b5c045b3be99871651b41416",
       "version_major": 2,
       "version_minor": 0
      },
      "text/plain": [
       "Reading:   0%|                                                                    | [00:00 < ?, 0/1]"
      ]
     },
     "metadata": {},
     "output_type": "display_data"
    },
    {
     "data": {
      "application/vnd.jupyter.widget-view+json": {
       "model_id": "54d2f239712347459cb7f8659efc444f",
       "version_major": 2,
       "version_minor": 0
      },
      "text/plain": [
       "Writing:   0%|                                                               |   0% [00:00 < ?, 0/1]"
      ]
     },
     "metadata": {},
     "output_type": "display_data"
    },
    {
     "name": "stdout",
     "output_type": "stream",
     "text": [
      "\u001b[1;32mFile written: ../input_files/trees/tree_ee_Zwindow_2018UL_Mar12/tree_WW_WWTo4Q.root\u001b[0m (3 -> 1, 33.33%)\n",
      "\n",
      "\n",
      "Processing file: tree_WZZ_Inclusive.root\n"
     ]
    },
    {
     "data": {
      "application/vnd.jupyter.widget-view+json": {
       "model_id": "20ea42aaf5864986a7b212db55658b29",
       "version_major": 2,
       "version_minor": 0
      },
      "text/plain": [
       "Reading:   0%|                                                                    | [00:00 < ?, 0/1]"
      ]
     },
     "metadata": {},
     "output_type": "display_data"
    },
    {
     "data": {
      "application/vnd.jupyter.widget-view+json": {
       "model_id": "eeb85361741b4b73937ef7bdc7a11956",
       "version_major": 2,
       "version_minor": 0
      },
      "text/plain": [
       "Writing:   0%|                                                               |   0% [00:00 < ?, 0/1]"
      ]
     },
     "metadata": {},
     "output_type": "display_data"
    },
    {
     "name": "stdout",
     "output_type": "stream",
     "text": [
      "\u001b[1;32mFile written: ../input_files/trees/tree_ee_Zwindow_2018UL_Mar12/tree_WZZ_Inclusive.root\u001b[0m (6169 -> 1495, 24.23%)\n",
      "\n",
      "\n",
      "Processing file: tree_WZ_WZTo1L1Nu2Q.root\n"
     ]
    },
    {
     "data": {
      "application/vnd.jupyter.widget-view+json": {
       "model_id": "cdd338fae220448d9cb96cd6f0412877",
       "version_major": 2,
       "version_minor": 0
      },
      "text/plain": [
       "Reading:   0%|                                                                    | [00:00 < ?, 0/1]"
      ]
     },
     "metadata": {},
     "output_type": "display_data"
    },
    {
     "data": {
      "application/vnd.jupyter.widget-view+json": {
       "model_id": "b50bf37a6e8a431182a9d96d483ad134",
       "version_major": 2,
       "version_minor": 0
      },
      "text/plain": [
       "Writing:   0%|                                                               |   0% [00:00 < ?, 0/1]"
      ]
     },
     "metadata": {},
     "output_type": "display_data"
    },
    {
     "name": "stdout",
     "output_type": "stream",
     "text": [
      "\u001b[1;32mFile written: ../input_files/trees/tree_ee_Zwindow_2018UL_Mar12/tree_WZ_WZTo1L1Nu2Q.root\u001b[0m (159 -> 28, 17.61%)\n",
      "\n",
      "\n",
      "Processing file: tree_WZ_WZTo2L2Q.root\n"
     ]
    },
    {
     "data": {
      "application/vnd.jupyter.widget-view+json": {
       "model_id": "cb5dd808302c495b9bba5741d72d77cf",
       "version_major": 2,
       "version_minor": 0
      },
      "text/plain": [
       "Reading:   0%|                                                                   | [00:00 < ?, 0/18]"
      ]
     },
     "metadata": {},
     "output_type": "display_data"
    },
    {
     "data": {
      "application/vnd.jupyter.widget-view+json": {
       "model_id": "0cc98c841dba4895b15e7a502df22941",
       "version_major": 2,
       "version_minor": 0
      },
      "text/plain": [
       "Writing:   0%|                                                               |   0% [00:00 < ?, 0/5]"
      ]
     },
     "metadata": {},
     "output_type": "display_data"
    },
    {
     "name": "stdout",
     "output_type": "stream",
     "text": [
      "\u001b[1;32mFile written: ../input_files/trees/tree_ee_Zwindow_2018UL_Mar12/tree_WZ_WZTo2L2Q.root\u001b[0m (1702838 -> 488953, 28.71%)\n",
      "\n",
      "\n",
      "Processing file: tree_WZ_WZTo3LNu.root\n"
     ]
    },
    {
     "data": {
      "application/vnd.jupyter.widget-view+json": {
       "model_id": "464dff97a17c4393bdad9cf4baaa235d",
       "version_major": 2,
       "version_minor": 0
      },
      "text/plain": [
       "Reading:   0%|                                                                    | [00:00 < ?, 0/3]"
      ]
     },
     "metadata": {},
     "output_type": "display_data"
    },
    {
     "data": {
      "application/vnd.jupyter.widget-view+json": {
       "model_id": "e876d25507f34795848242cae5d25977",
       "version_major": 2,
       "version_minor": 0
      },
      "text/plain": [
       "Writing:   0%|                                                               |   0% [00:00 < ?, 0/1]"
      ]
     },
     "metadata": {},
     "output_type": "display_data"
    },
    {
     "name": "stdout",
     "output_type": "stream",
     "text": [
      "\u001b[1;32mFile written: ../input_files/trees/tree_ee_Zwindow_2018UL_Mar12/tree_WZ_WZTo3LNu.root\u001b[0m (234833 -> 67950, 28.94%)\n",
      "\n",
      "\n",
      "Processing file: tree_ZGamma_ZGToLLG_01J.root\n"
     ]
    },
    {
     "data": {
      "application/vnd.jupyter.widget-view+json": {
       "model_id": "14615c1b238d495b937056c37f6677bd",
       "version_major": 2,
       "version_minor": 0
      },
      "text/plain": [
       "Reading:   0%|                                                                    | [00:00 < ?, 0/8]"
      ]
     },
     "metadata": {},
     "output_type": "display_data"
    },
    {
     "data": {
      "application/vnd.jupyter.widget-view+json": {
       "model_id": "388281d234d24514a6cc3b3c9ad0474c",
       "version_major": 2,
       "version_minor": 0
      },
      "text/plain": [
       "Writing:   0%|                                                               |   0% [00:00 < ?, 0/3]"
      ]
     },
     "metadata": {},
     "output_type": "display_data"
    },
    {
     "name": "stdout",
     "output_type": "stream",
     "text": [
      "\u001b[1;32mFile written: ../input_files/trees/tree_ee_Zwindow_2018UL_Mar12/tree_ZGamma_ZGToLLG_01J.root\u001b[0m (790029 -> 282929, 35.81%)\n",
      "\n",
      "\n",
      "Processing file: tree_ZZZ_Inclusive.root\n"
     ]
    },
    {
     "data": {
      "application/vnd.jupyter.widget-view+json": {
       "model_id": "d28074c4cd5e4d0bbff450b452e1c82e",
       "version_major": 2,
       "version_minor": 0
      },
      "text/plain": [
       "Reading:   0%|                                                                    | [00:00 < ?, 0/1]"
      ]
     },
     "metadata": {},
     "output_type": "display_data"
    },
    {
     "data": {
      "application/vnd.jupyter.widget-view+json": {
       "model_id": "9753c303d9394fc19898844ef101bcc7",
       "version_major": 2,
       "version_minor": 0
      },
      "text/plain": [
       "Writing:   0%|                                                               |   0% [00:00 < ?, 0/1]"
      ]
     },
     "metadata": {},
     "output_type": "display_data"
    },
    {
     "name": "stdout",
     "output_type": "stream",
     "text": [
      "\u001b[1;32mFile written: ../input_files/trees/tree_ee_Zwindow_2018UL_Mar12/tree_ZZZ_Inclusive.root\u001b[0m (8134 -> 2158, 26.53%)\n",
      "\n",
      "\n",
      "Processing file: tree_ZZ_ZZTo2L2Nu.root\n"
     ]
    },
    {
     "data": {
      "application/vnd.jupyter.widget-view+json": {
       "model_id": "2b43135787f3444c9ce9ed75e9292f66",
       "version_major": 2,
       "version_minor": 0
      },
      "text/plain": [
       "Reading:   0%|                                                                   | [00:00 < ?, 0/37]"
      ]
     },
     "metadata": {},
     "output_type": "display_data"
    },
    {
     "data": {
      "application/vnd.jupyter.widget-view+json": {
       "model_id": "2f68c1f5d38547f9aa36b0e8dff103da",
       "version_major": 2,
       "version_minor": 0
      },
      "text/plain": [
       "Writing:   0%|                                                              |   0% [00:00 < ?, 0/12]"
      ]
     },
     "metadata": {},
     "output_type": "display_data"
    },
    {
     "name": "stdout",
     "output_type": "stream",
     "text": [
      "\u001b[1;32mFile written: ../input_files/trees/tree_ee_Zwindow_2018UL_Mar12/tree_ZZ_ZZTo2L2Nu.root\u001b[0m (3690204 -> 1137427, 30.82%)\n",
      "\n",
      "\n",
      "Processing file: tree_ZZ_ZZTo2Q2L.root\n"
     ]
    },
    {
     "data": {
      "application/vnd.jupyter.widget-view+json": {
       "model_id": "6c9d36a38eb14e3188b89e73aa5b3944",
       "version_major": 2,
       "version_minor": 0
      },
      "text/plain": [
       "Reading:   0%|                                                                   | [00:00 < ?, 0/20]"
      ]
     },
     "metadata": {},
     "output_type": "display_data"
    },
    {
     "data": {
      "application/vnd.jupyter.widget-view+json": {
       "model_id": "2b453af51a6c46efb8694999e58596f4",
       "version_major": 2,
       "version_minor": 0
      },
      "text/plain": [
       "Writing:   0%|                                                               |   0% [00:00 < ?, 0/6]"
      ]
     },
     "metadata": {},
     "output_type": "display_data"
    },
    {
     "name": "stdout",
     "output_type": "stream",
     "text": [
      "\u001b[1;32mFile written: ../input_files/trees/tree_ee_Zwindow_2018UL_Mar12/tree_ZZ_ZZTo2Q2L.root\u001b[0m (1959773 -> 568695, 29.02%)\n",
      "\n",
      "\n",
      "Processing file: tree_ZZ_ZZTo2Q2Nu.root\n",
      "Warning: 'myEvents' tree in ../input_files/trees/tree_ee_Zwindow_2018UL_Feb27/tree_ZZ_ZZTo2Q2Nu.root is empty. Skipping.\n",
      "\n",
      "Processing file: tree_ZZ_ZZTo4L.root\n"
     ]
    },
    {
     "data": {
      "application/vnd.jupyter.widget-view+json": {
       "model_id": "5b7b5bc9b37846718ce8bbce26abfa5e",
       "version_major": 2,
       "version_minor": 0
      },
      "text/plain": [
       "Reading:   0%|                                                                   | [00:00 < ?, 0/24]"
      ]
     },
     "metadata": {},
     "output_type": "display_data"
    },
    {
     "data": {
      "application/vnd.jupyter.widget-view+json": {
       "model_id": "369be469b8234c1681498b0e49f38113",
       "version_major": 2,
       "version_minor": 0
      },
      "text/plain": [
       "Writing:   0%|                                                              |   0% [00:00 < ?, 0/12]"
      ]
     },
     "metadata": {},
     "output_type": "display_data"
    },
    {
     "name": "stdout",
     "output_type": "stream",
     "text": [
      "\u001b[1;32mFile written: ../input_files/trees/tree_ee_Zwindow_2018UL_Mar12/tree_ZZ_ZZTo4L.root\u001b[0m (2373974 -> 1163110, 48.99%)\n",
      "\n",
      "\n",
      "\u001b[1;33mSummary:\u001b[0m\n",
      "\n",
      "\u001b[33mEmpty input: ['../input_files/trees/tree_ee_Zwindow_2018UL_Feb27/tree_QCD_EMEnriched_15to20.root', '../input_files/trees/tree_ee_Zwindow_2018UL_Feb27/tree_QCD_EMEnriched_170to300.root', '../input_files/trees/tree_ee_Zwindow_2018UL_Feb27/tree_QCD_EMEnriched_20to30.root', '../input_files/trees/tree_ee_Zwindow_2018UL_Feb27/tree_QCD_EMEnriched_30to50.root', '../input_files/trees/tree_ee_Zwindow_2018UL_Feb27/tree_QCD_EMEnriched_50to80.root', '../input_files/trees/tree_ee_Zwindow_2018UL_Feb27/tree_QCD_EMEnriched_80to120.root', '../input_files/trees/tree_ee_Zwindow_2018UL_Feb27/tree_QCD_MuEnriched_20to30.root', '../input_files/trees/tree_ee_Zwindow_2018UL_Feb27/tree_QCD_MuEnriched_30to50.root', '../input_files/trees/tree_ee_Zwindow_2018UL_Feb27/tree_QCD_MuEnriched_80to120.root', '../input_files/trees/tree_ee_Zwindow_2018UL_Feb27/tree_ZZ_ZZTo2Q2Nu.root']\u001b[0m\n",
      "\n",
      "\u001b[31mEmpty output: ['QCD_EMEnriched_120to170.root', 'QCD_EMEnriched_300toInf.root', 'QCD_MuEnriched_120to170.root', 'QCD_MuEnriched_170to300.root', 'QCD_MuEnriched_50to80.root', 'QCD_MuEnriched_600to800.root', 'QCD_MuEnriched_800to1000.root', 'VLLD_mu_M400.root', 'VLLD_mu_M600.root', 'VLLD_mu_M800.root']\u001b[0m\n",
      "\n",
      "CPU times: user 8min 37s, sys: 9.8 s, total: 8min 47s\n",
      "Wall time: 11min 50s\n"
     ]
    }
   ],
   "source": [
    "%%time\n",
    "\n",
    "list_of_files = os.listdir(indir)\n",
    "list_empty_input = []\n",
    "list_empty_output = []\n",
    "\n",
    "for f in list_of_files:\n",
    "\n",
    "    #if not 'QCD' in f: continue\n",
    "    if not f.endswith('.root'): continue\n",
    "    #if 'SingleMuon' not in f: continue\n",
    "\n",
    "    #Step1: Prepare the dataframe\n",
    "    print(f'\\nProcessing file: {f}')\n",
    "    filepath = os.path.join(indir, f)\n",
    "    sample = f.split(\"_\")[1]\n",
    "    subsample = \"_\".join(f.split(\"_\")[2:])\n",
    "       \n",
    "    outfile = os.path.join(outdir, f)\n",
    "    #if os.path.exists(outfile): continue\n",
    "    #if 'WJets' not in f: continue\n",
    "\n",
    "    df = read_file_into_df(filepath)\n",
    "    if df.empty : \n",
    "        #print(f\"\\033[0;31mWarning: Empty input file: {filepath}\\033[0m\\n\")\n",
    "        list_empty_input.append(filepath)\n",
    "        continue\n",
    "\n",
    "    '''\n",
    "    #Creating working points on the dataframe using the NN.\n",
    "    df['flag_qcd'] = (\n",
    "        ((df['channel'].isin([0, 1])) & (df['nnscore_qcd_vlldmu_200_800']  < 0.30)) |\n",
    "        ((df['channel'].isin([2, 3])) & (df['nnscore_qcd_vlldele_200_800'] < 0.30))\n",
    "    )\n",
    "\n",
    "    df['flag_topregion'] = (\n",
    "        ((df['channel'].isin([0, 1])) & (df['nnscore_qcd_vlldmu_200_800']  > 0.50) & (df['nnscore_qcd_vlldmu_200_800']  < 0.70)) |\n",
    "        ((df['channel'].isin([2, 3])) & (df['nnscore_qcd_vlldmu_200_800']  > 0.50) & (df['nnscore_qcd_vlldele_200_800'] < 0.70))\n",
    "    )\n",
    "    \n",
    "    df['flag_searchregion'] = (\n",
    "        ((df['channel'].isin([0, 1])) & (df['nnscore_qcd_vlldmu_200_800']  > 0.70)) |\n",
    "        ((df['channel'].isin([2, 3])) & (df['nnscore_qcd_vlldele_200_800'] > 0.70))\n",
    "    )\n",
    "\n",
    "    nnscore = f'nnscore_qcd_vlld_{campaign.replace(\"_UL\", \"\")}'\n",
    "    df['flag_searchregion'] = df[nnscore] > 0.70\n",
    "    df['flag_val'] = (df[nnscore] > 0.50) & (df[nnscore] < 0.7)\n",
    "    df['flag_qcd'] = (df[nnscore] < 0.30)\n",
    "\n",
    "    # Put any cuts here on dataframe as you like\n",
    "    # Define conditions as strings\n",
    "    dy_veto = 'not (channel == 3 and 76 < dilep_mass < 106)'\n",
    "\n",
    "    #Step1: Controlling QCD:\n",
    "    qcd_cr = f'{dy_veto} and flag_qcd and 0.02<lep0_iso<0.15 and lep0_sip3d>5'\n",
    "    qcd_vr = f'{dy_veto} and flag_qcd and 0.02<lep0_iso<0.15 and lep0_sip3d<5'\n",
    "\n",
    "    #Step2: Controlling Drell-Yan:\n",
    "    dycr  = f'76<dilep_mass<106  and dilep_ptratio > 0.7'\n",
    "\n",
    "    tight_sip3d =  'lep0_sip3d<5 and lep1_sip3d<10'\n",
    "    qcd_veto = f'{tight_sip3d} and {dy_veto} and not flag_qcd and HT>50'\n",
    "\n",
    "    #Step3: Search region\n",
    "    search_region = f'{qcd_veto} and flag_searchregion'\n",
    "    \n",
    "    #Step5: Controlling TTbar:\n",
    "    top_vr = f'{qcd_veto} and flag_val'\n",
    "    #top_cr = f'{qcd_veto} and flag_searchregion and nbjet>0'\n",
    "    top_cr = f'{search_region} and nnscore_ttbar_vlld < 0.40'\n",
    "\n",
    "    #Step5: Signal regions:\n",
    "    #sig_region = f'{search_region} and and nbjet == 0'\n",
    "    sig_region = f'{search_region} and nnscore_ttbar_vlld > 0.70'\n",
    "    '''\n",
    "\n",
    "    dy_cr = f'76<dilep_mass<106 and lep0_sip3d<5 and lep1_sip3d<10 and dilep_ptratio>0.7'\n",
    "    \n",
    "    #------------------------------\n",
    "    # Final event selection:\n",
    "    event_selection = dy_cr\n",
    "    #------------------------------\n",
    "\n",
    "    # Use df.query with the combined condition\n",
    "    df_filtered = df.query(event_selection)\n",
    "    \n",
    "    if df_filtered.empty: list_empty_output.append(f'{sample}_{subsample}')\n",
    "\n",
    "    nbefore = len(df)\n",
    "    nafter = len(df_filtered)\n",
    "\n",
    "    frac = 0\n",
    "    if nbefore != 0: frac = nafter*100/nbefore\n",
    "\n",
    "    #display(df_filtered)\n",
    "\n",
    "    write_df_into_file(df_filtered, outfile)\n",
    "    print(f'\\033[1;32mFile written: {outfile}\\033[0m ({nbefore} -> {nafter}, {frac:.2f}%)\\n')\n",
    "    #break #file\n",
    "\n",
    "print(f'\\n\\033[1;33mSummary:\\033[0m')\n",
    "print(f'\\n\\033[33mEmpty input: {list_empty_input}\\033[0m')\n",
    "print(f'\\n\\033[31mEmpty output: {list_empty_output}\\033[0m\\n')"
   ]
  },
  {
   "cell_type": "code",
   "execution_count": 5,
   "id": "f3244341-4a93-436b-90f4-34df59bfc803",
   "metadata": {},
   "outputs": [
    {
     "name": "stdout",
     "output_type": "stream",
     "text": [
      "\u001b[93m\n",
      "Runnning .. \n",
      "root -q -b -l 'extractHistsFromTrees.C(\"tree_ee_Zwindow_2018UL_Mar12\", \"hist_ee_Zwindow_2018UL_Mar12_mm\", \"2018_UL\", \"mm\")'\u001b[0m\n",
      "\n",
      "Run it yourself:\n",
      "\u001b[93m\n",
      "Runnning .. \n",
      "root -q -b -l 'extractHistsFromTrees.C(\"tree_ee_Zwindow_2018UL_Mar12\", \"hist_ee_Zwindow_2018UL_Mar12_me\", \"2018_UL\", \"me\")'\u001b[0m\n",
      "\n",
      "Run it yourself:\n",
      "\u001b[93m\n",
      "Runnning .. \n",
      "root -q -b -l 'extractHistsFromTrees.C(\"tree_ee_Zwindow_2018UL_Mar12\", \"hist_ee_Zwindow_2018UL_Mar12_em\", \"2018_UL\", \"em\")'\u001b[0m\n",
      "\n",
      "Run it yourself:\n",
      "\u001b[93m\n",
      "Runnning .. \n",
      "root -q -b -l 'extractHistsFromTrees.C(\"tree_ee_Zwindow_2018UL_Mar12\", \"hist_ee_Zwindow_2018UL_Mar12_ee\", \"2018_UL\", \"ee\")'\u001b[0m\n",
      "\n",
      "Run it yourself:\n",
      "Done!\n",
      "CPU times: user 162 μs, sys: 3 μs, total: 165 μs\n",
      "Wall time: 158 μs\n"
     ]
    }
   ],
   "source": [
    "%%time\n",
    "\n",
    "run_here = False\n",
    "\n",
    "channels = ['mm', 'me', 'em', 'ee']\n",
    "for channel_ in channels:\n",
    "    jobname_ = outjob\n",
    "    campaign_ = campaign\n",
    "    dump_ = outjob.replace('tree', 'hist')+'_'+channel_\n",
    "    arguments = f'extractHistsFromTrees.C(\"{jobname_}\", \"{dump_}\", \"{campaign_}\", \"{channel_}\")'\n",
    "    command = f\"root -q -b -l '{arguments}'\"\n",
    "    print(f'\\033[93m\\nRunnning .. \\n{command}\\033[0m\\n')\n",
    "\n",
    "    if run_here: os.system(command)\n",
    "    else: print('Run it yourself:')\n",
    "    \n",
    "print('Done!')"
   ]
  },
  {
   "cell_type": "code",
   "execution_count": null,
   "id": "ef11b42b-6023-4523-a035-375e3096932b",
   "metadata": {},
   "outputs": [],
   "source": []
  }
 ],
 "metadata": {
  "kernelspec": {
   "display_name": "Python 3 (ipykernel)",
   "language": "python",
   "name": "python3"
  },
  "language_info": {
   "codemirror_mode": {
    "name": "ipython",
    "version": 3
   },
   "file_extension": ".py",
   "mimetype": "text/x-python",
   "name": "python",
   "nbconvert_exporter": "python",
   "pygments_lexer": "ipython3",
   "version": "3.10.9"
  }
 },
 "nbformat": 4,
 "nbformat_minor": 5
}
