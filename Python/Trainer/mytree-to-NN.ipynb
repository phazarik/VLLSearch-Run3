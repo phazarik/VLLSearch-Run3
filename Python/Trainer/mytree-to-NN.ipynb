{
 "cells": [
  {
   "cell_type": "markdown",
   "id": "afd57708-33c8-4f10-8e4c-b647ad9ca17e",
   "metadata": {},
   "source": [
    "# Playing around with the trees"
   ]
  },
  {
   "cell_type": "code",
   "execution_count": 1,
   "id": "f8c8320e-004b-4e66-9c43-b221d2f528c9",
   "metadata": {},
   "outputs": [],
   "source": [
    "import os, sys\n",
    "import numpy as np\n",
    "import uproot\n",
    "import pandas as pd"
   ]
  },
  {
   "cell_type": "code",
   "execution_count": 2,
   "id": "675ff75a-c6c6-4695-a125-95d5f807ce0b",
   "metadata": {},
   "outputs": [],
   "source": [
    "indir = '/mnt/d/work/GitHub/VLLSearch-Run3/AnaCodes/prachu/TreeMaker/test_outputs'\n",
    "\n",
    "def read_file_into_df(name, truth):\n",
    "    file = uproot.open(f'{indir}/{name}')\n",
    "    tree = file['Events']\n",
    "    branches = ['nlep', 'lep0_pt']\n",
    "    awkarray = tree.arrays(branches)\n",
    "    df = pd.DataFrame(awkarray.to_list())\n",
    "    df['truth'] = truth\n",
    "    return df"
   ]
  },
  {
   "cell_type": "code",
   "execution_count": 3,
   "id": "5d5bc3c1-59c2-4d98-a2a2-e99e9355b63e",
   "metadata": {},
   "outputs": [
    {
     "data": {
      "text/html": [
       "<div>\n",
       "<style scoped>\n",
       "    .dataframe tbody tr th:only-of-type {\n",
       "        vertical-align: middle;\n",
       "    }\n",
       "\n",
       "    .dataframe tbody tr th {\n",
       "        vertical-align: top;\n",
       "    }\n",
       "\n",
       "    .dataframe thead th {\n",
       "        text-align: right;\n",
       "    }\n",
       "</style>\n",
       "<table border=\"1\" class=\"dataframe\">\n",
       "  <thead>\n",
       "    <tr style=\"text-align: right;\">\n",
       "      <th></th>\n",
       "      <th>nlep</th>\n",
       "      <th>lep0_pt</th>\n",
       "      <th>truth</th>\n",
       "    </tr>\n",
       "  </thead>\n",
       "  <tbody>\n",
       "    <tr>\n",
       "      <th>0</th>\n",
       "      <td>2</td>\n",
       "      <td>38.277325</td>\n",
       "      <td>0</td>\n",
       "    </tr>\n",
       "    <tr>\n",
       "      <th>1</th>\n",
       "      <td>2</td>\n",
       "      <td>250.811600</td>\n",
       "      <td>1</td>\n",
       "    </tr>\n",
       "    <tr>\n",
       "      <th>2</th>\n",
       "      <td>2</td>\n",
       "      <td>334.791748</td>\n",
       "      <td>1</td>\n",
       "    </tr>\n",
       "    <tr>\n",
       "      <th>3</th>\n",
       "      <td>2</td>\n",
       "      <td>86.954536</td>\n",
       "      <td>1</td>\n",
       "    </tr>\n",
       "    <tr>\n",
       "      <th>4</th>\n",
       "      <td>2</td>\n",
       "      <td>48.765697</td>\n",
       "      <td>0</td>\n",
       "    </tr>\n",
       "    <tr>\n",
       "      <th>...</th>\n",
       "      <td>...</td>\n",
       "      <td>...</td>\n",
       "      <td>...</td>\n",
       "    </tr>\n",
       "    <tr>\n",
       "      <th>2338</th>\n",
       "      <td>2</td>\n",
       "      <td>657.698486</td>\n",
       "      <td>1</td>\n",
       "    </tr>\n",
       "    <tr>\n",
       "      <th>2339</th>\n",
       "      <td>2</td>\n",
       "      <td>47.458145</td>\n",
       "      <td>0</td>\n",
       "    </tr>\n",
       "    <tr>\n",
       "      <th>2340</th>\n",
       "      <td>2</td>\n",
       "      <td>295.318573</td>\n",
       "      <td>1</td>\n",
       "    </tr>\n",
       "    <tr>\n",
       "      <th>2341</th>\n",
       "      <td>2</td>\n",
       "      <td>48.377186</td>\n",
       "      <td>1</td>\n",
       "    </tr>\n",
       "    <tr>\n",
       "      <th>2342</th>\n",
       "      <td>2</td>\n",
       "      <td>386.110748</td>\n",
       "      <td>1</td>\n",
       "    </tr>\n",
       "  </tbody>\n",
       "</table>\n",
       "<p>2343 rows × 3 columns</p>\n",
       "</div>"
      ],
      "text/plain": [
       "      nlep     lep0_pt  truth\n",
       "0        2   38.277325      0\n",
       "1        2  250.811600      1\n",
       "2        2  334.791748      1\n",
       "3        2   86.954536      1\n",
       "4        2   48.765697      0\n",
       "...    ...         ...    ...\n",
       "2338     2  657.698486      1\n",
       "2339     2   47.458145      0\n",
       "2340     2  295.318573      1\n",
       "2341     2   48.377186      1\n",
       "2342     2  386.110748      1\n",
       "\n",
       "[2343 rows x 3 columns]"
      ]
     },
     "execution_count": 3,
     "metadata": {},
     "output_type": "execute_result"
    }
   ],
   "source": [
    "df_bkg = read_file_into_df('tree_dy.root', 0)\n",
    "df_sig = read_file_into_df('tree_vlld_ele_800.root', 1)\n",
    "df = pd.concat([df_sig, df_bkg])\n",
    "df = df.sample(frac=1).reset_index(drop=True) #Randomizing the rows and reseting the indices\n",
    "df"
   ]
  },
  {
   "cell_type": "markdown",
   "id": "0186c70c",
   "metadata": {},
   "source": [
    "# The Neural Network"
   ]
  },
  {
   "cell_type": "code",
   "execution_count": 4,
   "id": "45321ccf",
   "metadata": {},
   "outputs": [
    {
     "name": "stderr",
     "output_type": "stream",
     "text": [
      "2023-11-23 12:43:38.069299: I tensorflow/core/platform/cpu_feature_guard.cc:182] This TensorFlow binary is optimized to use available CPU instructions in performance-critical operations.\n",
      "To enable the following instructions: SSE4.1 SSE4.2 AVX AVX2 FMA, in other operations, rebuild TensorFlow with the appropriate compiler flags.\n"
     ]
    }
   ],
   "source": [
    "import tensorflow as tf\n",
    "from sklearn.model_selection import train_test_split\n",
    "from sklearn.metrics import roc_curve,auc\n",
    "from tensorflow.keras import Sequential\n",
    "from tensorflow.keras.layers import Dense"
   ]
  },
  {
   "cell_type": "markdown",
   "id": "5a6891bc",
   "metadata": {},
   "source": [
    "#### Prepating the dataframe for training and testing:"
   ]
  },
  {
   "cell_type": "code",
   "execution_count": 5,
   "id": "7150bedc",
   "metadata": {},
   "outputs": [
    {
     "name": "stdout",
     "output_type": "stream",
     "text": [
      "Statistics:\n",
      "nSig split into train and test: 1004, 1005\n",
      "nBkg split into train and test: 167, 167\n"
     ]
    }
   ],
   "source": [
    "df_train, df_test = train_test_split(df, test_size=0.5, stratify=df['truth'])\n",
    "df_train = df_train.sample(frac=1).reset_index(drop=True)\n",
    "df_test  = df_test.sample(frac=1).reset_index(drop=True)\n",
    "\n",
    "nsig_train = len(df_train.query('truth == 1'))\n",
    "nsig_test  = len(df_test.query('truth == 1'))\n",
    "nbkg_train = len(df_train.query('truth == 0'))\n",
    "nbkg_test  = len(df_test.query('truth == 0'))\n",
    "\n",
    "print(f'Statistics:')\n",
    "print(f'nSig split into train and test: {nsig_train}, {nsig_test}')\n",
    "print(f'nBkg split into train and test: {nbkg_train}, {nbkg_test}')\n",
    "\n",
    "train_var = ['nlep', 'lep0_pt']\n",
    "\n",
    "#Numpy arrays that go into the training and testing:\n",
    "X_train= df_train[train_var].values\n",
    "y_train= df_train['truth'].values\n",
    "X_test = df_test[train_var].values\n",
    "y_test = df_test['truth'].values"
   ]
  },
  {
   "cell_type": "markdown",
   "id": "2b118765",
   "metadata": {},
   "source": [
    "#### Min-max scaler:"
   ]
  },
  {
   "cell_type": "code",
   "execution_count": 6,
   "id": "e2dff72f-c98f-4628-9c9b-b56ee174e398",
   "metadata": {},
   "outputs": [],
   "source": [
    "def ScaleMinMax(x):\n",
    "    maxval = x.max(axis=0)\n",
    "    minval = x.min(axis=0)\n",
    "    print('\\n'+'-'*25)\n",
    "    print('Before scaling:')\n",
    "    print(\"Min Values:\", minval)\n",
    "    print(\"Max Values:\", maxval)\n",
    "    diff = maxval-minval\n",
    "    # Identifying columns where\n",
    "    # max and min values are different:\n",
    "    nonconst = np.where(diff != 0)[0]\n",
    "    \n",
    "    # Normalizing only those columns:\n",
    "    normed_x = x.copy()\n",
    "    normed_x[:, nonconst] = 2 * ((x[:, nonconst] - minval[nonconst]) / diff[nonconst]) - 1.0\n",
    "    #normed_x[:, nonconst] = -1 + 2 * ((x[:, nonconst] - minval[nonconst]) / diff[nonconst])\n",
    "    \n",
    "    maxval_new = normed_x.max(axis=0)\n",
    "    minval_new = normed_x.min(axis=0)\n",
    "    print('\\nAfter scaling:')\n",
    "    print(\"Min Values:\", minval_new)\n",
    "    print(\"Max Values:\", maxval_new)\n",
    "    return normed_x"
   ]
  },
  {
   "cell_type": "code",
   "execution_count": 7,
   "id": "15c83696",
   "metadata": {},
   "outputs": [
    {
     "name": "stdout",
     "output_type": "stream",
     "text": [
      "\n",
      "-------------------------\n",
      "Before scaling:\n",
      "Min Values: [ 2.         10.58330536]\n",
      "Max Values: [   2.         1607.36657715]\n",
      "\n",
      "After scaling:\n",
      "Min Values: [ 2. -1.]\n",
      "Max Values: [2. 1.]\n",
      "\n",
      "-------------------------\n",
      "Before scaling:\n",
      "Min Values: [ 2.         10.00982189]\n",
      "Max Values: [   2.         1539.75854492]\n",
      "\n",
      "After scaling:\n",
      "Min Values: [ 2. -1.]\n",
      "Max Values: [2. 1.]\n"
     ]
    }
   ],
   "source": [
    "X_train = ScaleMinMax(X_train)\n",
    "X_test = ScaleMinMax(X_test)"
   ]
  },
  {
   "cell_type": "markdown",
   "id": "e94375e1",
   "metadata": {},
   "source": [
    "### Model architecture"
   ]
  },
  {
   "cell_type": "code",
   "execution_count": 8,
   "id": "896f0282",
   "metadata": {},
   "outputs": [
    {
     "name": "stdout",
     "output_type": "stream",
     "text": [
      "The NN architecture is\n",
      "Model: \"sequential\"\n",
      "_________________________________________________________________\n",
      " Layer (type)                Output Shape              Param #   \n",
      "=================================================================\n",
      " FirstLayer (Dense)          (None, 64)                192       \n",
      "                                                                 \n",
      " dense (Dense)               (None, 32)                2080      \n",
      "                                                                 \n",
      " dense_1 (Dense)             (None, 16)                528       \n",
      "                                                                 \n",
      " FinalLayer (Dense)          (None, 1)                 17        \n",
      "                                                                 \n",
      "=================================================================\n",
      "Total params: 2,817\n",
      "Trainable params: 2,817\n",
      "Non-trainable params: 0\n",
      "_________________________________________________________________\n"
     ]
    },
    {
     "name": "stderr",
     "output_type": "stream",
     "text": [
      "2023-11-23 12:43:40.573376: I tensorflow/core/common_runtime/process_util.cc:146] Creating new thread pool with default inter op setting: 2. Tune using inter_op_parallelism_threads for best performance.\n"
     ]
    }
   ],
   "source": [
    "n_features = X_train.shape[1]\n",
    "epochs_ = 10\n",
    "batch_ = 100\n",
    "\n",
    "model = Sequential()\n",
    "model.add(Dense(64, activation='relu', kernel_initializer='he_normal', input_dim=n_features, name='FirstLayer'))\n",
    "model.add(Dense(32, activation='relu', kernel_initializer='he_normal'))\n",
    "model.add(Dense(16, activation='relu', kernel_initializer='he_normal'))\n",
    "model.add(Dense(1, activation='sigmoid', name='FinalLayer'))\n",
    "model.compile(optimizer='adam', loss='binary_crossentropy', metrics=['accuracy'])\n",
    "#opt = tf.keras.optimizers.Adam(learning_rate=0.001)\n",
    "print('The NN architecture is')\n",
    "model.summary()"
   ]
  },
  {
   "cell_type": "code",
   "execution_count": 9,
   "id": "18302633",
   "metadata": {},
   "outputs": [
    {
     "name": "stdout",
     "output_type": "stream",
     "text": [
      "Epoch 1/10\n",
      "12/12 [==============================] - 1s 42ms/step - loss: 0.3743 - accuracy: 0.8574 - val_loss: 0.3358 - val_accuracy: 0.8575\n",
      "Epoch 2/10\n",
      "12/12 [==============================] - 0s 23ms/step - loss: 0.3295 - accuracy: 0.8574 - val_loss: 0.3141 - val_accuracy: 0.8575\n",
      "Epoch 3/10\n",
      "12/12 [==============================] - 0s 20ms/step - loss: 0.3084 - accuracy: 0.8574 - val_loss: 0.2986 - val_accuracy: 0.8575\n",
      "Epoch 4/10\n",
      "12/12 [==============================] - 0s 21ms/step - loss: 0.2984 - accuracy: 0.8574 - val_loss: 0.2893 - val_accuracy: 0.8575\n",
      "Epoch 5/10\n",
      "12/12 [==============================] - 0s 19ms/step - loss: 0.2903 - accuracy: 0.8574 - val_loss: 0.2796 - val_accuracy: 0.8575\n",
      "Epoch 6/10\n",
      "12/12 [==============================] - 0s 17ms/step - loss: 0.2790 - accuracy: 0.8574 - val_loss: 0.2738 - val_accuracy: 0.8575\n",
      "Epoch 7/10\n",
      "12/12 [==============================] - 0s 20ms/step - loss: 0.2697 - accuracy: 0.8574 - val_loss: 0.2543 - val_accuracy: 0.8575\n",
      "Epoch 8/10\n",
      "12/12 [==============================] - 0s 18ms/step - loss: 0.2575 - accuracy: 0.8574 - val_loss: 0.2508 - val_accuracy: 0.8464\n",
      "Epoch 9/10\n",
      "12/12 [==============================] - 0s 17ms/step - loss: 0.2558 - accuracy: 0.8531 - val_loss: 0.2471 - val_accuracy: 0.8575\n",
      "Epoch 10/10\n",
      "12/12 [==============================] - 0s 24ms/step - loss: 0.2538 - accuracy: 0.8514 - val_loss: 0.2478 - val_accuracy: 0.8157\n",
      "Training complete!\n"
     ]
    }
   ],
   "source": [
    "history = model.fit(X_train,y_train,epochs=epochs_,batch_size=batch_,validation_data=(X_test,y_test),verbose=1)\n",
    "#model.save('models/'+ modelname +f'/{modelname}.h5')\n",
    "print('Training complete!')"
   ]
  },
  {
   "cell_type": "markdown",
   "id": "59c250ef",
   "metadata": {},
   "source": [
    "### Plotting loss and accuracy of the NN as a function of epochs"
   ]
  },
  {
   "cell_type": "code",
   "execution_count": 10,
   "id": "d8927d57",
   "metadata": {},
   "outputs": [
    {
     "data": {
      "image/png": "[encoded data removed]",
      "text/plain": [
       "<Figure size 1000x400 with 2 Axes>"
      ]
     },
     "metadata": {},
     "output_type": "display_data"
    }
   ],
   "source": [
    "import matplotlib.pyplot as plt\n",
    "\n",
    "fig, ax = plt.subplots(1, 2, figsize=(10, 4))\n",
    "\n",
    "# Subplot 1: accuracy vs epoch\n",
    "ax[0].plot(history.history['accuracy'],     label='Train Accuracy')\n",
    "ax[0].plot(history.history['val_accuracy'], label='Val Accuracy')\n",
    "ax[0].set_xlabel('Epoch')\n",
    "ax[0].set_ylabel('Accuracy')\n",
    "ax[0].set_title('Accuracy-vs-Epoch', fontsize=10)\n",
    "ax[0].legend(loc='best')\n",
    "\n",
    "# Subplot 2: loss vs epoch\n",
    "ax[1].plot(history.history['loss'],     label='Train Loss')\n",
    "ax[1].plot(history.history['val_loss'], label='Val Loss')\n",
    "ax[1].set_xlabel('Epoch')\n",
    "ax[1].set_ylabel('Loss')\n",
    "ax[1].set_yscale('log')\n",
    "ax[1].legend(loc='best')\n",
    "ax[1].set_title('Loss-vs-Epoch', fontsize=10)\n",
    "\n",
    "plt.tight_layout()\n",
    "#plt.savefig('combined_plot.png')\n",
    "plt.show()"
   ]
  },
  {
   "cell_type": "markdown",
   "id": "a3f6c55b",
   "metadata": {},
   "source": [
    "### Using the trained model to predict"
   ]
  },
  {
   "cell_type": "code",
   "execution_count": 11,
   "id": "f27b9382",
   "metadata": {},
   "outputs": [
    {
     "name": "stdout",
     "output_type": "stream",
     "text": [
      "37/37 [==============================] - 0s 2ms/step\n",
      "37/37 [==============================] - 0s 4ms/step\n"
     ]
    }
   ],
   "source": [
    "y_predicted_train = model.predict(X_train)\n",
    "y_predicted_test  = model.predict(X_test)\n",
    "\n",
    "df_train['score'] = y_predicted_train\n",
    "df_test['score']  = y_predicted_test\n",
    "\n",
    "# ROC information for the test dataset\n",
    "fpr, tpr, _ = roc_curve(y_test, y_predicted_test)\n",
    "auc_score = auc(tpr,1-fpr)\n",
    "tpr=tpr*100\n",
    "fnr=(1-fpr)*100\n",
    "\n",
    "# ROC information for training data\n",
    "fpr1, tpr1, _ = roc_curve(y_train, y_predicted_train)\n",
    "auc_score1 = auc(tpr1,1-fpr1)\n",
    "tpr1=tpr1*100\n",
    "fnr1=(1-fpr1)*100"
   ]
  },
  {
   "cell_type": "code",
   "execution_count": 12,
   "id": "015f644f",
   "metadata": {},
   "outputs": [
    {
     "data": {
      "text/html": [
       "<div>\n",
       "<style scoped>\n",
       "    .dataframe tbody tr th:only-of-type {\n",
       "        vertical-align: middle;\n",
       "    }\n",
       "\n",
       "    .dataframe tbody tr th {\n",
       "        vertical-align: top;\n",
       "    }\n",
       "\n",
       "    .dataframe thead th {\n",
       "        text-align: right;\n",
       "    }\n",
       "</style>\n",
       "<table border=\"1\" class=\"dataframe\">\n",
       "  <thead>\n",
       "    <tr style=\"text-align: right;\">\n",
       "      <th></th>\n",
       "      <th>nlep</th>\n",
       "      <th>lep0_pt</th>\n",
       "      <th>truth</th>\n",
       "      <th>score</th>\n",
       "    </tr>\n",
       "  </thead>\n",
       "  <tbody>\n",
       "    <tr>\n",
       "      <th>0</th>\n",
       "      <td>2</td>\n",
       "      <td>98.094154</td>\n",
       "      <td>1</td>\n",
       "      <td>0.705150</td>\n",
       "    </tr>\n",
       "    <tr>\n",
       "      <th>1</th>\n",
       "      <td>2</td>\n",
       "      <td>91.788727</td>\n",
       "      <td>1</td>\n",
       "      <td>0.685502</td>\n",
       "    </tr>\n",
       "    <tr>\n",
       "      <th>2</th>\n",
       "      <td>2</td>\n",
       "      <td>46.316006</td>\n",
       "      <td>0</td>\n",
       "      <td>0.527803</td>\n",
       "    </tr>\n",
       "    <tr>\n",
       "      <th>3</th>\n",
       "      <td>2</td>\n",
       "      <td>316.621521</td>\n",
       "      <td>1</td>\n",
       "      <td>0.983489</td>\n",
       "    </tr>\n",
       "    <tr>\n",
       "      <th>4</th>\n",
       "      <td>2</td>\n",
       "      <td>528.704712</td>\n",
       "      <td>1</td>\n",
       "      <td>0.998049</td>\n",
       "    </tr>\n",
       "    <tr>\n",
       "      <th>...</th>\n",
       "      <td>...</td>\n",
       "      <td>...</td>\n",
       "      <td>...</td>\n",
       "      <td>...</td>\n",
       "    </tr>\n",
       "    <tr>\n",
       "      <th>1167</th>\n",
       "      <td>2</td>\n",
       "      <td>20.507399</td>\n",
       "      <td>1</td>\n",
       "      <td>0.458916</td>\n",
       "    </tr>\n",
       "    <tr>\n",
       "      <th>1168</th>\n",
       "      <td>2</td>\n",
       "      <td>528.225037</td>\n",
       "      <td>1</td>\n",
       "      <td>0.998043</td>\n",
       "    </tr>\n",
       "    <tr>\n",
       "      <th>1169</th>\n",
       "      <td>2</td>\n",
       "      <td>705.919739</td>\n",
       "      <td>1</td>\n",
       "      <td>0.999163</td>\n",
       "    </tr>\n",
       "    <tr>\n",
       "      <th>1170</th>\n",
       "      <td>2</td>\n",
       "      <td>180.058929</td>\n",
       "      <td>1</td>\n",
       "      <td>0.888734</td>\n",
       "    </tr>\n",
       "    <tr>\n",
       "      <th>1171</th>\n",
       "      <td>2</td>\n",
       "      <td>275.862244</td>\n",
       "      <td>1</td>\n",
       "      <td>0.970327</td>\n",
       "    </tr>\n",
       "  </tbody>\n",
       "</table>\n",
       "<p>1172 rows × 4 columns</p>\n",
       "</div>"
      ],
      "text/plain": [
       "      nlep     lep0_pt  truth     score\n",
       "0        2   98.094154      1  0.705150\n",
       "1        2   91.788727      1  0.685502\n",
       "2        2   46.316006      0  0.527803\n",
       "3        2  316.621521      1  0.983489\n",
       "4        2  528.704712      1  0.998049\n",
       "...    ...         ...    ...       ...\n",
       "1167     2   20.507399      1  0.458916\n",
       "1168     2  528.225037      1  0.998043\n",
       "1169     2  705.919739      1  0.999163\n",
       "1170     2  180.058929      1  0.888734\n",
       "1171     2  275.862244      1  0.970327\n",
       "\n",
       "[1172 rows x 4 columns]"
      ]
     },
     "metadata": {},
     "output_type": "display_data"
    }
   ],
   "source": [
    "display(df_test)"
   ]
  },
  {
   "cell_type": "code",
   "execution_count": 13,
   "id": "624d23c5",
   "metadata": {},
   "outputs": [],
   "source": [
    "%%capture\n",
    "\n",
    "mybins = np.arange(0, 1.02, 0.02)\n",
    "\n",
    "testsig = plt.hist(df_test[df_test['truth']==1]['score'], bins=mybins, density=False)\n",
    "counts_sig, bins_sig, _ = testsig\n",
    "errors_sig = np.sqrt(counts_sig)\n",
    "\n",
    "testbkg = plt.hist(df_test[df_test['truth']==0]['score'], bins=mybins, density=False)\n",
    "counts_bkg, bins_bkg, _ = testbkg\n",
    "errors_bkg = np.sqrt(counts_bkg)"
   ]
  },
  {
   "cell_type": "code",
   "execution_count": 14,
   "id": "bd841887",
   "metadata": {},
   "outputs": [
    {
     "data": {
      "image/png": "[encoded data removed]",
      "text/plain": [
       "<Figure size 1000x400 with 2 Axes>"
      ]
     },
     "metadata": {},
     "output_type": "display_data"
    }
   ],
   "source": [
    "fig, ax = plt.subplots(1, 2, figsize=(10, 4))\n",
    "\n",
    "decorate_hist = {\n",
    "    'bins':mybins,\n",
    "    'histtype':'step',\n",
    "    'linewidth':1.5,\n",
    "    'density':False,\n",
    "    'log':False\n",
    "}\n",
    "\n",
    "decorate_point ={\n",
    "    'marker':'o',\n",
    "    'markersize':3,\n",
    "    'linestyle':''\n",
    "}\n",
    "\n",
    "ax[0].errorbar(bins_sig[:-1]+np.diff(bins_sig)/2, counts_sig, yerr=errors_sig, color='xkcd:green', label='sig test', **decorate_point)\n",
    "ax[0].errorbar(bins_bkg[:-1]+np.diff(bins_bkg)/2, counts_bkg, yerr=errors_bkg, color='xkcd:blue',  label='bkg test', **decorate_point)\n",
    "trainsig = ax[0].hist(df_train[df_train['truth'] == 1]['score'], color='xkcd:greenish', label='sig train', **decorate_hist)\n",
    "trainbkg = ax[0].hist(df_train[df_train['truth'] == 0]['score'], color='xkcd:sky blue', label='bkg train', **decorate_hist)\n",
    "ax[0].set_xlabel('Score')\n",
    "ax[0].set_ylabel('Counts')\n",
    "ax[0].legend(loc='best')\n",
    "\n",
    "ax[1].plot(tpr, fnr, color='xkcd:denim blue', label='Training ROC (AUC = %0.4f)' % auc_score)\n",
    "ax[1].plot(tpr1,fnr1,color='xkcd:sky blue',   label='Testing ROC  (AUC = %0.4f)'  % auc_score1)\n",
    "ax[1].set_xlabel('Signal efficiency (%)')\n",
    "ax[1].set_ylabel('Background rejection (%)')\n",
    "ax[1].legend(loc='best', fontsize=8)\n",
    "\n",
    "plt.show()"
   ]
  },
  {
   "cell_type": "code",
   "execution_count": null,
   "id": "b208e9b5",
   "metadata": {},
   "outputs": [],
   "source": []
  }
 ],
 "metadata": {
  "kernelspec": {
   "display_name": "Python 3 (ipykernel)",
   "language": "python",
   "name": "python3"
  },
  "language_info": {
   "codemirror_mode": {
    "name": "ipython",
    "version": 3
   },
   "file_extension": ".py",
   "mimetype": "text/x-python",
   "name": "python",
   "nbconvert_exporter": "python",
   "pygments_lexer": "ipython3",
   "version": "3.11.4"
  }
 },
 "nbformat": 4,
 "nbformat_minor": 5
}
